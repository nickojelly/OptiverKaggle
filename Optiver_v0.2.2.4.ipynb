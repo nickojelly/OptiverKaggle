{
 "cells": [
  {
   "cell_type": "code",
   "execution_count": 1,
   "metadata": {},
   "outputs": [],
   "source": [
    "import pandas as pd \n",
    "import numpy as np\n",
    "import public_timeseries_testing_util as optiver2023\n",
    "from torch.nn.utils.rnn import pack_padded_sequence, pack_sequence, unpack_sequence, unpad_sequence\n",
    "import torch\n",
    "from tqdm.notebook import trange,tqdm\n",
    "import torch.nn as nn \n",
    "import torch.optim as optim\n",
    "import wandb\n",
    "import torch_classes\n",
    "from model_saver import model_saver_wandb as model_saver\n",
    "import training_testing"
   ]
  },
  {
   "cell_type": "code",
   "execution_count": 2,
   "metadata": {},
   "outputs": [],
   "source": [
    "env = optiver2023.make_env()\n",
    "iter_test = env.iter_test()"
   ]
  },
  {
   "cell_type": "code",
   "execution_count": 3,
   "metadata": {},
   "outputs": [
    {
     "name": "stdout",
     "output_type": "stream",
     "text": [
      "Running on the GPU\n"
     ]
    }
   ],
   "source": [
    "if torch.cuda.is_available():\n",
    "    device = torch.device(\"cuda:0\")  # you can continue going on here, like cuda:1 cuda:2....etc.\n",
    "    print(\"Running on the GPU\")\n",
    "else:\n",
    "    device = torch.device(\"cpu\")\n",
    "    print(\"Running on the CPU\")"
   ]
  },
  {
   "cell_type": "code",
   "execution_count": 4,
   "metadata": {},
   "outputs": [
    {
     "data": {
      "text/plain": [
       "date_id\n",
       "480    11000\n",
       "353    11000\n",
       "363    11000\n",
       "362    11000\n",
       "360    11000\n",
       "       ...  \n",
       "4      10560\n",
       "2      10505\n",
       "1      10505\n",
       "3      10505\n",
       "0      10505\n",
       "Name: count, Length: 481, dtype: int64"
      ]
     },
     "execution_count": 4,
     "metadata": {},
     "output_type": "execute_result"
    }
   ],
   "source": [
    "train = pd.read_csv('train.csv')\n",
    "train.head()\n",
    "train.date_id.value_counts()"
   ]
  },
  {
   "cell_type": "code",
   "execution_count": 5,
   "metadata": {},
   "outputs": [],
   "source": [
    "import importlib"
   ]
  },
  {
   "cell_type": "code",
   "execution_count": 6,
   "metadata": {},
   "outputs": [
    {
     "name": "stderr",
     "output_type": "stream",
     "text": [
      " 10%|▉         | 19/200 [00:09<01:24,  2.15it/s]"
     ]
    },
    {
     "name": "stdout",
     "output_type": "stream",
     "text": [
      "Missing Targets for day=438,for stock_id=19, Excluding\n"
     ]
    },
    {
     "name": "stderr",
     "output_type": "stream",
     "text": [
      " 50%|█████     | 101/200 [00:42<00:34,  2.91it/s]"
     ]
    },
    {
     "name": "stdout",
     "output_type": "stream",
     "text": [
      "Missing Targets for day=328,for stock_id=101, Excluding\n"
     ]
    },
    {
     "name": "stderr",
     "output_type": "stream",
     "text": [
      " 64%|██████▎   | 127/200 [00:52<00:26,  2.74it/s]"
     ]
    }
   ],
   "source": [
    "importlib.reload(torch_classes)\n",
    "trading_data = torch_classes.TradingData(train)\n",
    "hidden_size = 64\n",
    "trading_data.generate_batches()"
   ]
  },
  {
   "cell_type": "code",
   "execution_count": null,
   "metadata": {},
   "outputs": [
    {
     "data": {
      "text/plain": [
       "<module 'training_testing' from 'c:\\\\Users\\\\Nick\\\\Documents\\\\GitHub\\\\OptiverKaggle\\\\training_testing.py'>"
      ]
     },
     "execution_count": 23,
     "metadata": {},
     "output_type": "execute_result"
    }
   ],
   "source": [
    "importlib.reload(torch_classes)\n",
    "importlib.reload(training_testing)"
   ]
  },
  {
   "cell_type": "code",
   "execution_count": 24,
   "metadata": {},
   "outputs": [],
   "source": [
    "model = torch_classes.GRUNetV2(12,64,num_layers=2).to(device='cuda:0')"
   ]
  },
  {
   "cell_type": "code",
   "execution_count": 25,
   "metadata": {},
   "outputs": [
    {
     "data": {
      "text/plain": [
       "GRUNetV2(\n",
       "  (gru): GRU(12, 64, num_layers=2, dropout=0.3)\n",
       "  (relu0): ReLU()\n",
       "  (batch_norm): BatchNorm1d(12, eps=1e-05, momentum=0.1, affine=True, track_running_stats=True)\n",
       "  (batch_norm2): LayerNorm((12800,), eps=1e-05, elementwise_affine=True)\n",
       "  (fc0): Linear(in_features=12800, out_features=1024, bias=True)\n",
       "  (rl1): ReLU()\n",
       "  (drop1): Dropout(p=0.3, inplace=False)\n",
       "  (fc1): Linear(in_features=1024, out_features=200, bias=True)\n",
       "  (rl2): ReLU()\n",
       "  (drop2): Dropout(p=0.3, inplace=False)\n",
       "  (fc2): Linear(in_features=640, out_features=200, bias=True)\n",
       "  (rl3): ReLU()\n",
       "  (drop3): Dropout(p=0.3, inplace=False)\n",
       "  (fc3): Linear(in_features=200, out_features=200, bias=True)\n",
       ")"
      ]
     },
     "execution_count": 25,
     "metadata": {},
     "output_type": "execute_result"
    }
   ],
   "source": [
    "model"
   ]
  },
  {
   "cell_type": "code",
   "execution_count": null,
   "metadata": {},
   "outputs": [],
   "source": [
    "def model_pipeline(trading_df:torch_classes.TradingData, config:dict):\n",
    "    with wandb.init(project=\"Optviver\", config=config,save_code=True):\n",
    "        wandb.define_metric(\"val_epoch_loss_l1\", summary=\"min\")\n",
    "        wandb.define_metric(\"epoch_l1_loss\", summary=\"min\")\n",
    "        model = torch_classes.GRUNetV2(12,config['hidden_size'],num_layers=config['num_layers']).to('cuda:0')\n",
    "        config = wandb.config\n",
    "        optimizer = optim.AdamW(model.parameters(), lr=config['learning_rate'])\n",
    "        print(model)\n",
    "        trading_df.reset_hidden(config['hidden_size'],num_layers=config['num_layers'])\n",
    "        criterion = nn.MSELoss()\n",
    "        \n",
    "        training_testing.train_model(trading_df,model,config,optimizer,criterion)\n",
    "\n",
    "    return(model)\n",
    "\n"
   ]
  },
  {
   "cell_type": "code",
   "execution_count": 11,
   "metadata": {},
   "outputs": [
    {
     "data": {
      "text/plain": [
       "<module 'training_testing' from 'c:\\\\Users\\\\Nick\\\\Documents\\\\GitHub\\\\OptiverKaggle\\\\training_testing.py'>"
      ]
     },
     "execution_count": 11,
     "metadata": {},
     "output_type": "execute_result"
    }
   ],
   "source": [
    "importlib.reload(training_testing)"
   ]
  },
  {
   "cell_type": "code",
   "execution_count": 12,
   "metadata": {},
   "outputs": [],
   "source": [
    "config_static = {'learning_rate':0.0002, 'hidden_size':128, 'num_layers':2}"
   ]
  },
  {
   "cell_type": "code",
   "execution_count": 13,
   "metadata": {},
   "outputs": [],
   "source": [
    "trading_data.reset_hidden(128,2)\n",
    "trading_data.detach_hidden()"
   ]
  },
  {
   "cell_type": "code",
   "execution_count": 14,
   "metadata": {},
   "outputs": [
    {
     "data": {
      "text/plain": [
       "GRUNetV2(\n",
       "  (gru): GRU(12, 64, num_layers=2, dropout=0.3)\n",
       "  (relu0): ReLU()\n",
       "  (batch_norm): BatchNorm1d(12, eps=1e-05, momentum=0.1, affine=True, track_running_stats=True)\n",
       "  (batch_norm2): LayerNorm((12800,), eps=1e-05, elementwise_affine=True)\n",
       "  (fc0): Linear(in_features=12800, out_features=1024, bias=True)\n",
       "  (rl1): ReLU()\n",
       "  (drop1): Dropout(p=0.3, inplace=False)\n",
       "  (fc1): Linear(in_features=1024, out_features=640, bias=True)\n",
       "  (rl2): ReLU()\n",
       "  (drop2): Dropout(p=0.3, inplace=False)\n",
       "  (fc2): Linear(in_features=640, out_features=200, bias=True)\n",
       "  (rl3): ReLU()\n",
       "  (drop3): Dropout(p=0.3, inplace=False)\n",
       "  (fc3): Linear(in_features=200, out_features=200, bias=True)\n",
       ")"
      ]
     },
     "execution_count": 14,
     "metadata": {},
     "output_type": "execute_result"
    }
   ],
   "source": [
    "model"
   ]
  },
  {
   "cell_type": "code",
   "execution_count": 15,
   "metadata": {},
   "outputs": [],
   "source": [
    "stocks = [trading_data.stocksDict[x] for x in trading_data.stock_batches[0]]\n",
    "X = trading_data.packed_val_x[0] \n",
    "Y = trading_data.packed_val_y[0].data"
   ]
  },
  {
   "cell_type": "code",
   "execution_count": 16,
   "metadata": {},
   "outputs": [],
   "source": [
    "# hidden_in = torch.stack([x.hidden for x in stocks]).transpose(0,1)"
   ]
  },
  {
   "cell_type": "code",
   "execution_count": 17,
   "metadata": {},
   "outputs": [],
   "source": [
    "# hidden_in "
   ]
  },
  {
   "cell_type": "code",
   "execution_count": 18,
   "metadata": {},
   "outputs": [],
   "source": [
    "# output,hidden = model(X,hidden_in,p1=True)"
   ]
  },
  {
   "cell_type": "code",
   "execution_count": 19,
   "metadata": {},
   "outputs": [],
   "source": [
    "# model = torch_classes.GRUNetV2(12,64)\n",
    "# model_loc = f\"C:/Users/Nick/Documents/GitHub/OptiverKaggle/models/tough-totem-105/tough-totem-105_160.pt\"\n",
    "# model_data = torch.load(model_loc,map_location=torch.device('cuda:0'))\n",
    "# print(model_data['model_state_dict'].keys())\n",
    "\n",
    "# print(model_data['model_state_dict'].keys())\n",
    "# del_keys = ['fc0.weight', 'fc0.bias', 'fc1.weight', 'fc1.bias', 'fc2.weight', 'fc2.bias', 'fc3.weight', 'fc3.bias']\n",
    "# [model_data['model_state_dict'].pop(k) for k in del_keys]\n",
    "# model.load_state_dict(model_data['model_state_dict'], strict=False)\n",
    "# model = model.to(device='cuda:0')"
   ]
  },
  {
   "cell_type": "code",
   "execution_count": null,
   "metadata": {},
   "outputs": [
    {
     "name": "stderr",
     "output_type": "stream",
     "text": [
      "Failed to detect the name of this notebook, you can set it manually with the WANDB_NOTEBOOK_NAME environment variable to enable code saving.\n"
     ]
    },
    {
     "name": "stderr",
     "output_type": "stream",
     "text": [
      "\u001b[34m\u001b[1mwandb\u001b[0m: Currently logged in as: \u001b[33mnickojelly\u001b[0m. Use \u001b[1m`wandb login --relogin`\u001b[0m to force relogin\n"
     ]
    },
    {
     "data": {
      "text/html": [
       "wandb version 0.15.12 is available!  To upgrade, please run:\n",
       " $ pip install wandb --upgrade"
      ],
      "text/plain": [
       "<IPython.core.display.HTML object>"
      ]
     },
     "metadata": {},
     "output_type": "display_data"
    },
    {
     "data": {
      "text/html": [
       "Tracking run with wandb version 0.15.11"
      ],
      "text/plain": [
       "<IPython.core.display.HTML object>"
      ]
     },
     "metadata": {},
     "output_type": "display_data"
    },
    {
     "data": {
      "text/html": [
       "Run data is saved locally in <code>c:\\Users\\Nick\\Documents\\GitHub\\OptiverKaggle\\wandb\\run-20231005_085502-ugm0fasu</code>"
      ],
      "text/plain": [
       "<IPython.core.display.HTML object>"
      ]
     },
     "metadata": {},
     "output_type": "display_data"
    },
    {
     "data": {
      "text/html": [
       "Syncing run <strong><a href='https://wandb.ai/nickojelly/Optviver/runs/ugm0fasu' target=\"_blank\">proud-sun-169</a></strong> to <a href='https://wandb.ai/nickojelly/Optviver' target=\"_blank\">Weights & Biases</a> (<a href='https://wandb.me/run' target=\"_blank\">docs</a>)<br/>"
      ],
      "text/plain": [
       "<IPython.core.display.HTML object>"
      ]
     },
     "metadata": {},
     "output_type": "display_data"
    },
    {
     "data": {
      "text/html": [
       " View project at <a href='https://wandb.ai/nickojelly/Optviver' target=\"_blank\">https://wandb.ai/nickojelly/Optviver</a>"
      ],
      "text/plain": [
       "<IPython.core.display.HTML object>"
      ]
     },
     "metadata": {},
     "output_type": "display_data"
    },
    {
     "data": {
      "text/html": [
       " View run at <a href='https://wandb.ai/nickojelly/Optviver/runs/ugm0fasu' target=\"_blank\">https://wandb.ai/nickojelly/Optviver/runs/ugm0fasu</a>"
      ],
      "text/plain": [
       "<IPython.core.display.HTML object>"
      ]
     },
     "metadata": {},
     "output_type": "display_data"
    },
    {
     "name": "stdout",
     "output_type": "stream",
     "text": [
      "GRUNetV2(\n",
      "  (gru): GRU(12, 128, num_layers=2, dropout=0.3)\n",
      "  (relu0): ReLU()\n",
      "  (batch_norm): BatchNorm1d(12, eps=1e-05, momentum=0.1, affine=True, track_running_stats=True)\n",
      "  (batch_norm2): LayerNorm((25600,), eps=1e-05, elementwise_affine=True)\n",
      "  (fc0): Linear(in_features=25600, out_features=1024, bias=True)\n",
      "  (rl1): ReLU()\n",
      "  (drop1): Dropout(p=0.3, inplace=False)\n",
      "  (fc1): Linear(in_features=1024, out_features=640, bias=True)\n",
      "  (rl2): ReLU()\n",
      "  (drop2): Dropout(p=0.3, inplace=False)\n",
      "  (fc2): Linear(in_features=640, out_features=200, bias=True)\n",
      "  (rl3): ReLU()\n",
      "  (drop3): Dropout(p=0.3, inplace=False)\n",
      "  (fc3): Linear(in_features=200, out_features=200, bias=True)\n",
      ")\n"
     ]
    },
    {
     "data": {
      "application/vnd.jupyter.widget-view+json": {
       "model_id": "947861007b594e2fa9c729ebe1cd8bc8",
       "version_major": 2,
       "version_minor": 0
      },
      "text/plain": [
       "  0%|          | 0/10000 [00:00<?, ?it/s]"
      ]
     },
     "metadata": {},
     "output_type": "display_data"
    },
    {
     "name": "stdout",
     "output_type": "stream",
     "text": [
      "{'epoch_loss': tensor(1.2448, device='cuda:0'), 'epoch_l1_loss': tensor(1.3582, device='cuda:0'), 'epoch': 0}\n",
      "   stock  day  time    target      pred\n",
      "0      0    0     0 -3.029704 -0.055811\n",
      "1      1    0     0 -5.519986  0.027119\n",
      "2      2    0     0 -8.389950 -0.087402\n",
      "3      3    0     0 -4.010201 -0.104228\n",
      "4      4    0     0 -7.349849 -0.115217\n",
      "5      5    0     0  6.779432 -0.042466\n",
      "6      6    0     0 -2.499819  0.022411\n",
      "7      7    0     0 -1.959801  0.018460\n",
      "8      8    0     0 -5.970001 -0.114398\n",
      "9      9    0     0  7.970333 -0.086361\n",
      "created path\n",
      "{'epoch_loss': tensor(1.2445, device='cuda:0'), 'epoch_l1_loss': tensor(1.3578, device='cuda:0'), 'epoch': 1}\n",
      "{'epoch_loss': tensor(1.2445, device='cuda:0'), 'epoch_l1_loss': tensor(1.3579, device='cuda:0'), 'epoch': 2}\n",
      "{'epoch_loss': tensor(1.2446, device='cuda:0'), 'epoch_l1_loss': tensor(1.3580, device='cuda:0'), 'epoch': 3}\n",
      "{'epoch_loss': tensor(1.2445, device='cuda:0'), 'epoch_l1_loss': tensor(1.3580, device='cuda:0'), 'epoch': 4}\n",
      "{'epoch_loss': tensor(1.2445, device='cuda:0'), 'epoch_l1_loss': tensor(1.3578, device='cuda:0'), 'epoch': 5}\n",
      "{'epoch_loss': tensor(1.2444, device='cuda:0'), 'epoch_l1_loss': tensor(1.3575, device='cuda:0'), 'epoch': 6}\n",
      "{'epoch_loss': tensor(1.2445, device='cuda:0'), 'epoch_l1_loss': tensor(1.3577, device='cuda:0'), 'epoch': 7}\n",
      "{'epoch_loss': tensor(1.2445, device='cuda:0'), 'epoch_l1_loss': tensor(1.3577, device='cuda:0'), 'epoch': 8}\n",
      "{'epoch_loss': tensor(1.2445, device='cuda:0'), 'epoch_l1_loss': tensor(1.3578, device='cuda:0'), 'epoch': 9}\n",
      "{'epoch_loss': tensor(1.2445, device='cuda:0'), 'epoch_l1_loss': tensor(1.3579, device='cuda:0'), 'epoch': 10}\n",
      "   stock  day  time    target      pred\n",
      "0      0    0     0 -3.029704 -0.052168\n",
      "1      1    0     0 -5.519986 -0.124948\n",
      "2      2    0     0 -8.389950 -0.239394\n",
      "3      3    0     0 -4.010201 -0.277696\n",
      "4      4    0     0 -7.349849 -0.335144\n",
      "5      5    0     0  6.779432 -0.027212\n",
      "6      6    0     0 -2.499819  0.036816\n",
      "7      7    0     0 -1.959801  0.014741\n",
      "8      8    0     0 -5.970001 -0.013802\n",
      "9      9    0     0  7.970333 -0.097906\n",
      "{'epoch_loss': tensor(1.2445, device='cuda:0'), 'epoch_l1_loss': tensor(1.3580, device='cuda:0'), 'epoch': 11}\n",
      "{'epoch_loss': tensor(1.2445, device='cuda:0'), 'epoch_l1_loss': tensor(1.3579, device='cuda:0'), 'epoch': 12}\n",
      "{'epoch_loss': tensor(1.2445, device='cuda:0'), 'epoch_l1_loss': tensor(1.3576, device='cuda:0'), 'epoch': 13}\n",
      "{'epoch_loss': tensor(1.2444, device='cuda:0'), 'epoch_l1_loss': tensor(1.3577, device='cuda:0'), 'epoch': 14}\n",
      "{'epoch_loss': tensor(1.2444, device='cuda:0'), 'epoch_l1_loss': tensor(1.3578, device='cuda:0'), 'epoch': 15}\n",
      "{'epoch_loss': tensor(1.2444, device='cuda:0'), 'epoch_l1_loss': tensor(1.3577, device='cuda:0'), 'epoch': 16}\n",
      "{'epoch_loss': tensor(1.2445, device='cuda:0'), 'epoch_l1_loss': tensor(1.3578, device='cuda:0'), 'epoch': 17}\n",
      "{'epoch_loss': tensor(1.2445, device='cuda:0'), 'epoch_l1_loss': tensor(1.3580, device='cuda:0'), 'epoch': 18}\n",
      "{'epoch_loss': tensor(1.2446, device='cuda:0'), 'epoch_l1_loss': tensor(1.3581, device='cuda:0'), 'epoch': 19}\n",
      "{'epoch_loss': tensor(1.2445, device='cuda:0'), 'epoch_l1_loss': tensor(1.3578, device='cuda:0'), 'epoch': 20}\n",
      "   stock  day  time    target      pred\n",
      "0      0    0     0 -3.029704 -0.046165\n",
      "1      1    0     0 -5.519986 -0.006499\n",
      "2      2    0     0 -8.389950 -0.069407\n",
      "3      3    0     0 -4.010201 -0.079668\n",
      "4      4    0     0 -7.349849 -0.150615\n",
      "5      5    0     0  6.779432  0.040637\n",
      "6      6    0     0 -2.499819  0.042000\n",
      "7      7    0     0 -1.959801  0.057221\n",
      "8      8    0     0 -5.970001 -0.185598\n",
      "9      9    0     0  7.970333 -0.120706\n",
      "{'epoch_loss': tensor(1.2445, device='cuda:0'), 'epoch_l1_loss': tensor(1.3577, device='cuda:0'), 'epoch': 21}\n",
      "{'epoch_loss': tensor(1.2445, device='cuda:0'), 'epoch_l1_loss': tensor(1.3577, device='cuda:0'), 'epoch': 22}\n",
      "{'epoch_loss': tensor(1.2444, device='cuda:0'), 'epoch_l1_loss': tensor(1.3578, device='cuda:0'), 'epoch': 23}\n",
      "{'epoch_loss': tensor(1.2444, device='cuda:0'), 'epoch_l1_loss': tensor(1.3577, device='cuda:0'), 'epoch': 24}\n",
      "{'epoch_loss': tensor(1.2445, device='cuda:0'), 'epoch_l1_loss': tensor(1.3579, device='cuda:0'), 'epoch': 25}\n",
      "{'epoch_loss': tensor(1.2445, device='cuda:0'), 'epoch_l1_loss': tensor(1.3579, device='cuda:0'), 'epoch': 26}\n",
      "{'epoch_loss': tensor(1.2445, device='cuda:0'), 'epoch_l1_loss': tensor(1.3579, device='cuda:0'), 'epoch': 27}\n",
      "{'epoch_loss': tensor(1.2444, device='cuda:0'), 'epoch_l1_loss': tensor(1.3577, device='cuda:0'), 'epoch': 28}\n",
      "{'epoch_loss': tensor(1.2444, device='cuda:0'), 'epoch_l1_loss': tensor(1.3578, device='cuda:0'), 'epoch': 29}\n",
      "{'epoch_loss': tensor(1.2445, device='cuda:0'), 'epoch_l1_loss': tensor(1.3578, device='cuda:0'), 'epoch': 30}\n",
      "   stock  day  time    target      pred\n",
      "0      0    0     0 -3.029704 -0.046748\n",
      "1      1    0     0 -5.519986 -0.049617\n",
      "2      2    0     0 -8.389950 -0.156035\n",
      "3      3    0     0 -4.010201 -0.266110\n",
      "4      4    0     0 -7.349849 -0.315920\n",
      "5      5    0     0  6.779432  0.084773\n",
      "6      6    0     0 -2.499819  0.051182\n",
      "7      7    0     0 -1.959801  0.126298\n",
      "8      8    0     0 -5.970001 -0.085034\n",
      "9      9    0     0  7.970333 -0.218717\n",
      "{'epoch_loss': tensor(1.2445, device='cuda:0'), 'epoch_l1_loss': tensor(1.3579, device='cuda:0'), 'epoch': 31}\n",
      "{'epoch_loss': tensor(1.2445, device='cuda:0'), 'epoch_l1_loss': tensor(1.3578, device='cuda:0'), 'epoch': 32}\n",
      "{'epoch_loss': tensor(1.2445, device='cuda:0'), 'epoch_l1_loss': tensor(1.3579, device='cuda:0'), 'epoch': 33}\n",
      "{'epoch_loss': tensor(1.2445, device='cuda:0'), 'epoch_l1_loss': tensor(1.3578, device='cuda:0'), 'epoch': 34}\n",
      "{'epoch_loss': tensor(1.2444, device='cuda:0'), 'epoch_l1_loss': tensor(1.3579, device='cuda:0'), 'epoch': 35}\n",
      "{'epoch_loss': tensor(1.2444, device='cuda:0'), 'epoch_l1_loss': tensor(1.3577, device='cuda:0'), 'epoch': 36}\n",
      "{'epoch_loss': tensor(1.2445, device='cuda:0'), 'epoch_l1_loss': tensor(1.3578, device='cuda:0'), 'epoch': 37}\n",
      "{'epoch_loss': tensor(1.2445, device='cuda:0'), 'epoch_l1_loss': tensor(1.3576, device='cuda:0'), 'epoch': 38}\n",
      "{'epoch_loss': tensor(1.2445, device='cuda:0'), 'epoch_l1_loss': tensor(1.3579, device='cuda:0'), 'epoch': 39}\n",
      "{'epoch_loss': tensor(1.2445, device='cuda:0'), 'epoch_l1_loss': tensor(1.3579, device='cuda:0'), 'epoch': 40}\n",
      "   stock  day  time    target      pred\n",
      "0      0    0     0 -3.029704 -0.051668\n",
      "1      1    0     0 -5.519986 -0.105799\n",
      "2      2    0     0 -8.389950 -0.091904\n",
      "3      3    0     0 -4.010201 -0.124020\n",
      "4      4    0     0 -7.349849 -0.136117\n",
      "5      5    0     0  6.779432  0.079994\n",
      "6      6    0     0 -2.499819  0.056821\n",
      "7      7    0     0 -1.959801  0.117329\n",
      "8      8    0     0 -5.970001 -0.011044\n",
      "9      9    0     0  7.970333 -0.372754\n",
      "{'epoch_loss': tensor(1.2444, device='cuda:0'), 'epoch_l1_loss': tensor(1.3579, device='cuda:0'), 'epoch': 41}\n",
      "{'epoch_loss': tensor(1.2444, device='cuda:0'), 'epoch_l1_loss': tensor(1.3577, device='cuda:0'), 'epoch': 42}\n",
      "{'epoch_loss': tensor(1.2444, device='cuda:0'), 'epoch_l1_loss': tensor(1.3577, device='cuda:0'), 'epoch': 43}\n",
      "{'epoch_loss': tensor(1.2444, device='cuda:0'), 'epoch_l1_loss': tensor(1.3577, device='cuda:0'), 'epoch': 44}\n",
      "{'epoch_loss': tensor(1.2445, device='cuda:0'), 'epoch_l1_loss': tensor(1.3579, device='cuda:0'), 'epoch': 45}\n",
      "{'epoch_loss': tensor(1.2445, device='cuda:0'), 'epoch_l1_loss': tensor(1.3578, device='cuda:0'), 'epoch': 46}\n",
      "{'epoch_loss': tensor(1.2445, device='cuda:0'), 'epoch_l1_loss': tensor(1.3578, device='cuda:0'), 'epoch': 47}\n",
      "{'epoch_loss': tensor(1.2445, device='cuda:0'), 'epoch_l1_loss': tensor(1.3578, device='cuda:0'), 'epoch': 48}\n",
      "{'epoch_loss': tensor(1.2445, device='cuda:0'), 'epoch_l1_loss': tensor(1.3580, device='cuda:0'), 'epoch': 49}\n",
      "{'epoch_loss': tensor(1.2444, device='cuda:0'), 'epoch_l1_loss': tensor(1.3578, device='cuda:0'), 'epoch': 50}\n",
      "   stock  day  time    target      pred\n",
      "0      0    0     0 -3.029704 -0.064379\n",
      "1      1    0     0 -5.519986  0.025991\n",
      "2      2    0     0 -8.389950 -0.193210\n",
      "3      3    0     0 -4.010201 -0.169877\n",
      "4      4    0     0 -7.349849 -0.285865\n",
      "5      5    0     0  6.779432  0.038756\n",
      "6      6    0     0 -2.499819  0.041271\n",
      "7      7    0     0 -1.959801  0.018267\n",
      "8      8    0     0 -5.970001 -0.093496\n",
      "9      9    0     0  7.970333 -0.246169\n",
      "{'epoch_loss': tensor(1.2444, device='cuda:0'), 'epoch_l1_loss': tensor(1.3577, device='cuda:0'), 'epoch': 51}\n",
      "{'epoch_loss': tensor(1.2444, device='cuda:0'), 'epoch_l1_loss': tensor(1.3576, device='cuda:0'), 'epoch': 52}\n",
      "{'epoch_loss': tensor(1.2444, device='cuda:0'), 'epoch_l1_loss': tensor(1.3579, device='cuda:0'), 'epoch': 53}\n",
      "{'epoch_loss': tensor(1.2445, device='cuda:0'), 'epoch_l1_loss': tensor(1.3580, device='cuda:0'), 'epoch': 54}\n",
      "{'epoch_loss': tensor(1.2445, device='cuda:0'), 'epoch_l1_loss': tensor(1.3580, device='cuda:0'), 'epoch': 55}\n",
      "{'epoch_loss': tensor(1.2444, device='cuda:0'), 'epoch_l1_loss': tensor(1.3577, device='cuda:0'), 'epoch': 56}\n",
      "{'epoch_loss': tensor(1.2444, device='cuda:0'), 'epoch_l1_loss': tensor(1.3576, device='cuda:0'), 'epoch': 57}\n",
      "{'epoch_loss': tensor(1.2444, device='cuda:0'), 'epoch_l1_loss': tensor(1.3577, device='cuda:0'), 'epoch': 58}\n",
      "{'epoch_loss': tensor(1.2444, device='cuda:0'), 'epoch_l1_loss': tensor(1.3577, device='cuda:0'), 'epoch': 59}\n",
      "{'epoch_loss': tensor(1.2444, device='cuda:0'), 'epoch_l1_loss': tensor(1.3579, device='cuda:0'), 'epoch': 60}\n",
      "   stock  day  time    target      pred\n",
      "0      0    0     0 -3.029704 -0.084606\n",
      "1      1    0     0 -5.519986 -0.119202\n",
      "2      2    0     0 -8.389950 -0.038836\n",
      "3      3    0     0 -4.010201 -0.247934\n",
      "4      4    0     0 -7.349849 -0.280620\n",
      "5      5    0     0  6.779432 -0.009851\n",
      "6      6    0     0 -2.499819 -0.015416\n",
      "7      7    0     0 -1.959801  0.025936\n",
      "8      8    0     0 -5.970001 -0.174225\n",
      "9      9    0     0  7.970333 -0.241356\n",
      "{'epoch_loss': tensor(1.2445, device='cuda:0'), 'epoch_l1_loss': tensor(1.3578, device='cuda:0'), 'epoch': 61}\n",
      "{'epoch_loss': tensor(1.2445, device='cuda:0'), 'epoch_l1_loss': tensor(1.3580, device='cuda:0'), 'epoch': 62}\n",
      "{'epoch_loss': tensor(1.2445, device='cuda:0'), 'epoch_l1_loss': tensor(1.3577, device='cuda:0'), 'epoch': 63}\n",
      "{'epoch_loss': tensor(1.2445, device='cuda:0'), 'epoch_l1_loss': tensor(1.3578, device='cuda:0'), 'epoch': 64}\n",
      "{'epoch_loss': tensor(1.2444, device='cuda:0'), 'epoch_l1_loss': tensor(1.3576, device='cuda:0'), 'epoch': 65}\n",
      "{'epoch_loss': tensor(1.2444, device='cuda:0'), 'epoch_l1_loss': tensor(1.3577, device='cuda:0'), 'epoch': 66}\n",
      "{'epoch_loss': tensor(1.2444, device='cuda:0'), 'epoch_l1_loss': tensor(1.3579, device='cuda:0'), 'epoch': 67}\n",
      "{'epoch_loss': tensor(1.2444, device='cuda:0'), 'epoch_l1_loss': tensor(1.3579, device='cuda:0'), 'epoch': 68}\n",
      "{'epoch_loss': tensor(1.2445, device='cuda:0'), 'epoch_l1_loss': tensor(1.3579, device='cuda:0'), 'epoch': 69}\n",
      "{'epoch_loss': tensor(1.2445, device='cuda:0'), 'epoch_l1_loss': tensor(1.3576, device='cuda:0'), 'epoch': 70}\n",
      "   stock  day  time    target      pred\n",
      "0      0    0     0 -3.029704 -0.112785\n",
      "1      1    0     0 -5.519986 -0.030519\n",
      "2      2    0     0 -8.389950 -0.184166\n",
      "3      3    0     0 -4.010201 -0.097735\n",
      "4      4    0     0 -7.349849 -0.155787\n",
      "5      5    0     0  6.779432 -0.042513\n",
      "6      6    0     0 -2.499819 -0.074513\n",
      "7      7    0     0 -1.959801  0.142187\n",
      "8      8    0     0 -5.970001 -0.154461\n",
      "9      9    0     0  7.970333 -0.268958\n",
      "{'epoch_loss': tensor(1.2445, device='cuda:0'), 'epoch_l1_loss': tensor(1.3579, device='cuda:0'), 'epoch': 71}\n",
      "{'epoch_loss': tensor(1.2444, device='cuda:0'), 'epoch_l1_loss': tensor(1.3577, device='cuda:0'), 'epoch': 72}\n",
      "{'epoch_loss': tensor(1.2444, device='cuda:0'), 'epoch_l1_loss': tensor(1.3579, device='cuda:0'), 'epoch': 73}\n",
      "{'epoch_loss': tensor(1.2444, device='cuda:0'), 'epoch_l1_loss': tensor(1.3577, device='cuda:0'), 'epoch': 74}\n",
      "{'epoch_loss': tensor(1.2444, device='cuda:0'), 'epoch_l1_loss': tensor(1.3578, device='cuda:0'), 'epoch': 75}\n",
      "{'epoch_loss': tensor(1.2444, device='cuda:0'), 'epoch_l1_loss': tensor(1.3579, device='cuda:0'), 'epoch': 76}\n",
      "{'epoch_loss': tensor(1.2444, device='cuda:0'), 'epoch_l1_loss': tensor(1.3578, device='cuda:0'), 'epoch': 77}\n",
      "{'epoch_loss': tensor(1.2444, device='cuda:0'), 'epoch_l1_loss': tensor(1.3579, device='cuda:0'), 'epoch': 78}\n",
      "{'epoch_loss': tensor(1.2444, device='cuda:0'), 'epoch_l1_loss': tensor(1.3576, device='cuda:0'), 'epoch': 79}\n",
      "{'epoch_loss': tensor(1.2445, device='cuda:0'), 'epoch_l1_loss': tensor(1.3578, device='cuda:0'), 'epoch': 80}\n",
      "   stock  day  time    target      pred\n",
      "0      0    0     0 -3.029704 -0.148339\n",
      "1      1    0     0 -5.519986 -0.016434\n",
      "2      2    0     0 -8.389950 -0.154619\n",
      "3      3    0     0 -4.010201 -0.190054\n",
      "4      4    0     0 -7.349849 -0.187458\n",
      "5      5    0     0  6.779432 -0.057926\n",
      "6      6    0     0 -2.499819 -0.045720\n",
      "7      7    0     0 -1.959801  0.079784\n",
      "8      8    0     0 -5.970001 -0.066086\n",
      "9      9    0     0  7.970333 -0.311586\n",
      "{'epoch_loss': tensor(1.2445, device='cuda:0'), 'epoch_l1_loss': tensor(1.3578, device='cuda:0'), 'epoch': 81}\n",
      "{'epoch_loss': tensor(1.2445, device='cuda:0'), 'epoch_l1_loss': tensor(1.3580, device='cuda:0'), 'epoch': 82}\n",
      "{'epoch_loss': tensor(1.2444, device='cuda:0'), 'epoch_l1_loss': tensor(1.3578, device='cuda:0'), 'epoch': 83}\n",
      "{'epoch_loss': tensor(1.2444, device='cuda:0'), 'epoch_l1_loss': tensor(1.3577, device='cuda:0'), 'epoch': 84}\n",
      "{'epoch_loss': tensor(1.2444, device='cuda:0'), 'epoch_l1_loss': tensor(1.3576, device='cuda:0'), 'epoch': 85}\n",
      "{'epoch_loss': tensor(1.2444, device='cuda:0'), 'epoch_l1_loss': tensor(1.3577, device='cuda:0'), 'epoch': 86}\n",
      "{'epoch_loss': tensor(1.2444, device='cuda:0'), 'epoch_l1_loss': tensor(1.3579, device='cuda:0'), 'epoch': 87}\n",
      "{'epoch_loss': tensor(1.2445, device='cuda:0'), 'epoch_l1_loss': tensor(1.3579, device='cuda:0'), 'epoch': 88}\n",
      "{'epoch_loss': tensor(1.2445, device='cuda:0'), 'epoch_l1_loss': tensor(1.3579, device='cuda:0'), 'epoch': 89}\n",
      "{'epoch_loss': tensor(1.2444, device='cuda:0'), 'epoch_l1_loss': tensor(1.3577, device='cuda:0'), 'epoch': 90}\n",
      "   stock  day  time    target      pred\n",
      "0      0    0     0 -3.029704 -0.183544\n",
      "1      1    0     0 -5.519986 -0.127587\n",
      "2      2    0     0 -8.389950 -0.042552\n",
      "3      3    0     0 -4.010201 -0.247937\n",
      "4      4    0     0 -7.349849 -0.292029\n",
      "5      5    0     0  6.779432 -0.058567\n",
      "6      6    0     0 -2.499819  0.052322\n",
      "7      7    0     0 -1.959801 -0.003819\n",
      "8      8    0     0 -5.970001 -0.011739\n",
      "9      9    0     0  7.970333 -0.175263\n",
      "{'epoch_loss': tensor(1.2444, device='cuda:0'), 'epoch_l1_loss': tensor(1.3577, device='cuda:0'), 'epoch': 91}\n",
      "{'epoch_loss': tensor(1.2444, device='cuda:0'), 'epoch_l1_loss': tensor(1.3578, device='cuda:0'), 'epoch': 92}\n",
      "{'epoch_loss': tensor(1.2444, device='cuda:0'), 'epoch_l1_loss': tensor(1.3577, device='cuda:0'), 'epoch': 93}\n",
      "{'epoch_loss': tensor(1.2444, device='cuda:0'), 'epoch_l1_loss': tensor(1.3578, device='cuda:0'), 'epoch': 94}\n",
      "{'epoch_loss': tensor(1.2444, device='cuda:0'), 'epoch_l1_loss': tensor(1.3578, device='cuda:0'), 'epoch': 95}\n",
      "{'epoch_loss': tensor(1.2444, device='cuda:0'), 'epoch_l1_loss': tensor(1.3578, device='cuda:0'), 'epoch': 96}\n",
      "{'epoch_loss': tensor(1.2444, device='cuda:0'), 'epoch_l1_loss': tensor(1.3579, device='cuda:0'), 'epoch': 97}\n",
      "{'epoch_loss': tensor(1.2444, device='cuda:0'), 'epoch_l1_loss': tensor(1.3577, device='cuda:0'), 'epoch': 98}\n",
      "{'epoch_loss': tensor(1.2444, device='cuda:0'), 'epoch_l1_loss': tensor(1.3578, device='cuda:0'), 'epoch': 99}\n",
      "{'epoch_loss': tensor(1.2444, device='cuda:0'), 'epoch_l1_loss': tensor(1.3577, device='cuda:0'), 'epoch': 100}\n",
      "   stock  day  time    target      pred\n",
      "0      0    0     0 -3.029704 -0.203267\n",
      "1      1    0     0 -5.519986  0.020698\n",
      "2      2    0     0 -8.389950 -0.170246\n",
      "3      3    0     0 -4.010201 -0.109408\n",
      "4      4    0     0 -7.349849 -0.305560\n",
      "5      5    0     0  6.779432 -0.043159\n",
      "6      6    0     0 -2.499819  0.051925\n",
      "7      7    0     0 -1.959801  0.120059\n",
      "8      8    0     0 -5.970001 -0.048520\n",
      "9      9    0     0  7.970333 -0.306097\n",
      "{'epoch_loss': tensor(1.2444, device='cuda:0'), 'epoch_l1_loss': tensor(1.3579, device='cuda:0'), 'epoch': 101}\n",
      "{'epoch_loss': tensor(1.2444, device='cuda:0'), 'epoch_l1_loss': tensor(1.3578, device='cuda:0'), 'epoch': 102}\n",
      "{'epoch_loss': tensor(1.2444, device='cuda:0'), 'epoch_l1_loss': tensor(1.3578, device='cuda:0'), 'epoch': 103}\n",
      "{'epoch_loss': tensor(1.2444, device='cuda:0'), 'epoch_l1_loss': tensor(1.3578, device='cuda:0'), 'epoch': 104}\n",
      "{'epoch_loss': tensor(1.2444, device='cuda:0'), 'epoch_l1_loss': tensor(1.3577, device='cuda:0'), 'epoch': 105}\n",
      "{'epoch_loss': tensor(1.2445, device='cuda:0'), 'epoch_l1_loss': tensor(1.3579, device='cuda:0'), 'epoch': 106}\n",
      "{'epoch_loss': tensor(1.2444, device='cuda:0'), 'epoch_l1_loss': tensor(1.3577, device='cuda:0'), 'epoch': 107}\n",
      "{'epoch_loss': tensor(1.2444, device='cuda:0'), 'epoch_l1_loss': tensor(1.3579, device='cuda:0'), 'epoch': 108}\n",
      "{'epoch_loss': tensor(1.2444, device='cuda:0'), 'epoch_l1_loss': tensor(1.3578, device='cuda:0'), 'epoch': 109}\n",
      "{'epoch_loss': tensor(1.2444, device='cuda:0'), 'epoch_l1_loss': tensor(1.3578, device='cuda:0'), 'epoch': 110}\n",
      "   stock  day  time    target      pred\n",
      "0      0    0     0 -3.029704 -0.190280\n",
      "1      1    0     0 -5.519986 -0.093052\n",
      "2      2    0     0 -8.389950 -0.183289\n",
      "3      3    0     0 -4.010201 -0.156425\n",
      "4      4    0     0 -7.349849 -0.224642\n",
      "5      5    0     0  6.779432 -0.011986\n",
      "6      6    0     0 -2.499819 -0.055322\n",
      "7      7    0     0 -1.959801  0.106756\n",
      "8      8    0     0 -5.970001 -0.115932\n",
      "9      9    0     0  7.970333 -0.333863\n",
      "{'epoch_loss': tensor(1.2444, device='cuda:0'), 'epoch_l1_loss': tensor(1.3578, device='cuda:0'), 'epoch': 111}\n",
      "{'epoch_loss': tensor(1.2445, device='cuda:0'), 'epoch_l1_loss': tensor(1.3577, device='cuda:0'), 'epoch': 112}\n",
      "{'epoch_loss': tensor(1.2444, device='cuda:0'), 'epoch_l1_loss': tensor(1.3578, device='cuda:0'), 'epoch': 113}\n",
      "{'epoch_loss': tensor(1.2444, device='cuda:0'), 'epoch_l1_loss': tensor(1.3577, device='cuda:0'), 'epoch': 114}\n",
      "{'epoch_loss': tensor(1.2444, device='cuda:0'), 'epoch_l1_loss': tensor(1.3579, device='cuda:0'), 'epoch': 115}\n",
      "{'epoch_loss': tensor(1.2444, device='cuda:0'), 'epoch_l1_loss': tensor(1.3578, device='cuda:0'), 'epoch': 116}\n",
      "{'epoch_loss': tensor(1.2445, device='cuda:0'), 'epoch_l1_loss': tensor(1.3579, device='cuda:0'), 'epoch': 117}\n",
      "{'epoch_loss': tensor(1.2445, device='cuda:0'), 'epoch_l1_loss': tensor(1.3577, device='cuda:0'), 'epoch': 118}\n",
      "{'epoch_loss': tensor(1.2444, device='cuda:0'), 'epoch_l1_loss': tensor(1.3577, device='cuda:0'), 'epoch': 119}\n",
      "{'epoch_loss': tensor(1.2444, device='cuda:0'), 'epoch_l1_loss': tensor(1.3578, device='cuda:0'), 'epoch': 120}\n",
      "   stock  day  time    target      pred\n",
      "0      0    0     0 -3.029704 -0.149033\n",
      "1      1    0     0 -5.519986 -0.067376\n",
      "2      2    0     0 -8.389950 -0.056648\n",
      "3      3    0     0 -4.010201 -0.261386\n",
      "4      4    0     0 -7.349849 -0.153180\n",
      "5      5    0     0  6.779432  0.025179\n",
      "6      6    0     0 -2.499819 -0.063083\n",
      "7      7    0     0 -1.959801 -0.008531\n",
      "8      8    0     0 -5.970001 -0.168331\n",
      "9      9    0     0  7.970333 -0.216233\n",
      "{'epoch_loss': tensor(1.2444, device='cuda:0'), 'epoch_l1_loss': tensor(1.3578, device='cuda:0'), 'epoch': 121}\n",
      "{'epoch_loss': tensor(1.2444, device='cuda:0'), 'epoch_l1_loss': tensor(1.3580, device='cuda:0'), 'epoch': 122}\n",
      "{'epoch_loss': tensor(1.2445, device='cuda:0'), 'epoch_l1_loss': tensor(1.3578, device='cuda:0'), 'epoch': 123}\n",
      "{'epoch_loss': tensor(1.2444, device='cuda:0'), 'epoch_l1_loss': tensor(1.3578, device='cuda:0'), 'epoch': 124}\n"
     ]
    },
    {
     "name": "stderr",
     "output_type": "stream",
     "text": [
      "Traceback (most recent call last):\n",
      "  File \"C:\\Users\\Nick\\AppData\\Local\\Temp\\ipykernel_18348\\3059119270.py\", line 12, in model_pipeline\n",
      "    training_testing.train_model(trading_df,model,config,optimizer,criterion)\n",
      "  File \"c:\\Users\\Nick\\Documents\\GitHub\\OptiverKaggle\\training_testing.py\", line 59, in train_model\n",
      "    loss.backward()\n",
      "  File \"c:\\Users\\Nick\\.conda\\envs\\python311\\Lib\\site-packages\\torch\\_tensor.py\", line 487, in backward\n",
      "    torch.autograd.backward(\n",
      "  File \"c:\\Users\\Nick\\.conda\\envs\\python311\\Lib\\site-packages\\torch\\autograd\\__init__.py\", line 200, in backward\n",
      "    Variable._execution_engine.run_backward(  # Calls into the C++ engine to run the backward pass\n",
      "KeyboardInterrupt\n"
     ]
    },
    {
     "data": {
      "text/html": [
       "Waiting for W&B process to finish... <strong style=\"color:red\">(failed 1).</strong> Press Ctrl-C to abort syncing."
      ],
      "text/plain": [
       "<IPython.core.display.HTML object>"
      ]
     },
     "metadata": {},
     "output_type": "display_data"
    },
    {
     "data": {
      "text/html": [
       "<style>\n",
       "    table.wandb td:nth-child(1) { padding: 0 10px; text-align: left ; width: auto;} td:nth-child(2) {text-align: left ; width: 100%}\n",
       "    .wandb-row { display: flex; flex-direction: row; flex-wrap: wrap; justify-content: flex-start; width: 100% }\n",
       "    .wandb-col { display: flex; flex-direction: column; flex-basis: 100%; flex: 1; padding: 10px; }\n",
       "    </style>\n",
       "<div class=\"wandb-row\"><div class=\"wandb-col\"><h3>Run history:</h3><br/><table class=\"wandb\"><tr><td>epoch</td><td>▁▁▁▂▂▂▂▂▂▃▃▃▃▃▄▄▄▄▄▄▅▅▅▅▅▅▆▆▆▆▆▇▇▇▇▇▇███</td></tr><tr><td>epoch_l1_loss</td><td>▁▁▁▁▁▁▁▁▁▁▁▁▁▂▁▁▁▁▁▁▁▁▁▁▁▁▁▁▂█▁▁▅▄▁▁▁▁▁▁</td></tr><tr><td>epoch_loss</td><td>▁▁▁▁▁▁▁▁▁▁▁▁▁▂▁▁▁▁▁▁▁▁▁▁▁▁▁▁▂█▁▁▅▄▁▁▁▁▁▁</td></tr><tr><td>loss_1</td><td>█▃▁▁█▃▃▁▁█▃▃▁▁█▃▃▁██▃▃▁██▃▃▁██▃▁▁██▃▁▁██</td></tr><tr><td>relu</td><td>▁▄▅▄▄▆▅▅▆▆▆▇▇▇▇▇▇▇▇▇▇▇▇▇▇▇▇▇████████████</td></tr><tr><td>val_epoch_loss</td><td>█▄▂▃▃▂▄▂▂▂▃▂▂▂▂▂▂▂▂▂▂▁▂▂▂▂▂▁▂▁▂▂▂▂▂▂▁▂▁▂</td></tr><tr><td>val_epoch_loss_l1</td><td>█▆▁▄▅▃▇▃▄▂▅▄▂▅▃▄▄▆▂▅▃▃▅▅▅▂▆▂▅▃▄▃▄▄▅▄▃▅▄▄</td></tr><tr><td>val_relu</td><td>▁▄▅▅▅▆▅▅▅▆▇▇▇▇▇▆▇▇▇▇▇▇▇▇▇▇▇▇████████████</td></tr></table><br/></div><div class=\"wandb-col\"><h3>Run summary:</h3><br/><table class=\"wandb\"><tr><td>epoch</td><td>124</td></tr><tr><td>epoch_loss</td><td>5.93973</td></tr><tr><td>loss_1</td><td>6.36165</td></tr><tr><td>relu</td><td>177.6996</td></tr><tr><td>val_epoch_loss</td><td>5.03018</td></tr><tr><td>val_relu</td><td>44.88603</td></tr></table><br/></div></div>"
      ],
      "text/plain": [
       "<IPython.core.display.HTML object>"
      ]
     },
     "metadata": {},
     "output_type": "display_data"
    },
    {
     "data": {
      "text/html": [
       " View run <strong style=\"color:#cdcd00\">proud-sun-169</strong> at: <a href='https://wandb.ai/nickojelly/Optviver/runs/ugm0fasu' target=\"_blank\">https://wandb.ai/nickojelly/Optviver/runs/ugm0fasu</a><br/>Synced 5 W&B file(s), 13 media file(s), 13 artifact file(s) and 0 other file(s)"
      ],
      "text/plain": [
       "<IPython.core.display.HTML object>"
      ]
     },
     "metadata": {},
     "output_type": "display_data"
    },
    {
     "data": {
      "text/html": [
       "Find logs at: <code>.\\wandb\\run-20231005_085502-ugm0fasu\\logs</code>"
      ],
      "text/plain": [
       "<IPython.core.display.HTML object>"
      ]
     },
     "metadata": {},
     "output_type": "display_data"
    },
    {
     "ename": "KeyboardInterrupt",
     "evalue": "",
     "output_type": "error",
     "traceback": [
      "\u001b[1;31m---------------------------------------------------------------------------\u001b[0m",
      "\u001b[1;31mKeyboardInterrupt\u001b[0m                         Traceback (most recent call last)",
      "\u001b[1;32mc:\\Users\\Nick\\Documents\\GitHub\\OptiverKaggle\\Optiver_v0.2.2.4.ipynb Cell 20\u001b[0m line \u001b[0;36m1\n\u001b[1;32m----> <a href='vscode-notebook-cell:/c%3A/Users/Nick/Documents/GitHub/OptiverKaggle/Optiver_v0.2.2.4.ipynb#X25sZmlsZQ%3D%3D?line=0'>1</a>\u001b[0m model \u001b[39m=\u001b[39m model_pipeline(trading_data, config_static)\n",
      "\u001b[1;32mc:\\Users\\Nick\\Documents\\GitHub\\OptiverKaggle\\Optiver_v0.2.2.4.ipynb Cell 20\u001b[0m line \u001b[0;36m1\n\u001b[0;32m      <a href='vscode-notebook-cell:/c%3A/Users/Nick/Documents/GitHub/OptiverKaggle/Optiver_v0.2.2.4.ipynb#X25sZmlsZQ%3D%3D?line=8'>9</a>\u001b[0m     trading_df\u001b[39m.\u001b[39mreset_hidden(config[\u001b[39m'\u001b[39m\u001b[39mhidden_size\u001b[39m\u001b[39m'\u001b[39m],num_layers\u001b[39m=\u001b[39mconfig[\u001b[39m'\u001b[39m\u001b[39mnum_layers\u001b[39m\u001b[39m'\u001b[39m])\n\u001b[0;32m     <a href='vscode-notebook-cell:/c%3A/Users/Nick/Documents/GitHub/OptiverKaggle/Optiver_v0.2.2.4.ipynb#X25sZmlsZQ%3D%3D?line=9'>10</a>\u001b[0m     criterion \u001b[39m=\u001b[39m nn\u001b[39m.\u001b[39mSmoothL1Loss()\n\u001b[1;32m---> <a href='vscode-notebook-cell:/c%3A/Users/Nick/Documents/GitHub/OptiverKaggle/Optiver_v0.2.2.4.ipynb#X25sZmlsZQ%3D%3D?line=11'>12</a>\u001b[0m     training_testing\u001b[39m.\u001b[39;49mtrain_model(trading_df,model,config,optimizer,criterion)\n\u001b[0;32m     <a href='vscode-notebook-cell:/c%3A/Users/Nick/Documents/GitHub/OptiverKaggle/Optiver_v0.2.2.4.ipynb#X25sZmlsZQ%3D%3D?line=13'>14</a>\u001b[0m \u001b[39mreturn\u001b[39;00m(model)\n",
      "File \u001b[1;32mc:\\Users\\Nick\\Documents\\GitHub\\OptiverKaggle\\training_testing.py:59\u001b[0m, in \u001b[0;36mtrain_model\u001b[1;34m(trading_df, model, config, optimizer, criterion)\u001b[0m\n\u001b[0;32m     56\u001b[0m loss \u001b[39m=\u001b[39m criterion(output,Y)\n\u001b[0;32m     57\u001b[0m L1_loss \u001b[39m=\u001b[39m reg_L1(output,Y)\n\u001b[1;32m---> 59\u001b[0m loss\u001b[39m.\u001b[39;49mbackward()\n\u001b[0;32m     60\u001b[0m \u001b[39m# loss_list.append((i,loss))\u001b[39;00m\n\u001b[0;32m     61\u001b[0m optimizer\u001b[39m.\u001b[39mstep()\n",
      "File \u001b[1;32mc:\\Users\\Nick\\.conda\\envs\\python311\\Lib\\site-packages\\torch\\_tensor.py:487\u001b[0m, in \u001b[0;36mTensor.backward\u001b[1;34m(self, gradient, retain_graph, create_graph, inputs)\u001b[0m\n\u001b[0;32m    477\u001b[0m \u001b[39mif\u001b[39;00m has_torch_function_unary(\u001b[39mself\u001b[39m):\n\u001b[0;32m    478\u001b[0m     \u001b[39mreturn\u001b[39;00m handle_torch_function(\n\u001b[0;32m    479\u001b[0m         Tensor\u001b[39m.\u001b[39mbackward,\n\u001b[0;32m    480\u001b[0m         (\u001b[39mself\u001b[39m,),\n\u001b[1;32m   (...)\u001b[0m\n\u001b[0;32m    485\u001b[0m         inputs\u001b[39m=\u001b[39minputs,\n\u001b[0;32m    486\u001b[0m     )\n\u001b[1;32m--> 487\u001b[0m torch\u001b[39m.\u001b[39;49mautograd\u001b[39m.\u001b[39;49mbackward(\n\u001b[0;32m    488\u001b[0m     \u001b[39mself\u001b[39;49m, gradient, retain_graph, create_graph, inputs\u001b[39m=\u001b[39;49minputs\n\u001b[0;32m    489\u001b[0m )\n",
      "File \u001b[1;32mc:\\Users\\Nick\\.conda\\envs\\python311\\Lib\\site-packages\\torch\\autograd\\__init__.py:200\u001b[0m, in \u001b[0;36mbackward\u001b[1;34m(tensors, grad_tensors, retain_graph, create_graph, grad_variables, inputs)\u001b[0m\n\u001b[0;32m    195\u001b[0m     retain_graph \u001b[39m=\u001b[39m create_graph\n\u001b[0;32m    197\u001b[0m \u001b[39m# The reason we repeat same the comment below is that\u001b[39;00m\n\u001b[0;32m    198\u001b[0m \u001b[39m# some Python versions print out the first line of a multi-line function\u001b[39;00m\n\u001b[0;32m    199\u001b[0m \u001b[39m# calls in the traceback and some print out the last line\u001b[39;00m\n\u001b[1;32m--> 200\u001b[0m Variable\u001b[39m.\u001b[39;49m_execution_engine\u001b[39m.\u001b[39;49mrun_backward(  \u001b[39m# Calls into the C++ engine to run the backward pass\u001b[39;49;00m\n\u001b[0;32m    201\u001b[0m     tensors, grad_tensors_, retain_graph, create_graph, inputs,\n\u001b[0;32m    202\u001b[0m     allow_unreachable\u001b[39m=\u001b[39;49m\u001b[39mTrue\u001b[39;49;00m, accumulate_grad\u001b[39m=\u001b[39;49m\u001b[39mTrue\u001b[39;49;00m)\n",
      "\u001b[1;31mKeyboardInterrupt\u001b[0m: "
     ]
    }
   ],
   "source": [
    "model = model_pipeline(trading_data, config_static)\n"
   ]
  }
 ],
 "metadata": {
  "kernelspec": {
   "display_name": "python311",
   "language": "python",
   "name": "python3"
  },
  "language_info": {
   "codemirror_mode": {
    "name": "ipython",
    "version": 3
   },
   "file_extension": ".py",
   "mimetype": "text/x-python",
   "name": "python",
   "nbconvert_exporter": "python",
   "pygments_lexer": "ipython3",
   "version": "3.11.5"
  },
  "orig_nbformat": 4
 },
 "nbformat": 4,
 "nbformat_minor": 2
}
