{
 "cells": [
  {
   "cell_type": "code",
   "execution_count": 1,
   "metadata": {},
   "outputs": [],
   "source": [
    "import pandas as pd \n",
    "import numpy as np\n",
    "import public_timeseries_testing_util as optiver2023\n",
    "from torch.nn.utils.rnn import pack_padded_sequence, pack_sequence, unpack_sequence, unpad_sequence\n",
    "import torch\n",
    "from tqdm.notebook import trange,tqdm\n",
    "import torch.nn as nn \n",
    "import torch.optim as optim\n",
    "import wandb\n",
    "import torch_classes\n",
    "from model_saver import model_saver_wandb as model_saver\n",
    "import training_testing\n",
    "from itertools import combinations\n",
    "import gc\n",
    "from sklearn.decomposition import PCA\n",
    "import lightgbm as lgb"
   ]
  },
  {
   "cell_type": "code",
   "execution_count": 2,
   "metadata": {},
   "outputs": [],
   "source": [
    "env = optiver2023.make_env()\n",
    "iter_test = env.iter_test()"
   ]
  },
  {
   "cell_type": "code",
   "execution_count": 3,
   "metadata": {},
   "outputs": [
    {
     "name": "stdout",
     "output_type": "stream",
     "text": [
      "Running on the GPU\n"
     ]
    }
   ],
   "source": [
    "if torch.cuda.is_available():\n",
    "    device = torch.device(\"cuda:0\")  # you can continue going on here, like cuda:1 cuda:2....etc.\n",
    "    print(\"Running on the GPU\")\n",
    "else:\n",
    "    device = torch.device(\"cpu\")\n",
    "    print(\"Running on the CPU\")"
   ]
  },
  {
   "cell_type": "code",
   "execution_count": 4,
   "metadata": {},
   "outputs": [
    {
     "data": {
      "text/plain": [
       "date_id\n",
       "480    11000\n",
       "353    11000\n",
       "363    11000\n",
       "362    11000\n",
       "360    11000\n",
       "       ...  \n",
       "4      10560\n",
       "2      10505\n",
       "1      10505\n",
       "3      10505\n",
       "0      10505\n",
       "Name: count, Length: 481, dtype: int64"
      ]
     },
     "execution_count": 4,
     "metadata": {},
     "output_type": "execute_result"
    }
   ],
   "source": [
    "train = pd.read_csv('train.csv')\n",
    "train.head()\n",
    "train.date_id.value_counts()"
   ]
  },
  {
   "cell_type": "code",
   "execution_count": 5,
   "metadata": {},
   "outputs": [],
   "source": [
    "import importlib"
   ]
  },
  {
   "cell_type": "code",
   "execution_count": 6,
   "metadata": {},
   "outputs": [],
   "source": [
    "median_vol = pd.read_csv(\"archive/MedianVolV2.csv\")\n",
    "median_vol.index.name = \"stock_id\";\n",
    "median_vol = median_vol[['overall_medvol', \"first5min_medvol\", \"last5min_medvol\"]]\n",
    "median_sizes = train.groupby('stock_id')['bid_size'].median() + train.groupby('stock_id')['ask_size'].median()\n",
    "std_sizes = train.groupby('stock_id')['bid_size'].median() + train.groupby('stock_id')['ask_size'].median()"
   ]
  },
  {
   "cell_type": "code",
   "execution_count": 7,
   "metadata": {},
   "outputs": [],
   "source": [
    "def feat_eng(df):\n",
    "    \n",
    "    cols = [c for c in df.columns if c not in ['row_id', 'time_id']]\n",
    "    df = df[cols]\n",
    "    df = df.merge(median_vol, how = \"left\", left_on = \"stock_id\", right_index = True)\n",
    "    \n",
    "    df['bid_plus_ask_sizes'] = df['bid_size'] + train['ask_size']\n",
    "#     df['median_size'] = df['stock_id'].map(median_sizes.to_dict())\n",
    "    df['std_size'] = df['stock_id'].map(std_sizes.to_dict())\n",
    "#     df['high_volume'] = np.where(df['bid_plus_ask_sizes'] > df['median_size'], 1, 0) \n",
    "    df['imbalance_ratio'] = df['imbalance_size'] / df['matched_size']\n",
    "    \n",
    "    df['imb_s1'] = df.eval('(bid_size-ask_size)/(bid_size+ask_size)')\n",
    "    df['imb_s2'] = df.eval('(imbalance_size-matched_size)/(matched_size+imbalance_size)')\n",
    "\n",
    "    df['ask_x_size'] = df.eval('ask_size*ask_price')\n",
    "    df['bid_x_size'] = df.eval('bid_size*bid_price')\n",
    "        \n",
    "    df['ask_minus_bid'] = df['ask_x_size'] - df['bid_x_size'] \n",
    "    \n",
    "    df[\"bid_size_over_ask_size\"] = df[\"bid_size\"].div(df[\"ask_size\"])\n",
    "    df[\"bid_price_over_ask_price\"] = df[\"bid_price\"].div(df[\"ask_price\"])\n",
    "    \n",
    "    prices = ['reference_price','far_price', 'near_price', 'ask_price', 'bid_price', 'wap']\n",
    "    \n",
    "    for c in combinations(prices, 2):\n",
    "        \n",
    "        df[f'{c[0]}_minus_{c[1]}'] = (df[f'{c[0]}'] - df[f'{c[1]}']).astype(np.float32)\n",
    "        df[f'{c[0]}_times_{c[1]}'] = (df[f'{c[0]}'] * df[f'{c[1]}']).astype(np.float32)\n",
    "        df[f'{c[0]}_{c[1]}_imb'] = df.eval(f'({c[0]}-{c[1]})/({c[0]}+{c[1]})')\n",
    "\n",
    "    for c in combinations(prices, 3):\n",
    "        \n",
    "        max_ = df[list(c)].max(axis=1)\n",
    "        min_ = df[list(c)].min(axis=1)\n",
    "        mid_ = df[list(c)].sum(axis=1)-min_-max_\n",
    "\n",
    "        df[f'{c[0]}_{c[1]}_{c[2]}_imb2'] = (max_-mid_)/(mid_-min_)\n",
    "    \n",
    "        \n",
    "    df.drop(columns=[\n",
    "        # 'date_id', \n",
    "        'reference_price_far_price_imb',\n",
    "        'reference_price_minus_near_price',\n",
    "        'reference_price_near_price_imb',\n",
    "        'far_price_near_price_imb',\n",
    "        'far_price_ask_price_imb',\n",
    "        'far_price_bid_price_imb',\n",
    "        'far_price_minus_wap',\n",
    "        'std_size',\n",
    "        'bid_size_over_ask_size',\n",
    "        'ask_price_bid_price_imb',\n",
    "        'near_price_times_wap'\n",
    "    ], inplace=True)\n",
    "        \n",
    "    gc.collect()\n",
    "\n",
    "    df.replace([np.inf, -np.inf], 0, inplace=True)\n",
    "    \n",
    "    return df"
   ]
  },
  {
   "cell_type": "code",
   "execution_count": 8,
   "metadata": {},
   "outputs": [],
   "source": [
    "y = train['target'].values\n",
    "X = feat_eng(train)\n",
    "prices = [c for c in train.columns if 'price' in c]\n",
    "pca_prices = PCA(n_components=1)\n",
    "X['pca_prices'] = pca_prices.fit_transform(X[prices].fillna(1))"
   ]
  },
  {
   "cell_type": "code",
   "execution_count": 9,
   "metadata": {},
   "outputs": [],
   "source": [
    "lgbm = lgb.Booster(model_file='lgbm_model.lgb')"
   ]
  },
  {
   "cell_type": "code",
   "execution_count": 10,
   "metadata": {},
   "outputs": [],
   "source": [
    "lgbm_columns = ['stock_id', 'seconds_in_bucket', 'imbalance_size',\n",
    "       'imbalance_buy_sell_flag', 'reference_price', 'matched_size',\n",
    "       'far_price', 'near_price', 'bid_price', 'bid_size', 'ask_price',\n",
    "       'ask_size', 'wap', 'overall_medvol', 'first5min_medvol',\n",
    "       'last5min_medvol', 'bid_plus_ask_sizes', 'imbalance_ratio', 'imb_s1',\n",
    "       'imb_s2', 'ask_x_size', 'bid_x_size', 'ask_minus_bid',\n",
    "       'bid_price_over_ask_price', 'reference_price_minus_far_price',\n",
    "       'reference_price_times_far_price', 'reference_price_times_near_price',\n",
    "       'reference_price_minus_ask_price', 'reference_price_times_ask_price',\n",
    "       'reference_price_ask_price_imb', 'reference_price_minus_bid_price',\n",
    "       'reference_price_times_bid_price', 'reference_price_bid_price_imb',\n",
    "       'reference_price_minus_wap', 'reference_price_times_wap',\n",
    "       'reference_price_wap_imb', 'far_price_minus_near_price',\n",
    "       'far_price_times_near_price', 'far_price_minus_ask_price',\n",
    "       'far_price_times_ask_price', 'far_price_minus_bid_price',\n",
    "       'far_price_times_bid_price', 'far_price_times_wap', 'far_price_wap_imb',\n",
    "       'near_price_minus_ask_price', 'near_price_times_ask_price',\n",
    "       'near_price_ask_price_imb', 'near_price_minus_bid_price',\n",
    "       'near_price_times_bid_price', 'near_price_bid_price_imb',\n",
    "       'near_price_minus_wap', 'near_price_wap_imb',\n",
    "       'ask_price_minus_bid_price', 'ask_price_times_bid_price',\n",
    "       'ask_price_minus_wap', 'ask_price_times_wap', 'ask_price_wap_imb',\n",
    "       'bid_price_minus_wap', 'bid_price_times_wap', 'bid_price_wap_imb',\n",
    "       'reference_price_far_price_near_price_imb2',\n",
    "       'reference_price_far_price_ask_price_imb2',\n",
    "       'reference_price_far_price_bid_price_imb2',\n",
    "       'reference_price_far_price_wap_imb2',\n",
    "       'reference_price_near_price_ask_price_imb2',\n",
    "       'reference_price_near_price_bid_price_imb2',\n",
    "       'reference_price_near_price_wap_imb2',\n",
    "       'reference_price_ask_price_bid_price_imb2',\n",
    "       'reference_price_ask_price_wap_imb2',\n",
    "       'reference_price_bid_price_wap_imb2',\n",
    "       'far_price_near_price_ask_price_imb2',\n",
    "       'far_price_near_price_bid_price_imb2', 'far_price_near_price_wap_imb2',\n",
    "       'far_price_ask_price_bid_price_imb2', 'far_price_ask_price_wap_imb2',\n",
    "       'far_price_bid_price_wap_imb2', 'near_price_ask_price_bid_price_imb2',\n",
    "       'near_price_ask_price_wap_imb2', 'near_price_bid_price_wap_imb2',\n",
    "       'ask_price_bid_price_wap_imb2', 'pca_prices']"
   ]
  },
  {
   "cell_type": "code",
   "execution_count": 11,
   "metadata": {},
   "outputs": [],
   "source": [
    "lgbm_preds = lgbm.predict(X[lgbm_columns])"
   ]
  },
  {
   "cell_type": "code",
   "execution_count": 12,
   "metadata": {},
   "outputs": [],
   "source": [
    "X['lgbm_preds'] = lgbm_preds"
   ]
  },
  {
   "cell_type": "code",
   "execution_count": 13,
   "metadata": {},
   "outputs": [
    {
     "name": "stderr",
     "output_type": "stream",
     "text": [
      " 10%|▉         | 19/200 [00:13<01:51,  1.62it/s]"
     ]
    },
    {
     "name": "stdout",
     "output_type": "stream",
     "text": [
      "Missing Targets for day=438,for stock_id=19, Excluding\n"
     ]
    },
    {
     "name": "stderr",
     "output_type": "stream",
     "text": [
      " 50%|█████     | 101/200 [01:25<01:10,  1.41it/s]"
     ]
    },
    {
     "name": "stdout",
     "output_type": "stream",
     "text": [
      "Missing Targets for day=328,for stock_id=101, Excluding\n"
     ]
    },
    {
     "name": "stderr",
     "output_type": "stream",
     "text": [
      " 66%|██████▌   | 131/200 [02:00<00:48,  1.43it/s]"
     ]
    },
    {
     "name": "stdout",
     "output_type": "stream",
     "text": [
      "Missing Targets for day=35,for stock_id=131, Excluding\n"
     ]
    },
    {
     "name": "stderr",
     "output_type": "stream",
     "text": [
      " 79%|███████▉  | 158/200 [02:29<00:28,  1.47it/s]"
     ]
    },
    {
     "name": "stdout",
     "output_type": "stream",
     "text": [
      "Missing Targets for day=388,for stock_id=158, Excluding\n"
     ]
    },
    {
     "name": "stderr",
     "output_type": "stream",
     "text": [
      "100%|██████████| 200/200 [03:55<00:00,  1.18s/it]\n"
     ]
    },
    {
     "name": "stdout",
     "output_type": "stream",
     "text": [
      "Length of train: 385, Length of test 96\n"
     ]
    },
    {
     "name": "stderr",
     "output_type": "stream",
     "text": [
      "100%|██████████| 385/385 [00:00<00:00, 7228.16it/s]\n",
      "100%|██████████| 95/95 [00:00<00:00, 10545.15it/s]\n"
     ]
    }
   ],
   "source": [
    "importlib.reload(torch_classes)\n",
    "trading_data = torch_classes.TradingData(X)\n",
    "hidden_size = 64\n",
    "trading_data.generate_batches()"
   ]
  },
  {
   "cell_type": "code",
   "execution_count": 15,
   "metadata": {},
   "outputs": [],
   "source": [
    "train = []"
   ]
  },
  {
   "cell_type": "code",
   "execution_count": 16,
   "metadata": {},
   "outputs": [
    {
     "data": {
      "text/plain": [
       "<module 'training_testing' from 'c:\\\\Users\\\\Nick\\\\Documents\\\\GitHub\\\\OptiverKaggle\\\\training_testing.py'>"
      ]
     },
     "execution_count": 16,
     "metadata": {},
     "output_type": "execute_result"
    }
   ],
   "source": [
    "importlib.reload(torch_classes)\n",
    "importlib.reload(training_testing)"
   ]
  },
  {
   "cell_type": "code",
   "execution_count": 17,
   "metadata": {},
   "outputs": [],
   "source": [
    "model = torch_classes.GRUNetV2(12,64,num_layers=2).to(device='cuda:0')"
   ]
  },
  {
   "cell_type": "code",
   "execution_count": 18,
   "metadata": {},
   "outputs": [
    {
     "data": {
      "text/plain": [
       "GRUNetV2(\n",
       "  (gru): GRU(12, 64, num_layers=2, dropout=0.3)\n",
       "  (relu0): ReLU()\n",
       "  (batch_norm): Identity()\n",
       "  (batch_norm2): Identity()\n",
       "  (fc0): Linear(in_features=12800, out_features=1024, bias=True)\n",
       "  (rl1): ReLU()\n",
       "  (drop1): Dropout(p=0.3, inplace=False)\n",
       "  (fc1): Linear(in_features=1024, out_features=200, bias=True)\n",
       "  (rl2): ReLU()\n",
       "  (drop2): Dropout(p=0.3, inplace=False)\n",
       "  (fc2): Linear(in_features=640, out_features=200, bias=True)\n",
       "  (rl3): ReLU()\n",
       "  (drop3): Dropout(p=0.3, inplace=False)\n",
       "  (fc3): Linear(in_features=200, out_features=200, bias=True)\n",
       ")"
      ]
     },
     "execution_count": 18,
     "metadata": {},
     "output_type": "execute_result"
    }
   ],
   "source": [
    "model"
   ]
  },
  {
   "cell_type": "code",
   "execution_count": 19,
   "metadata": {},
   "outputs": [],
   "source": [
    "optim_dict = {\n",
    "    'RMSProp':optim.RMSprop,\n",
    "    \"Adam\":optim.Adam,\n",
    "    \"AdamW\":optim.AdamW,\n",
    "    'SGD':optim.SGD,\n",
    "    \n",
    "}"
   ]
  },
  {
   "cell_type": "code",
   "execution_count": 29,
   "metadata": {},
   "outputs": [],
   "source": [
    "def model_pipeline(trading_df=trading_data, config=None):\n",
    "    trading_df = trading_data\n",
    "    with wandb.init(project=\"Optviver\", config=config,save_code=True):\n",
    "        wandb.define_metric(\"val_epoch_loss_l1\", summary=\"min\")\n",
    "        wandb.define_metric(\"epoch_l1_loss\", summary=\"min\")\n",
    "        config = wandb.config\n",
    "        \n",
    "        model = torch_classes.GRUNetV2(81,config['hidden_size'],num_layers=config['num_layers'], batch_norm=config['batch_norm']).to('cuda:0')\n",
    "        config = wandb.config\n",
    "        optimizer = optim.RMSprop(model.parameters(), lr=config['learning_rate'])\n",
    "        print(model)\n",
    "        trading_df.reset_hidden(hidden_size=config['hidden_size'],num_layers=config['num_layers'])\n",
    "        criterion = nn.SmoothL1Loss()\n",
    "        \n",
    "        training_testing.train_model(trading_df,model,config,optimizer,criterion)\n",
    "\n",
    "    return(model)\n",
    "\n"
   ]
  },
  {
   "cell_type": "code",
   "execution_count": 21,
   "metadata": {},
   "outputs": [
    {
     "data": {
      "text/plain": [
       "<module 'training_testing' from 'c:\\\\Users\\\\Nick\\\\Documents\\\\GitHub\\\\OptiverKaggle\\\\training_testing.py'>"
      ]
     },
     "execution_count": 21,
     "metadata": {},
     "output_type": "execute_result"
    }
   ],
   "source": [
    "importlib.reload(training_testing)"
   ]
  },
  {
   "cell_type": "code",
   "execution_count": 22,
   "metadata": {},
   "outputs": [],
   "source": [
    "trading_data.reset_hidden(16,num_layers=5)"
   ]
  },
  {
   "cell_type": "code",
   "execution_count": 23,
   "metadata": {},
   "outputs": [],
   "source": [
    "stocks = [trading_data.stocksDict[x] for x in trading_data.stock_batches[0]] \n",
    "hidden_in = torch.stack([x.hidden for x in stocks]).transpose(0,1)"
   ]
  },
  {
   "cell_type": "code",
   "execution_count": 24,
   "metadata": {},
   "outputs": [
    {
     "data": {
      "text/plain": [
       "torch.Size([5, 191, 16])"
      ]
     },
     "execution_count": 24,
     "metadata": {},
     "output_type": "execute_result"
    }
   ],
   "source": [
    "hidden_in.shape"
   ]
  },
  {
   "cell_type": "code",
   "execution_count": 27,
   "metadata": {},
   "outputs": [],
   "source": [
    "config_static = {'learning_rate':0.001, 'hidden_size':16, 'num_layers':2, 'batch_norm':1}"
   ]
  },
  {
   "cell_type": "code",
   "execution_count": 30,
   "metadata": {},
   "outputs": [
    {
     "data": {
      "application/vnd.jupyter.widget-view+json": {
       "model_id": "4b07820be7624682b8971758f7be9767",
       "version_major": 2,
       "version_minor": 0
      },
      "text/plain": [
       "VBox(children=(Label(value='Waiting for wandb.init()...\\r'), FloatProgress(value=0.01127777777777131, max=1.0)…"
      ]
     },
     "metadata": {},
     "output_type": "display_data"
    },
    {
     "data": {
      "text/html": [
       "wandb version 0.15.12 is available!  To upgrade, please run:\n",
       " $ pip install wandb --upgrade"
      ],
      "text/plain": [
       "<IPython.core.display.HTML object>"
      ]
     },
     "metadata": {},
     "output_type": "display_data"
    },
    {
     "data": {
      "text/html": [
       "Tracking run with wandb version 0.15.11"
      ],
      "text/plain": [
       "<IPython.core.display.HTML object>"
      ]
     },
     "metadata": {},
     "output_type": "display_data"
    },
    {
     "data": {
      "text/html": [
       "Run data is saved locally in <code>c:\\Users\\Nick\\Documents\\GitHub\\OptiverKaggle\\wandb\\run-20231016_104314-yt5ahq6s</code>"
      ],
      "text/plain": [
       "<IPython.core.display.HTML object>"
      ]
     },
     "metadata": {},
     "output_type": "display_data"
    },
    {
     "data": {
      "text/html": [
       "Syncing run <strong><a href='https://wandb.ai/nickojelly/Optviver/runs/yt5ahq6s' target=\"_blank\">hardy-fire-301</a></strong> to <a href='https://wandb.ai/nickojelly/Optviver' target=\"_blank\">Weights & Biases</a> (<a href='https://wandb.me/run' target=\"_blank\">docs</a>)<br/>"
      ],
      "text/plain": [
       "<IPython.core.display.HTML object>"
      ]
     },
     "metadata": {},
     "output_type": "display_data"
    },
    {
     "data": {
      "text/html": [
       " View project at <a href='https://wandb.ai/nickojelly/Optviver' target=\"_blank\">https://wandb.ai/nickojelly/Optviver</a>"
      ],
      "text/plain": [
       "<IPython.core.display.HTML object>"
      ]
     },
     "metadata": {},
     "output_type": "display_data"
    },
    {
     "data": {
      "text/html": [
       " View run at <a href='https://wandb.ai/nickojelly/Optviver/runs/yt5ahq6s' target=\"_blank\">https://wandb.ai/nickojelly/Optviver/runs/yt5ahq6s</a>"
      ],
      "text/plain": [
       "<IPython.core.display.HTML object>"
      ]
     },
     "metadata": {},
     "output_type": "display_data"
    },
    {
     "name": "stdout",
     "output_type": "stream",
     "text": [
      "GRUNetV2(\n",
      "  (gru): GRU(81, 16, num_layers=2, dropout=0.3)\n",
      "  (relu0): ReLU()\n",
      "  (batch_norm): BatchNorm1d(81, eps=1e-05, momentum=0.1, affine=True, track_running_stats=True)\n",
      "  (batch_norm2): Identity()\n",
      "  (fc0): Linear(in_features=3200, out_features=1024, bias=True)\n",
      "  (rl1): ReLU()\n",
      "  (drop1): Dropout(p=0.3, inplace=False)\n",
      "  (fc1): Linear(in_features=1024, out_features=200, bias=True)\n",
      "  (rl2): ReLU()\n",
      "  (drop2): Dropout(p=0.3, inplace=False)\n",
      "  (fc2): Linear(in_features=640, out_features=200, bias=True)\n",
      "  (rl3): ReLU()\n",
      "  (drop3): Dropout(p=0.3, inplace=False)\n",
      "  (fc3): Linear(in_features=200, out_features=200, bias=True)\n",
      ")\n"
     ]
    },
    {
     "data": {
      "application/vnd.jupyter.widget-view+json": {
       "model_id": "0a4e01e6c6a044b691ff308721b7c950",
       "version_major": 2,
       "version_minor": 0
      },
      "text/plain": [
       "  0%|          | 0/500 [00:00<?, ?it/s]"
      ]
     },
     "metadata": {},
     "output_type": "display_data"
    },
    {
     "name": "stdout",
     "output_type": "stream",
     "text": [
      "   stock  day  time    target      pred\n",
      "0      0    0     0 -3.029704 -0.283076\n",
      "1      1    0     0 -5.519986  0.233685\n",
      "2      2    0     0 -8.389950 -0.192136\n",
      "3      3    0     0 -4.010201 -0.353628\n",
      "4      4    0     0 -7.349849 -0.425885\n",
      "5      5    0     0  6.779432  0.012575\n",
      "6      6    0     0 -2.499819  0.061138\n",
      "7      7    0     0 -1.959801  0.037361\n",
      "8      8    0     0 -5.970001 -0.236810\n",
      "9      9    0     0  7.970333 -0.450719\n",
      "created path\n"
     ]
    }
   ],
   "source": [
    "model = model_pipeline(trading_data, config_static)\n"
   ]
  },
  {
   "cell_type": "code",
   "execution_count": 72,
   "metadata": {},
   "outputs": [],
   "source": [
    "sweep_config = {\"method\": \"random\"}\n",
    "\n",
    "metric = {\"name\": \"val_epoch_loss\", \"goal\": \"minimize\"}\n",
    "\n",
    "sweep_config[\"metric\"] = metric\n",
    "\n",
    "\n",
    "parameters_dict = {\n",
    "    \"optimizer\": {\"values\": [\"adamW\", 'adam', 'SGD', 'RMSprop']},\n",
    "    \"f0_layer_size\": {\"values\": [128]},\n",
    "    \"f1_layer_size\": {\"values\": [64]},\n",
    "    \"num_layers\": {\"values\": [2,3,4,5]},\n",
    "    'hidden_size':{'values':[8,16,32,64,128,256,512,1024]},\n",
    "    'learning_rate': {'max': 0.001, 'min': 0.00001},\n",
    "    'batch_norm':{'values':[0,1,2]}\n",
    "}\n",
    "\n",
    "sweep_config[\"parameters\"] = parameters_dict"
   ]
  },
  {
   "cell_type": "code",
   "execution_count": 74,
   "metadata": {},
   "outputs": [
    {
     "name": "stdout",
     "output_type": "stream",
     "text": [
      "Create sweep with ID: cpggp1nz\n",
      "Sweep URL: https://wandb.ai/nickojelly/Optiver%20Sweeps/sweeps/cpggp1nz\n"
     ]
    },
    {
     "name": "stderr",
     "output_type": "stream",
     "text": [
      "\u001b[34m\u001b[1mwandb\u001b[0m: Agent Starting Run: 6i4sjakd with config:\n",
      "\u001b[34m\u001b[1mwandb\u001b[0m: \tbatch_norm: 2\n",
      "\u001b[34m\u001b[1mwandb\u001b[0m: \tf0_layer_size: 128\n",
      "\u001b[34m\u001b[1mwandb\u001b[0m: \tf1_layer_size: 64\n",
      "\u001b[34m\u001b[1mwandb\u001b[0m: \thidden_size: 256\n",
      "\u001b[34m\u001b[1mwandb\u001b[0m: \tlearning_rate: 6.697932058179341e-05\n",
      "\u001b[34m\u001b[1mwandb\u001b[0m: \tnum_layers: 2\n",
      "\u001b[34m\u001b[1mwandb\u001b[0m: \toptimizer: SGD\n",
      "Failed to detect the name of this notebook, you can set it manually with the WANDB_NOTEBOOK_NAME environment variable to enable code saving.\n",
      "\u001b[34m\u001b[1mwandb\u001b[0m: \u001b[33mWARNING\u001b[0m Ignored wandb.init() arg project when running a sweep.\n"
     ]
    },
    {
     "data": {
      "text/html": [
       "wandb version 0.15.12 is available!  To upgrade, please run:\n",
       " $ pip install wandb --upgrade"
      ],
      "text/plain": [
       "<IPython.core.display.HTML object>"
      ]
     },
     "metadata": {},
     "output_type": "display_data"
    },
    {
     "data": {
      "text/html": [
       "Tracking run with wandb version 0.15.11"
      ],
      "text/plain": [
       "<IPython.core.display.HTML object>"
      ]
     },
     "metadata": {},
     "output_type": "display_data"
    },
    {
     "data": {
      "text/html": [
       "Run data is saved locally in <code>c:\\Users\\Nick\\Documents\\GitHub\\OptiverKaggle\\wandb\\run-20231011_174425-6i4sjakd</code>"
      ],
      "text/plain": [
       "<IPython.core.display.HTML object>"
      ]
     },
     "metadata": {},
     "output_type": "display_data"
    },
    {
     "data": {
      "text/html": [
       "Syncing run <strong><a href='https://wandb.ai/nickojelly/Optiver%20Sweeps/runs/6i4sjakd' target=\"_blank\">hardy-sweep-1</a></strong> to <a href='https://wandb.ai/nickojelly/Optiver%20Sweeps' target=\"_blank\">Weights & Biases</a> (<a href='https://wandb.me/run' target=\"_blank\">docs</a>)<br/>Sweep page: <a href='https://wandb.ai/nickojelly/Optiver%20Sweeps/sweeps/cpggp1nz' target=\"_blank\">https://wandb.ai/nickojelly/Optiver%20Sweeps/sweeps/cpggp1nz</a>"
      ],
      "text/plain": [
       "<IPython.core.display.HTML object>"
      ]
     },
     "metadata": {},
     "output_type": "display_data"
    },
    {
     "data": {
      "text/html": [
       " View project at <a href='https://wandb.ai/nickojelly/Optiver%20Sweeps' target=\"_blank\">https://wandb.ai/nickojelly/Optiver%20Sweeps</a>"
      ],
      "text/plain": [
       "<IPython.core.display.HTML object>"
      ]
     },
     "metadata": {},
     "output_type": "display_data"
    },
    {
     "data": {
      "text/html": [
       " View sweep at <a href='https://wandb.ai/nickojelly/Optiver%20Sweeps/sweeps/cpggp1nz' target=\"_blank\">https://wandb.ai/nickojelly/Optiver%20Sweeps/sweeps/cpggp1nz</a>"
      ],
      "text/plain": [
       "<IPython.core.display.HTML object>"
      ]
     },
     "metadata": {},
     "output_type": "display_data"
    },
    {
     "data": {
      "text/html": [
       " View run at <a href='https://wandb.ai/nickojelly/Optiver%20Sweeps/runs/6i4sjakd' target=\"_blank\">https://wandb.ai/nickojelly/Optiver%20Sweeps/runs/6i4sjakd</a>"
      ],
      "text/plain": [
       "<IPython.core.display.HTML object>"
      ]
     },
     "metadata": {},
     "output_type": "display_data"
    },
    {
     "name": "stdout",
     "output_type": "stream",
     "text": [
      "GRUNetV2(\n",
      "  (gru): GRU(80, 256, num_layers=2, dropout=0.3)\n",
      "  (relu0): ReLU()\n",
      "  (batch_norm): BatchNorm1d(80, eps=1e-05, momentum=0.1, affine=True, track_running_stats=True)\n",
      "  (batch_norm2): LayerNorm((51200,), eps=1e-05, elementwise_affine=True)\n",
      "  (fc0): Linear(in_features=51200, out_features=1024, bias=True)\n",
      "  (rl1): ReLU()\n",
      "  (drop1): Dropout(p=0.3, inplace=False)\n",
      "  (fc1): Linear(in_features=1024, out_features=200, bias=True)\n",
      "  (rl2): ReLU()\n",
      "  (drop2): Dropout(p=0.3, inplace=False)\n",
      "  (fc2): Linear(in_features=640, out_features=200, bias=True)\n",
      "  (rl3): ReLU()\n",
      "  (drop3): Dropout(p=0.3, inplace=False)\n",
      "  (fc3): Linear(in_features=200, out_features=200, bias=True)\n",
      ")\n"
     ]
    },
    {
     "data": {
      "application/vnd.jupyter.widget-view+json": {
       "model_id": "8b5d9c493f474f59b9832047256ff376",
       "version_major": 2,
       "version_minor": 0
      },
      "text/plain": [
       "  0%|          | 0/500 [00:00<?, ?it/s]"
      ]
     },
     "metadata": {},
     "output_type": "display_data"
    },
    {
     "name": "stdout",
     "output_type": "stream",
     "text": [
      "   stock  day  time    target      pred\n",
      "0      0    0     0 -3.029704 -0.028413\n",
      "1      1    0     0 -5.519986  0.021309\n",
      "2      2    0     0 -8.389950 -0.006111\n",
      "3      3    0     0 -4.010201 -0.005421\n",
      "4      4    0     0 -7.349849 -0.031569\n",
      "5      5    0     0  6.779432 -0.000261\n",
      "6      6    0     0 -2.499819 -0.000014\n",
      "7      7    0     0 -1.959801  0.011739\n",
      "8      8    0     0 -5.970001 -0.025827\n",
      "9      9    0     0  7.970333 -0.036181\n",
      "created path\n",
      "   stock  day  time    target      pred\n",
      "0      0    0     0 -3.029704 -0.177535\n",
      "1      1    0     0 -5.519986 -0.109222\n",
      "2      2    0     0 -8.389950 -0.255373\n",
      "3      3    0     0 -4.010201 -0.269264\n",
      "4      4    0     0 -7.349849 -0.298001\n",
      "5      5    0     0  6.779432  0.033290\n",
      "6      6    0     0 -2.499819  0.004895\n",
      "7      7    0     0 -1.959801  0.065846\n",
      "8      8    0     0 -5.970001 -0.067919\n",
      "9      9    0     0  7.970333 -0.303898\n",
      "   stock  day  time    target      pred\n",
      "0      0    0     0 -3.029704 -0.143708\n",
      "1      1    0     0 -5.519986 -0.071017\n",
      "2      2    0     0 -8.389950 -0.018582\n",
      "3      3    0     0 -4.010201 -0.183715\n",
      "4      4    0     0 -7.349849 -0.307928\n",
      "5      5    0     0  6.779432 -0.002125\n",
      "6      6    0     0 -2.499819 -0.000556\n",
      "7      7    0     0 -1.959801  0.134381\n",
      "8      8    0     0 -5.970001 -0.102148\n",
      "9      9    0     0  7.970333 -0.429707\n",
      "   stock  day  time    target      pred\n",
      "0      0    0     0 -3.029704 -0.097145\n",
      "1      1    0     0 -5.519986 -0.001076\n",
      "2      2    0     0 -8.389950 -0.204151\n",
      "3      3    0     0 -4.010201 -0.089779\n",
      "4      4    0     0 -7.349849 -0.060002\n",
      "5      5    0     0  6.779432  0.020246\n",
      "6      6    0     0 -2.499819 -0.011931\n",
      "7      7    0     0 -1.959801  0.116630\n",
      "8      8    0     0 -5.970001 -0.097809\n",
      "9      9    0     0  7.970333 -0.167718\n",
      "   stock  day  time    target      pred\n",
      "0      0    0     0 -3.029704 -0.120673\n",
      "1      1    0     0 -5.519986 -0.097083\n",
      "2      2    0     0 -8.389950 -0.125057\n",
      "3      3    0     0 -4.010201 -0.296162\n",
      "4      4    0     0 -7.349849 -0.298182\n",
      "5      5    0     0  6.779432  0.026946\n",
      "6      6    0     0 -2.499819 -0.015256\n",
      "7      7    0     0 -1.959801  0.085552\n",
      "8      8    0     0 -5.970001 -0.072198\n",
      "9      9    0     0  7.970333 -0.195265\n",
      "   stock  day  time    target      pred\n",
      "0      0    0     0 -3.029704 -0.149695\n",
      "1      1    0     0 -5.519986 -0.091151\n",
      "2      2    0     0 -8.389950 -0.066558\n",
      "3      3    0     0 -4.010201 -0.053765\n",
      "4      4    0     0 -7.349849 -0.218043\n",
      "5      5    0     0  6.779432  0.004283\n",
      "6      6    0     0 -2.499819 -0.004351\n",
      "7      7    0     0 -1.959801  0.065037\n",
      "8      8    0     0 -5.970001 -0.067539\n",
      "9      9    0     0  7.970333 -0.438785\n",
      "   stock  day  time    target      pred\n",
      "0      0    0     0 -3.029704 -0.122281\n",
      "1      1    0     0 -5.519986 -0.010233\n",
      "2      2    0     0 -8.389950 -0.114053\n",
      "3      3    0     0 -4.010201 -0.277889\n",
      "4      4    0     0 -7.349849 -0.211111\n",
      "5      5    0     0  6.779432  0.010500\n",
      "6      6    0     0 -2.499819  0.009130\n",
      "7      7    0     0 -1.959801  0.052998\n",
      "8      8    0     0 -5.970001 -0.112331\n",
      "9      9    0     0  7.970333 -0.181021\n",
      "   stock  day  time    target      pred\n",
      "0      0    0     0 -3.029704 -0.108065\n",
      "1      1    0     0 -5.519986 -0.045957\n",
      "2      2    0     0 -8.389950 -0.135994\n",
      "3      3    0     0 -4.010201 -0.115733\n",
      "4      4    0     0 -7.349849 -0.235125\n",
      "5      5    0     0  6.779432  0.027680\n",
      "6      6    0     0 -2.499819  0.008958\n",
      "7      7    0     0 -1.959801  0.047463\n",
      "8      8    0     0 -5.970001 -0.098995\n",
      "9      9    0     0  7.970333 -0.275106\n",
      "   stock  day  time    target      pred\n",
      "0      0    0     0 -3.029704 -0.118889\n",
      "1      1    0     0 -5.519986 -0.109132\n",
      "2      2    0     0 -8.389950 -0.138316\n",
      "3      3    0     0 -4.010201 -0.166204\n",
      "4      4    0     0 -7.349849 -0.254887\n",
      "5      5    0     0  6.779432  0.018321\n",
      "6      6    0     0 -2.499819 -0.006130\n",
      "7      7    0     0 -1.959801  0.046055\n",
      "8      8    0     0 -5.970001 -0.072741\n",
      "9      9    0     0  7.970333 -0.273774\n",
      "   stock  day  time    target      pred\n",
      "0      0    0     0 -3.029704 -0.130486\n",
      "1      1    0     0 -5.519986 -0.073797\n",
      "2      2    0     0 -8.389950 -0.129226\n",
      "3      3    0     0 -4.010201 -0.242895\n",
      "4      4    0     0 -7.349849 -0.153436\n",
      "5      5    0     0  6.779432  0.004389\n",
      "6      6    0     0 -2.499819 -0.021018\n",
      "7      7    0     0 -1.959801  0.046865\n",
      "8      8    0     0 -5.970001 -0.114082\n",
      "9      9    0     0  7.970333 -0.253545\n",
      "   stock  day  time    target      pred\n",
      "0      0    0     0 -3.029704 -0.137139\n",
      "1      1    0     0 -5.519986 -0.014093\n",
      "2      2    0     0 -8.389950 -0.114679\n",
      "3      3    0     0 -4.010201 -0.197654\n",
      "4      4    0     0 -7.349849 -0.221281\n",
      "5      5    0     0  6.779432  0.013655\n",
      "6      6    0     0 -2.499819 -0.020211\n",
      "7      7    0     0 -1.959801  0.049040\n",
      "8      8    0     0 -5.970001 -0.083888\n",
      "9      9    0     0  7.970333 -0.231652\n",
      "   stock  day  time    target      pred\n",
      "0      0    0     0 -3.029704 -0.138828\n",
      "1      1    0     0 -5.519986 -0.043874\n",
      "2      2    0     0 -8.389950 -0.100824\n",
      "3      3    0     0 -4.010201 -0.170843\n",
      "4      4    0     0 -7.349849 -0.252226\n",
      "5      5    0     0  6.779432  0.026294\n",
      "6      6    0     0 -2.499819 -0.003268\n",
      "7      7    0     0 -1.959801  0.052309\n",
      "8      8    0     0 -5.970001 -0.092913\n",
      "9      9    0     0  7.970333 -0.339026\n",
      "   stock  day  time    target      pred\n",
      "0      0    0     0 -3.029704 -0.136143\n",
      "1      1    0     0 -5.519986 -0.099580\n",
      "2      2    0     0 -8.389950 -0.101466\n",
      "3      3    0     0 -4.010201 -0.161895\n",
      "4      4    0     0 -7.349849 -0.246704\n",
      "5      5    0     0  6.779432  0.018350\n",
      "6      6    0     0 -2.499819  0.014324\n",
      "7      7    0     0 -1.959801  0.056535\n",
      "8      8    0     0 -5.970001 -0.103820\n",
      "9      9    0     0  7.970333 -0.272344\n",
      "   stock  day  time    target      pred\n",
      "0      0    0     0 -3.029704 -0.132139\n",
      "1      1    0     0 -5.519986 -0.086213\n",
      "2      2    0     0 -8.389950 -0.121665\n",
      "3      3    0     0 -4.010201 -0.163013\n",
      "4      4    0     0 -7.349849 -0.224951\n",
      "5      5    0     0  6.779432  0.005923\n",
      "6      6    0     0 -2.499819  0.017851\n",
      "7      7    0     0 -1.959801  0.061556\n",
      "8      8    0     0 -5.970001 -0.077509\n",
      "9      9    0     0  7.970333 -0.246811\n",
      "   stock  day  time    target      pred\n",
      "0      0    0     0 -3.029704 -0.127827\n",
      "1      1    0     0 -5.519986 -0.031789\n",
      "2      2    0     0 -8.389950 -0.144777\n",
      "3      3    0     0 -4.010201 -0.170119\n",
      "4      4    0     0 -7.349849 -0.201896\n",
      "5      5    0     0  6.779432  0.011856\n",
      "6      6    0     0 -2.499819  0.003623\n",
      "7      7    0     0 -1.959801  0.067181\n",
      "8      8    0     0 -5.970001 -0.112226\n",
      "9      9    0     0  7.970333 -0.249539\n",
      "   stock  day  time    target      pred\n",
      "0      0    0     0 -3.029704 -0.123688\n",
      "1      1    0     0 -5.519986 -0.025014\n",
      "2      2    0     0 -8.389950 -0.156756\n",
      "3      3    0     0 -4.010201 -0.180645\n",
      "4      4    0     0 -7.349849 -0.207235\n",
      "5      5    0     0  6.779432  0.024448\n",
      "6      6    0     0 -2.499819 -0.015734\n",
      "7      7    0     0 -1.959801  0.073211\n",
      "8      8    0     0 -5.970001 -0.079176\n",
      "9      9    0     0  7.970333 -0.269332\n",
      "   stock  day  time    target      pred\n",
      "0      0    0     0 -3.029704 -0.120084\n",
      "1      1    0     0 -5.519986 -0.075703\n",
      "2      2    0     0 -8.389950 -0.142074\n",
      "3      3    0     0 -4.010201 -0.192542\n",
      "4      4    0     0 -7.349849 -0.244381\n",
      "5      5    0     0  6.779432  0.021073\n",
      "6      6    0     0 -2.499819 -0.028721\n",
      "7      7    0     0 -1.959801  0.079405\n",
      "8      8    0     0 -5.970001 -0.104854\n",
      "9      9    0     0  7.970333 -0.293175\n",
      "   stock  day  time    target      pred\n",
      "0      0    0     0 -3.029704 -0.117461\n",
      "1      1    0     0 -5.519986 -0.100305\n",
      "2      2    0     0 -8.389950 -0.116516\n",
      "3      3    0     0 -4.010201 -0.203333\n",
      "4      4    0     0 -7.349849 -0.255717\n",
      "5      5    0     0  6.779432  0.008458\n",
      "6      6    0     0 -2.499819 -0.025146\n",
      "7      7    0     0 -1.959801  0.085539\n",
      "8      8    0     0 -5.970001 -0.089230\n",
      "9      9    0     0  7.970333 -0.281339\n",
      "   stock  day  time    target      pred\n",
      "0      0    0     0 -3.029704 -0.116263\n",
      "1      1    0     0 -5.519986 -0.063027\n",
      "2      2    0     0 -8.389950 -0.104350\n",
      "3      3    0     0 -4.010201 -0.207706\n",
      "4      4    0     0 -7.349849 -0.216381\n",
      "5      5    0     0  6.779432  0.008796\n",
      "6      6    0     0 -2.499819 -0.007857\n",
      "7      7    0     0 -1.959801  0.091431\n",
      "8      8    0     0 -5.970001 -0.092455\n",
      "9      9    0     0  7.970333 -0.246159\n",
      "   stock  day  time    target      pred\n",
      "0      0    0     0 -3.029704 -0.116159\n",
      "1      1    0     0 -5.519986 -0.020097\n",
      "2      2    0     0 -8.389950 -0.121646\n",
      "3      3    0     0 -4.010201 -0.198516\n",
      "4      4    0     0 -7.349849 -0.209919\n",
      "5      5    0     0  6.779432  0.021036\n",
      "6      6    0     0 -2.499819  0.011246\n",
      "7      7    0     0 -1.959801  0.096829\n",
      "8      8    0     0 -5.970001 -0.100834\n",
      "9      9    0     0  7.970333 -0.239710\n",
      "   stock  day  time    target      pred\n",
      "0      0    0     0 -3.029704 -0.116717\n",
      "1      1    0     0 -5.519986 -0.041402\n",
      "2      2    0     0 -8.389950 -0.145755\n",
      "3      3    0     0 -4.010201 -0.181175\n",
      "4      4    0     0 -7.349849 -0.247586\n",
      "5      5    0     0  6.779432  0.023888\n",
      "6      6    0     0 -2.499819  0.022715\n",
      "7      7    0     0 -1.959801  0.101428\n",
      "8      8    0     0 -5.970001 -0.081683\n",
      "9      9    0     0  7.970333 -0.276435\n",
      "   stock  day  time    target      pred\n",
      "0      0    0     0 -3.029704 -0.117972\n",
      "1      1    0     0 -5.519986 -0.088626\n",
      "2      2    0     0 -8.389950 -0.153209\n",
      "3      3    0     0 -4.010201 -0.163329\n",
      "4      4    0     0 -7.349849 -0.244778\n",
      "5      5    0     0  6.779432  0.012810\n",
      "6      6    0     0 -2.499819  0.018687\n",
      "7      7    0     0 -1.959801  0.104981\n",
      "8      8    0     0 -5.970001 -0.109305\n",
      "9      9    0     0  7.970333 -0.281917\n",
      "   stock  day  time    target      pred\n",
      "0      0    0     0 -3.029704 -0.119957\n",
      "1      1    0     0 -5.519986 -0.093033\n",
      "2      2    0     0 -8.389950 -0.131698\n",
      "3      3    0     0 -4.010201 -0.149602\n",
      "4      4    0     0 -7.349849 -0.208759\n",
      "5      5    0     0  6.779432  0.006777\n",
      "6      6    0     0 -2.499819  0.002171\n",
      "7      7    0     0 -1.959801  0.107265\n",
      "8      8    0     0 -5.970001 -0.078352\n",
      "9      9    0     0  7.970333 -0.246145\n",
      "   stock  day  time    target      pred\n",
      "0      0    0     0 -3.029704 -0.122392\n",
      "1      1    0     0 -5.519986 -0.050988\n",
      "2      2    0     0 -8.389950 -0.108765\n",
      "3      3    0     0 -4.010201 -0.146657\n",
      "4      4    0     0 -7.349849 -0.225320\n",
      "5      5    0     0  6.779432  0.015974\n",
      "6      6    0     0 -2.499819 -0.016295\n",
      "7      7    0     0 -1.959801  0.108019\n",
      "8      8    0     0 -5.970001 -0.109357\n",
      "9      9    0     0  7.970333 -0.247924\n",
      "   stock  day  time    target      pred\n",
      "0      0    0     0 -3.029704 -0.125023\n",
      "1      1    0     0 -5.519986 -0.019822\n",
      "2      2    0     0 -8.389950 -0.111719\n",
      "3      3    0     0 -4.010201 -0.156065\n",
      "4      4    0     0 -7.349849 -0.256182\n",
      "5      5    0     0  6.779432  0.024608\n",
      "6      6    0     0 -2.499819 -0.029887\n",
      "7      7    0     0 -1.959801  0.106966\n",
      "8      8    0     0 -5.970001 -0.082678\n",
      "9      9    0     0  7.970333 -0.284102\n",
      "   stock  day  time    target      pred\n",
      "0      0    0     0 -3.029704 -0.127690\n",
      "1      1    0     0 -5.519986 -0.050737\n",
      "2      2    0     0 -8.389950 -0.136255\n",
      "3      3    0     0 -4.010201 -0.173368\n",
      "4      4    0     0 -7.349849 -0.224541\n",
      "5      5    0     0  6.779432  0.018203\n",
      "6      6    0     0 -2.499819 -0.030425\n",
      "7      7    0     0 -1.959801  0.103896\n",
      "8      8    0     0 -5.970001 -0.101730\n",
      "9      9    0     0  7.970333 -0.268655\n",
      "   stock  day  time    target      pred\n",
      "0      0    0     0 -3.029704 -0.130173\n",
      "1      1    0     0 -5.519986 -0.092958\n",
      "2      2    0     0 -8.389950 -0.152927\n",
      "3      3    0     0 -4.010201 -0.191210\n",
      "4      4    0     0 -7.349849 -0.209175\n",
      "5      5    0     0  6.779432  0.007749\n",
      "6      6    0     0 -2.499819 -0.016853\n",
      "7      7    0     0 -1.959801  0.098970\n",
      "8      8    0     0 -5.970001 -0.091189\n",
      "9      9    0     0  7.970333 -0.240881\n",
      "   stock  day  time    target      pred\n",
      "0      0    0     0 -3.029704 -0.132286\n",
      "1      1    0     0 -5.519986 -0.087671\n",
      "2      2    0     0 -8.389950 -0.140511\n",
      "3      3    0     0 -4.010201 -0.203389\n",
      "4      4    0     0 -7.349849 -0.245286\n",
      "5      5    0     0  6.779432  0.010673\n",
      "6      6    0     0 -2.499819  0.002115\n",
      "7      7    0     0 -1.959801  0.092773\n",
      "8      8    0     0 -5.970001 -0.091695\n",
      "9      9    0     0  7.970333 -0.265095\n",
      "   stock  day  time    target      pred\n",
      "0      0    0     0 -3.029704 -0.134004\n",
      "1      1    0     0 -5.519986 -0.045051\n",
      "2      2    0     0 -8.389950 -0.114886\n",
      "3      3    0     0 -4.010201 -0.200322\n",
      "4      4    0     0 -7.349849 -0.244553\n",
      "5      5    0     0  6.779432  0.021852\n",
      "6      6    0     0 -2.499819  0.018232\n",
      "7      7    0     0 -1.959801  0.085893\n",
      "8      8    0     0 -5.970001 -0.100597\n",
      "9      9    0     0  7.970333 -0.285141\n",
      "   stock  day  time    target      pred\n",
      "0      0    0     0 -3.029704 -0.135245\n",
      "1      1    0     0 -5.519986 -0.021417\n",
      "2      2    0     0 -8.389950 -0.107667\n",
      "3      3    0     0 -4.010201 -0.182872\n",
      "4      4    0     0 -7.349849 -0.209083\n",
      "5      5    0     0  6.779432  0.022786\n",
      "6      6    0     0 -2.499819  0.024658\n",
      "7      7    0     0 -1.959801  0.078703\n",
      "8      8    0     0 -5.970001 -0.082701\n",
      "9      9    0     0  7.970333 -0.251144\n",
      "   stock  day  time    target      pred\n",
      "0      0    0     0 -3.029704 -0.135729\n",
      "1      1    0     0 -5.519986 -0.055594\n",
      "2      2    0     0 -8.389950 -0.129229\n",
      "3      3    0     0 -4.010201 -0.163691\n",
      "4      4    0     0 -7.349849 -0.227453\n",
      "5      5    0     0  6.779432  0.012144\n",
      "6      6    0     0 -2.499819  0.016189\n",
      "7      7    0     0 -1.959801  0.071513\n",
      "8      8    0     0 -5.970001 -0.108125\n",
      "9      9    0     0  7.970333 -0.246740\n",
      "   stock  day  time    target      pred\n",
      "0      0    0     0 -3.029704 -0.135291\n",
      "1      1    0     0 -5.519986 -0.094269\n",
      "2      2    0     0 -8.389950 -0.150324\n",
      "3      3    0     0 -4.010201 -0.149747\n",
      "4      4    0     0 -7.349849 -0.255704\n",
      "5      5    0     0  6.779432  0.007370\n",
      "6      6    0     0 -2.499819 -0.001169\n",
      "7      7    0     0 -1.959801  0.064543\n",
      "8      8    0     0 -5.970001 -0.078920\n",
      "9      9    0     0  7.970333 -0.282540\n",
      "   stock  day  time    target      pred\n",
      "0      0    0     0 -3.029704 -0.134124\n",
      "1      1    0     0 -5.519986 -0.084603\n",
      "2      2    0     0 -8.389950 -0.146217\n",
      "3      3    0     0 -4.010201 -0.148506\n",
      "4      4    0     0 -7.349849 -0.221492\n",
      "5      5    0     0  6.779432  0.016354\n",
      "6      6    0     0 -2.499819 -0.018871\n",
      "7      7    0     0 -1.959801  0.057996\n",
      "8      8    0     0 -5.970001 -0.109600\n",
      "9      9    0     0  7.970333 -0.268347\n",
      "   stock  day  time    target      pred\n",
      "0      0    0     0 -3.029704 -0.132510\n",
      "1      1    0     0 -5.519986 -0.042291\n",
      "2      2    0     0 -8.389950 -0.120507\n",
      "3      3    0     0 -4.010201 -0.160227\n",
      "4      4    0     0 -7.349849 -0.211462\n",
      "5      5    0     0  6.779432  0.024252\n",
      "6      6    0     0 -2.499819 -0.031177\n",
      "7      7    0     0 -1.959801  0.052185\n",
      "8      8    0     0 -5.970001 -0.081424\n",
      "9      9    0     0  7.970333 -0.241484\n",
      "   stock  day  time    target      pred\n",
      "0      0    0     0 -3.029704 -0.130562\n",
      "1      1    0     0 -5.519986 -0.022662\n",
      "2      2    0     0 -8.389950 -0.106451\n",
      "3      3    0     0 -4.010201 -0.178657\n",
      "4      4    0     0 -7.349849 -0.248410\n",
      "5      5    0     0  6.779432  0.018107\n",
      "6      6    0     0 -2.499819 -0.030289\n",
      "7      7    0     0 -1.959801  0.047486\n",
      "8      8    0     0 -5.970001 -0.104291\n",
      "9      9    0     0  7.970333 -0.266888\n",
      "   stock  day  time    target      pred\n",
      "0      0    0     0 -3.029704 -0.128328\n",
      "1      1    0     0 -5.519986 -0.057896\n",
      "2      2    0     0 -8.389950 -0.123480\n",
      "3      3    0     0 -4.010201 -0.195839\n",
      "4      4    0     0 -7.349849 -0.240003\n",
      "5      5    0     0  6.779432  0.008108\n",
      "6      6    0     0 -2.499819 -0.016219\n",
      "7      7    0     0 -1.959801  0.044405\n",
      "8      8    0     0 -5.970001 -0.088137\n",
      "9      9    0     0  7.970333 -0.283412\n",
      "   stock  day  time    target      pred\n",
      "0      0    0     0 -3.029704 -0.125938\n",
      "1      1    0     0 -5.519986 -0.094584\n",
      "2      2    0     0 -8.389950 -0.146984\n",
      "3      3    0     0 -4.010201 -0.204070\n",
      "4      4    0     0 -7.349849 -0.207937\n",
      "5      5    0     0  6.779432  0.010579\n",
      "6      6    0     0 -2.499819  0.002598\n",
      "7      7    0     0 -1.959801  0.043486\n",
      "8      8    0     0 -5.970001 -0.095467\n",
      "9      9    0     0  7.970333 -0.249068\n",
      "   stock  day  time    target      pred\n",
      "0      0    0     0 -3.029704 -0.123538\n",
      "1      1    0     0 -5.519986 -0.083124\n",
      "2      2    0     0 -8.389950 -0.149979\n",
      "3      3    0     0 -4.010201 -0.194064\n",
      "4      4    0     0 -7.349849 -0.232127\n",
      "5      5    0     0  6.779432  0.021333\n",
      "6      6    0     0 -2.499819  0.018488\n",
      "7      7    0     0 -1.959801  0.045113\n",
      "8      8    0     0 -5.970001 -0.097016\n",
      "9      9    0     0  7.970333 -0.249527\n",
      "   stock  day  time    target      pred\n",
      "0      0    0     0 -3.029704 -0.121234\n",
      "1      1    0     0 -5.519986 -0.041211\n",
      "2      2    0     0 -8.389950 -0.125827\n",
      "3      3    0     0 -4.010201 -0.174632\n",
      "4      4    0     0 -7.349849 -0.254502\n",
      "5      5    0     0  6.779432  0.022916\n",
      "6      6    0     0 -2.499819  0.024849\n",
      "7      7    0     0 -1.959801  0.049233\n",
      "8      8    0     0 -5.970001 -0.085942\n",
      "9      9    0     0  7.970333 -0.284290\n"
     ]
    },
    {
     "name": "stderr",
     "output_type": "stream",
     "text": [
      "Traceback (most recent call last):\n",
      "  File \"c:\\Users\\Nick\\.conda\\envs\\python311\\Lib\\site-packages\\torch\\serialization.py\", line 441, in save\n",
      "    _save(obj, opened_zipfile, pickle_module, pickle_protocol)\n",
      "  File \"c:\\Users\\Nick\\.conda\\envs\\python311\\Lib\\site-packages\\torch\\serialization.py\", line 668, in _save\n",
      "    zip_file.write_record(name, storage.data_ptr(), num_bytes)\n",
      "RuntimeError: [enforce fail at ..\\caffe2\\serialize\\inline_container.cc:476] . PytorchStreamWriter failed writing file data/8: file write failed\n",
      "\n",
      "During handling of the above exception, another exception occurred:\n",
      "\n",
      "Traceback (most recent call last):\n",
      "  File \"C:\\Users\\Nick\\AppData\\Local\\Temp\\ipykernel_5684\\2975916650.py\", line 15, in model_pipeline\n",
      "    training_testing.train_model(trading_df,model,config,optimizer,criterion)\n",
      "  File \"c:\\Users\\Nick\\Documents\\GitHub\\OptiverKaggle\\training_testing.py\", line 78, in train_model\n",
      "    model_saver(model,optimizer,epoch,0,0,trading_df.train_hidden_dict)\n",
      "  File \"c:\\Users\\Nick\\Documents\\GitHub\\OptiverKaggle\\model_saver.py\", line 50, in model_saver_wandb\n",
      "    torch.save(\n",
      "  File \"c:\\Users\\Nick\\.conda\\envs\\python311\\Lib\\site-packages\\torch\\serialization.py\", line 440, in save\n",
      "    with _open_zipfile_writer(f) as opened_zipfile:\n",
      "  File \"c:\\Users\\Nick\\.conda\\envs\\python311\\Lib\\site-packages\\torch\\serialization.py\", line 291, in __exit__\n",
      "    self.file_like.write_end_of_file()\n",
      "RuntimeError: [enforce fail at ..\\caffe2\\serialize\\inline_container.cc:337] . unexpected pos 218524864 vs 218524752\n"
     ]
    },
    {
     "data": {
      "text/html": [
       "Waiting for W&B process to finish... <strong style=\"color:red\">(failed 1).</strong> Press Ctrl-C to abort syncing."
      ],
      "text/plain": [
       "<IPython.core.display.HTML object>"
      ]
     },
     "metadata": {},
     "output_type": "display_data"
    },
    {
     "data": {
      "application/vnd.jupyter.widget-view+json": {
       "model_id": "f5fc061425cb4ffdafac5756b4f8eede",
       "version_major": 2,
       "version_minor": 0
      },
      "text/plain": [
       "VBox(children=(Label(value='42.347 MB of 42.347 MB uploaded (0.000 MB deduped)\\r'), FloatProgress(value=1.0, m…"
      ]
     },
     "metadata": {},
     "output_type": "display_data"
    },
    {
     "data": {
      "text/html": [
       "<style>\n",
       "    table.wandb td:nth-child(1) { padding: 0 10px; text-align: left ; width: auto;} td:nth-child(2) {text-align: left ; width: 100%}\n",
       "    .wandb-row { display: flex; flex-direction: row; flex-wrap: wrap; justify-content: flex-start; width: 100% }\n",
       "    .wandb-col { display: flex; flex-direction: column; flex-basis: 100%; flex: 1; padding: 10px; }\n",
       "    </style>\n",
       "<div class=\"wandb-row\"><div class=\"wandb-col\"><h3>Run history:</h3><br/><table class=\"wandb\"><tr><td>epoch</td><td>▁▁▁▂▂▂▂▂▂▃▃▃▃▃▃▄▄▄▄▄▅▅▅▅▅▅▆▆▆▆▆▇▇▇▇▇▇███</td></tr><tr><td>epoch_l1_loss</td><td>█▂▃▃▃▂▃▂▂▁▂▂▂▁▂▂▁▂▁▁▁▁▁▁▁▁▁▁▁▁▁▁▁▁▁▁▁▁▁▁</td></tr><tr><td>epoch_loss</td><td>█▂▃▃▂▂▂▂▂▁▂▁▂▁▁▁▁▁▁▁▁▁▁▁▁▁▁▁▁▁▁▁▁▁▁▁▁▁▁▁</td></tr><tr><td>loss_1</td><td>█▁█▃▁▃▁█▃▁▃▁█▃▁▃▁█▃▁▃▁█▃▁▃▁█▃▁▃▁█▃▁▃▁█▃▁</td></tr><tr><td>relu</td><td>▁▁▁▁▁▂▂▂▂▂▂▃▃▃▃▃▄▄▄▄▄▄▅▅▅▅▅▆▆▆▆▆▇▇▇▇▇███</td></tr><tr><td>val_epoch_loss</td><td>▇█▆█▅▅▆▅▄▃▃▄▃▂▅▂▁▃▂▃▂▂▄▂▂▂▂▃▂▁▂▃▃▂▂▂▂▂▂▂</td></tr><tr><td>val_epoch_loss_l1</td><td>▆█▇▆▇▄▇▂▄▃▃▅▃▃▆▃▂▃▂▃▃▂▄▂▃▄▃▄▃▁▁▃▄▃▂▁▃▄▄▄</td></tr><tr><td>val_relu</td><td>▁▁▁▁▁▂▂▂▂▂▂▃▃▃▃▃▄▄▄▄▄▄▅▅▅▅▅▆▆▆▆▆▇▇▇▇▇███</td></tr></table><br/></div><div class=\"wandb-col\"><h3>Run summary:</h3><br/><table class=\"wandb\"><tr><td>epoch</td><td>380</td></tr><tr><td>epoch_loss</td><td>5.93949</td></tr><tr><td>loss_1</td><td>5.89194</td></tr><tr><td>relu</td><td>1398.18811</td></tr><tr><td>val_epoch_loss</td><td>5.02994</td></tr><tr><td>val_relu</td><td>343.71304</td></tr></table><br/></div></div>"
      ],
      "text/plain": [
       "<IPython.core.display.HTML object>"
      ]
     },
     "metadata": {},
     "output_type": "display_data"
    },
    {
     "data": {
      "text/html": [
       " View run <strong style=\"color:#cdcd00\">hardy-sweep-1</strong> at: <a href='https://wandb.ai/nickojelly/Optiver%20Sweeps/runs/6i4sjakd' target=\"_blank\">https://wandb.ai/nickojelly/Optiver%20Sweeps/runs/6i4sjakd</a><br/>Synced 5 W&B file(s), 39 media file(s), 39 artifact file(s) and 0 other file(s)"
      ],
      "text/plain": [
       "<IPython.core.display.HTML object>"
      ]
     },
     "metadata": {},
     "output_type": "display_data"
    },
    {
     "data": {
      "text/html": [
       "Find logs at: <code>.\\wandb\\run-20231011_174425-6i4sjakd\\logs</code>"
      ],
      "text/plain": [
       "<IPython.core.display.HTML object>"
      ]
     },
     "metadata": {},
     "output_type": "display_data"
    },
    {
     "name": "stderr",
     "output_type": "stream",
     "text": [
      "Run 6i4sjakd errored: RuntimeError('[enforce fail at ..\\\\caffe2\\\\serialize\\\\inline_container.cc:337] . unexpected pos 218524864 vs 218524752')\n",
      "\u001b[34m\u001b[1mwandb\u001b[0m: \u001b[32m\u001b[41mERROR\u001b[0m Run 6i4sjakd errored: RuntimeError('[enforce fail at ..\\\\caffe2\\\\serialize\\\\inline_container.cc:337] . unexpected pos 218524864 vs 218524752')\n",
      "\u001b[34m\u001b[1mwandb\u001b[0m: Agent Starting Run: v564qfco with config:\n",
      "\u001b[34m\u001b[1mwandb\u001b[0m: \tbatch_norm: 2\n",
      "\u001b[34m\u001b[1mwandb\u001b[0m: \tf0_layer_size: 128\n",
      "\u001b[34m\u001b[1mwandb\u001b[0m: \tf1_layer_size: 64\n",
      "\u001b[34m\u001b[1mwandb\u001b[0m: \thidden_size: 8\n",
      "\u001b[34m\u001b[1mwandb\u001b[0m: \tlearning_rate: 0.0007511194829447748\n",
      "\u001b[34m\u001b[1mwandb\u001b[0m: \tnum_layers: 4\n",
      "\u001b[34m\u001b[1mwandb\u001b[0m: \toptimizer: adam\n",
      "Failed to detect the name of this notebook, you can set it manually with the WANDB_NOTEBOOK_NAME environment variable to enable code saving.\n",
      "\u001b[34m\u001b[1mwandb\u001b[0m: \u001b[33mWARNING\u001b[0m Ignored wandb.init() arg project when running a sweep.\n"
     ]
    },
    {
     "data": {
      "text/html": [
       "wandb version 0.15.12 is available!  To upgrade, please run:\n",
       " $ pip install wandb --upgrade"
      ],
      "text/plain": [
       "<IPython.core.display.HTML object>"
      ]
     },
     "metadata": {},
     "output_type": "display_data"
    },
    {
     "data": {
      "text/html": [
       "Tracking run with wandb version 0.15.11"
      ],
      "text/plain": [
       "<IPython.core.display.HTML object>"
      ]
     },
     "metadata": {},
     "output_type": "display_data"
    },
    {
     "data": {
      "text/html": [
       "Run data is saved locally in <code>c:\\Users\\Nick\\Documents\\GitHub\\OptiverKaggle\\wandb\\run-20231011_211442-v564qfco</code>"
      ],
      "text/plain": [
       "<IPython.core.display.HTML object>"
      ]
     },
     "metadata": {},
     "output_type": "display_data"
    },
    {
     "data": {
      "text/html": [
       "Syncing run <strong><a href='https://wandb.ai/nickojelly/Optiver%20Sweeps/runs/v564qfco' target=\"_blank\">zany-sweep-2</a></strong> to <a href='https://wandb.ai/nickojelly/Optiver%20Sweeps' target=\"_blank\">Weights & Biases</a> (<a href='https://wandb.me/run' target=\"_blank\">docs</a>)<br/>Sweep page: <a href='https://wandb.ai/nickojelly/Optiver%20Sweeps/sweeps/cpggp1nz' target=\"_blank\">https://wandb.ai/nickojelly/Optiver%20Sweeps/sweeps/cpggp1nz</a>"
      ],
      "text/plain": [
       "<IPython.core.display.HTML object>"
      ]
     },
     "metadata": {},
     "output_type": "display_data"
    },
    {
     "data": {
      "text/html": [
       " View project at <a href='https://wandb.ai/nickojelly/Optiver%20Sweeps' target=\"_blank\">https://wandb.ai/nickojelly/Optiver%20Sweeps</a>"
      ],
      "text/plain": [
       "<IPython.core.display.HTML object>"
      ]
     },
     "metadata": {},
     "output_type": "display_data"
    },
    {
     "data": {
      "text/html": [
       " View sweep at <a href='https://wandb.ai/nickojelly/Optiver%20Sweeps/sweeps/cpggp1nz' target=\"_blank\">https://wandb.ai/nickojelly/Optiver%20Sweeps/sweeps/cpggp1nz</a>"
      ],
      "text/plain": [
       "<IPython.core.display.HTML object>"
      ]
     },
     "metadata": {},
     "output_type": "display_data"
    },
    {
     "data": {
      "text/html": [
       " View run at <a href='https://wandb.ai/nickojelly/Optiver%20Sweeps/runs/v564qfco' target=\"_blank\">https://wandb.ai/nickojelly/Optiver%20Sweeps/runs/v564qfco</a>"
      ],
      "text/plain": [
       "<IPython.core.display.HTML object>"
      ]
     },
     "metadata": {},
     "output_type": "display_data"
    },
    {
     "name": "stdout",
     "output_type": "stream",
     "text": [
      "GRUNetV2(\n",
      "  (gru): GRU(80, 8, num_layers=4, dropout=0.3)\n",
      "  (relu0): ReLU()\n",
      "  (batch_norm): BatchNorm1d(80, eps=1e-05, momentum=0.1, affine=True, track_running_stats=True)\n",
      "  (batch_norm2): LayerNorm((1600,), eps=1e-05, elementwise_affine=True)\n",
      "  (fc0): Linear(in_features=1600, out_features=1024, bias=True)\n",
      "  (rl1): ReLU()\n",
      "  (drop1): Dropout(p=0.3, inplace=False)\n",
      "  (fc1): Linear(in_features=1024, out_features=200, bias=True)\n",
      "  (rl2): ReLU()\n",
      "  (drop2): Dropout(p=0.3, inplace=False)\n",
      "  (fc2): Linear(in_features=640, out_features=200, bias=True)\n",
      "  (rl3): ReLU()\n",
      "  (drop3): Dropout(p=0.3, inplace=False)\n",
      "  (fc3): Linear(in_features=200, out_features=200, bias=True)\n",
      ")\n"
     ]
    },
    {
     "data": {
      "application/vnd.jupyter.widget-view+json": {
       "model_id": "879bd83c46f940599d3d51bde770b9ee",
       "version_major": 2,
       "version_minor": 0
      },
      "text/plain": [
       "  0%|          | 0/500 [00:00<?, ?it/s]"
      ]
     },
     "metadata": {},
     "output_type": "display_data"
    },
    {
     "name": "stdout",
     "output_type": "stream",
     "text": [
      "   stock  day  time    target      pred\n",
      "0      0    0     0 -3.029704 -0.251731\n",
      "1      1    0     0 -5.519986  0.185152\n",
      "2      2    0     0 -8.389950 -0.155431\n",
      "3      3    0     0 -4.010201 -0.287535\n",
      "4      4    0     0 -7.349849 -0.331181\n",
      "5      5    0     0  6.779432  0.006414\n",
      "6      6    0     0 -2.499819  0.054896\n",
      "7      7    0     0 -1.959801  0.069959\n",
      "8      8    0     0 -5.970001 -0.172863\n",
      "9      9    0     0  7.970333 -0.398394\n",
      "created path\n",
      "   stock  day  time    target      pred\n",
      "0      0    0     0 -3.029704 -0.244775\n",
      "1      1    0     0 -5.519986 -0.192116\n",
      "2      2    0     0 -8.389950 -0.214155\n",
      "3      3    0     0 -4.010201 -0.326412\n",
      "4      4    0     0 -7.349849 -0.148378\n",
      "5      5    0     0  6.779432  0.023412\n",
      "6      6    0     0 -2.499819 -0.151602\n",
      "7      7    0     0 -1.959801 -0.095105\n",
      "8      8    0     0 -5.970001 -0.197621\n",
      "9      9    0     0  7.970333 -0.115936\n",
      "   stock  day  time    target      pred\n",
      "0      0    0     0 -3.029704 -0.240954\n",
      "1      1    0     0 -5.519986  0.116754\n",
      "2      2    0     0 -8.389950  0.041809\n",
      "3      3    0     0 -4.010201 -0.065051\n",
      "4      4    0     0 -7.349849 -0.254967\n",
      "5      5    0     0  6.779432  0.061064\n",
      "6      6    0     0 -2.499819 -0.000400\n",
      "7      7    0     0 -1.959801  0.087399\n",
      "8      8    0     0 -5.970001 -0.118421\n",
      "9      9    0     0  7.970333 -0.246543\n",
      "   stock  day  time    target      pred\n",
      "0      0    0     0 -3.029704 -0.241003\n",
      "1      1    0     0 -5.519986 -0.170572\n",
      "2      2    0     0 -8.389950 -0.173065\n",
      "3      3    0     0 -4.010201 -0.154695\n",
      "4      4    0     0 -7.349849 -0.418673\n",
      "5      5    0     0  6.779432  0.026384\n",
      "6      6    0     0 -2.499819  0.103934\n",
      "7      7    0     0 -1.959801  0.140878\n",
      "8      8    0     0 -5.970001  0.004568\n",
      "9      9    0     0  7.970333 -0.430643\n",
      "   stock  day  time    target      pred\n",
      "0      0    0     0 -3.029704 -0.241377\n",
      "1      1    0     0 -5.519986  0.098187\n",
      "2      2    0     0 -8.389950 -0.213035\n",
      "3      3    0     0 -4.010201 -0.339675\n",
      "4      4    0     0 -7.349849 -0.147186\n",
      "5      5    0     0  6.779432 -0.013935\n",
      "6      6    0     0 -2.499819 -0.160659\n",
      "7      7    0     0 -1.959801 -0.102816\n",
      "8      8    0     0 -5.970001 -0.169170\n",
      "9      9    0     0  7.970333 -0.142439\n"
     ]
    },
    {
     "name": "stderr",
     "output_type": "stream",
     "text": [
      "Traceback (most recent call last):\n",
      "  File \"C:\\Users\\Nick\\AppData\\Local\\Temp\\ipykernel_5684\\2975916650.py\", line 15, in model_pipeline\n",
      "    training_testing.train_model(trading_df,model,config,optimizer,criterion)\n",
      "  File \"c:\\Users\\Nick\\Documents\\GitHub\\OptiverKaggle\\training_testing.py\", line 75, in train_model\n",
      "    validate_model(trading_df,model,criterion,epoch)\n",
      "  File \"c:\\Users\\Nick\\.conda\\envs\\python311\\Lib\\site-packages\\torch\\utils\\_contextlib.py\", line 115, in decorate_context\n",
      "    return func(*args, **kwargs)\n",
      "           ^^^^^^^^^^^^^^^^^^^^^\n",
      "  File \"c:\\Users\\Nick\\Documents\\GitHub\\OptiverKaggle\\training_testing.py\", line 173, in validate_model\n",
      "    wandb.log({'data_table':log_dict})\n",
      "  File \"c:\\Users\\Nick\\.conda\\envs\\python311\\Lib\\site-packages\\wandb\\sdk\\wandb_run.py\", line 419, in wrapper\n",
      "    return func(self, *args, **kwargs)\n",
      "           ^^^^^^^^^^^^^^^^^^^^^^^^^^^\n",
      "  File \"c:\\Users\\Nick\\.conda\\envs\\python311\\Lib\\site-packages\\wandb\\sdk\\wandb_run.py\", line 370, in wrapper_fn\n",
      "    return func(self, *args, **kwargs)\n",
      "           ^^^^^^^^^^^^^^^^^^^^^^^^^^^\n",
      "  File \"c:\\Users\\Nick\\.conda\\envs\\python311\\Lib\\site-packages\\wandb\\sdk\\wandb_run.py\", line 360, in wrapper\n",
      "    return func(self, *args, **kwargs)\n",
      "           ^^^^^^^^^^^^^^^^^^^^^^^^^^^\n",
      "  File \"c:\\Users\\Nick\\.conda\\envs\\python311\\Lib\\site-packages\\wandb\\sdk\\wandb_run.py\", line 1792, in log\n",
      "    self._log(data=data, step=step, commit=commit)\n",
      "  File \"c:\\Users\\Nick\\.conda\\envs\\python311\\Lib\\site-packages\\wandb\\sdk\\wandb_run.py\", line 1567, in _log\n",
      "    self._partial_history_callback(data, step, commit)\n",
      "  File \"c:\\Users\\Nick\\.conda\\envs\\python311\\Lib\\site-packages\\wandb\\sdk\\wandb_run.py\", line 1439, in _partial_history_callback\n",
      "    self._backend.interface.publish_partial_history(\n",
      "  File \"c:\\Users\\Nick\\.conda\\envs\\python311\\Lib\\site-packages\\wandb\\sdk\\interface\\interface.py\", line 528, in publish_partial_history\n",
      "    data = history_dict_to_json(run, data, step=user_step, ignore_copy_err=True)\n",
      "           ^^^^^^^^^^^^^^^^^^^^^^^^^^^^^^^^^^^^^^^^^^^^^^^^^^^^^^^^^^^^^^^^^^^^^\n",
      "  File \"c:\\Users\\Nick\\.conda\\envs\\python311\\Lib\\site-packages\\wandb\\sdk\\data_types\\utils.py\", line 52, in history_dict_to_json\n",
      "    payload[key] = val_to_json(\n",
      "                   ^^^^^^^^^^^^\n",
      "  File \"c:\\Users\\Nick\\.conda\\envs\\python311\\Lib\\site-packages\\wandb\\sdk\\data_types\\utils.py\", line 164, in val_to_json\n",
      "    val.bind_to_run(run, key, namespace)\n",
      "  File \"c:\\Users\\Nick\\.conda\\envs\\python311\\Lib\\site-packages\\wandb\\data_types.py\", line 541, in bind_to_run\n",
      "    with codecs.open(tmp_path, \"w\", encoding=\"utf-8\") as fp:\n",
      "         ^^^^^^^^^^^^^^^^^^^^^^^^^^^^^^^^^^^^^^^^^^^^\n",
      "  File \"<frozen codecs>\", line 906, in open\n",
      "FileNotFoundError: [Errno 2] No such file or directory: 'C:\\\\Users\\\\Nick\\\\AppData\\\\Local\\\\Temp\\\\tmpv64bugu_wandb-media\\\\d8ntspte.table.json'\n"
     ]
    },
    {
     "data": {
      "text/html": [
       "Waiting for W&B process to finish... <strong style=\"color:red\">(failed 1).</strong> Press Ctrl-C to abort syncing."
      ],
      "text/plain": [
       "<IPython.core.display.HTML object>"
      ]
     },
     "metadata": {},
     "output_type": "display_data"
    },
    {
     "data": {
      "text/html": [
       "<style>\n",
       "    table.wandb td:nth-child(1) { padding: 0 10px; text-align: left ; width: auto;} td:nth-child(2) {text-align: left ; width: 100%}\n",
       "    .wandb-row { display: flex; flex-direction: row; flex-wrap: wrap; justify-content: flex-start; width: 100% }\n",
       "    .wandb-col { display: flex; flex-direction: column; flex-basis: 100%; flex: 1; padding: 10px; }\n",
       "    </style>\n",
       "<div class=\"wandb-row\"><div class=\"wandb-col\"><h3>Run history:</h3><br/><table class=\"wandb\"><tr><td>epoch</td><td>▁▁▁▂▂▂▂▂▂▃▃▃▃▃▃▄▄▄▄▄▅▅▅▅▅▅▆▆▆▆▆▇▇▇▇▇▇███</td></tr><tr><td>epoch_l1_loss</td><td>█▂▁▁▁▁▂▁▁▁▁▁▁▁▁▁▁▁▁▁▁▁▁▁▁▁▁▁▁▁▁▁▁▁▁▁▁▁▁▁</td></tr><tr><td>epoch_loss</td><td>█▂▁▁▁▁▂▁▁▁▁▁▁▁▁▁▁▁▁▁▁▁▁▁▁▁▁▁▁▁▁▁▁▁▁▁▁▁▁▁</td></tr><tr><td>loss_1</td><td>████████▁▁▁▁▁▁▁▁▃▃▃▃▃▃▃▃████████▁▁▁▁▁▁▁▃</td></tr><tr><td>relu</td><td>▁▁▁▁▂▂▂▃▃▃▃▃▃▃▄▄▄▄▄▄▅▅▅▅▅▅▆▆▆▆▆▆▇▇▇▇▇▇██</td></tr><tr><td>val_epoch_loss</td><td>▂█▂▂▅▂▂▆▂▂▄▃▂▄▂▃▄▂▂▄▁▃▅▂▂▅▂▂▄▃▂▄▂▃▄▂▃▅▁▄</td></tr><tr><td>val_epoch_loss_l1</td><td>█▆▃▅▄▃▂▃▅▄▄▄▃▃▄▅▁▂▅▃▁▄▃▄▅▄▂▃▄▄▃▂▂▅▂▄▅▃▃▂</td></tr><tr><td>val_relu</td><td>▁▁▁▁▂▂▂▂▃▃▃▃▃▃▃▃▄▄▄▄▄▄▅▅▅▅▅▅▅▆▆▆▆▆▇▇▇▇▇█</td></tr></table><br/></div><div class=\"wandb-col\"><h3>Run summary:</h3><br/><table class=\"wandb\"><tr><td>epoch</td><td>40</td></tr><tr><td>epoch_loss</td><td>5.94059</td></tr><tr><td>loss_1</td><td>5.89394</td></tr><tr><td>relu</td><td>744.29041</td></tr><tr><td>val_epoch_loss</td><td>5.03124</td></tr><tr><td>val_relu</td><td>197.11377</td></tr></table><br/></div></div>"
      ],
      "text/plain": [
       "<IPython.core.display.HTML object>"
      ]
     },
     "metadata": {},
     "output_type": "display_data"
    },
    {
     "data": {
      "text/html": [
       " View run <strong style=\"color:#cdcd00\">zany-sweep-2</strong> at: <a href='https://wandb.ai/nickojelly/Optiver%20Sweeps/runs/v564qfco' target=\"_blank\">https://wandb.ai/nickojelly/Optiver%20Sweeps/runs/v564qfco</a><br/>Synced 5 W&B file(s), 4 media file(s), 5 artifact file(s) and 0 other file(s)"
      ],
      "text/plain": [
       "<IPython.core.display.HTML object>"
      ]
     },
     "metadata": {},
     "output_type": "display_data"
    },
    {
     "data": {
      "text/html": [
       "Find logs at: <code>.\\wandb\\run-20231011_211442-v564qfco\\logs</code>"
      ],
      "text/plain": [
       "<IPython.core.display.HTML object>"
      ]
     },
     "metadata": {},
     "output_type": "display_data"
    },
    {
     "name": "stderr",
     "output_type": "stream",
     "text": [
      "Run v564qfco errored: FileNotFoundError(2, 'No such file or directory')\n",
      "\u001b[34m\u001b[1mwandb\u001b[0m: \u001b[32m\u001b[41mERROR\u001b[0m Run v564qfco errored: FileNotFoundError(2, 'No such file or directory')\n",
      "\u001b[34m\u001b[1mwandb\u001b[0m: Agent Starting Run: pi7ew8r0 with config:\n",
      "\u001b[34m\u001b[1mwandb\u001b[0m: \tbatch_norm: 0\n",
      "\u001b[34m\u001b[1mwandb\u001b[0m: \tf0_layer_size: 128\n",
      "\u001b[34m\u001b[1mwandb\u001b[0m: \tf1_layer_size: 64\n",
      "\u001b[34m\u001b[1mwandb\u001b[0m: \thidden_size: 32\n",
      "\u001b[34m\u001b[1mwandb\u001b[0m: \tlearning_rate: 0.0005125054047360172\n",
      "\u001b[34m\u001b[1mwandb\u001b[0m: \tnum_layers: 2\n",
      "\u001b[34m\u001b[1mwandb\u001b[0m: \toptimizer: RMSprop\n",
      "Failed to detect the name of this notebook, you can set it manually with the WANDB_NOTEBOOK_NAME environment variable to enable code saving.\n",
      "\u001b[34m\u001b[1mwandb\u001b[0m: \u001b[33mWARNING\u001b[0m Ignored wandb.init() arg project when running a sweep.\n"
     ]
    },
    {
     "data": {
      "text/html": [
       "wandb version 0.15.12 is available!  To upgrade, please run:\n",
       " $ pip install wandb --upgrade"
      ],
      "text/plain": [
       "<IPython.core.display.HTML object>"
      ]
     },
     "metadata": {},
     "output_type": "display_data"
    },
    {
     "data": {
      "text/html": [
       "Tracking run with wandb version 0.15.11"
      ],
      "text/plain": [
       "<IPython.core.display.HTML object>"
      ]
     },
     "metadata": {},
     "output_type": "display_data"
    },
    {
     "data": {
      "text/html": [
       "Run data is saved locally in <code>c:\\Users\\Nick\\Documents\\GitHub\\OptiverKaggle\\wandb\\run-20231011_213815-pi7ew8r0</code>"
      ],
      "text/plain": [
       "<IPython.core.display.HTML object>"
      ]
     },
     "metadata": {},
     "output_type": "display_data"
    },
    {
     "data": {
      "text/html": [
       "Syncing run <strong><a href='https://wandb.ai/nickojelly/Optiver%20Sweeps/runs/pi7ew8r0' target=\"_blank\">exalted-sweep-3</a></strong> to <a href='https://wandb.ai/nickojelly/Optiver%20Sweeps' target=\"_blank\">Weights & Biases</a> (<a href='https://wandb.me/run' target=\"_blank\">docs</a>)<br/>Sweep page: <a href='https://wandb.ai/nickojelly/Optiver%20Sweeps/sweeps/cpggp1nz' target=\"_blank\">https://wandb.ai/nickojelly/Optiver%20Sweeps/sweeps/cpggp1nz</a>"
      ],
      "text/plain": [
       "<IPython.core.display.HTML object>"
      ]
     },
     "metadata": {},
     "output_type": "display_data"
    },
    {
     "data": {
      "text/html": [
       " View project at <a href='https://wandb.ai/nickojelly/Optiver%20Sweeps' target=\"_blank\">https://wandb.ai/nickojelly/Optiver%20Sweeps</a>"
      ],
      "text/plain": [
       "<IPython.core.display.HTML object>"
      ]
     },
     "metadata": {},
     "output_type": "display_data"
    },
    {
     "data": {
      "text/html": [
       " View sweep at <a href='https://wandb.ai/nickojelly/Optiver%20Sweeps/sweeps/cpggp1nz' target=\"_blank\">https://wandb.ai/nickojelly/Optiver%20Sweeps/sweeps/cpggp1nz</a>"
      ],
      "text/plain": [
       "<IPython.core.display.HTML object>"
      ]
     },
     "metadata": {},
     "output_type": "display_data"
    },
    {
     "data": {
      "text/html": [
       " View run at <a href='https://wandb.ai/nickojelly/Optiver%20Sweeps/runs/pi7ew8r0' target=\"_blank\">https://wandb.ai/nickojelly/Optiver%20Sweeps/runs/pi7ew8r0</a>"
      ],
      "text/plain": [
       "<IPython.core.display.HTML object>"
      ]
     },
     "metadata": {},
     "output_type": "display_data"
    },
    {
     "name": "stdout",
     "output_type": "stream",
     "text": [
      "GRUNetV2(\n",
      "  (gru): GRU(80, 32, num_layers=2, dropout=0.3)\n",
      "  (relu0): ReLU()\n",
      "  (batch_norm): Identity()\n",
      "  (batch_norm2): Identity()\n",
      "  (fc0): Linear(in_features=6400, out_features=1024, bias=True)\n",
      "  (rl1): ReLU()\n",
      "  (drop1): Dropout(p=0.3, inplace=False)\n",
      "  (fc1): Linear(in_features=1024, out_features=200, bias=True)\n",
      "  (rl2): ReLU()\n",
      "  (drop2): Dropout(p=0.3, inplace=False)\n",
      "  (fc2): Linear(in_features=640, out_features=200, bias=True)\n",
      "  (rl3): ReLU()\n",
      "  (drop3): Dropout(p=0.3, inplace=False)\n",
      "  (fc3): Linear(in_features=200, out_features=200, bias=True)\n",
      ")\n"
     ]
    },
    {
     "data": {
      "application/vnd.jupyter.widget-view+json": {
       "model_id": "1b54456a0b8b4abba87880115403142c",
       "version_major": 2,
       "version_minor": 0
      },
      "text/plain": [
       "  0%|          | 0/500 [00:00<?, ?it/s]"
      ]
     },
     "metadata": {},
     "output_type": "display_data"
    },
    {
     "name": "stdout",
     "output_type": "stream",
     "text": [
      "   stock  day  time    target      pred\n",
      "0      0    0     0 -3.029704 -0.535966\n",
      "1      1    0     0 -5.519986  0.498740\n",
      "2      2    0     0 -8.389950  0.169158\n",
      "3      3    0     0 -4.010201 -0.422558\n",
      "4      4    0     0 -7.349849  0.083629\n",
      "5      5    0     0  6.779432  0.313711\n",
      "6      6    0     0 -2.499819  0.443606\n",
      "7      7    0     0 -1.959801  0.000701\n",
      "8      8    0     0 -5.970001 -0.428408\n",
      "9      9    0     0  7.970333  0.065879\n"
     ]
    },
    {
     "name": "stderr",
     "output_type": "stream",
     "text": [
      "Traceback (most recent call last):\n",
      "  File \"C:\\Users\\Nick\\AppData\\Local\\Temp\\ipykernel_5684\\2975916650.py\", line 15, in model_pipeline\n",
      "    training_testing.train_model(trading_df,model,config,optimizer,criterion)\n",
      "  File \"c:\\Users\\Nick\\Documents\\GitHub\\OptiverKaggle\\training_testing.py\", line 75, in train_model\n",
      "    validate_model(trading_df,model,criterion,epoch)\n",
      "  File \"c:\\Users\\Nick\\.conda\\envs\\python311\\Lib\\site-packages\\torch\\utils\\_contextlib.py\", line 115, in decorate_context\n",
      "    return func(*args, **kwargs)\n",
      "           ^^^^^^^^^^^^^^^^^^^^^\n",
      "  File \"c:\\Users\\Nick\\Documents\\GitHub\\OptiverKaggle\\training_testing.py\", line 173, in validate_model\n",
      "    wandb.log({'data_table':log_dict})\n",
      "  File \"c:\\Users\\Nick\\.conda\\envs\\python311\\Lib\\site-packages\\wandb\\sdk\\wandb_run.py\", line 419, in wrapper\n",
      "    return func(self, *args, **kwargs)\n",
      "           ^^^^^^^^^^^^^^^^^^^^^^^^^^^\n",
      "  File \"c:\\Users\\Nick\\.conda\\envs\\python311\\Lib\\site-packages\\wandb\\sdk\\wandb_run.py\", line 370, in wrapper_fn\n",
      "    return func(self, *args, **kwargs)\n",
      "           ^^^^^^^^^^^^^^^^^^^^^^^^^^^\n",
      "  File \"c:\\Users\\Nick\\.conda\\envs\\python311\\Lib\\site-packages\\wandb\\sdk\\wandb_run.py\", line 360, in wrapper\n",
      "    return func(self, *args, **kwargs)\n",
      "           ^^^^^^^^^^^^^^^^^^^^^^^^^^^\n",
      "  File \"c:\\Users\\Nick\\.conda\\envs\\python311\\Lib\\site-packages\\wandb\\sdk\\wandb_run.py\", line 1792, in log\n",
      "    self._log(data=data, step=step, commit=commit)\n",
      "  File \"c:\\Users\\Nick\\.conda\\envs\\python311\\Lib\\site-packages\\wandb\\sdk\\wandb_run.py\", line 1567, in _log\n",
      "    self._partial_history_callback(data, step, commit)\n",
      "  File \"c:\\Users\\Nick\\.conda\\envs\\python311\\Lib\\site-packages\\wandb\\sdk\\wandb_run.py\", line 1439, in _partial_history_callback\n",
      "    self._backend.interface.publish_partial_history(\n",
      "  File \"c:\\Users\\Nick\\.conda\\envs\\python311\\Lib\\site-packages\\wandb\\sdk\\interface\\interface.py\", line 528, in publish_partial_history\n",
      "    data = history_dict_to_json(run, data, step=user_step, ignore_copy_err=True)\n",
      "           ^^^^^^^^^^^^^^^^^^^^^^^^^^^^^^^^^^^^^^^^^^^^^^^^^^^^^^^^^^^^^^^^^^^^^\n",
      "  File \"c:\\Users\\Nick\\.conda\\envs\\python311\\Lib\\site-packages\\wandb\\sdk\\data_types\\utils.py\", line 52, in history_dict_to_json\n",
      "    payload[key] = val_to_json(\n",
      "                   ^^^^^^^^^^^^\n",
      "  File \"c:\\Users\\Nick\\.conda\\envs\\python311\\Lib\\site-packages\\wandb\\sdk\\data_types\\utils.py\", line 164, in val_to_json\n",
      "    val.bind_to_run(run, key, namespace)\n",
      "  File \"c:\\Users\\Nick\\.conda\\envs\\python311\\Lib\\site-packages\\wandb\\data_types.py\", line 541, in bind_to_run\n",
      "    with codecs.open(tmp_path, \"w\", encoding=\"utf-8\") as fp:\n",
      "         ^^^^^^^^^^^^^^^^^^^^^^^^^^^^^^^^^^^^^^^^^^^^\n",
      "  File \"<frozen codecs>\", line 906, in open\n",
      "FileNotFoundError: [Errno 2] No such file or directory: 'C:\\\\Users\\\\Nick\\\\AppData\\\\Local\\\\Temp\\\\tmpv64bugu_wandb-media\\\\tmt9do4i.table.json'\n"
     ]
    },
    {
     "data": {
      "text/html": [
       "Waiting for W&B process to finish... <strong style=\"color:red\">(failed 1).</strong> Press Ctrl-C to abort syncing."
      ],
      "text/plain": [
       "<IPython.core.display.HTML object>"
      ]
     },
     "metadata": {},
     "output_type": "display_data"
    },
    {
     "data": {
      "text/html": [
       "<style>\n",
       "    table.wandb td:nth-child(1) { padding: 0 10px; text-align: left ; width: auto;} td:nth-child(2) {text-align: left ; width: 100%}\n",
       "    .wandb-row { display: flex; flex-direction: row; flex-wrap: wrap; justify-content: flex-start; width: 100% }\n",
       "    .wandb-col { display: flex; flex-direction: column; flex-basis: 100%; flex: 1; padding: 10px; }\n",
       "    </style>\n",
       "<div class=\"wandb-row\"><div class=\"wandb-col\"><h3>Run history:</h3><br/><table class=\"wandb\"><tr><td>epoch</td><td>▁▁</td></tr><tr><td>epoch_l1_loss</td><td>▁</td></tr><tr><td>epoch_loss</td><td>▁</td></tr><tr><td>loss_1</td><td>▂▂▁▂▁▁▂▃▅▃▂▄█▅▄▄▄▄▃▆▆▃▃▃▂▂▂▂▂▇▂▃▃▄▂▄▂▃▃▃</td></tr><tr><td>relu</td><td>▁</td></tr><tr><td>val_epoch_loss</td><td>▁</td></tr><tr><td>val_epoch_loss_l1</td><td>▁</td></tr><tr><td>val_relu</td><td>▁</td></tr></table><br/></div><div class=\"wandb-col\"><h3>Run summary:</h3><br/><table class=\"wandb\"><tr><td>epoch</td><td>0</td></tr><tr><td>epoch_loss</td><td>5.94735</td></tr><tr><td>loss_1</td><td>5.88691</td></tr><tr><td>relu</td><td>4.36372</td></tr><tr><td>val_epoch_loss</td><td>5.03044</td></tr><tr><td>val_relu</td><td>0.77923</td></tr></table><br/></div></div>"
      ],
      "text/plain": [
       "<IPython.core.display.HTML object>"
      ]
     },
     "metadata": {},
     "output_type": "display_data"
    },
    {
     "data": {
      "text/html": [
       " View run <strong style=\"color:#cdcd00\">exalted-sweep-3</strong> at: <a href='https://wandb.ai/nickojelly/Optiver%20Sweeps/runs/pi7ew8r0' target=\"_blank\">https://wandb.ai/nickojelly/Optiver%20Sweeps/runs/pi7ew8r0</a><br/>Synced 5 W&B file(s), 0 media file(s), 1 artifact file(s) and 0 other file(s)"
      ],
      "text/plain": [
       "<IPython.core.display.HTML object>"
      ]
     },
     "metadata": {},
     "output_type": "display_data"
    },
    {
     "data": {
      "text/html": [
       "Find logs at: <code>.\\wandb\\run-20231011_213815-pi7ew8r0\\logs</code>"
      ],
      "text/plain": [
       "<IPython.core.display.HTML object>"
      ]
     },
     "metadata": {},
     "output_type": "display_data"
    },
    {
     "name": "stderr",
     "output_type": "stream",
     "text": [
      "Run pi7ew8r0 errored: FileNotFoundError(2, 'No such file or directory')\n",
      "\u001b[34m\u001b[1mwandb\u001b[0m: \u001b[32m\u001b[41mERROR\u001b[0m Run pi7ew8r0 errored: FileNotFoundError(2, 'No such file or directory')\n",
      "\u001b[34m\u001b[1mwandb\u001b[0m: Agent Starting Run: shiy4740 with config:\n",
      "\u001b[34m\u001b[1mwandb\u001b[0m: \tbatch_norm: 2\n",
      "\u001b[34m\u001b[1mwandb\u001b[0m: \tf0_layer_size: 128\n",
      "\u001b[34m\u001b[1mwandb\u001b[0m: \tf1_layer_size: 64\n",
      "\u001b[34m\u001b[1mwandb\u001b[0m: \thidden_size: 8\n",
      "\u001b[34m\u001b[1mwandb\u001b[0m: \tlearning_rate: 0.0009252922809863376\n",
      "\u001b[34m\u001b[1mwandb\u001b[0m: \tnum_layers: 5\n",
      "\u001b[34m\u001b[1mwandb\u001b[0m: \toptimizer: adamW\n",
      "Failed to detect the name of this notebook, you can set it manually with the WANDB_NOTEBOOK_NAME environment variable to enable code saving.\n",
      "\u001b[34m\u001b[1mwandb\u001b[0m: \u001b[33mWARNING\u001b[0m Ignored wandb.init() arg project when running a sweep.\n"
     ]
    },
    {
     "data": {
      "text/html": [
       "wandb version 0.15.12 is available!  To upgrade, please run:\n",
       " $ pip install wandb --upgrade"
      ],
      "text/plain": [
       "<IPython.core.display.HTML object>"
      ]
     },
     "metadata": {},
     "output_type": "display_data"
    },
    {
     "data": {
      "text/html": [
       "Tracking run with wandb version 0.15.11"
      ],
      "text/plain": [
       "<IPython.core.display.HTML object>"
      ]
     },
     "metadata": {},
     "output_type": "display_data"
    },
    {
     "data": {
      "text/html": [
       "Run data is saved locally in <code>c:\\Users\\Nick\\Documents\\GitHub\\OptiverKaggle\\wandb\\run-20231011_213907-shiy4740</code>"
      ],
      "text/plain": [
       "<IPython.core.display.HTML object>"
      ]
     },
     "metadata": {},
     "output_type": "display_data"
    },
    {
     "data": {
      "text/html": [
       "Syncing run <strong><a href='https://wandb.ai/nickojelly/Optiver%20Sweeps/runs/shiy4740' target=\"_blank\">brisk-sweep-4</a></strong> to <a href='https://wandb.ai/nickojelly/Optiver%20Sweeps' target=\"_blank\">Weights & Biases</a> (<a href='https://wandb.me/run' target=\"_blank\">docs</a>)<br/>Sweep page: <a href='https://wandb.ai/nickojelly/Optiver%20Sweeps/sweeps/cpggp1nz' target=\"_blank\">https://wandb.ai/nickojelly/Optiver%20Sweeps/sweeps/cpggp1nz</a>"
      ],
      "text/plain": [
       "<IPython.core.display.HTML object>"
      ]
     },
     "metadata": {},
     "output_type": "display_data"
    },
    {
     "data": {
      "text/html": [
       " View project at <a href='https://wandb.ai/nickojelly/Optiver%20Sweeps' target=\"_blank\">https://wandb.ai/nickojelly/Optiver%20Sweeps</a>"
      ],
      "text/plain": [
       "<IPython.core.display.HTML object>"
      ]
     },
     "metadata": {},
     "output_type": "display_data"
    },
    {
     "data": {
      "text/html": [
       " View sweep at <a href='https://wandb.ai/nickojelly/Optiver%20Sweeps/sweeps/cpggp1nz' target=\"_blank\">https://wandb.ai/nickojelly/Optiver%20Sweeps/sweeps/cpggp1nz</a>"
      ],
      "text/plain": [
       "<IPython.core.display.HTML object>"
      ]
     },
     "metadata": {},
     "output_type": "display_data"
    },
    {
     "data": {
      "text/html": [
       " View run at <a href='https://wandb.ai/nickojelly/Optiver%20Sweeps/runs/shiy4740' target=\"_blank\">https://wandb.ai/nickojelly/Optiver%20Sweeps/runs/shiy4740</a>"
      ],
      "text/plain": [
       "<IPython.core.display.HTML object>"
      ]
     },
     "metadata": {},
     "output_type": "display_data"
    },
    {
     "name": "stdout",
     "output_type": "stream",
     "text": [
      "GRUNetV2(\n",
      "  (gru): GRU(80, 8, num_layers=5, dropout=0.3)\n",
      "  (relu0): ReLU()\n",
      "  (batch_norm): BatchNorm1d(80, eps=1e-05, momentum=0.1, affine=True, track_running_stats=True)\n",
      "  (batch_norm2): LayerNorm((1600,), eps=1e-05, elementwise_affine=True)\n",
      "  (fc0): Linear(in_features=1600, out_features=1024, bias=True)\n",
      "  (rl1): ReLU()\n",
      "  (drop1): Dropout(p=0.3, inplace=False)\n",
      "  (fc1): Linear(in_features=1024, out_features=200, bias=True)\n",
      "  (rl2): ReLU()\n",
      "  (drop2): Dropout(p=0.3, inplace=False)\n",
      "  (fc2): Linear(in_features=640, out_features=200, bias=True)\n",
      "  (rl3): ReLU()\n",
      "  (drop3): Dropout(p=0.3, inplace=False)\n",
      "  (fc3): Linear(in_features=200, out_features=200, bias=True)\n",
      ")\n"
     ]
    },
    {
     "data": {
      "application/vnd.jupyter.widget-view+json": {
       "model_id": "5d2ebf1e40f24b17842757ce7599d493",
       "version_major": 2,
       "version_minor": 0
      },
      "text/plain": [
       "  0%|          | 0/500 [00:00<?, ?it/s]"
      ]
     },
     "metadata": {},
     "output_type": "display_data"
    },
    {
     "name": "stdout",
     "output_type": "stream",
     "text": [
      "   stock  day  time    target      pred\n",
      "0      0    0     0 -3.029704  0.265135\n",
      "1      1    0     0 -5.519986 -4.548398\n",
      "2      2    0     0 -8.389950 -2.060490\n",
      "3      3    0     0 -4.010201 -6.732788\n",
      "4      4    0     0 -7.349849  5.282985\n",
      "5      5    0     0  6.779432 -2.744954\n",
      "6      6    0     0 -2.499819 -0.655275\n",
      "7      7    0     0 -1.959801 -6.131485\n",
      "8      8    0     0 -5.970001 -6.257885\n",
      "9      9    0     0  7.970333 -3.397480\n"
     ]
    },
    {
     "name": "stderr",
     "output_type": "stream",
     "text": [
      "Traceback (most recent call last):\n",
      "  File \"C:\\Users\\Nick\\AppData\\Local\\Temp\\ipykernel_5684\\2975916650.py\", line 15, in model_pipeline\n",
      "    training_testing.train_model(trading_df,model,config,optimizer,criterion)\n",
      "  File \"c:\\Users\\Nick\\Documents\\GitHub\\OptiverKaggle\\training_testing.py\", line 75, in train_model\n",
      "    validate_model(trading_df,model,criterion,epoch)\n",
      "  File \"c:\\Users\\Nick\\.conda\\envs\\python311\\Lib\\site-packages\\torch\\utils\\_contextlib.py\", line 115, in decorate_context\n",
      "    return func(*args, **kwargs)\n",
      "           ^^^^^^^^^^^^^^^^^^^^^\n",
      "  File \"c:\\Users\\Nick\\Documents\\GitHub\\OptiverKaggle\\training_testing.py\", line 173, in validate_model\n",
      "    wandb.log({'data_table':log_dict})\n",
      "  File \"c:\\Users\\Nick\\.conda\\envs\\python311\\Lib\\site-packages\\wandb\\sdk\\wandb_run.py\", line 419, in wrapper\n",
      "    return func(self, *args, **kwargs)\n",
      "           ^^^^^^^^^^^^^^^^^^^^^^^^^^^\n",
      "  File \"c:\\Users\\Nick\\.conda\\envs\\python311\\Lib\\site-packages\\wandb\\sdk\\wandb_run.py\", line 370, in wrapper_fn\n",
      "    return func(self, *args, **kwargs)\n",
      "           ^^^^^^^^^^^^^^^^^^^^^^^^^^^\n",
      "  File \"c:\\Users\\Nick\\.conda\\envs\\python311\\Lib\\site-packages\\wandb\\sdk\\wandb_run.py\", line 360, in wrapper\n",
      "    return func(self, *args, **kwargs)\n",
      "           ^^^^^^^^^^^^^^^^^^^^^^^^^^^\n",
      "  File \"c:\\Users\\Nick\\.conda\\envs\\python311\\Lib\\site-packages\\wandb\\sdk\\wandb_run.py\", line 1792, in log\n",
      "    self._log(data=data, step=step, commit=commit)\n",
      "  File \"c:\\Users\\Nick\\.conda\\envs\\python311\\Lib\\site-packages\\wandb\\sdk\\wandb_run.py\", line 1567, in _log\n",
      "    self._partial_history_callback(data, step, commit)\n",
      "  File \"c:\\Users\\Nick\\.conda\\envs\\python311\\Lib\\site-packages\\wandb\\sdk\\wandb_run.py\", line 1439, in _partial_history_callback\n",
      "    self._backend.interface.publish_partial_history(\n",
      "  File \"c:\\Users\\Nick\\.conda\\envs\\python311\\Lib\\site-packages\\wandb\\sdk\\interface\\interface.py\", line 528, in publish_partial_history\n",
      "    data = history_dict_to_json(run, data, step=user_step, ignore_copy_err=True)\n",
      "           ^^^^^^^^^^^^^^^^^^^^^^^^^^^^^^^^^^^^^^^^^^^^^^^^^^^^^^^^^^^^^^^^^^^^^\n",
      "  File \"c:\\Users\\Nick\\.conda\\envs\\python311\\Lib\\site-packages\\wandb\\sdk\\data_types\\utils.py\", line 52, in history_dict_to_json\n",
      "    payload[key] = val_to_json(\n",
      "                   ^^^^^^^^^^^^\n",
      "  File \"c:\\Users\\Nick\\.conda\\envs\\python311\\Lib\\site-packages\\wandb\\sdk\\data_types\\utils.py\", line 164, in val_to_json\n",
      "    val.bind_to_run(run, key, namespace)\n",
      "  File \"c:\\Users\\Nick\\.conda\\envs\\python311\\Lib\\site-packages\\wandb\\data_types.py\", line 541, in bind_to_run\n",
      "    with codecs.open(tmp_path, \"w\", encoding=\"utf-8\") as fp:\n",
      "         ^^^^^^^^^^^^^^^^^^^^^^^^^^^^^^^^^^^^^^^^^^^^\n",
      "  File \"<frozen codecs>\", line 906, in open\n",
      "FileNotFoundError: [Errno 2] No such file or directory: 'C:\\\\Users\\\\Nick\\\\AppData\\\\Local\\\\Temp\\\\tmpv64bugu_wandb-media\\\\hen4l0gu.table.json'\n"
     ]
    },
    {
     "data": {
      "text/html": [
       "Waiting for W&B process to finish... <strong style=\"color:red\">(failed 1).</strong> Press Ctrl-C to abort syncing."
      ],
      "text/plain": [
       "<IPython.core.display.HTML object>"
      ]
     },
     "metadata": {},
     "output_type": "display_data"
    },
    {
     "data": {
      "text/html": [
       "<style>\n",
       "    table.wandb td:nth-child(1) { padding: 0 10px; text-align: left ; width: auto;} td:nth-child(2) {text-align: left ; width: 100%}\n",
       "    .wandb-row { display: flex; flex-direction: row; flex-wrap: wrap; justify-content: flex-start; width: 100% }\n",
       "    .wandb-col { display: flex; flex-direction: column; flex-basis: 100%; flex: 1; padding: 10px; }\n",
       "    </style>\n",
       "<div class=\"wandb-row\"><div class=\"wandb-col\"><h3>Run history:</h3><br/><table class=\"wandb\"><tr><td>epoch</td><td>▁▁</td></tr><tr><td>epoch_l1_loss</td><td>▁</td></tr><tr><td>epoch_loss</td><td>▁</td></tr><tr><td>loss_1</td><td>▂▂▁▂▁▁▂▃▅▃▂▄█▅▄▄▄▄▃▆▆▃▃▃▂▂▂▂▂▇▂▃▃▄▂▄▂▃▃▃</td></tr><tr><td>relu</td><td>▁</td></tr><tr><td>val_epoch_loss</td><td>▁</td></tr><tr><td>val_epoch_loss_l1</td><td>▁</td></tr><tr><td>val_relu</td><td>▁</td></tr></table><br/></div><div class=\"wandb-col\"><h3>Run summary:</h3><br/><table class=\"wandb\"><tr><td>epoch</td><td>0</td></tr><tr><td>epoch_loss</td><td>5.95974</td></tr><tr><td>loss_1</td><td>5.8933</td></tr><tr><td>relu</td><td>47.0167</td></tr><tr><td>val_epoch_loss</td><td>5.24863</td></tr><tr><td>val_relu</td><td>0.67269</td></tr></table><br/></div></div>"
      ],
      "text/plain": [
       "<IPython.core.display.HTML object>"
      ]
     },
     "metadata": {},
     "output_type": "display_data"
    },
    {
     "data": {
      "text/html": [
       " View run <strong style=\"color:#cdcd00\">brisk-sweep-4</strong> at: <a href='https://wandb.ai/nickojelly/Optiver%20Sweeps/runs/shiy4740' target=\"_blank\">https://wandb.ai/nickojelly/Optiver%20Sweeps/runs/shiy4740</a><br/>Synced 5 W&B file(s), 0 media file(s), 1 artifact file(s) and 0 other file(s)"
      ],
      "text/plain": [
       "<IPython.core.display.HTML object>"
      ]
     },
     "metadata": {},
     "output_type": "display_data"
    },
    {
     "data": {
      "text/html": [
       "Find logs at: <code>.\\wandb\\run-20231011_213907-shiy4740\\logs</code>"
      ],
      "text/plain": [
       "<IPython.core.display.HTML object>"
      ]
     },
     "metadata": {},
     "output_type": "display_data"
    },
    {
     "name": "stderr",
     "output_type": "stream",
     "text": [
      "Run shiy4740 errored: FileNotFoundError(2, 'No such file or directory')\n",
      "\u001b[34m\u001b[1mwandb\u001b[0m: \u001b[32m\u001b[41mERROR\u001b[0m Run shiy4740 errored: FileNotFoundError(2, 'No such file or directory')\n",
      "\u001b[34m\u001b[1mwandb\u001b[0m: Agent Starting Run: jrwiy08e with config:\n",
      "\u001b[34m\u001b[1mwandb\u001b[0m: \tbatch_norm: 1\n",
      "\u001b[34m\u001b[1mwandb\u001b[0m: \tf0_layer_size: 128\n",
      "\u001b[34m\u001b[1mwandb\u001b[0m: \tf1_layer_size: 64\n",
      "\u001b[34m\u001b[1mwandb\u001b[0m: \thidden_size: 64\n",
      "\u001b[34m\u001b[1mwandb\u001b[0m: \tlearning_rate: 0.0009809531574688924\n",
      "\u001b[34m\u001b[1mwandb\u001b[0m: \tnum_layers: 5\n",
      "\u001b[34m\u001b[1mwandb\u001b[0m: \toptimizer: SGD\n",
      "Failed to detect the name of this notebook, you can set it manually with the WANDB_NOTEBOOK_NAME environment variable to enable code saving.\n",
      "\u001b[34m\u001b[1mwandb\u001b[0m: \u001b[33mWARNING\u001b[0m Ignored wandb.init() arg project when running a sweep.\n"
     ]
    },
    {
     "data": {
      "text/html": [
       "wandb version 0.15.12 is available!  To upgrade, please run:\n",
       " $ pip install wandb --upgrade"
      ],
      "text/plain": [
       "<IPython.core.display.HTML object>"
      ]
     },
     "metadata": {},
     "output_type": "display_data"
    },
    {
     "data": {
      "text/html": [
       "Tracking run with wandb version 0.15.11"
      ],
      "text/plain": [
       "<IPython.core.display.HTML object>"
      ]
     },
     "metadata": {},
     "output_type": "display_data"
    },
    {
     "data": {
      "text/html": [
       "Run data is saved locally in <code>c:\\Users\\Nick\\Documents\\GitHub\\OptiverKaggle\\wandb\\run-20231011_213959-jrwiy08e</code>"
      ],
      "text/plain": [
       "<IPython.core.display.HTML object>"
      ]
     },
     "metadata": {},
     "output_type": "display_data"
    },
    {
     "data": {
      "text/html": [
       "Syncing run <strong><a href='https://wandb.ai/nickojelly/Optiver%20Sweeps/runs/jrwiy08e' target=\"_blank\">iconic-sweep-5</a></strong> to <a href='https://wandb.ai/nickojelly/Optiver%20Sweeps' target=\"_blank\">Weights & Biases</a> (<a href='https://wandb.me/run' target=\"_blank\">docs</a>)<br/>Sweep page: <a href='https://wandb.ai/nickojelly/Optiver%20Sweeps/sweeps/cpggp1nz' target=\"_blank\">https://wandb.ai/nickojelly/Optiver%20Sweeps/sweeps/cpggp1nz</a>"
      ],
      "text/plain": [
       "<IPython.core.display.HTML object>"
      ]
     },
     "metadata": {},
     "output_type": "display_data"
    },
    {
     "data": {
      "text/html": [
       " View project at <a href='https://wandb.ai/nickojelly/Optiver%20Sweeps' target=\"_blank\">https://wandb.ai/nickojelly/Optiver%20Sweeps</a>"
      ],
      "text/plain": [
       "<IPython.core.display.HTML object>"
      ]
     },
     "metadata": {},
     "output_type": "display_data"
    },
    {
     "data": {
      "text/html": [
       " View sweep at <a href='https://wandb.ai/nickojelly/Optiver%20Sweeps/sweeps/cpggp1nz' target=\"_blank\">https://wandb.ai/nickojelly/Optiver%20Sweeps/sweeps/cpggp1nz</a>"
      ],
      "text/plain": [
       "<IPython.core.display.HTML object>"
      ]
     },
     "metadata": {},
     "output_type": "display_data"
    },
    {
     "data": {
      "text/html": [
       " View run at <a href='https://wandb.ai/nickojelly/Optiver%20Sweeps/runs/jrwiy08e' target=\"_blank\">https://wandb.ai/nickojelly/Optiver%20Sweeps/runs/jrwiy08e</a>"
      ],
      "text/plain": [
       "<IPython.core.display.HTML object>"
      ]
     },
     "metadata": {},
     "output_type": "display_data"
    },
    {
     "name": "stdout",
     "output_type": "stream",
     "text": [
      "GRUNetV2(\n",
      "  (gru): GRU(80, 64, num_layers=5, dropout=0.3)\n",
      "  (relu0): ReLU()\n",
      "  (batch_norm): BatchNorm1d(80, eps=1e-05, momentum=0.1, affine=True, track_running_stats=True)\n",
      "  (batch_norm2): Identity()\n",
      "  (fc0): Linear(in_features=12800, out_features=1024, bias=True)\n",
      "  (rl1): ReLU()\n",
      "  (drop1): Dropout(p=0.3, inplace=False)\n",
      "  (fc1): Linear(in_features=1024, out_features=200, bias=True)\n",
      "  (rl2): ReLU()\n",
      "  (drop2): Dropout(p=0.3, inplace=False)\n",
      "  (fc2): Linear(in_features=640, out_features=200, bias=True)\n",
      "  (rl3): ReLU()\n",
      "  (drop3): Dropout(p=0.3, inplace=False)\n",
      "  (fc3): Linear(in_features=200, out_features=200, bias=True)\n",
      ")\n"
     ]
    },
    {
     "data": {
      "application/vnd.jupyter.widget-view+json": {
       "model_id": "540cee72c845475ba7e3b1feebabb3c5",
       "version_major": 2,
       "version_minor": 0
      },
      "text/plain": [
       "  0%|          | 0/500 [00:00<?, ?it/s]"
      ]
     },
     "metadata": {},
     "output_type": "display_data"
    },
    {
     "name": "stdout",
     "output_type": "stream",
     "text": [
      "   stock  day  time    target      pred\n",
      "0      0    0     0 -3.029704 -0.276589\n",
      "1      1    0     0 -5.519986  0.232606\n",
      "2      2    0     0 -8.389950 -0.227479\n",
      "3      3    0     0 -4.010201 -0.357062\n",
      "4      4    0     0 -7.349849 -0.436778\n",
      "5      5    0     0  6.779432  0.001304\n",
      "6      6    0     0 -2.499819  0.062144\n",
      "7      7    0     0 -1.959801  0.017952\n",
      "8      8    0     0 -5.970001 -0.221184\n",
      "9      9    0     0  7.970333 -0.450226\n"
     ]
    },
    {
     "name": "stderr",
     "output_type": "stream",
     "text": [
      "Traceback (most recent call last):\n",
      "  File \"C:\\Users\\Nick\\AppData\\Local\\Temp\\ipykernel_5684\\2975916650.py\", line 15, in model_pipeline\n",
      "    training_testing.train_model(trading_df,model,config,optimizer,criterion)\n",
      "  File \"c:\\Users\\Nick\\Documents\\GitHub\\OptiverKaggle\\training_testing.py\", line 75, in train_model\n",
      "    validate_model(trading_df,model,criterion,epoch)\n",
      "  File \"c:\\Users\\Nick\\.conda\\envs\\python311\\Lib\\site-packages\\torch\\utils\\_contextlib.py\", line 115, in decorate_context\n",
      "    return func(*args, **kwargs)\n",
      "           ^^^^^^^^^^^^^^^^^^^^^\n",
      "  File \"c:\\Users\\Nick\\Documents\\GitHub\\OptiverKaggle\\training_testing.py\", line 173, in validate_model\n",
      "    wandb.log({'data_table':log_dict})\n",
      "  File \"c:\\Users\\Nick\\.conda\\envs\\python311\\Lib\\site-packages\\wandb\\sdk\\wandb_run.py\", line 419, in wrapper\n",
      "    return func(self, *args, **kwargs)\n",
      "           ^^^^^^^^^^^^^^^^^^^^^^^^^^^\n",
      "  File \"c:\\Users\\Nick\\.conda\\envs\\python311\\Lib\\site-packages\\wandb\\sdk\\wandb_run.py\", line 370, in wrapper_fn\n",
      "    return func(self, *args, **kwargs)\n",
      "           ^^^^^^^^^^^^^^^^^^^^^^^^^^^\n",
      "  File \"c:\\Users\\Nick\\.conda\\envs\\python311\\Lib\\site-packages\\wandb\\sdk\\wandb_run.py\", line 360, in wrapper\n",
      "    return func(self, *args, **kwargs)\n",
      "           ^^^^^^^^^^^^^^^^^^^^^^^^^^^\n",
      "  File \"c:\\Users\\Nick\\.conda\\envs\\python311\\Lib\\site-packages\\wandb\\sdk\\wandb_run.py\", line 1792, in log\n",
      "    self._log(data=data, step=step, commit=commit)\n",
      "  File \"c:\\Users\\Nick\\.conda\\envs\\python311\\Lib\\site-packages\\wandb\\sdk\\wandb_run.py\", line 1567, in _log\n",
      "    self._partial_history_callback(data, step, commit)\n",
      "  File \"c:\\Users\\Nick\\.conda\\envs\\python311\\Lib\\site-packages\\wandb\\sdk\\wandb_run.py\", line 1439, in _partial_history_callback\n",
      "    self._backend.interface.publish_partial_history(\n",
      "  File \"c:\\Users\\Nick\\.conda\\envs\\python311\\Lib\\site-packages\\wandb\\sdk\\interface\\interface.py\", line 528, in publish_partial_history\n",
      "    data = history_dict_to_json(run, data, step=user_step, ignore_copy_err=True)\n",
      "           ^^^^^^^^^^^^^^^^^^^^^^^^^^^^^^^^^^^^^^^^^^^^^^^^^^^^^^^^^^^^^^^^^^^^^\n",
      "  File \"c:\\Users\\Nick\\.conda\\envs\\python311\\Lib\\site-packages\\wandb\\sdk\\data_types\\utils.py\", line 52, in history_dict_to_json\n",
      "    payload[key] = val_to_json(\n",
      "                   ^^^^^^^^^^^^\n",
      "  File \"c:\\Users\\Nick\\.conda\\envs\\python311\\Lib\\site-packages\\wandb\\sdk\\data_types\\utils.py\", line 164, in val_to_json\n",
      "    val.bind_to_run(run, key, namespace)\n",
      "  File \"c:\\Users\\Nick\\.conda\\envs\\python311\\Lib\\site-packages\\wandb\\data_types.py\", line 541, in bind_to_run\n",
      "    with codecs.open(tmp_path, \"w\", encoding=\"utf-8\") as fp:\n",
      "         ^^^^^^^^^^^^^^^^^^^^^^^^^^^^^^^^^^^^^^^^^^^^\n",
      "  File \"<frozen codecs>\", line 906, in open\n",
      "FileNotFoundError: [Errno 2] No such file or directory: 'C:\\\\Users\\\\Nick\\\\AppData\\\\Local\\\\Temp\\\\tmpv64bugu_wandb-media\\\\gyadjdta.table.json'\n"
     ]
    },
    {
     "data": {
      "text/html": [
       "Waiting for W&B process to finish... <strong style=\"color:red\">(failed 1).</strong> Press Ctrl-C to abort syncing."
      ],
      "text/plain": [
       "<IPython.core.display.HTML object>"
      ]
     },
     "metadata": {},
     "output_type": "display_data"
    },
    {
     "data": {
      "text/html": [
       "<style>\n",
       "    table.wandb td:nth-child(1) { padding: 0 10px; text-align: left ; width: auto;} td:nth-child(2) {text-align: left ; width: 100%}\n",
       "    .wandb-row { display: flex; flex-direction: row; flex-wrap: wrap; justify-content: flex-start; width: 100% }\n",
       "    .wandb-col { display: flex; flex-direction: column; flex-basis: 100%; flex: 1; padding: 10px; }\n",
       "    </style>\n",
       "<div class=\"wandb-row\"><div class=\"wandb-col\"><h3>Run history:</h3><br/><table class=\"wandb\"><tr><td>epoch</td><td>▁▁</td></tr><tr><td>epoch_l1_loss</td><td>▁</td></tr><tr><td>epoch_loss</td><td>▁</td></tr><tr><td>loss_1</td><td>▂▂▁▂▁▁▂▃▅▃▂▄█▅▄▄▄▄▃▆▆▃▃▃▂▂▂▂▂▇▂▃▃▄▂▄▂▃▃▃</td></tr><tr><td>relu</td><td>▁</td></tr><tr><td>val_epoch_loss</td><td>▁</td></tr><tr><td>val_epoch_loss_l1</td><td>▁</td></tr><tr><td>val_relu</td><td>▁</td></tr></table><br/></div><div class=\"wandb-col\"><h3>Run summary:</h3><br/><table class=\"wandb\"><tr><td>epoch</td><td>0</td></tr><tr><td>epoch_loss</td><td>5.97631</td></tr><tr><td>loss_1</td><td>5.89425</td></tr><tr><td>relu</td><td>69.83986</td></tr><tr><td>val_epoch_loss</td><td>8.96582</td></tr><tr><td>val_relu</td><td>23.86528</td></tr></table><br/></div></div>"
      ],
      "text/plain": [
       "<IPython.core.display.HTML object>"
      ]
     },
     "metadata": {},
     "output_type": "display_data"
    },
    {
     "data": {
      "text/html": [
       " View run <strong style=\"color:#cdcd00\">iconic-sweep-5</strong> at: <a href='https://wandb.ai/nickojelly/Optiver%20Sweeps/runs/jrwiy08e' target=\"_blank\">https://wandb.ai/nickojelly/Optiver%20Sweeps/runs/jrwiy08e</a><br/>Synced 5 W&B file(s), 0 media file(s), 1 artifact file(s) and 0 other file(s)"
      ],
      "text/plain": [
       "<IPython.core.display.HTML object>"
      ]
     },
     "metadata": {},
     "output_type": "display_data"
    },
    {
     "data": {
      "text/html": [
       "Find logs at: <code>.\\wandb\\run-20231011_213959-jrwiy08e\\logs</code>"
      ],
      "text/plain": [
       "<IPython.core.display.HTML object>"
      ]
     },
     "metadata": {},
     "output_type": "display_data"
    },
    {
     "name": "stderr",
     "output_type": "stream",
     "text": [
      "Run jrwiy08e errored: FileNotFoundError(2, 'No such file or directory')\n",
      "\u001b[34m\u001b[1mwandb\u001b[0m: \u001b[32m\u001b[41mERROR\u001b[0m Run jrwiy08e errored: FileNotFoundError(2, 'No such file or directory')\n",
      "\u001b[34m\u001b[1mwandb\u001b[0m: Agent Starting Run: tyuo54dy with config:\n",
      "\u001b[34m\u001b[1mwandb\u001b[0m: \tbatch_norm: 2\n",
      "\u001b[34m\u001b[1mwandb\u001b[0m: \tf0_layer_size: 128\n",
      "\u001b[34m\u001b[1mwandb\u001b[0m: \tf1_layer_size: 64\n",
      "\u001b[34m\u001b[1mwandb\u001b[0m: \thidden_size: 16\n",
      "\u001b[34m\u001b[1mwandb\u001b[0m: \tlearning_rate: 0.0007141934513148078\n",
      "\u001b[34m\u001b[1mwandb\u001b[0m: \tnum_layers: 4\n",
      "\u001b[34m\u001b[1mwandb\u001b[0m: \toptimizer: RMSprop\n",
      "Failed to detect the name of this notebook, you can set it manually with the WANDB_NOTEBOOK_NAME environment variable to enable code saving.\n",
      "\u001b[34m\u001b[1mwandb\u001b[0m: \u001b[33mWARNING\u001b[0m Ignored wandb.init() arg project when running a sweep.\n"
     ]
    },
    {
     "data": {
      "text/html": [
       "wandb version 0.15.12 is available!  To upgrade, please run:\n",
       " $ pip install wandb --upgrade"
      ],
      "text/plain": [
       "<IPython.core.display.HTML object>"
      ]
     },
     "metadata": {},
     "output_type": "display_data"
    },
    {
     "data": {
      "text/html": [
       "Tracking run with wandb version 0.15.11"
      ],
      "text/plain": [
       "<IPython.core.display.HTML object>"
      ]
     },
     "metadata": {},
     "output_type": "display_data"
    },
    {
     "data": {
      "text/html": [
       "Run data is saved locally in <code>c:\\Users\\Nick\\Documents\\GitHub\\OptiverKaggle\\wandb\\run-20231011_214051-tyuo54dy</code>"
      ],
      "text/plain": [
       "<IPython.core.display.HTML object>"
      ]
     },
     "metadata": {},
     "output_type": "display_data"
    },
    {
     "data": {
      "text/html": [
       "Syncing run <strong><a href='https://wandb.ai/nickojelly/Optiver%20Sweeps/runs/tyuo54dy' target=\"_blank\">kind-sweep-6</a></strong> to <a href='https://wandb.ai/nickojelly/Optiver%20Sweeps' target=\"_blank\">Weights & Biases</a> (<a href='https://wandb.me/run' target=\"_blank\">docs</a>)<br/>Sweep page: <a href='https://wandb.ai/nickojelly/Optiver%20Sweeps/sweeps/cpggp1nz' target=\"_blank\">https://wandb.ai/nickojelly/Optiver%20Sweeps/sweeps/cpggp1nz</a>"
      ],
      "text/plain": [
       "<IPython.core.display.HTML object>"
      ]
     },
     "metadata": {},
     "output_type": "display_data"
    },
    {
     "data": {
      "text/html": [
       " View project at <a href='https://wandb.ai/nickojelly/Optiver%20Sweeps' target=\"_blank\">https://wandb.ai/nickojelly/Optiver%20Sweeps</a>"
      ],
      "text/plain": [
       "<IPython.core.display.HTML object>"
      ]
     },
     "metadata": {},
     "output_type": "display_data"
    },
    {
     "data": {
      "text/html": [
       " View sweep at <a href='https://wandb.ai/nickojelly/Optiver%20Sweeps/sweeps/cpggp1nz' target=\"_blank\">https://wandb.ai/nickojelly/Optiver%20Sweeps/sweeps/cpggp1nz</a>"
      ],
      "text/plain": [
       "<IPython.core.display.HTML object>"
      ]
     },
     "metadata": {},
     "output_type": "display_data"
    },
    {
     "data": {
      "text/html": [
       " View run at <a href='https://wandb.ai/nickojelly/Optiver%20Sweeps/runs/tyuo54dy' target=\"_blank\">https://wandb.ai/nickojelly/Optiver%20Sweeps/runs/tyuo54dy</a>"
      ],
      "text/plain": [
       "<IPython.core.display.HTML object>"
      ]
     },
     "metadata": {},
     "output_type": "display_data"
    },
    {
     "name": "stdout",
     "output_type": "stream",
     "text": [
      "GRUNetV2(\n",
      "  (gru): GRU(80, 16, num_layers=4, dropout=0.3)\n",
      "  (relu0): ReLU()\n",
      "  (batch_norm): BatchNorm1d(80, eps=1e-05, momentum=0.1, affine=True, track_running_stats=True)\n",
      "  (batch_norm2): LayerNorm((3200,), eps=1e-05, elementwise_affine=True)\n",
      "  (fc0): Linear(in_features=3200, out_features=1024, bias=True)\n",
      "  (rl1): ReLU()\n",
      "  (drop1): Dropout(p=0.3, inplace=False)\n",
      "  (fc1): Linear(in_features=1024, out_features=200, bias=True)\n",
      "  (rl2): ReLU()\n",
      "  (drop2): Dropout(p=0.3, inplace=False)\n",
      "  (fc2): Linear(in_features=640, out_features=200, bias=True)\n",
      "  (rl3): ReLU()\n",
      "  (drop3): Dropout(p=0.3, inplace=False)\n",
      "  (fc3): Linear(in_features=200, out_features=200, bias=True)\n",
      ")\n"
     ]
    },
    {
     "data": {
      "application/vnd.jupyter.widget-view+json": {
       "model_id": "1117eb4c2c684c90aef329c6f46f5355",
       "version_major": 2,
       "version_minor": 0
      },
      "text/plain": [
       "  0%|          | 0/500 [00:00<?, ?it/s]"
      ]
     },
     "metadata": {},
     "output_type": "display_data"
    },
    {
     "name": "stdout",
     "output_type": "stream",
     "text": [
      "   stock  day  time    target      pred\n",
      "0      0    0     0 -3.029704 -0.228975\n",
      "1      1    0     0 -5.519986  0.192804\n",
      "2      2    0     0 -8.389950 -0.155710\n",
      "3      3    0     0 -4.010201 -0.269366\n",
      "4      4    0     0 -7.349849 -0.356408\n",
      "5      5    0     0  6.779432  0.073646\n",
      "6      6    0     0 -2.499819  0.069599\n",
      "7      7    0     0 -1.959801  0.085009\n",
      "8      8    0     0 -5.970001 -0.165531\n",
      "9      9    0     0  7.970333 -0.363748\n"
     ]
    },
    {
     "name": "stderr",
     "output_type": "stream",
     "text": [
      "Traceback (most recent call last):\n",
      "  File \"C:\\Users\\Nick\\AppData\\Local\\Temp\\ipykernel_5684\\2975916650.py\", line 15, in model_pipeline\n",
      "    training_testing.train_model(trading_df,model,config,optimizer,criterion)\n",
      "  File \"c:\\Users\\Nick\\Documents\\GitHub\\OptiverKaggle\\training_testing.py\", line 75, in train_model\n",
      "    validate_model(trading_df,model,criterion,epoch)\n",
      "  File \"c:\\Users\\Nick\\.conda\\envs\\python311\\Lib\\site-packages\\torch\\utils\\_contextlib.py\", line 115, in decorate_context\n",
      "    return func(*args, **kwargs)\n",
      "           ^^^^^^^^^^^^^^^^^^^^^\n",
      "  File \"c:\\Users\\Nick\\Documents\\GitHub\\OptiverKaggle\\training_testing.py\", line 173, in validate_model\n",
      "    wandb.log({'data_table':log_dict})\n",
      "  File \"c:\\Users\\Nick\\.conda\\envs\\python311\\Lib\\site-packages\\wandb\\sdk\\wandb_run.py\", line 419, in wrapper\n",
      "    return func(self, *args, **kwargs)\n",
      "           ^^^^^^^^^^^^^^^^^^^^^^^^^^^\n",
      "  File \"c:\\Users\\Nick\\.conda\\envs\\python311\\Lib\\site-packages\\wandb\\sdk\\wandb_run.py\", line 370, in wrapper_fn\n",
      "    return func(self, *args, **kwargs)\n",
      "           ^^^^^^^^^^^^^^^^^^^^^^^^^^^\n",
      "  File \"c:\\Users\\Nick\\.conda\\envs\\python311\\Lib\\site-packages\\wandb\\sdk\\wandb_run.py\", line 360, in wrapper\n",
      "    return func(self, *args, **kwargs)\n",
      "           ^^^^^^^^^^^^^^^^^^^^^^^^^^^\n",
      "  File \"c:\\Users\\Nick\\.conda\\envs\\python311\\Lib\\site-packages\\wandb\\sdk\\wandb_run.py\", line 1792, in log\n",
      "    self._log(data=data, step=step, commit=commit)\n",
      "  File \"c:\\Users\\Nick\\.conda\\envs\\python311\\Lib\\site-packages\\wandb\\sdk\\wandb_run.py\", line 1567, in _log\n",
      "    self._partial_history_callback(data, step, commit)\n",
      "  File \"c:\\Users\\Nick\\.conda\\envs\\python311\\Lib\\site-packages\\wandb\\sdk\\wandb_run.py\", line 1439, in _partial_history_callback\n",
      "    self._backend.interface.publish_partial_history(\n",
      "  File \"c:\\Users\\Nick\\.conda\\envs\\python311\\Lib\\site-packages\\wandb\\sdk\\interface\\interface.py\", line 528, in publish_partial_history\n",
      "    data = history_dict_to_json(run, data, step=user_step, ignore_copy_err=True)\n",
      "           ^^^^^^^^^^^^^^^^^^^^^^^^^^^^^^^^^^^^^^^^^^^^^^^^^^^^^^^^^^^^^^^^^^^^^\n",
      "  File \"c:\\Users\\Nick\\.conda\\envs\\python311\\Lib\\site-packages\\wandb\\sdk\\data_types\\utils.py\", line 52, in history_dict_to_json\n",
      "    payload[key] = val_to_json(\n",
      "                   ^^^^^^^^^^^^\n",
      "  File \"c:\\Users\\Nick\\.conda\\envs\\python311\\Lib\\site-packages\\wandb\\sdk\\data_types\\utils.py\", line 164, in val_to_json\n",
      "    val.bind_to_run(run, key, namespace)\n",
      "  File \"c:\\Users\\Nick\\.conda\\envs\\python311\\Lib\\site-packages\\wandb\\data_types.py\", line 541, in bind_to_run\n",
      "    with codecs.open(tmp_path, \"w\", encoding=\"utf-8\") as fp:\n",
      "         ^^^^^^^^^^^^^^^^^^^^^^^^^^^^^^^^^^^^^^^^^^^^\n",
      "  File \"<frozen codecs>\", line 906, in open\n",
      "FileNotFoundError: [Errno 2] No such file or directory: 'C:\\\\Users\\\\Nick\\\\AppData\\\\Local\\\\Temp\\\\tmpv64bugu_wandb-media\\\\mwxguvwg.table.json'\n"
     ]
    },
    {
     "data": {
      "text/html": [
       "Waiting for W&B process to finish... <strong style=\"color:red\">(failed 1).</strong> Press Ctrl-C to abort syncing."
      ],
      "text/plain": [
       "<IPython.core.display.HTML object>"
      ]
     },
     "metadata": {},
     "output_type": "display_data"
    },
    {
     "data": {
      "text/html": [
       "<style>\n",
       "    table.wandb td:nth-child(1) { padding: 0 10px; text-align: left ; width: auto;} td:nth-child(2) {text-align: left ; width: 100%}\n",
       "    .wandb-row { display: flex; flex-direction: row; flex-wrap: wrap; justify-content: flex-start; width: 100% }\n",
       "    .wandb-col { display: flex; flex-direction: column; flex-basis: 100%; flex: 1; padding: 10px; }\n",
       "    </style>\n",
       "<div class=\"wandb-row\"><div class=\"wandb-col\"><h3>Run history:</h3><br/><table class=\"wandb\"><tr><td>epoch</td><td>▁▁</td></tr><tr><td>epoch_l1_loss</td><td>▁</td></tr><tr><td>epoch_loss</td><td>▁</td></tr><tr><td>loss_1</td><td>▂▂▁▂▁▁▂▃▅▃▂▄█▅▄▄▄▄▃▆▆▃▃▃▂▂▂▂▂▇▂▃▃▄▂▄▂▃▃▃</td></tr><tr><td>relu</td><td>▁</td></tr><tr><td>val_epoch_loss</td><td>▁</td></tr><tr><td>val_epoch_loss_l1</td><td>▁</td></tr><tr><td>val_relu</td><td>▁</td></tr></table><br/></div><div class=\"wandb-col\"><h3>Run summary:</h3><br/><table class=\"wandb\"><tr><td>epoch</td><td>0</td></tr><tr><td>epoch_loss</td><td>5.96709</td></tr><tr><td>loss_1</td><td>5.89386</td></tr><tr><td>relu</td><td>96.55795</td></tr><tr><td>val_epoch_loss</td><td>5.03065</td></tr><tr><td>val_relu</td><td>13.4278</td></tr></table><br/></div></div>"
      ],
      "text/plain": [
       "<IPython.core.display.HTML object>"
      ]
     },
     "metadata": {},
     "output_type": "display_data"
    },
    {
     "data": {
      "text/html": [
       " View run <strong style=\"color:#cdcd00\">kind-sweep-6</strong> at: <a href='https://wandb.ai/nickojelly/Optiver%20Sweeps/runs/tyuo54dy' target=\"_blank\">https://wandb.ai/nickojelly/Optiver%20Sweeps/runs/tyuo54dy</a><br/>Synced 5 W&B file(s), 0 media file(s), 1 artifact file(s) and 0 other file(s)"
      ],
      "text/plain": [
       "<IPython.core.display.HTML object>"
      ]
     },
     "metadata": {},
     "output_type": "display_data"
    },
    {
     "data": {
      "text/html": [
       "Find logs at: <code>.\\wandb\\run-20231011_214051-tyuo54dy\\logs</code>"
      ],
      "text/plain": [
       "<IPython.core.display.HTML object>"
      ]
     },
     "metadata": {},
     "output_type": "display_data"
    },
    {
     "name": "stderr",
     "output_type": "stream",
     "text": [
      "Run tyuo54dy errored: FileNotFoundError(2, 'No such file or directory')\n",
      "\u001b[34m\u001b[1mwandb\u001b[0m: \u001b[32m\u001b[41mERROR\u001b[0m Run tyuo54dy errored: FileNotFoundError(2, 'No such file or directory')\n",
      "Detected 5 failed runs in a row at start, killing sweep.\n",
      "\u001b[34m\u001b[1mwandb\u001b[0m: \u001b[32m\u001b[41mERROR\u001b[0m Detected 5 failed runs in a row at start, killing sweep.\n",
      "\u001b[34m\u001b[1mwandb\u001b[0m: To change this value set WANDB_AGENT_MAX_INITIAL_FAILURES=val\n"
     ]
    }
   ],
   "source": [
    "sweep_id = wandb.sweep(sweep_config, project=\"Optiver Sweeps\")\n",
    "# CUDA_LAUNCH_BLOCKING=1\n",
    "wandb.agent(sweep_id, function=model_pipeline, count=100)"
   ]
  }
 ],
 "metadata": {
  "kernelspec": {
   "display_name": "python311",
   "language": "python",
   "name": "python3"
  },
  "language_info": {
   "codemirror_mode": {
    "name": "ipython",
    "version": 3
   },
   "file_extension": ".py",
   "mimetype": "text/x-python",
   "name": "python",
   "nbconvert_exporter": "python",
   "pygments_lexer": "ipython3",
   "version": "3.11.5"
  },
  "orig_nbformat": 4
 },
 "nbformat": 4,
 "nbformat_minor": 2
}
