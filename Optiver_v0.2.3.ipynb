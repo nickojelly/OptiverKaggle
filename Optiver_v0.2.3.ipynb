{
 "cells": [
  {
   "cell_type": "code",
   "execution_count": 1,
   "metadata": {},
   "outputs": [],
   "source": [
    "import pandas as pd \n",
    "import numpy as np\n",
    "import public_timeseries_testing_util as optiver2023\n",
    "from torch.nn.utils.rnn import pack_padded_sequence, pack_sequence, unpack_sequence, unpad_sequence\n",
    "import torch\n",
    "from tqdm.notebook import trange,tqdm\n",
    "import torch.nn as nn \n",
    "import torch.optim as optim\n",
    "import wandb\n",
    "import torch_classes\n",
    "from model_saver import model_saver_wandb as model_saver\n",
    "import training_testing\n",
    "from itertools import combinations\n",
    "import gc\n",
    "from sklearn.decomposition import PCA\n",
    "import lightgbm as lgb\n"
   ]
  },
  {
   "cell_type": "code",
   "execution_count": 2,
   "metadata": {},
   "outputs": [],
   "source": [
    "env = optiver2023.make_env()\n",
    "iter_test = env.iter_test()"
   ]
  },
  {
   "cell_type": "code",
   "execution_count": 3,
   "metadata": {},
   "outputs": [
    {
     "name": "stdout",
     "output_type": "stream",
     "text": [
      "Running on the GPU\n"
     ]
    }
   ],
   "source": [
    "if torch.cuda.is_available():\n",
    "    device = torch.device(\"cuda:0\")  # you can continue going on here, like cuda:1 cuda:2....etc.\n",
    "    print(\"Running on the GPU\")\n",
    "else:\n",
    "    device = torch.device(\"cpu\")\n",
    "    print(\"Running on the CPU\")"
   ]
  },
  {
   "cell_type": "code",
   "execution_count": 4,
   "metadata": {},
   "outputs": [
    {
     "data": {
      "text/plain": [
       "date_id\n",
       "480    6000\n",
       "353    6000\n",
       "363    6000\n",
       "362    6000\n",
       "360    6000\n",
       "       ... \n",
       "4      5760\n",
       "2      5730\n",
       "1      5730\n",
       "3      5730\n",
       "0      5730\n",
       "Name: count, Length: 481, dtype: int64"
      ]
     },
     "execution_count": 4,
     "metadata": {},
     "output_type": "execute_result"
    }
   ],
   "source": [
    "train = pd.read_csv('train.csv')\n",
    "train = train.query('seconds_in_bucket <= 290').reset_index(drop=True)\n",
    "train.head()\n",
    "train.date_id.value_counts()"
   ]
  },
  {
   "cell_type": "code",
   "execution_count": 5,
   "metadata": {},
   "outputs": [
    {
     "data": {
      "text/plain": [
       "seconds_in_bucket\n",
       "0      95236\n",
       "10     95236\n",
       "280    95236\n",
       "270    95236\n",
       "260    95236\n",
       "250    95236\n",
       "240    95236\n",
       "230    95236\n",
       "220    95236\n",
       "210    95236\n",
       "200    95236\n",
       "190    95236\n",
       "180    95236\n",
       "170    95236\n",
       "160    95236\n",
       "150    95236\n",
       "140    95236\n",
       "130    95236\n",
       "120    95236\n",
       "110    95236\n",
       "100    95236\n",
       "90     95236\n",
       "80     95236\n",
       "70     95236\n",
       "60     95236\n",
       "50     95236\n",
       "40     95236\n",
       "30     95236\n",
       "20     95236\n",
       "290    95236\n",
       "Name: count, dtype: int64"
      ]
     },
     "execution_count": 5,
     "metadata": {},
     "output_type": "execute_result"
    }
   ],
   "source": [
    "train.seconds_in_bucket.value_counts()"
   ]
  },
  {
   "cell_type": "code",
   "execution_count": 6,
   "metadata": {},
   "outputs": [],
   "source": [
    "def imbalance_calculator(x):\n",
    "    \n",
    "    x_copy = x.copy()\n",
    "    \n",
    "    x_copy['imb_s1'] = x.eval('(bid_size - ask_size) / (bid_size + ask_size)')\n",
    "    x_copy['imb_s2'] = x.eval('(imbalance_size - matched_size) / (matched_size + imbalance_size)')\n",
    "    \n",
    "    prices = ['reference_price','far_price', 'near_price', 'ask_price', 'bid_price', 'wap']\n",
    "    \n",
    "    for i,a in enumerate(prices):\n",
    "        for j,b in enumerate(prices):\n",
    "            if i>j:\n",
    "                x_copy[f'{a}_{b}_imb'] = x.eval(f'({a} - {b}) / ({a} + {b} + {0.001})')\n",
    "                    \n",
    "    for i,a in enumerate(prices):\n",
    "        for j,b in enumerate(prices):\n",
    "            for k,c in enumerate(prices):\n",
    "                if i>j and j>k:\n",
    "                    max_ = x[[a,b,c]].max(axis=1)\n",
    "                    min_ = x[[a,b,c]].min(axis=1)\n",
    "                    mid_ = x[[a,b,c]].sum(axis=1)-min_-max_\n",
    "\n",
    "                    x_copy[f'{a}_{b}_{c}_imb2'] = (max_-mid_)/(mid_-min_+0.001)\n",
    "    x_copy.replace([np.inf, -np.inf], 0, inplace=True)\n",
    "    return x_copy\n",
    "\n"
   ]
  },
  {
   "cell_type": "code",
   "execution_count": 7,
   "metadata": {},
   "outputs": [],
   "source": [
    "median_vol = pd.read_csv(\"archive/MedianVolV2.csv\")\n",
    "median_vol.index.name = \"stock_id\";\n",
    "median_vol = median_vol[['overall_medvol', \"first5min_medvol\", \"last5min_medvol\"]]"
   ]
  },
  {
   "cell_type": "code",
   "execution_count": 8,
   "metadata": {},
   "outputs": [],
   "source": [
    "median_sizes = train.groupby('stock_id')['bid_size'].median() + train.groupby('stock_id')['ask_size'].median()\n",
    "std_sizes = train.groupby('stock_id')['bid_size'].median() + train.groupby('stock_id')['ask_size'].median()"
   ]
  },
  {
   "cell_type": "code",
   "execution_count": 16,
   "metadata": {},
   "outputs": [],
   "source": [
    "def feat_eng(df):\n",
    "    \n",
    "    cols = [c for c in df.columns if c not in ['row_id', 'time_id']]\n",
    "    df = df[cols]\n",
    "    df = df.merge(median_vol, how = \"left\", left_on = \"stock_id\", right_index = True)\n",
    "    \n",
    "    df['bid_plus_ask_sizes'] = df['bid_size'] + train['ask_size']\n",
    "#     df['median_size'] = df['stock_id'].map(median_sizes.to_dict())\n",
    "    df['std_size'] = df['stock_id'].map(std_sizes.to_dict())\n",
    "#     df['high_volume'] = np.where(df['bid_plus_ask_sizes'] > df['median_size'], 1, 0) \n",
    "    df['imbalance_ratio'] = df['imbalance_size'] / df['matched_size']\n",
    "    \n",
    "    df['imb_s1'] = df.eval('(bid_size-ask_size)/(bid_size+ask_size)')\n",
    "    df['imb_s2'] = df.eval('(imbalance_size-matched_size)/(matched_size+imbalance_size)')\n",
    "\n",
    "    df['ask_x_size'] = df.eval('ask_size*ask_price')\n",
    "    df['bid_x_size'] = df.eval('bid_size*bid_price')\n",
    "        \n",
    "    df['ask_minus_bid'] = df['ask_x_size'] - df['bid_x_size'] \n",
    "    \n",
    "    df[\"bid_size_over_ask_size\"] = df[\"bid_size\"].div(df[\"ask_size\"])\n",
    "    df[\"bid_price_over_ask_price\"] = df[\"bid_price\"].div(df[\"ask_price\"])\n",
    "    \n",
    "    prices = ['reference_price','far_price', 'near_price', 'ask_price', 'bid_price', 'wap']\n",
    "    \n",
    "    for c in combinations(prices, 2):\n",
    "        \n",
    "        df[f'{c[0]}_minus_{c[1]}'] = (df[f'{c[0]}'] - df[f'{c[1]}']).astype(np.float32)\n",
    "        df[f'{c[0]}_times_{c[1]}'] = (df[f'{c[0]}'] * df[f'{c[1]}']).astype(np.float32)\n",
    "        df[f'{c[0]}_{c[1]}_imb'] = df.eval(f'({c[0]}-{c[1]})/({c[0]}+{c[1]})')\n",
    "\n",
    "    for c in combinations(prices, 3):\n",
    "        \n",
    "        max_ = df[list(c)].max(axis=1)\n",
    "        min_ = df[list(c)].min(axis=1)\n",
    "        mid_ = df[list(c)].sum(axis=1)-min_-max_\n",
    "\n",
    "        df[f'{c[0]}_{c[1]}_{c[2]}_imb2'] = (max_-mid_)/(mid_-min_)\n",
    "    \n",
    "        \n",
    "    df.drop(columns=[\n",
    "        # 'date_id', \n",
    "        'reference_price_far_price_imb',\n",
    "        'reference_price_minus_near_price',\n",
    "        'reference_price_near_price_imb',\n",
    "        'far_price_near_price_imb',\n",
    "        'far_price_ask_price_imb',\n",
    "        'far_price_bid_price_imb',\n",
    "        'far_price_minus_wap',\n",
    "        'std_size',\n",
    "        'bid_size_over_ask_size',\n",
    "        'ask_price_bid_price_imb',\n",
    "        'near_price_times_wap'\n",
    "    ], inplace=True)\n",
    "        \n",
    "    gc.collect()\n",
    "\n",
    "    df.replace([np.inf, -np.inf], 0, inplace=True)\n",
    "    \n",
    "    return df"
   ]
  },
  {
   "cell_type": "code",
   "execution_count": 17,
   "metadata": {},
   "outputs": [],
   "source": [
    "y = train['target'].values\n",
    "X = feat_eng(train)"
   ]
  },
  {
   "cell_type": "code",
   "execution_count": 18,
   "metadata": {},
   "outputs": [],
   "source": [
    "nulls = X.isna().sum(axis = 0)"
   ]
  },
  {
   "cell_type": "code",
   "execution_count": 19,
   "metadata": {},
   "outputs": [],
   "source": [
    "prices = [c for c in train.columns if 'price' in c]\n",
    "pca_prices = PCA(n_components=1)\n",
    "X['pca_prices'] = pca_prices.fit_transform(X[prices].fillna(1))"
   ]
  },
  {
   "cell_type": "code",
   "execution_count": 20,
   "metadata": {},
   "outputs": [],
   "source": [
    "lgbm_columns = ['stock_id', 'seconds_in_bucket', 'imbalance_size',\n",
    "       'imbalance_buy_sell_flag', 'reference_price', 'matched_size',\n",
    "       'far_price', 'near_price', 'bid_price', 'bid_size', 'ask_price',\n",
    "       'ask_size', 'wap', 'overall_medvol', 'first5min_medvol',\n",
    "       'last5min_medvol', 'bid_plus_ask_sizes', 'imbalance_ratio', 'imb_s1',\n",
    "       'imb_s2', 'ask_x_size', 'bid_x_size', 'ask_minus_bid',\n",
    "       'bid_price_over_ask_price', 'reference_price_minus_far_price',\n",
    "       'reference_price_times_far_price', 'reference_price_times_near_price',\n",
    "       'reference_price_minus_ask_price', 'reference_price_times_ask_price',\n",
    "       'reference_price_ask_price_imb', 'reference_price_minus_bid_price',\n",
    "       'reference_price_times_bid_price', 'reference_price_bid_price_imb',\n",
    "       'reference_price_minus_wap', 'reference_price_times_wap',\n",
    "       'reference_price_wap_imb', 'far_price_minus_near_price',\n",
    "       'far_price_times_near_price', 'far_price_minus_ask_price',\n",
    "       'far_price_times_ask_price', 'far_price_minus_bid_price',\n",
    "       'far_price_times_bid_price', 'far_price_times_wap', 'far_price_wap_imb',\n",
    "       'near_price_minus_ask_price', 'near_price_times_ask_price',\n",
    "       'near_price_ask_price_imb', 'near_price_minus_bid_price',\n",
    "       'near_price_times_bid_price', 'near_price_bid_price_imb',\n",
    "       'near_price_minus_wap', 'near_price_wap_imb',\n",
    "       'ask_price_minus_bid_price', 'ask_price_times_bid_price',\n",
    "       'ask_price_minus_wap', 'ask_price_times_wap', 'ask_price_wap_imb',\n",
    "       'bid_price_minus_wap', 'bid_price_times_wap', 'bid_price_wap_imb',\n",
    "       'reference_price_far_price_near_price_imb2',\n",
    "       'reference_price_far_price_ask_price_imb2',\n",
    "       'reference_price_far_price_bid_price_imb2',\n",
    "       'reference_price_far_price_wap_imb2',\n",
    "       'reference_price_near_price_ask_price_imb2',\n",
    "       'reference_price_near_price_bid_price_imb2',\n",
    "       'reference_price_near_price_wap_imb2',\n",
    "       'reference_price_ask_price_bid_price_imb2',\n",
    "       'reference_price_ask_price_wap_imb2',\n",
    "       'reference_price_bid_price_wap_imb2',\n",
    "       'far_price_near_price_ask_price_imb2',\n",
    "       'far_price_near_price_bid_price_imb2', 'far_price_near_price_wap_imb2',\n",
    "       'far_price_ask_price_bid_price_imb2', 'far_price_ask_price_wap_imb2',\n",
    "       'far_price_bid_price_wap_imb2', 'near_price_ask_price_bid_price_imb2',\n",
    "       'near_price_ask_price_wap_imb2', 'near_price_bid_price_wap_imb2',\n",
    "       'ask_price_bid_price_wap_imb2', 'pca_prices']"
   ]
  },
  {
   "cell_type": "code",
   "execution_count": 21,
   "metadata": {},
   "outputs": [],
   "source": [
    "lgbm = lgb.Booster(model_file='lgbm_model.lgb')\n",
    "lgbm_preds = lgbm.predict(X[lgbm_columns])\n",
    "X['lgbm_preds'] = lgbm_preds"
   ]
  },
  {
   "cell_type": "code",
   "execution_count": 22,
   "metadata": {},
   "outputs": [],
   "source": []
  },
  {
   "cell_type": "code",
   "execution_count": 23,
   "metadata": {},
   "outputs": [],
   "source": []
  },
  {
   "cell_type": "code",
   "execution_count": 24,
   "metadata": {},
   "outputs": [
    {
     "data": {
      "text/html": [
       "<div>\n",
       "<style scoped>\n",
       "    .dataframe tbody tr th:only-of-type {\n",
       "        vertical-align: middle;\n",
       "    }\n",
       "\n",
       "    .dataframe tbody tr th {\n",
       "        vertical-align: top;\n",
       "    }\n",
       "\n",
       "    .dataframe thead th {\n",
       "        text-align: right;\n",
       "    }\n",
       "</style>\n",
       "<table border=\"1\" class=\"dataframe\">\n",
       "  <thead>\n",
       "    <tr style=\"text-align: right;\">\n",
       "      <th></th>\n",
       "      <th>stock_id</th>\n",
       "      <th>date_id</th>\n",
       "      <th>seconds_in_bucket</th>\n",
       "      <th>imbalance_size</th>\n",
       "      <th>imbalance_buy_sell_flag</th>\n",
       "      <th>reference_price</th>\n",
       "      <th>matched_size</th>\n",
       "      <th>far_price</th>\n",
       "      <th>near_price</th>\n",
       "      <th>bid_price</th>\n",
       "      <th>...</th>\n",
       "      <th>far_price_near_price_wap_imb2</th>\n",
       "      <th>far_price_ask_price_bid_price_imb2</th>\n",
       "      <th>far_price_ask_price_wap_imb2</th>\n",
       "      <th>far_price_bid_price_wap_imb2</th>\n",
       "      <th>near_price_ask_price_bid_price_imb2</th>\n",
       "      <th>near_price_ask_price_wap_imb2</th>\n",
       "      <th>near_price_bid_price_wap_imb2</th>\n",
       "      <th>ask_price_bid_price_wap_imb2</th>\n",
       "      <th>pca_prices</th>\n",
       "      <th>lgbm_preds</th>\n",
       "    </tr>\n",
       "  </thead>\n",
       "  <tbody>\n",
       "    <tr>\n",
       "      <th>0</th>\n",
       "      <td>0</td>\n",
       "      <td>0</td>\n",
       "      <td>0</td>\n",
       "      <td>3180602.69</td>\n",
       "      <td>1</td>\n",
       "      <td>0.999812</td>\n",
       "      <td>13380276.64</td>\n",
       "      <td>NaN</td>\n",
       "      <td>NaN</td>\n",
       "      <td>0.999812</td>\n",
       "      <td>...</td>\n",
       "      <td>-1.0</td>\n",
       "      <td>-1.000214</td>\n",
       "      <td>-1.000026</td>\n",
       "      <td>-1.000188</td>\n",
       "      <td>-1.000214</td>\n",
       "      <td>-1.000026</td>\n",
       "      <td>-1.000188</td>\n",
       "      <td>0.138298</td>\n",
       "      <td>-0.000206</td>\n",
       "      <td>-0.203192</td>\n",
       "    </tr>\n",
       "    <tr>\n",
       "      <th>1</th>\n",
       "      <td>1</td>\n",
       "      <td>0</td>\n",
       "      <td>0</td>\n",
       "      <td>166603.91</td>\n",
       "      <td>-1</td>\n",
       "      <td>0.999896</td>\n",
       "      <td>1642214.25</td>\n",
       "      <td>NaN</td>\n",
       "      <td>NaN</td>\n",
       "      <td>0.999896</td>\n",
       "      <td>...</td>\n",
       "      <td>-1.0</td>\n",
       "      <td>-1.000764</td>\n",
       "      <td>-1.000660</td>\n",
       "      <td>-1.000104</td>\n",
       "      <td>-1.000764</td>\n",
       "      <td>-1.000660</td>\n",
       "      <td>-1.000104</td>\n",
       "      <td>6.346154</td>\n",
       "      <td>0.000256</td>\n",
       "      <td>1.151963</td>\n",
       "    </tr>\n",
       "    <tr>\n",
       "      <th>2</th>\n",
       "      <td>2</td>\n",
       "      <td>0</td>\n",
       "      <td>0</td>\n",
       "      <td>302879.87</td>\n",
       "      <td>-1</td>\n",
       "      <td>0.999561</td>\n",
       "      <td>1819368.03</td>\n",
       "      <td>NaN</td>\n",
       "      <td>NaN</td>\n",
       "      <td>0.999403</td>\n",
       "      <td>...</td>\n",
       "      <td>-1.0</td>\n",
       "      <td>-1.000896</td>\n",
       "      <td>-1.000298</td>\n",
       "      <td>-1.000597</td>\n",
       "      <td>-1.000896</td>\n",
       "      <td>-1.000298</td>\n",
       "      <td>-1.000597</td>\n",
       "      <td>0.499162</td>\n",
       "      <td>-0.000430</td>\n",
       "      <td>-2.417485</td>\n",
       "    </tr>\n",
       "    <tr>\n",
       "      <th>3</th>\n",
       "      <td>3</td>\n",
       "      <td>0</td>\n",
       "      <td>0</td>\n",
       "      <td>11917682.27</td>\n",
       "      <td>-1</td>\n",
       "      <td>1.000171</td>\n",
       "      <td>18389745.62</td>\n",
       "      <td>NaN</td>\n",
       "      <td>NaN</td>\n",
       "      <td>0.999999</td>\n",
       "      <td>...</td>\n",
       "      <td>-1.0</td>\n",
       "      <td>-1.000215</td>\n",
       "      <td>-1.000214</td>\n",
       "      <td>-1.000001</td>\n",
       "      <td>-1.000215</td>\n",
       "      <td>-1.000214</td>\n",
       "      <td>-1.000001</td>\n",
       "      <td>214.000000</td>\n",
       "      <td>0.000219</td>\n",
       "      <td>0.456065</td>\n",
       "    </tr>\n",
       "    <tr>\n",
       "      <th>4</th>\n",
       "      <td>4</td>\n",
       "      <td>0</td>\n",
       "      <td>0</td>\n",
       "      <td>447549.96</td>\n",
       "      <td>-1</td>\n",
       "      <td>0.999532</td>\n",
       "      <td>17860614.95</td>\n",
       "      <td>NaN</td>\n",
       "      <td>NaN</td>\n",
       "      <td>0.999394</td>\n",
       "      <td>...</td>\n",
       "      <td>-1.0</td>\n",
       "      <td>-1.000622</td>\n",
       "      <td>-1.000016</td>\n",
       "      <td>-1.000606</td>\n",
       "      <td>-1.000622</td>\n",
       "      <td>-1.000016</td>\n",
       "      <td>-1.000606</td>\n",
       "      <td>0.026403</td>\n",
       "      <td>-0.000614</td>\n",
       "      <td>-2.745228</td>\n",
       "    </tr>\n",
       "    <tr>\n",
       "      <th>...</th>\n",
       "      <td>...</td>\n",
       "      <td>...</td>\n",
       "      <td>...</td>\n",
       "      <td>...</td>\n",
       "      <td>...</td>\n",
       "      <td>...</td>\n",
       "      <td>...</td>\n",
       "      <td>...</td>\n",
       "      <td>...</td>\n",
       "      <td>...</td>\n",
       "      <td>...</td>\n",
       "      <td>...</td>\n",
       "      <td>...</td>\n",
       "      <td>...</td>\n",
       "      <td>...</td>\n",
       "      <td>...</td>\n",
       "      <td>...</td>\n",
       "      <td>...</td>\n",
       "      <td>...</td>\n",
       "      <td>...</td>\n",
       "      <td>...</td>\n",
       "    </tr>\n",
       "    <tr>\n",
       "      <th>2857075</th>\n",
       "      <td>195</td>\n",
       "      <td>480</td>\n",
       "      <td>290</td>\n",
       "      <td>6099963.33</td>\n",
       "      <td>-1</td>\n",
       "      <td>1.000317</td>\n",
       "      <td>18633850.25</td>\n",
       "      <td>NaN</td>\n",
       "      <td>NaN</td>\n",
       "      <td>1.000201</td>\n",
       "      <td>...</td>\n",
       "      <td>-1.0</td>\n",
       "      <td>-1.000116</td>\n",
       "      <td>-1.000026</td>\n",
       "      <td>-1.000090</td>\n",
       "      <td>-1.000116</td>\n",
       "      <td>-1.000026</td>\n",
       "      <td>-1.000090</td>\n",
       "      <td>0.288889</td>\n",
       "      <td>0.000479</td>\n",
       "      <td>-0.290608</td>\n",
       "    </tr>\n",
       "    <tr>\n",
       "      <th>2857076</th>\n",
       "      <td>196</td>\n",
       "      <td>480</td>\n",
       "      <td>290</td>\n",
       "      <td>67949.56</td>\n",
       "      <td>-1</td>\n",
       "      <td>0.999357</td>\n",
       "      <td>7936446.96</td>\n",
       "      <td>NaN</td>\n",
       "      <td>NaN</td>\n",
       "      <td>0.999871</td>\n",
       "      <td>...</td>\n",
       "      <td>-1.0</td>\n",
       "      <td>-1.000258</td>\n",
       "      <td>-1.000153</td>\n",
       "      <td>-1.000105</td>\n",
       "      <td>-1.000258</td>\n",
       "      <td>-1.000153</td>\n",
       "      <td>-1.000105</td>\n",
       "      <td>1.457143</td>\n",
       "      <td>-0.000379</td>\n",
       "      <td>0.545304</td>\n",
       "    </tr>\n",
       "    <tr>\n",
       "      <th>2857077</th>\n",
       "      <td>197</td>\n",
       "      <td>480</td>\n",
       "      <td>290</td>\n",
       "      <td>3772211.05</td>\n",
       "      <td>-1</td>\n",
       "      <td>0.996538</td>\n",
       "      <td>7660852.97</td>\n",
       "      <td>NaN</td>\n",
       "      <td>NaN</td>\n",
       "      <td>0.996445</td>\n",
       "      <td>...</td>\n",
       "      <td>-1.0</td>\n",
       "      <td>-1.001035</td>\n",
       "      <td>-1.000587</td>\n",
       "      <td>-1.000448</td>\n",
       "      <td>-1.001035</td>\n",
       "      <td>-1.000587</td>\n",
       "      <td>-1.000448</td>\n",
       "      <td>1.311659</td>\n",
       "      <td>-0.005513</td>\n",
       "      <td>0.302351</td>\n",
       "    </tr>\n",
       "    <tr>\n",
       "      <th>2857078</th>\n",
       "      <td>198</td>\n",
       "      <td>480</td>\n",
       "      <td>290</td>\n",
       "      <td>3224772.38</td>\n",
       "      <td>-1</td>\n",
       "      <td>0.999210</td>\n",
       "      <td>84569369.22</td>\n",
       "      <td>NaN</td>\n",
       "      <td>NaN</td>\n",
       "      <td>0.998729</td>\n",
       "      <td>...</td>\n",
       "      <td>-1.0</td>\n",
       "      <td>-1.000241</td>\n",
       "      <td>-1.000133</td>\n",
       "      <td>-1.000108</td>\n",
       "      <td>-1.000241</td>\n",
       "      <td>-1.000133</td>\n",
       "      <td>-1.000108</td>\n",
       "      <td>1.231481</td>\n",
       "      <td>-0.001785</td>\n",
       "      <td>0.150930</td>\n",
       "    </tr>\n",
       "    <tr>\n",
       "      <th>2857079</th>\n",
       "      <td>199</td>\n",
       "      <td>480</td>\n",
       "      <td>290</td>\n",
       "      <td>651305.54</td>\n",
       "      <td>1</td>\n",
       "      <td>1.002129</td>\n",
       "      <td>20255913.92</td>\n",
       "      <td>NaN</td>\n",
       "      <td>NaN</td>\n",
       "      <td>1.001812</td>\n",
       "      <td>...</td>\n",
       "      <td>-1.0</td>\n",
       "      <td>-1.000316</td>\n",
       "      <td>-1.000102</td>\n",
       "      <td>-1.000215</td>\n",
       "      <td>-1.000316</td>\n",
       "      <td>-1.000102</td>\n",
       "      <td>-1.000215</td>\n",
       "      <td>0.474419</td>\n",
       "      <td>0.003502</td>\n",
       "      <td>-1.041036</td>\n",
       "    </tr>\n",
       "  </tbody>\n",
       "</table>\n",
       "<p>2857080 rows × 84 columns</p>\n",
       "</div>"
      ],
      "text/plain": [
       "         stock_id  date_id  seconds_in_bucket  imbalance_size  \\\n",
       "0               0        0                  0      3180602.69   \n",
       "1               1        0                  0       166603.91   \n",
       "2               2        0                  0       302879.87   \n",
       "3               3        0                  0     11917682.27   \n",
       "4               4        0                  0       447549.96   \n",
       "...           ...      ...                ...             ...   \n",
       "2857075       195      480                290      6099963.33   \n",
       "2857076       196      480                290        67949.56   \n",
       "2857077       197      480                290      3772211.05   \n",
       "2857078       198      480                290      3224772.38   \n",
       "2857079       199      480                290       651305.54   \n",
       "\n",
       "         imbalance_buy_sell_flag  reference_price  matched_size  far_price  \\\n",
       "0                              1         0.999812   13380276.64        NaN   \n",
       "1                             -1         0.999896    1642214.25        NaN   \n",
       "2                             -1         0.999561    1819368.03        NaN   \n",
       "3                             -1         1.000171   18389745.62        NaN   \n",
       "4                             -1         0.999532   17860614.95        NaN   \n",
       "...                          ...              ...           ...        ...   \n",
       "2857075                       -1         1.000317   18633850.25        NaN   \n",
       "2857076                       -1         0.999357    7936446.96        NaN   \n",
       "2857077                       -1         0.996538    7660852.97        NaN   \n",
       "2857078                       -1         0.999210   84569369.22        NaN   \n",
       "2857079                        1         1.002129   20255913.92        NaN   \n",
       "\n",
       "         near_price  bid_price  ...  far_price_near_price_wap_imb2  \\\n",
       "0               NaN   0.999812  ...                           -1.0   \n",
       "1               NaN   0.999896  ...                           -1.0   \n",
       "2               NaN   0.999403  ...                           -1.0   \n",
       "3               NaN   0.999999  ...                           -1.0   \n",
       "4               NaN   0.999394  ...                           -1.0   \n",
       "...             ...        ...  ...                            ...   \n",
       "2857075         NaN   1.000201  ...                           -1.0   \n",
       "2857076         NaN   0.999871  ...                           -1.0   \n",
       "2857077         NaN   0.996445  ...                           -1.0   \n",
       "2857078         NaN   0.998729  ...                           -1.0   \n",
       "2857079         NaN   1.001812  ...                           -1.0   \n",
       "\n",
       "         far_price_ask_price_bid_price_imb2  far_price_ask_price_wap_imb2  \\\n",
       "0                                 -1.000214                     -1.000026   \n",
       "1                                 -1.000764                     -1.000660   \n",
       "2                                 -1.000896                     -1.000298   \n",
       "3                                 -1.000215                     -1.000214   \n",
       "4                                 -1.000622                     -1.000016   \n",
       "...                                     ...                           ...   \n",
       "2857075                           -1.000116                     -1.000026   \n",
       "2857076                           -1.000258                     -1.000153   \n",
       "2857077                           -1.001035                     -1.000587   \n",
       "2857078                           -1.000241                     -1.000133   \n",
       "2857079                           -1.000316                     -1.000102   \n",
       "\n",
       "         far_price_bid_price_wap_imb2  near_price_ask_price_bid_price_imb2  \\\n",
       "0                           -1.000188                            -1.000214   \n",
       "1                           -1.000104                            -1.000764   \n",
       "2                           -1.000597                            -1.000896   \n",
       "3                           -1.000001                            -1.000215   \n",
       "4                           -1.000606                            -1.000622   \n",
       "...                               ...                                  ...   \n",
       "2857075                     -1.000090                            -1.000116   \n",
       "2857076                     -1.000105                            -1.000258   \n",
       "2857077                     -1.000448                            -1.001035   \n",
       "2857078                     -1.000108                            -1.000241   \n",
       "2857079                     -1.000215                            -1.000316   \n",
       "\n",
       "         near_price_ask_price_wap_imb2  near_price_bid_price_wap_imb2  \\\n",
       "0                            -1.000026                      -1.000188   \n",
       "1                            -1.000660                      -1.000104   \n",
       "2                            -1.000298                      -1.000597   \n",
       "3                            -1.000214                      -1.000001   \n",
       "4                            -1.000016                      -1.000606   \n",
       "...                                ...                            ...   \n",
       "2857075                      -1.000026                      -1.000090   \n",
       "2857076                      -1.000153                      -1.000105   \n",
       "2857077                      -1.000587                      -1.000448   \n",
       "2857078                      -1.000133                      -1.000108   \n",
       "2857079                      -1.000102                      -1.000215   \n",
       "\n",
       "         ask_price_bid_price_wap_imb2  pca_prices  lgbm_preds  \n",
       "0                            0.138298   -0.000206   -0.203192  \n",
       "1                            6.346154    0.000256    1.151963  \n",
       "2                            0.499162   -0.000430   -2.417485  \n",
       "3                          214.000000    0.000219    0.456065  \n",
       "4                            0.026403   -0.000614   -2.745228  \n",
       "...                               ...         ...         ...  \n",
       "2857075                      0.288889    0.000479   -0.290608  \n",
       "2857076                      1.457143   -0.000379    0.545304  \n",
       "2857077                      1.311659   -0.005513    0.302351  \n",
       "2857078                      1.231481   -0.001785    0.150930  \n",
       "2857079                      0.474419    0.003502   -1.041036  \n",
       "\n",
       "[2857080 rows x 84 columns]"
      ]
     },
     "execution_count": 24,
     "metadata": {},
     "output_type": "execute_result"
    }
   ],
   "source": [
    "X"
   ]
  },
  {
   "cell_type": "code",
   "execution_count": 25,
   "metadata": {},
   "outputs": [
    {
     "data": {
      "text/plain": [
       "Index(['stock_id', 'date_id', 'seconds_in_bucket', 'imbalance_size',\n",
       "       'imbalance_buy_sell_flag', 'reference_price', 'matched_size',\n",
       "       'far_price', 'near_price', 'bid_price', 'bid_size', 'ask_price',\n",
       "       'ask_size', 'wap', 'target', 'overall_medvol', 'first5min_medvol',\n",
       "       'last5min_medvol', 'bid_plus_ask_sizes', 'imbalance_ratio', 'imb_s1',\n",
       "       'imb_s2', 'ask_x_size', 'bid_x_size', 'ask_minus_bid',\n",
       "       'bid_price_over_ask_price', 'reference_price_minus_far_price',\n",
       "       'reference_price_times_far_price', 'reference_price_times_near_price',\n",
       "       'reference_price_minus_ask_price', 'reference_price_times_ask_price',\n",
       "       'reference_price_ask_price_imb', 'reference_price_minus_bid_price',\n",
       "       'reference_price_times_bid_price', 'reference_price_bid_price_imb',\n",
       "       'reference_price_minus_wap', 'reference_price_times_wap',\n",
       "       'reference_price_wap_imb', 'far_price_minus_near_price',\n",
       "       'far_price_times_near_price', 'far_price_minus_ask_price',\n",
       "       'far_price_times_ask_price', 'far_price_minus_bid_price',\n",
       "       'far_price_times_bid_price', 'far_price_times_wap', 'far_price_wap_imb',\n",
       "       'near_price_minus_ask_price', 'near_price_times_ask_price',\n",
       "       'near_price_ask_price_imb', 'near_price_minus_bid_price',\n",
       "       'near_price_times_bid_price', 'near_price_bid_price_imb',\n",
       "       'near_price_minus_wap', 'near_price_wap_imb',\n",
       "       'ask_price_minus_bid_price', 'ask_price_times_bid_price',\n",
       "       'ask_price_minus_wap', 'ask_price_times_wap', 'ask_price_wap_imb',\n",
       "       'bid_price_minus_wap', 'bid_price_times_wap', 'bid_price_wap_imb',\n",
       "       'reference_price_far_price_near_price_imb2',\n",
       "       'reference_price_far_price_ask_price_imb2',\n",
       "       'reference_price_far_price_bid_price_imb2',\n",
       "       'reference_price_far_price_wap_imb2',\n",
       "       'reference_price_near_price_ask_price_imb2',\n",
       "       'reference_price_near_price_bid_price_imb2',\n",
       "       'reference_price_near_price_wap_imb2',\n",
       "       'reference_price_ask_price_bid_price_imb2',\n",
       "       'reference_price_ask_price_wap_imb2',\n",
       "       'reference_price_bid_price_wap_imb2',\n",
       "       'far_price_near_price_ask_price_imb2',\n",
       "       'far_price_near_price_bid_price_imb2', 'far_price_near_price_wap_imb2',\n",
       "       'far_price_ask_price_bid_price_imb2', 'far_price_ask_price_wap_imb2',\n",
       "       'far_price_bid_price_wap_imb2', 'near_price_ask_price_bid_price_imb2',\n",
       "       'near_price_ask_price_wap_imb2', 'near_price_bid_price_wap_imb2',\n",
       "       'ask_price_bid_price_wap_imb2', 'pca_prices', 'lgbm_preds'],\n",
       "      dtype='object')"
      ]
     },
     "execution_count": 25,
     "metadata": {},
     "output_type": "execute_result"
    }
   ],
   "source": [
    "X.columns"
   ]
  },
  {
   "cell_type": "code",
   "execution_count": 26,
   "metadata": {},
   "outputs": [],
   "source": [
    "def zero_sum(prices, volumes):\n",
    "    \n",
    "#    I got this idea from https://github.com/gotoConversion/goto_conversion/\n",
    "    \n",
    "    std_error = np.sqrt(volumes)\n",
    "    step = np.sum(prices)/np.sum(std_error)\n",
    "    out = prices-std_error*step\n",
    "    \n",
    "    return out"
   ]
  },
  {
   "cell_type": "code",
   "execution_count": 27,
   "metadata": {},
   "outputs": [],
   "source": [
    "import importlib"
   ]
  },
  {
   "cell_type": "code",
   "execution_count": 28,
   "metadata": {},
   "outputs": [
    {
     "name": "stderr",
     "output_type": "stream",
     "text": [
      " 10%|▉         | 19/200 [00:12<01:23,  2.18it/s]"
     ]
    },
    {
     "name": "stdout",
     "output_type": "stream",
     "text": [
      "Missing Targets for day=438,for stock_id=19, Excluding\n"
     ]
    },
    {
     "name": "stderr",
     "output_type": "stream",
     "text": [
      " 50%|█████     | 101/200 [00:59<00:45,  2.19it/s]"
     ]
    },
    {
     "name": "stdout",
     "output_type": "stream",
     "text": [
      "Missing Targets for day=328,for stock_id=101, Excluding\n"
     ]
    },
    {
     "name": "stderr",
     "output_type": "stream",
     "text": [
      " 66%|██████▌   | 131/200 [01:17<01:35,  1.38s/it]"
     ]
    },
    {
     "name": "stdout",
     "output_type": "stream",
     "text": [
      "Missing Targets for day=35,for stock_id=131, Excluding\n"
     ]
    },
    {
     "name": "stderr",
     "output_type": "stream",
     "text": [
      " 79%|███████▉  | 158/200 [01:29<00:18,  2.33it/s]"
     ]
    },
    {
     "name": "stdout",
     "output_type": "stream",
     "text": [
      "Missing Targets for day=388,for stock_id=158, Excluding\n"
     ]
    },
    {
     "name": "stderr",
     "output_type": "stream",
     "text": [
      "100%|██████████| 200/200 [01:53<00:00,  1.75it/s]\n"
     ]
    },
    {
     "name": "stdout",
     "output_type": "stream",
     "text": [
      "Length of train: 385, Length of test 96\n"
     ]
    },
    {
     "name": "stderr",
     "output_type": "stream",
     "text": [
      "100%|██████████| 385/385 [00:00<00:00, 9158.13it/s]\n",
      "100%|██████████| 95/95 [00:00<00:00, 10546.54it/s]\n"
     ]
    }
   ],
   "source": [
    "importlib.reload(torch_classes)\n",
    "trading_data = torch_classes.TradingData(X)\n",
    "hidden_size = 64\n",
    "trading_data.generate_batches()"
   ]
  },
  {
   "cell_type": "code",
   "execution_count": 19,
   "metadata": {},
   "outputs": [
    {
     "data": {
      "text/plain": [
       "191"
      ]
     },
     "execution_count": 19,
     "metadata": {},
     "output_type": "execute_result"
    }
   ],
   "source": [
    "len(trading_data.train_batches[0])"
   ]
  },
  {
   "cell_type": "code",
   "execution_count": 20,
   "metadata": {},
   "outputs": [],
   "source": [
    "for x in trading_data.train_batches:\n",
    "    for t1 in x:\n",
    "        for t in t1:\n",
    "            if len(t)!=42:\n",
    "                print(len(t))\n",
    "        "
   ]
  },
  {
   "cell_type": "code",
   "execution_count": 21,
   "metadata": {},
   "outputs": [],
   "source": [
    "stat_cols = ['seconds_in_bucket', 'imbalance_size',\n",
    "       'imbalance_buy_sell_flag', 'reference_price', 'matched_size',\n",
    "       'bid_price', 'bid_size', 'ask_price',\n",
    "       'ask_size', 'wap', 'overall_medvol', 'first5min_medvol',\n",
    "       'last5min_medvol', 'bid_plus_ask_sizes', 'imbalance_ratio', 'imb_s1',\n",
    "       'imb_s2', 'ask_x_size', 'bid_x_size', 'ask_minus_bid',\n",
    "       'bid_price_over_ask_price', 'reference_price_minus_ask_price',\n",
    "       'reference_price_times_ask_price', 'reference_price_ask_price_imb',\n",
    "       'reference_price_minus_bid_price', 'reference_price_times_bid_price',\n",
    "       'reference_price_bid_price_imb', 'reference_price_minus_wap',\n",
    "       'reference_price_times_wap', 'reference_price_wap_imb',\n",
    "       'ask_price_minus_bid_price', 'ask_price_times_bid_price',\n",
    "       'ask_price_minus_wap', 'ask_price_times_wap', 'ask_price_wap_imb',\n",
    "       'bid_price_minus_wap', 'bid_price_times_wap', 'bid_price_wap_imb',\n",
    "       'reference_price_ask_price_bid_price_imb2',\n",
    "       'reference_price_ask_price_wap_imb2',\n",
    "       'reference_price_bid_price_wap_imb2', 'ask_price_bid_price_wap_imb2']"
   ]
  },
  {
   "cell_type": "code",
   "execution_count": 22,
   "metadata": {},
   "outputs": [],
   "source": [
    "X['stats'] = pd.Series(X[stat_cols].fillna(-1).values.tolist())"
   ]
  },
  {
   "cell_type": "code",
   "execution_count": 29,
   "metadata": {},
   "outputs": [
    {
     "data": {
      "text/plain": [
       "<module 'training_testing' from 'c:\\\\Users\\\\Nick\\\\Documents\\\\GitHub\\\\OptiverKaggle\\\\training_testing.py'>"
      ]
     },
     "execution_count": 29,
     "metadata": {},
     "output_type": "execute_result"
    }
   ],
   "source": [
    "importlib.reload(torch_classes)\n",
    "importlib.reload(training_testing)"
   ]
  },
  {
   "cell_type": "code",
   "execution_count": 34,
   "metadata": {},
   "outputs": [],
   "source": [
    "def model_pipeline(trading_df:torch_classes.TradingData, config:dict):\n",
    "    with wandb.init(project=\"Optviver\", config=config,save_code=True):\n",
    "        wandb.define_metric(\"val_epoch_loss_l1\", summary=\"min\")\n",
    "        wandb.define_metric(\"epoch_l1_loss\", summary=\"min\")\n",
    "        model = torch_classes.GRUNetV2(81,config['hidden_size'], num_layers=2).to('cuda:0')\n",
    "        print(model)\n",
    "        config = wandb.config\n",
    "        optimizer = optim.RMSprop(model.parameters(), lr=config['learning_rate'])\n",
    "        trading_df.reset_hidden(config['hidden_size'], config['num_layers'])\n",
    "        criterion = nn.SmoothL1Loss()\n",
    "        \n",
    "        training_testing.train_model(trading_df,model,config,optimizer,criterion)\n",
    "\n",
    "    return(model)\n",
    "\n"
   ]
  },
  {
   "cell_type": "code",
   "execution_count": 31,
   "metadata": {},
   "outputs": [
    {
     "data": {
      "text/plain": [
       "<module 'training_testing' from 'c:\\\\Users\\\\Nick\\\\Documents\\\\GitHub\\\\OptiverKaggle\\\\training_testing.py'>"
      ]
     },
     "execution_count": 31,
     "metadata": {},
     "output_type": "execute_result"
    }
   ],
   "source": [
    "importlib.reload(training_testing)"
   ]
  },
  {
   "cell_type": "code",
   "execution_count": 32,
   "metadata": {},
   "outputs": [],
   "source": [
    "config_static = {'learning_rate':0.00001, 'hidden_size':16, 'num_layers':2}"
   ]
  },
  {
   "cell_type": "code",
   "execution_count": 35,
   "metadata": {},
   "outputs": [
    {
     "data": {
      "application/vnd.jupyter.widget-view+json": {
       "model_id": "e0b10b7282b74f0eb19eb694760f0d97",
       "version_major": 2,
       "version_minor": 0
      },
      "text/plain": [
       "VBox(children=(Label(value='Waiting for wandb.init()...\\r'), FloatProgress(value=0.011288888888884685, max=1.0…"
      ]
     },
     "metadata": {},
     "output_type": "display_data"
    },
    {
     "data": {
      "text/html": [
       "wandb version 0.15.12 is available!  To upgrade, please run:\n",
       " $ pip install wandb --upgrade"
      ],
      "text/plain": [
       "<IPython.core.display.HTML object>"
      ]
     },
     "metadata": {},
     "output_type": "display_data"
    },
    {
     "data": {
      "text/html": [
       "Tracking run with wandb version 0.15.11"
      ],
      "text/plain": [
       "<IPython.core.display.HTML object>"
      ]
     },
     "metadata": {},
     "output_type": "display_data"
    },
    {
     "data": {
      "text/html": [
       "Run data is saved locally in <code>c:\\Users\\Nick\\Documents\\GitHub\\OptiverKaggle\\wandb\\run-20231016_110401-xr66p7pp</code>"
      ],
      "text/plain": [
       "<IPython.core.display.HTML object>"
      ]
     },
     "metadata": {},
     "output_type": "display_data"
    },
    {
     "data": {
      "text/html": [
       "Syncing run <strong><a href='https://wandb.ai/nickojelly/Optviver/runs/xr66p7pp' target=\"_blank\">blooming-bird-303</a></strong> to <a href='https://wandb.ai/nickojelly/Optviver' target=\"_blank\">Weights & Biases</a> (<a href='https://wandb.me/run' target=\"_blank\">docs</a>)<br/>"
      ],
      "text/plain": [
       "<IPython.core.display.HTML object>"
      ]
     },
     "metadata": {},
     "output_type": "display_data"
    },
    {
     "data": {
      "text/html": [
       " View project at <a href='https://wandb.ai/nickojelly/Optviver' target=\"_blank\">https://wandb.ai/nickojelly/Optviver</a>"
      ],
      "text/plain": [
       "<IPython.core.display.HTML object>"
      ]
     },
     "metadata": {},
     "output_type": "display_data"
    },
    {
     "data": {
      "text/html": [
       " View run at <a href='https://wandb.ai/nickojelly/Optviver/runs/xr66p7pp' target=\"_blank\">https://wandb.ai/nickojelly/Optviver/runs/xr66p7pp</a>"
      ],
      "text/plain": [
       "<IPython.core.display.HTML object>"
      ]
     },
     "metadata": {},
     "output_type": "display_data"
    },
    {
     "name": "stdout",
     "output_type": "stream",
     "text": [
      "GRUNetV2(\n",
      "  (gru): GRU(81, 16, num_layers=2, dropout=0.3)\n",
      "  (relu0): ReLU()\n",
      "  (batch_norm): BatchNorm1d(81, eps=1e-05, momentum=0.1, affine=True, track_running_stats=True)\n",
      "  (layer_norm): LayerNorm((16,), eps=1e-05, elementwise_affine=True)\n",
      "  (fc0): Linear(in_features=16, out_features=16, bias=True)\n",
      "  (rl1): ReLU()\n",
      "  (drop1): Dropout(p=0.5, inplace=False)\n",
      "  (fc1): Linear(in_features=16, out_features=1, bias=True)\n",
      "  (rl2): ReLU()\n",
      "  (drop2): Dropout(p=0.5, inplace=False)\n",
      "  (fc2): Linear(in_features=256, out_features=64, bias=True)\n",
      "  (rl3): ReLU()\n",
      "  (drop3): Dropout(p=0.5, inplace=False)\n",
      "  (fc3): Linear(in_features=64, out_features=8, bias=True)\n",
      ")\n"
     ]
    },
    {
     "data": {
      "application/vnd.jupyter.widget-view+json": {
       "model_id": "eaae8e1beb3144118ab60e6562b61d7b",
       "version_major": 2,
       "version_minor": 0
      },
      "text/plain": [
       "  0%|          | 0/10000 [00:00<?, ?it/s]"
      ]
     },
     "metadata": {},
     "output_type": "display_data"
    },
    {
     "name": "stdout",
     "output_type": "stream",
     "text": [
      "   stock  day  time    target      pred\n",
      "0      0    0     0 -2.340078  0.056889\n",
      "1      1    0     0 -8.130074  0.202185\n",
      "2      2    0     0  0.790358  0.246280\n",
      "3      3    0     0  6.059408  0.037527\n",
      "4      4    0     0  0.499487  0.205801\n",
      "5      5    0     0  5.190372  0.166963\n",
      "6      6    0     0 -4.439950  0.237778\n",
      "7      7    0     0 -3.280044  0.163919\n",
      "8      8    0     0  0.419617  0.099438\n",
      "9      9    0     0  1.959801  0.051684\n",
      "created path\n",
      "   stock  day  time    target      pred\n",
      "0      0    0     0 -2.340078 -0.670580\n",
      "1      1    0     0 -8.130074 -0.084390\n",
      "2      2    0     0  0.790358  0.331256\n",
      "3      3    0     0  6.059408 -0.416079\n",
      "4      4    0     0  0.499487  0.141223\n",
      "5      5    0     0  5.190372 -0.004307\n",
      "6      6    0     0 -4.439950  0.068711\n",
      "7      7    0     0 -3.280044 -0.089035\n",
      "8      8    0     0  0.419617 -0.396527\n",
      "9      9    0     0  1.959801 -0.213220\n",
      "   stock  day  time    target      pred\n",
      "0      0    0     0 -2.340078 -1.227026\n",
      "1      1    0     0 -8.130074 -1.159798\n",
      "2      2    0     0  0.790358  0.141728\n",
      "3      3    0     0  6.059408 -0.549624\n",
      "4      4    0     0  0.499487  0.574832\n",
      "5      5    0     0  5.190372 -0.890105\n",
      "6      6    0     0 -4.439950  0.349235\n",
      "7      7    0     0 -3.280044 -1.483678\n",
      "8      8    0     0  0.419617 -0.020113\n",
      "9      9    0     0  1.959801  0.355240\n",
      "   stock  day  time    target      pred\n",
      "0      0    0     0 -2.340078 -1.189764\n",
      "1      1    0     0 -8.130074 -1.310921\n",
      "2      2    0     0  0.790358 -1.309193\n",
      "3      3    0     0  6.059408 -0.821976\n",
      "4      4    0     0  0.499487  0.645231\n",
      "5      5    0     0  5.190372 -2.206443\n",
      "6      6    0     0 -4.439950  0.889747\n",
      "7      7    0     0 -3.280044 -2.689735\n",
      "8      8    0     0  0.419617  0.743472\n",
      "9      9    0     0  1.959801  0.429040\n",
      "   stock  day  time    target      pred\n",
      "0      0    0     0 -2.340078 -1.110200\n",
      "1      1    0     0 -8.130074 -1.132948\n",
      "2      2    0     0  0.790358 -2.364749\n",
      "3      3    0     0  6.059408 -0.529059\n",
      "4      4    0     0  0.499487  0.535367\n",
      "5      5    0     0  5.190372 -2.695866\n",
      "6      6    0     0 -4.439950  0.471917\n",
      "7      7    0     0 -3.280044 -3.302818\n",
      "8      8    0     0  0.419617  0.362721\n",
      "9      9    0     0  1.959801  0.120260\n",
      "   stock  day  time    target      pred\n",
      "0      0    0     0 -2.340078 -1.236171\n",
      "1      1    0     0 -8.130074 -1.373558\n",
      "2      2    0     0  0.790358 -2.449733\n",
      "3      3    0     0  6.059408 -0.427292\n",
      "4      4    0     0  0.499487  0.123701\n",
      "5      5    0     0  5.190372 -2.133303\n",
      "6      6    0     0 -4.439950 -0.164990\n",
      "7      7    0     0 -3.280044 -3.205214\n",
      "8      8    0     0  0.419617  0.190598\n",
      "9      9    0     0  1.959801 -0.023789\n",
      "   stock  day  time    target      pred\n",
      "0      0    0     0 -2.340078 -1.306459\n",
      "1      1    0     0 -8.130074 -1.062100\n",
      "2      2    0     0  0.790358 -1.291404\n",
      "3      3    0     0  6.059408 -0.550366\n",
      "4      4    0     0  0.499487  0.165294\n",
      "5      5    0     0  5.190372 -1.741046\n",
      "6      6    0     0 -4.439950 -0.657493\n",
      "7      7    0     0 -3.280044 -2.850386\n",
      "8      8    0     0  0.419617  0.513299\n",
      "9      9    0     0  1.959801  0.272942\n",
      "   stock  day  time    target      pred\n",
      "0      0    0     0 -2.340078 -1.188942\n",
      "1      1    0     0 -8.130074 -0.937805\n",
      "2      2    0     0  0.790358 -1.289083\n",
      "3      3    0     0  6.059408 -0.601258\n",
      "4      4    0     0  0.499487  0.303059\n",
      "5      5    0     0  5.190372 -2.225851\n",
      "6      6    0     0 -4.439950 -0.585025\n",
      "7      7    0     0 -3.280044 -2.917315\n",
      "8      8    0     0  0.419617  0.575277\n",
      "9      9    0     0  1.959801  0.490305\n",
      "   stock  day  time    target      pred\n",
      "0      0    0     0 -2.340078 -0.951667\n",
      "1      1    0     0 -8.130074 -0.852820\n",
      "2      2    0     0  0.790358 -1.273525\n",
      "3      3    0     0  6.059408 -0.914197\n",
      "4      4    0     0  0.499487  0.469072\n",
      "5      5    0     0  5.190372 -2.600922\n",
      "6      6    0     0 -4.439950 -0.691736\n",
      "7      7    0     0 -3.280044 -3.059762\n",
      "8      8    0     0  0.419617  0.763526\n",
      "9      9    0     0  1.959801  0.464415\n",
      "   stock  day  time    target      pred\n",
      "0      0    0     0 -2.340078 -1.092933\n",
      "1      1    0     0 -8.130074  0.162087\n",
      "2      2    0     0  0.790358 -0.896156\n",
      "3      3    0     0  6.059408 -0.774951\n",
      "4      4    0     0  0.499487  0.555698\n",
      "5      5    0     0  5.190372 -3.027429\n",
      "6      6    0     0 -4.439950 -0.746312\n",
      "7      7    0     0 -3.280044 -3.253792\n",
      "8      8    0     0  0.419617  0.810799\n",
      "9      9    0     0  1.959801  0.368144\n",
      "   stock  day  time    target      pred\n",
      "0      0    0     0 -2.340078 -0.746978\n",
      "1      1    0     0 -8.130074 -0.501003\n",
      "2      2    0     0  0.790358 -0.753798\n",
      "3      3    0     0  6.059408 -0.844651\n",
      "4      4    0     0  0.499487  0.416083\n",
      "5      5    0     0  5.190372 -2.594403\n",
      "6      6    0     0 -4.439950 -0.619491\n",
      "7      7    0     0 -3.280044 -3.271627\n",
      "8      8    0     0  0.419617  0.847389\n",
      "9      9    0     0  1.959801  0.304465\n",
      "   stock  day  time    target      pred\n",
      "0      0    0     0 -2.340078 -0.883660\n",
      "1      1    0     0 -8.130074 -1.081700\n",
      "2      2    0     0  0.790358 -0.869885\n",
      "3      3    0     0  6.059408 -0.811146\n",
      "4      4    0     0  0.499487  0.179841\n",
      "5      5    0     0  5.190372 -2.644880\n",
      "6      6    0     0 -4.439950 -0.524334\n",
      "7      7    0     0 -3.280044 -3.258823\n",
      "8      8    0     0  0.419617  0.619653\n",
      "9      9    0     0  1.959801  0.430622\n",
      "   stock  day  time    target      pred\n",
      "0      0    0     0 -2.340078 -0.858039\n",
      "1      1    0     0 -8.130074 -1.297871\n",
      "2      2    0     0  0.790358 -0.890236\n",
      "3      3    0     0  6.059408 -0.774909\n",
      "4      4    0     0  0.499487  0.135531\n",
      "5      5    0     0  5.190372 -2.176548\n",
      "6      6    0     0 -4.439950 -0.565123\n",
      "7      7    0     0 -3.280044 -3.463791\n",
      "8      8    0     0  0.419617  0.547516\n",
      "9      9    0     0  1.959801  0.539213\n",
      "   stock  day  time    target      pred\n",
      "0      0    0     0 -2.340078 -0.928538\n",
      "1      1    0     0 -8.130074 -1.427622\n",
      "2      2    0     0  0.790358 -0.784088\n",
      "3      3    0     0  6.059408 -1.007521\n",
      "4      4    0     0  0.499487  0.192389\n",
      "5      5    0     0  5.190372 -2.084479\n",
      "6      6    0     0 -4.439950 -0.529403\n",
      "7      7    0     0 -3.280044 -3.494622\n",
      "8      8    0     0  0.419617  0.678704\n",
      "9      9    0     0  1.959801  0.591396\n",
      "   stock  day  time    target      pred\n",
      "0      0    0     0 -2.340078 -1.062718\n",
      "1      1    0     0 -8.130074 -1.203028\n",
      "2      2    0     0  0.790358 -0.800780\n",
      "3      3    0     0  6.059408 -1.115798\n",
      "4      4    0     0  0.499487  0.291994\n",
      "5      5    0     0  5.190372 -2.071307\n",
      "6      6    0     0 -4.439950 -0.400970\n",
      "7      7    0     0 -3.280044 -3.326979\n",
      "8      8    0     0  0.419617  0.716465\n",
      "9      9    0     0  1.959801  0.630474\n",
      "   stock  day  time    target      pred\n",
      "0      0    0     0 -2.340078 -1.115812\n",
      "1      1    0     0 -8.130074 -0.884012\n",
      "2      2    0     0  0.790358 -0.728617\n",
      "3      3    0     0  6.059408 -1.145204\n",
      "4      4    0     0  0.499487  0.431310\n",
      "5      5    0     0  5.190372 -2.177547\n",
      "6      6    0     0 -4.439950 -0.431279\n",
      "7      7    0     0 -3.280044 -3.299650\n",
      "8      8    0     0  0.419617  0.770080\n",
      "9      9    0     0  1.959801  0.594743\n",
      "   stock  day  time    target      pred\n",
      "0      0    0     0 -2.340078 -1.060510\n",
      "1      1    0     0 -8.130074 -0.858739\n",
      "2      2    0     0  0.790358 -0.720093\n",
      "3      3    0     0  6.059408 -1.008066\n",
      "4      4    0     0  0.499487  0.120600\n",
      "5      5    0     0  5.190372 -2.217444\n",
      "6      6    0     0 -4.439950 -0.641980\n",
      "7      7    0     0 -3.280044 -3.283339\n",
      "8      8    0     0  0.419617  0.967012\n",
      "9      9    0     0  1.959801  0.336385\n",
      "   stock  day  time    target      pred\n",
      "0      0    0     0 -2.340078 -0.933762\n",
      "1      1    0     0 -8.130074 -0.739503\n",
      "2      2    0     0  0.790358 -0.780140\n",
      "3      3    0     0  6.059408 -0.875330\n",
      "4      4    0     0  0.499487  0.144191\n",
      "5      5    0     0  5.190372 -2.095634\n",
      "6      6    0     0 -4.439950 -0.667215\n",
      "7      7    0     0 -3.280044 -3.252814\n",
      "8      8    0     0  0.419617  1.112163\n",
      "9      9    0     0  1.959801  0.243138\n",
      "   stock  day  time    target      pred\n",
      "0      0    0     0 -2.340078 -0.921968\n",
      "1      1    0     0 -8.130074 -0.742154\n",
      "2      2    0     0  0.790358 -0.773990\n",
      "3      3    0     0  6.059408 -0.907100\n",
      "4      4    0     0  0.499487 -0.049206\n",
      "5      5    0     0  5.190372 -2.429247\n",
      "6      6    0     0 -4.439950 -0.678876\n",
      "7      7    0     0 -3.280044 -3.477945\n",
      "8      8    0     0  0.419617  0.677850\n",
      "9      9    0     0  1.959801  0.099886\n",
      "   stock  day  time    target      pred\n",
      "0      0    0     0 -2.340078 -0.954228\n",
      "1      1    0     0 -8.130074 -0.677621\n",
      "2      2    0     0  0.790358 -0.726122\n",
      "3      3    0     0  6.059408 -0.928406\n",
      "4      4    0     0  0.499487  0.129873\n",
      "5      5    0     0  5.190372 -2.486559\n",
      "6      6    0     0 -4.439950 -0.741439\n",
      "7      7    0     0 -3.280044 -2.931309\n",
      "8      8    0     0  0.419617  0.589218\n",
      "9      9    0     0  1.959801  0.126272\n",
      "   stock  day  time    target      pred\n",
      "0      0    0     0 -2.340078 -1.103505\n",
      "1      1    0     0 -8.130074 -0.700463\n",
      "2      2    0     0  0.790358 -0.714426\n",
      "3      3    0     0  6.059408 -1.209360\n",
      "4      4    0     0  0.499487  0.090896\n",
      "5      5    0     0  5.190372 -2.440834\n",
      "6      6    0     0 -4.439950 -0.574481\n",
      "7      7    0     0 -3.280044 -3.406607\n",
      "8      8    0     0  0.419617  0.500998\n",
      "9      9    0     0  1.959801  0.303861\n",
      "   stock  day  time    target      pred\n",
      "0      0    0     0 -2.340078 -1.248716\n",
      "1      1    0     0 -8.130074 -0.587151\n",
      "2      2    0     0  0.790358 -0.823476\n",
      "3      3    0     0  6.059408 -1.359313\n",
      "4      4    0     0  0.499487  0.221795\n",
      "5      5    0     0  5.190372 -2.750848\n",
      "6      6    0     0 -4.439950 -0.734293\n",
      "7      7    0     0 -3.280044 -3.864962\n",
      "8      8    0     0  0.419617  0.685407\n",
      "9      9    0     0  1.959801  0.525451\n",
      "   stock  day  time    target      pred\n",
      "0      0    0     0 -2.340078 -1.164838\n",
      "1      1    0     0 -8.130074 -0.615944\n",
      "2      2    0     0  0.790358 -1.025359\n",
      "3      3    0     0  6.059408 -1.096456\n",
      "4      4    0     0  0.499487  0.285193\n",
      "5      5    0     0  5.190372 -2.827741\n",
      "6      6    0     0 -4.439950 -0.719814\n",
      "7      7    0     0 -3.280044 -3.328799\n",
      "8      8    0     0  0.419617  0.634386\n",
      "9      9    0     0  1.959801  0.538630\n",
      "   stock  day  time    target      pred\n",
      "0      0    0     0 -2.340078 -1.165649\n",
      "1      1    0     0 -8.130074 -0.709213\n",
      "2      2    0     0  0.790358 -1.236986\n",
      "3      3    0     0  6.059408 -1.355385\n",
      "4      4    0     0  0.499487  0.122878\n",
      "5      5    0     0  5.190372 -3.407454\n",
      "6      6    0     0 -4.439950 -0.850750\n",
      "7      7    0     0 -3.280044 -3.014181\n",
      "8      8    0     0  0.419617  0.723112\n",
      "9      9    0     0  1.959801  0.555325\n",
      "   stock  day  time    target      pred\n",
      "0      0    0     0 -2.340078 -1.272020\n",
      "1      1    0     0 -8.130074 -0.851785\n",
      "2      2    0     0  0.790358 -1.095629\n",
      "3      3    0     0  6.059408 -1.367498\n",
      "4      4    0     0  0.499487 -0.119879\n",
      "5      5    0     0  5.190372 -3.214032\n",
      "6      6    0     0 -4.439950 -0.983468\n",
      "7      7    0     0 -3.280044 -3.460847\n",
      "8      8    0     0  0.419617  0.680670\n",
      "9      9    0     0  1.959801  0.519302\n",
      "   stock  day  time    target      pred\n",
      "0      0    0     0 -2.340078 -1.315434\n",
      "1      1    0     0 -8.130074 -1.320242\n",
      "2      2    0     0  0.790358 -1.208175\n",
      "3      3    0     0  6.059408 -1.305558\n",
      "4      4    0     0  0.499487  0.044306\n",
      "5      5    0     0  5.190372 -2.653250\n",
      "6      6    0     0 -4.439950 -0.931458\n",
      "7      7    0     0 -3.280044 -2.639994\n",
      "8      8    0     0  0.419617  0.660810\n",
      "9      9    0     0  1.959801  0.466900\n",
      "   stock  day  time    target      pred\n",
      "0      0    0     0 -2.340078 -1.214666\n",
      "1      1    0     0 -8.130074 -1.638866\n",
      "2      2    0     0  0.790358 -0.950376\n",
      "3      3    0     0  6.059408 -1.247759\n",
      "4      4    0     0  0.499487 -0.268778\n",
      "5      5    0     0  5.190372 -2.350960\n",
      "6      6    0     0 -4.439950 -0.850937\n",
      "7      7    0     0 -3.280044 -3.482464\n",
      "8      8    0     0  0.419617  0.501127\n",
      "9      9    0     0  1.959801  0.220670\n",
      "   stock  day  time    target      pred\n",
      "0      0    0     0 -2.340078 -1.199028\n",
      "1      1    0     0 -8.130074 -1.681446\n",
      "2      2    0     0  0.790358 -1.028834\n",
      "3      3    0     0  6.059408 -1.228417\n",
      "4      4    0     0  0.499487 -0.012776\n",
      "5      5    0     0  5.190372 -2.237788\n",
      "6      6    0     0 -4.439950 -0.999061\n",
      "7      7    0     0 -3.280044 -3.670642\n",
      "8      8    0     0  0.419617  0.485564\n",
      "9      9    0     0  1.959801  0.015891\n",
      "   stock  day  time    target      pred\n",
      "0      0    0     0 -2.340078 -1.427075\n",
      "1      1    0     0 -8.130074 -1.538194\n",
      "2      2    0     0  0.790358 -1.009402\n",
      "3      3    0     0  6.059408 -1.527690\n",
      "4      4    0     0  0.499487 -0.376966\n",
      "5      5    0     0  5.190372 -2.497287\n",
      "6      6    0     0 -4.439950 -1.328274\n",
      "7      7    0     0 -3.280044 -3.115829\n",
      "8      8    0     0  0.419617  0.485197\n",
      "9      9    0     0  1.959801  0.039738\n",
      "   stock  day  time    target      pred\n",
      "0      0    0     0 -2.340078 -1.396937\n",
      "1      1    0     0 -8.130074 -1.601897\n",
      "2      2    0     0  0.790358 -0.921941\n",
      "3      3    0     0  6.059408 -1.419631\n",
      "4      4    0     0  0.499487 -0.451614\n",
      "5      5    0     0  5.190372 -3.003003\n",
      "6      6    0     0 -4.439950 -1.008916\n",
      "7      7    0     0 -3.280044 -3.380935\n",
      "8      8    0     0  0.419617  0.428979\n",
      "9      9    0     0  1.959801 -0.033585\n",
      "   stock  day  time    target      pred\n",
      "0      0    0     0 -2.340078 -1.337656\n",
      "1      1    0     0 -8.130074 -1.180412\n",
      "2      2    0     0  0.790358 -0.816101\n",
      "3      3    0     0  6.059408 -1.427474\n",
      "4      4    0     0  0.499487 -0.153913\n",
      "5      5    0     0  5.190372 -2.966645\n",
      "6      6    0     0 -4.439950 -1.207982\n",
      "7      7    0     0 -3.280044 -3.250742\n",
      "8      8    0     0  0.419617  0.535320\n",
      "9      9    0     0  1.959801  0.228773\n",
      "   stock  day  time    target      pred\n",
      "0      0    0     0 -2.340078 -1.606339\n",
      "1      1    0     0 -8.130074 -1.215700\n",
      "2      2    0     0  0.790358 -1.079344\n",
      "3      3    0     0  6.059408 -1.224694\n",
      "4      4    0     0  0.499487 -0.274305\n",
      "5      5    0     0  5.190372 -2.928596\n",
      "6      6    0     0 -4.439950 -1.491126\n",
      "7      7    0     0 -3.280044 -3.662538\n",
      "8      8    0     0  0.419617  0.352047\n",
      "9      9    0     0  1.959801 -0.124913\n",
      "   stock  day  time    target      pred\n",
      "0      0    0     0 -2.340078 -1.363748\n",
      "1      1    0     0 -8.130074 -1.256937\n",
      "2      2    0     0  0.790358 -1.039211\n",
      "3      3    0     0  6.059408 -1.087416\n",
      "4      4    0     0  0.499487 -0.252192\n",
      "5      5    0     0  5.190372 -2.425091\n",
      "6      6    0     0 -4.439950 -1.582862\n",
      "7      7    0     0 -3.280044 -3.526590\n",
      "8      8    0     0  0.419617  0.506778\n",
      "9      9    0     0  1.959801  0.002080\n",
      "   stock  day  time    target      pred\n",
      "0      0    0     0 -2.340078 -1.434430\n",
      "1      1    0     0 -8.130074 -1.333558\n",
      "2      2    0     0  0.790358 -0.742867\n",
      "3      3    0     0  6.059408 -1.397103\n",
      "4      4    0     0  0.499487  0.033314\n",
      "5      5    0     0  5.190372 -2.919729\n",
      "6      6    0     0 -4.439950 -1.125372\n",
      "7      7    0     0 -3.280044 -3.215033\n",
      "8      8    0     0  0.419617  0.564354\n",
      "9      9    0     0  1.959801  0.440401\n",
      "   stock  day  time    target      pred\n",
      "0      0    0     0 -2.340078 -1.306730\n",
      "1      1    0     0 -8.130074 -1.367448\n",
      "2      2    0     0  0.790358 -0.557672\n",
      "3      3    0     0  6.059408 -1.387160\n",
      "4      4    0     0  0.499487 -0.292960\n",
      "5      5    0     0  5.190372 -3.281600\n",
      "6      6    0     0 -4.439950 -1.071789\n",
      "7      7    0     0 -3.280044 -3.136849\n",
      "8      8    0     0  0.419617  0.404655\n",
      "9      9    0     0  1.959801  0.170619\n",
      "   stock  day  time    target      pred\n",
      "0      0    0     0 -2.340078 -1.275395\n",
      "1      1    0     0 -8.130074 -0.999229\n",
      "2      2    0     0  0.790358 -0.835581\n",
      "3      3    0     0  6.059408 -1.016599\n",
      "4      4    0     0  0.499487 -0.333468\n",
      "5      5    0     0  5.190372 -2.766529\n",
      "6      6    0     0 -4.439950 -1.018415\n",
      "7      7    0     0 -3.280044 -3.549234\n",
      "8      8    0     0  0.419617  0.473025\n",
      "9      9    0     0  1.959801  0.311183\n",
      "   stock  day  time    target      pred\n",
      "0      0    0     0 -2.340078 -1.348039\n",
      "1      1    0     0 -8.130074 -1.340647\n",
      "2      2    0     0  0.790358 -0.877657\n",
      "3      3    0     0  6.059408 -1.298735\n",
      "4      4    0     0  0.499487 -0.190067\n",
      "5      5    0     0  5.190372 -3.056991\n",
      "6      6    0     0 -4.439950 -0.583212\n",
      "7      7    0     0 -3.280044 -3.721043\n",
      "8      8    0     0  0.419617  0.909926\n",
      "9      9    0     0  1.959801  0.369625\n",
      "   stock  day  time    target      pred\n",
      "0      0    0     0 -2.340078 -1.290864\n",
      "1      1    0     0 -8.130074 -1.106669\n",
      "2      2    0     0  0.790358 -0.828151\n",
      "3      3    0     0  6.059408 -0.922475\n",
      "4      4    0     0  0.499487 -0.315663\n",
      "5      5    0     0  5.190372 -2.151679\n",
      "6      6    0     0 -4.439950 -1.106705\n",
      "7      7    0     0 -3.280044 -3.401433\n",
      "8      8    0     0  0.419617  0.806668\n",
      "9      9    0     0  1.959801  0.175984\n",
      "   stock  day  time    target      pred\n",
      "0      0    0     0 -2.340078 -1.659492\n",
      "1      1    0     0 -8.130074 -0.985927\n",
      "2      2    0     0  0.790358 -0.626598\n",
      "3      3    0     0  6.059408 -1.209983\n",
      "4      4    0     0  0.499487 -0.292221\n",
      "5      5    0     0  5.190372 -2.738475\n",
      "6      6    0     0 -4.439950 -1.056626\n",
      "7      7    0     0 -3.280044 -3.073107\n",
      "8      8    0     0  0.419617  0.284026\n",
      "9      9    0     0  1.959801  0.149213\n"
     ]
    },
    {
     "name": "stderr",
     "output_type": "stream",
     "text": [
      "\u001b[34m\u001b[1mwandb\u001b[0m: Network error (ConnectionError), entering retry loop.\n"
     ]
    },
    {
     "name": "stdout",
     "output_type": "stream",
     "text": [
      "   stock  day  time    target      pred\n",
      "0      0    0     0 -2.340078 -1.477862\n",
      "1      1    0     0 -8.130074 -1.659792\n",
      "2      2    0     0  0.790358 -0.784501\n",
      "3      3    0     0  6.059408 -1.224919\n",
      "4      4    0     0  0.499487 -0.243962\n",
      "5      5    0     0  5.190372 -2.675981\n",
      "6      6    0     0 -4.439950 -1.151475\n",
      "7      7    0     0 -3.280044 -2.784948\n",
      "8      8    0     0  0.419617 -0.137615\n",
      "9      9    0     0  1.959801  0.381998\n"
     ]
    },
    {
     "name": "stderr",
     "output_type": "stream",
     "text": [
      "\u001b[34m\u001b[1mwandb\u001b[0m: Network error (ConnectionError), entering retry loop.\n"
     ]
    },
    {
     "name": "stdout",
     "output_type": "stream",
     "text": [
      "   stock  day  time    target      pred\n",
      "0      0    0     0 -2.340078 -1.095639\n",
      "1      1    0     0 -8.130074 -2.480497\n",
      "2      2    0     0  0.790358 -0.789129\n",
      "3      3    0     0  6.059408 -0.979824\n",
      "4      4    0     0  0.499487 -0.114165\n",
      "5      5    0     0  5.190372 -2.334424\n",
      "6      6    0     0 -4.439950 -0.812032\n",
      "7      7    0     0 -3.280044 -2.630756\n",
      "8      8    0     0  0.419617  0.125109\n",
      "9      9    0     0  1.959801  0.119300\n"
     ]
    },
    {
     "name": "stderr",
     "output_type": "stream",
     "text": [
      "\u001b[34m\u001b[1mwandb\u001b[0m: Network error (ConnectionError), entering retry loop.\n"
     ]
    },
    {
     "name": "stdout",
     "output_type": "stream",
     "text": [
      "   stock  day  time    target      pred\n",
      "0      0    0     0 -2.340078 -1.383206\n",
      "1      1    0     0 -8.130074 -1.183610\n",
      "2      2    0     0  0.790358 -0.970353\n",
      "3      3    0     0  6.059408 -0.949488\n",
      "4      4    0     0  0.499487 -0.195803\n",
      "5      5    0     0  5.190372 -1.957831\n",
      "6      6    0     0 -4.439950 -0.656426\n",
      "7      7    0     0 -3.280044 -3.391433\n",
      "8      8    0     0  0.419617  0.744747\n",
      "9      9    0     0  1.959801  0.629590\n"
     ]
    },
    {
     "name": "stderr",
     "output_type": "stream",
     "text": [
      "\u001b[34m\u001b[1mwandb\u001b[0m: Network error (ConnectionError), entering retry loop.\n"
     ]
    },
    {
     "name": "stdout",
     "output_type": "stream",
     "text": [
      "   stock  day  time    target      pred\n",
      "0      0    0     0 -2.340078 -1.200569\n",
      "1      1    0     0 -8.130074 -1.070591\n",
      "2      2    0     0  0.790358 -0.980445\n",
      "3      3    0     0  6.059408 -0.983177\n",
      "4      4    0     0  0.499487 -0.226724\n",
      "5      5    0     0  5.190372 -1.607602\n",
      "6      6    0     0 -4.439950 -0.716566\n",
      "7      7    0     0 -3.280044 -2.996082\n",
      "8      8    0     0  0.419617  0.524967\n",
      "9      9    0     0  1.959801  0.556122\n"
     ]
    },
    {
     "name": "stderr",
     "output_type": "stream",
     "text": [
      "\u001b[34m\u001b[1mwandb\u001b[0m: Network error (ConnectionError), entering retry loop.\n"
     ]
    },
    {
     "name": "stdout",
     "output_type": "stream",
     "text": [
      "   stock  day  time    target      pred\n",
      "0      0    0     0 -2.340078 -1.145330\n",
      "1      1    0     0 -8.130074 -1.056291\n",
      "2      2    0     0  0.790358 -0.972960\n",
      "3      3    0     0  6.059408 -1.406130\n",
      "4      4    0     0  0.499487 -0.369208\n",
      "5      5    0     0  5.190372 -1.466523\n",
      "6      6    0     0 -4.439950 -0.970490\n",
      "7      7    0     0 -3.280044 -2.466393\n",
      "8      8    0     0  0.419617  0.266674\n",
      "9      9    0     0  1.959801  0.014091\n"
     ]
    },
    {
     "name": "stderr",
     "output_type": "stream",
     "text": [
      "\u001b[34m\u001b[1mwandb\u001b[0m: Network error (ConnectionError), entering retry loop.\n"
     ]
    },
    {
     "name": "stdout",
     "output_type": "stream",
     "text": [
      "   stock  day  time    target      pred\n",
      "0      0    0     0 -2.340078 -1.328298\n",
      "1      1    0     0 -8.130074 -1.505333\n",
      "2      2    0     0  0.790358 -1.010516\n",
      "3      3    0     0  6.059408 -0.931334\n",
      "4      4    0     0  0.499487 -0.406889\n",
      "5      5    0     0  5.190372 -1.921710\n",
      "6      6    0     0 -4.439950 -1.141652\n",
      "7      7    0     0 -3.280044 -3.194030\n",
      "8      8    0     0  0.419617  0.844731\n",
      "9      9    0     0  1.959801  0.071868\n"
     ]
    },
    {
     "name": "stderr",
     "output_type": "stream",
     "text": [
      "\u001b[34m\u001b[1mwandb\u001b[0m: Network error (ConnectionError), entering retry loop.\n"
     ]
    },
    {
     "name": "stdout",
     "output_type": "stream",
     "text": [
      "   stock  day  time    target      pred\n",
      "0      0    0     0 -2.340078 -1.194402\n",
      "1      1    0     0 -8.130074 -1.142173\n",
      "2      2    0     0  0.790358 -0.807825\n",
      "3      3    0     0  6.059408 -1.246258\n",
      "4      4    0     0  0.499487 -0.248830\n",
      "5      5    0     0  5.190372 -1.758205\n",
      "6      6    0     0 -4.439950 -0.874644\n",
      "7      7    0     0 -3.280044 -3.096976\n",
      "8      8    0     0  0.419617  0.698687\n",
      "9      9    0     0  1.959801  0.059047\n"
     ]
    },
    {
     "name": "stderr",
     "output_type": "stream",
     "text": [
      "\u001b[34m\u001b[1mwandb\u001b[0m: Network error (ConnectionError), entering retry loop.\n"
     ]
    },
    {
     "name": "stdout",
     "output_type": "stream",
     "text": [
      "   stock  day  time    target      pred\n",
      "0      0    0     0 -2.340078 -0.885968\n",
      "1      1    0     0 -8.130074 -1.300508\n",
      "2      2    0     0  0.790358 -0.834697\n",
      "3      3    0     0  6.059408 -0.745646\n",
      "4      4    0     0  0.499487 -0.219925\n",
      "5      5    0     0  5.190372 -1.845829\n",
      "6      6    0     0 -4.439950 -0.597855\n",
      "7      7    0     0 -3.280044 -3.653405\n",
      "8      8    0     0  0.419617  0.762507\n",
      "9      9    0     0  1.959801  0.393852\n"
     ]
    },
    {
     "name": "stderr",
     "output_type": "stream",
     "text": [
      "\u001b[34m\u001b[1mwandb\u001b[0m: Network error (ConnectionError), entering retry loop.\n"
     ]
    },
    {
     "name": "stdout",
     "output_type": "stream",
     "text": [
      "   stock  day  time    target      pred\n",
      "0      0    0     0 -2.340078 -1.073062\n",
      "1      1    0     0 -8.130074 -1.401153\n",
      "2      2    0     0  0.790358 -0.667888\n",
      "3      3    0     0  6.059408 -0.789442\n",
      "4      4    0     0  0.499487 -0.258228\n",
      "5      5    0     0  5.190372 -2.031466\n",
      "6      6    0     0 -4.439950 -0.641283\n",
      "7      7    0     0 -3.280044 -2.307126\n",
      "8      8    0     0  0.419617  0.784431\n",
      "9      9    0     0  1.959801  0.509542\n"
     ]
    },
    {
     "name": "stderr",
     "output_type": "stream",
     "text": [
      "\u001b[34m\u001b[1mwandb\u001b[0m: Network error (ConnectionError), entering retry loop.\n"
     ]
    },
    {
     "name": "stdout",
     "output_type": "stream",
     "text": [
      "   stock  day  time    target      pred\n",
      "0      0    0     0 -2.340078 -1.022976\n",
      "1      1    0     0 -8.130074 -1.320763\n",
      "2      2    0     0  0.790358 -0.360103\n",
      "3      3    0     0  6.059408 -0.785636\n",
      "4      4    0     0  0.499487 -0.303764\n",
      "5      5    0     0  5.190372 -1.958844\n",
      "6      6    0     0 -4.439950 -0.542580\n",
      "7      7    0     0 -3.280044 -2.203514\n",
      "8      8    0     0  0.419617  0.737941\n",
      "9      9    0     0  1.959801  0.671462\n"
     ]
    },
    {
     "name": "stderr",
     "output_type": "stream",
     "text": [
      "\u001b[34m\u001b[1mwandb\u001b[0m: Network error (ConnectionError), entering retry loop.\n"
     ]
    },
    {
     "name": "stdout",
     "output_type": "stream",
     "text": [
      "   stock  day  time    target      pred\n",
      "0      0    0     0 -2.340078 -1.688555\n",
      "1      1    0     0 -8.130074 -1.221730\n",
      "2      2    0     0  0.790358 -0.475799\n",
      "3      3    0     0  6.059408 -0.903776\n",
      "4      4    0     0  0.499487 -0.388614\n",
      "5      5    0     0  5.190372 -1.961030\n",
      "6      6    0     0 -4.439950 -0.547135\n",
      "7      7    0     0 -3.280044 -2.799479\n",
      "8      8    0     0  0.419617  0.855168\n",
      "9      9    0     0  1.959801  0.713469\n"
     ]
    },
    {
     "name": "stderr",
     "output_type": "stream",
     "text": [
      "\u001b[34m\u001b[1mwandb\u001b[0m: Network error (ConnectionError), entering retry loop.\n"
     ]
    },
    {
     "name": "stdout",
     "output_type": "stream",
     "text": [
      "   stock  day  time    target      pred\n",
      "0      0    0     0 -2.340078 -1.617536\n",
      "1      1    0     0 -8.130074 -1.366720\n",
      "2      2    0     0  0.790358 -0.644218\n",
      "3      3    0     0  6.059408 -1.030201\n",
      "4      4    0     0  0.499487 -0.419755\n",
      "5      5    0     0  5.190372 -2.050541\n",
      "6      6    0     0 -4.439950 -0.657901\n",
      "7      7    0     0 -3.280044 -2.170470\n",
      "8      8    0     0  0.419617  0.920983\n",
      "9      9    0     0  1.959801  0.768740\n"
     ]
    },
    {
     "name": "stderr",
     "output_type": "stream",
     "text": [
      "\u001b[34m\u001b[1mwandb\u001b[0m: Network error (ConnectionError), entering retry loop.\n"
     ]
    },
    {
     "name": "stdout",
     "output_type": "stream",
     "text": [
      "   stock  day  time    target      pred\n",
      "0      0    0     0 -2.340078 -1.302998\n",
      "1      1    0     0 -8.130074 -1.461694\n",
      "2      2    0     0  0.790358 -0.557086\n",
      "3      3    0     0  6.059408 -1.146388\n",
      "4      4    0     0  0.499487 -0.412905\n",
      "5      5    0     0  5.190372 -2.387972\n",
      "6      6    0     0 -4.439950 -0.670158\n",
      "7      7    0     0 -3.280044 -2.267953\n",
      "8      8    0     0  0.419617  0.772178\n",
      "9      9    0     0  1.959801  0.776915\n"
     ]
    },
    {
     "name": "stderr",
     "output_type": "stream",
     "text": [
      "\u001b[34m\u001b[1mwandb\u001b[0m: Network error (ConnectionError), entering retry loop.\n"
     ]
    },
    {
     "name": "stdout",
     "output_type": "stream",
     "text": [
      "   stock  day  time    target      pred\n",
      "0      0    0     0 -2.340078 -1.623602\n",
      "1      1    0     0 -8.130074 -1.417053\n",
      "2      2    0     0  0.790358 -0.606411\n",
      "3      3    0     0  6.059408 -0.494470\n",
      "4      4    0     0  0.499487 -0.373276\n",
      "5      5    0     0  5.190372 -2.580938\n",
      "6      6    0     0 -4.439950 -0.965174\n",
      "7      7    0     0 -3.280044 -2.228032\n",
      "8      8    0     0  0.419617  0.922979\n",
      "9      9    0     0  1.959801  0.419218\n"
     ]
    },
    {
     "name": "stderr",
     "output_type": "stream",
     "text": [
      "\u001b[34m\u001b[1mwandb\u001b[0m: Network error (ConnectionError), entering retry loop.\n"
     ]
    },
    {
     "name": "stdout",
     "output_type": "stream",
     "text": [
      "   stock  day  time    target      pred\n",
      "0      0    0     0 -2.340078 -1.272885\n",
      "1      1    0     0 -8.130074 -1.863015\n",
      "2      2    0     0  0.790358 -0.362989\n",
      "3      3    0     0  6.059408 -0.822060\n",
      "4      4    0     0  0.499487 -0.355791\n",
      "5      5    0     0  5.190372 -2.677276\n",
      "6      6    0     0 -4.439950 -1.158809\n",
      "7      7    0     0 -3.280044 -2.191864\n",
      "8      8    0     0  0.419617  0.807276\n",
      "9      9    0     0  1.959801  0.874629\n"
     ]
    },
    {
     "name": "stderr",
     "output_type": "stream",
     "text": [
      "\u001b[34m\u001b[1mwandb\u001b[0m: Network error (ConnectionError), entering retry loop.\n"
     ]
    },
    {
     "name": "stdout",
     "output_type": "stream",
     "text": [
      "   stock  day  time    target      pred\n",
      "0      0    0     0 -2.340078 -1.103709\n",
      "1      1    0     0 -8.130074 -2.072341\n",
      "2      2    0     0  0.790358 -0.390183\n",
      "3      3    0     0  6.059408 -0.682607\n",
      "4      4    0     0  0.499487 -0.394771\n",
      "5      5    0     0  5.190372 -2.061702\n",
      "6      6    0     0 -4.439950 -0.898964\n",
      "7      7    0     0 -3.280044 -2.117820\n",
      "8      8    0     0  0.419617  0.757976\n",
      "9      9    0     0  1.959801  0.761777\n"
     ]
    },
    {
     "name": "stderr",
     "output_type": "stream",
     "text": [
      "\u001b[34m\u001b[1mwandb\u001b[0m: Network error (ConnectionError), entering retry loop.\n"
     ]
    },
    {
     "name": "stdout",
     "output_type": "stream",
     "text": [
      "   stock  day  time    target      pred\n",
      "0      0    0     0 -2.340078 -1.249394\n",
      "1      1    0     0 -8.130074 -2.218742\n",
      "2      2    0     0  0.790358 -0.355325\n",
      "3      3    0     0  6.059408 -0.408478\n",
      "4      4    0     0  0.499487 -0.342839\n",
      "5      5    0     0  5.190372 -2.242994\n",
      "6      6    0     0 -4.439950 -0.381594\n",
      "7      7    0     0 -3.280044 -2.306122\n",
      "8      8    0     0  0.419617  0.855034\n",
      "9      9    0     0  1.959801 -0.310679\n"
     ]
    },
    {
     "name": "stderr",
     "output_type": "stream",
     "text": [
      "\u001b[34m\u001b[1mwandb\u001b[0m: Network error (ConnectionError), entering retry loop.\n"
     ]
    },
    {
     "name": "stdout",
     "output_type": "stream",
     "text": [
      "   stock  day  time    target      pred\n",
      "0      0    0     0 -2.340078 -1.385766\n",
      "1      1    0     0 -8.130074 -1.559801\n",
      "2      2    0     0  0.790358 -0.318763\n",
      "3      3    0     0  6.059408 -0.981613\n",
      "4      4    0     0  0.499487 -0.337694\n",
      "5      5    0     0  5.190372 -1.909281\n",
      "6      6    0     0 -4.439950 -1.193930\n",
      "7      7    0     0 -3.280044 -2.348371\n",
      "8      8    0     0  0.419617  1.072960\n",
      "9      9    0     0  1.959801  0.895215\n"
     ]
    },
    {
     "name": "stderr",
     "output_type": "stream",
     "text": [
      "\u001b[34m\u001b[1mwandb\u001b[0m: Network error (ConnectionError), entering retry loop.\n"
     ]
    },
    {
     "name": "stdout",
     "output_type": "stream",
     "text": [
      "   stock  day  time    target      pred\n",
      "0      0    0     0 -2.340078 -0.836282\n",
      "1      1    0     0 -8.130074 -2.234913\n",
      "2      2    0     0  0.790358 -0.404745\n",
      "3      3    0     0  6.059408 -0.485418\n",
      "4      4    0     0  0.499487  0.043421\n",
      "5      5    0     0  5.190372 -2.130571\n",
      "6      6    0     0 -4.439950 -0.607023\n",
      "7      7    0     0 -3.280044 -3.392983\n",
      "8      8    0     0  0.419617  0.694202\n",
      "9      9    0     0  1.959801  0.698734\n"
     ]
    },
    {
     "name": "stderr",
     "output_type": "stream",
     "text": [
      "\u001b[34m\u001b[1mwandb\u001b[0m: Network error (ConnectionError), entering retry loop.\n"
     ]
    },
    {
     "name": "stdout",
     "output_type": "stream",
     "text": [
      "   stock  day  time    target      pred\n",
      "0      0    0     0 -2.340078 -0.566446\n",
      "1      1    0     0 -8.130074 -1.786745\n",
      "2      2    0     0  0.790358 -0.522991\n",
      "3      3    0     0  6.059408 -0.556910\n",
      "4      4    0     0  0.499487 -0.490983\n",
      "5      5    0     0  5.190372 -1.996759\n",
      "6      6    0     0 -4.439950 -0.563966\n",
      "7      7    0     0 -3.280044 -3.302968\n",
      "8      8    0     0  0.419617  0.756577\n",
      "9      9    0     0  1.959801  0.826640\n"
     ]
    },
    {
     "name": "stderr",
     "output_type": "stream",
     "text": [
      "\u001b[34m\u001b[1mwandb\u001b[0m: Network error (ConnectionError), entering retry loop.\n"
     ]
    },
    {
     "name": "stdout",
     "output_type": "stream",
     "text": [
      "   stock  day  time    target      pred\n",
      "0      0    0     0 -2.340078 -0.688133\n",
      "1      1    0     0 -8.130074 -2.010361\n",
      "2      2    0     0  0.790358 -0.622031\n",
      "3      3    0     0  6.059408 -0.644924\n",
      "4      4    0     0  0.499487  0.197247\n",
      "5      5    0     0  5.190372 -2.234970\n",
      "6      6    0     0 -4.439950 -0.643734\n",
      "7      7    0     0 -3.280044 -3.311874\n",
      "8      8    0     0  0.419617  0.736664\n",
      "9      9    0     0  1.959801  0.705198\n"
     ]
    },
    {
     "name": "stderr",
     "output_type": "stream",
     "text": [
      "\u001b[34m\u001b[1mwandb\u001b[0m: Network error (ConnectionError), entering retry loop.\n"
     ]
    },
    {
     "name": "stdout",
     "output_type": "stream",
     "text": [
      "   stock  day  time    target      pred\n",
      "0      0    0     0 -2.340078 -0.796904\n",
      "1      1    0     0 -8.130074 -1.351027\n",
      "2      2    0     0  0.790358 -0.666300\n",
      "3      3    0     0  6.059408 -0.680398\n",
      "4      4    0     0  0.499487  0.098500\n",
      "5      5    0     0  5.190372 -2.297892\n",
      "6      6    0     0 -4.439950 -0.689365\n",
      "7      7    0     0 -3.280044 -3.433089\n",
      "8      8    0     0  0.419617  0.832251\n",
      "9      9    0     0  1.959801  0.842075\n"
     ]
    },
    {
     "name": "stderr",
     "output_type": "stream",
     "text": [
      "\u001b[34m\u001b[1mwandb\u001b[0m: Network error (ConnectionError), entering retry loop.\n"
     ]
    },
    {
     "name": "stdout",
     "output_type": "stream",
     "text": [
      "   stock  day  time    target      pred\n",
      "0      0    0     0 -2.340078 -0.742582\n",
      "1      1    0     0 -8.130074 -1.575261\n",
      "2      2    0     0  0.790358 -0.724381\n",
      "3      3    0     0  6.059408 -0.798922\n",
      "4      4    0     0  0.499487  0.128361\n",
      "5      5    0     0  5.190372 -2.547325\n",
      "6      6    0     0 -4.439950 -0.801160\n",
      "7      7    0     0 -3.280044 -3.625435\n",
      "8      8    0     0  0.419617  0.757406\n",
      "9      9    0     0  1.959801  0.804175\n"
     ]
    },
    {
     "name": "stderr",
     "output_type": "stream",
     "text": [
      "\u001b[34m\u001b[1mwandb\u001b[0m: Network error (ConnectionError), entering retry loop.\n"
     ]
    },
    {
     "name": "stdout",
     "output_type": "stream",
     "text": [
      "   stock  day  time    target      pred\n",
      "0      0    0     0 -2.340078 -0.759792\n",
      "1      1    0     0 -8.130074 -1.327352\n",
      "2      2    0     0  0.790358 -0.740758\n",
      "3      3    0     0  6.059408 -0.759427\n",
      "4      4    0     0  0.499487  0.078884\n",
      "5      5    0     0  5.190372 -2.729010\n",
      "6      6    0     0 -4.439950 -0.792794\n",
      "7      7    0     0 -3.280044 -3.689635\n",
      "8      8    0     0  0.419617  0.859497\n",
      "9      9    0     0  1.959801  0.873541\n"
     ]
    },
    {
     "name": "stderr",
     "output_type": "stream",
     "text": [
      "\u001b[34m\u001b[1mwandb\u001b[0m: Network error (ConnectionError), entering retry loop.\n"
     ]
    },
    {
     "name": "stdout",
     "output_type": "stream",
     "text": [
      "   stock  day  time    target      pred\n",
      "0      0    0     0 -2.340078 -0.662810\n",
      "1      1    0     0 -8.130074 -2.076755\n",
      "2      2    0     0  0.790358 -0.628967\n",
      "3      3    0     0  6.059408 -0.651156\n",
      "4      4    0     0  0.499487  0.090946\n",
      "5      5    0     0  5.190372 -2.591126\n",
      "6      6    0     0 -4.439950 -0.627614\n",
      "7      7    0     0 -3.280044 -3.445359\n",
      "8      8    0     0  0.419617  0.753903\n",
      "9      9    0     0  1.959801  0.749500\n"
     ]
    },
    {
     "name": "stderr",
     "output_type": "stream",
     "text": [
      "\u001b[34m\u001b[1mwandb\u001b[0m: Network error (ConnectionError), entering retry loop.\n"
     ]
    },
    {
     "name": "stdout",
     "output_type": "stream",
     "text": [
      "   stock  day  time    target      pred\n",
      "0      0    0     0 -2.340078 -0.592423\n",
      "1      1    0     0 -8.130074 -2.350863\n",
      "2      2    0     0  0.790358 -0.445312\n",
      "3      3    0     0  6.059408 -0.552015\n",
      "4      4    0     0  0.499487  0.079793\n",
      "5      5    0     0  5.190372 -2.503468\n",
      "6      6    0     0 -4.439950 -0.554271\n",
      "7      7    0     0 -3.280044 -3.503848\n",
      "8      8    0     0  0.419617  0.764149\n",
      "9      9    0     0  1.959801  0.756707\n"
     ]
    },
    {
     "name": "stderr",
     "output_type": "stream",
     "text": [
      "\u001b[34m\u001b[1mwandb\u001b[0m: Network error (ConnectionError), entering retry loop.\n"
     ]
    },
    {
     "name": "stdout",
     "output_type": "stream",
     "text": [
      "   stock  day  time    target      pred\n",
      "0      0    0     0 -2.340078 -0.514965\n",
      "1      1    0     0 -8.130074 -2.351982\n",
      "2      2    0     0  0.790358 -0.472812\n",
      "3      3    0     0  6.059408 -0.498975\n",
      "4      4    0     0  0.499487  0.079053\n",
      "5      5    0     0  5.190372 -2.489947\n",
      "6      6    0     0 -4.439950 -0.538187\n",
      "7      7    0     0 -3.280044 -3.850609\n",
      "8      8    0     0  0.419617  0.775023\n",
      "9      9    0     0  1.959801  0.762975\n"
     ]
    },
    {
     "name": "stderr",
     "output_type": "stream",
     "text": [
      "\u001b[34m\u001b[1mwandb\u001b[0m: Network error (ConnectionError), entering retry loop.\n"
     ]
    },
    {
     "name": "stdout",
     "output_type": "stream",
     "text": [
      "   stock  day  time    target      pred\n",
      "0      0    0     0 -2.340078 -0.595672\n",
      "1      1    0     0 -8.130074 -2.546760\n",
      "2      2    0     0  0.790358 -0.575184\n",
      "3      3    0     0  6.059408 -0.760732\n",
      "4      4    0     0  0.499487 -0.001789\n",
      "5      5    0     0  5.190372 -2.670037\n",
      "6      6    0     0 -4.439950 -0.580635\n",
      "7      7    0     0 -3.280044 -3.732266\n",
      "8      8    0     0  0.419617  0.681947\n",
      "9      9    0     0  1.959801  0.672142\n"
     ]
    },
    {
     "name": "stderr",
     "output_type": "stream",
     "text": [
      "\u001b[34m\u001b[1mwandb\u001b[0m: Network error (ConnectionError), entering retry loop.\n"
     ]
    },
    {
     "name": "stdout",
     "output_type": "stream",
     "text": [
      "   stock  day  time    target      pred\n",
      "0      0    0     0 -2.340078 -0.708127\n",
      "1      1    0     0 -8.130074 -2.467857\n",
      "2      2    0     0  0.790358 -0.667203\n",
      "3      3    0     0  6.059408 -0.798798\n",
      "4      4    0     0  0.499487  0.059570\n",
      "5      5    0     0  5.190372 -2.691668\n",
      "6      6    0     0 -4.439950 -0.715270\n",
      "7      7    0     0 -3.280044 -3.847510\n",
      "8      8    0     0  0.419617  0.619370\n",
      "9      9    0     0  1.959801  0.485104\n"
     ]
    },
    {
     "name": "stderr",
     "output_type": "stream",
     "text": [
      "\u001b[34m\u001b[1mwandb\u001b[0m: Network error (ConnectionError), entering retry loop.\n"
     ]
    },
    {
     "name": "stdout",
     "output_type": "stream",
     "text": [
      "   stock  day  time    target      pred\n",
      "0      0    0     0 -2.340078 -0.803145\n",
      "1      1    0     0 -8.130074 -2.360662\n",
      "2      2    0     0  0.790358 -0.744313\n",
      "3      3    0     0  6.059408 -0.784218\n",
      "4      4    0     0  0.499487  0.317636\n",
      "5      5    0     0  5.190372 -2.891544\n",
      "6      6    0     0 -4.439950 -0.824614\n",
      "7      7    0     0 -3.280044 -4.039718\n",
      "8      8    0     0  0.419617  0.491436\n",
      "9      9    0     0  1.959801  0.495956\n"
     ]
    },
    {
     "name": "stderr",
     "output_type": "stream",
     "text": [
      "\u001b[34m\u001b[1mwandb\u001b[0m: Network error (ConnectionError), entering retry loop.\n"
     ]
    },
    {
     "name": "stdout",
     "output_type": "stream",
     "text": [
      "   stock  day  time    target      pred\n",
      "0      0    0     0 -2.340078 -0.878845\n",
      "1      1    0     0 -8.130074 -1.407665\n",
      "2      2    0     0  0.790358 -0.755514\n",
      "3      3    0     0  6.059408 -0.833965\n",
      "4      4    0     0  0.499487  0.213736\n",
      "5      5    0     0  5.190372 -2.837240\n",
      "6      6    0     0 -4.439950 -0.834257\n",
      "7      7    0     0 -3.280044 -3.946569\n",
      "8      8    0     0  0.419617  0.431873\n",
      "9      9    0     0  1.959801  0.420044\n"
     ]
    },
    {
     "name": "stderr",
     "output_type": "stream",
     "text": [
      "\u001b[34m\u001b[1mwandb\u001b[0m: Network error (ConnectionError), entering retry loop.\n"
     ]
    },
    {
     "name": "stdout",
     "output_type": "stream",
     "text": [
      "   stock  day  time    target      pred\n",
      "0      0    0     0 -2.340078 -0.818089\n",
      "1      1    0     0 -8.130074 -2.042646\n",
      "2      2    0     0  0.790358 -0.732591\n",
      "3      3    0     0  6.059408 -0.817509\n",
      "4      4    0     0  0.499487  0.091162\n",
      "5      5    0     0  5.190372 -3.003936\n",
      "6      6    0     0 -4.439950 -0.817734\n",
      "7      7    0     0 -3.280044 -4.070649\n",
      "8      8    0     0  0.419617  0.621624\n",
      "9      9    0     0  1.959801  0.620558\n"
     ]
    },
    {
     "name": "stderr",
     "output_type": "stream",
     "text": [
      "\u001b[34m\u001b[1mwandb\u001b[0m: Network error (ConnectionError), entering retry loop.\n"
     ]
    },
    {
     "name": "stdout",
     "output_type": "stream",
     "text": [
      "   stock  day  time    target      pred\n",
      "0      0    0     0 -2.340078 -0.807656\n",
      "1      1    0     0 -8.130074 -1.577570\n",
      "2      2    0     0  0.790358 -0.728121\n",
      "3      3    0     0  6.059408 -0.771009\n",
      "4      4    0     0  0.499487  0.825812\n",
      "5      5    0     0  5.190372 -2.895688\n",
      "6      6    0     0 -4.439950 -0.838020\n",
      "7      7    0     0 -3.280044 -4.015395\n",
      "8      8    0     0  0.419617  0.613632\n",
      "9      9    0     0  1.959801  0.613135\n"
     ]
    },
    {
     "name": "stderr",
     "output_type": "stream",
     "text": [
      "\u001b[34m\u001b[1mwandb\u001b[0m: Network error (ConnectionError), entering retry loop.\n"
     ]
    },
    {
     "name": "stdout",
     "output_type": "stream",
     "text": [
      "   stock  day  time    target      pred\n",
      "0      0    0     0 -2.340078 -0.738432\n",
      "1      1    0     0 -8.130074 -1.631109\n",
      "2      2    0     0  0.790358 -0.723289\n",
      "3      3    0     0  6.059408 -0.728987\n",
      "4      4    0     0  0.499487  0.324237\n",
      "5      5    0     0  5.190372 -2.774168\n",
      "6      6    0     0 -4.439950 -0.751092\n",
      "7      7    0     0 -3.280044 -3.610156\n",
      "8      8    0     0  0.419617  0.651795\n",
      "9      9    0     0  1.959801  0.651825\n"
     ]
    },
    {
     "name": "stderr",
     "output_type": "stream",
     "text": [
      "\u001b[34m\u001b[1mwandb\u001b[0m: Network error (ConnectionError), entering retry loop.\n"
     ]
    },
    {
     "name": "stdout",
     "output_type": "stream",
     "text": [
      "   stock  day  time    target      pred\n",
      "0      0    0     0 -2.340078 -0.797314\n",
      "1      1    0     0 -8.130074 -1.400081\n",
      "2      2    0     0  0.790358 -0.762214\n",
      "3      3    0     0  6.059408 -0.797820\n",
      "4      4    0     0  0.499487 -0.449052\n",
      "5      5    0     0  5.190372 -2.854426\n",
      "6      6    0     0 -4.439950 -0.795462\n",
      "7      7    0     0 -3.280044 -3.993740\n",
      "8      8    0     0  0.419617  0.570355\n",
      "9      9    0     0  1.959801  0.570459\n"
     ]
    },
    {
     "name": "stderr",
     "output_type": "stream",
     "text": [
      "\u001b[34m\u001b[1mwandb\u001b[0m: Network error (ConnectionError), entering retry loop.\n"
     ]
    },
    {
     "name": "stdout",
     "output_type": "stream",
     "text": [
      "   stock  day  time    target      pred\n",
      "0      0    0     0 -2.340078 -0.840787\n",
      "1      1    0     0 -8.130074 -0.987381\n",
      "2      2    0     0  0.790358 -0.776937\n",
      "3      3    0     0  6.059408 -0.829208\n",
      "4      4    0     0  0.499487 -0.393170\n",
      "5      5    0     0  5.190372 -2.956593\n",
      "6      6    0     0 -4.439950 -0.903773\n",
      "7      7    0     0 -3.280044 -3.928928\n",
      "8      8    0     0  0.419617  0.572885\n",
      "9      9    0     0  1.959801  0.572677\n"
     ]
    },
    {
     "name": "stderr",
     "output_type": "stream",
     "text": [
      "\u001b[34m\u001b[1mwandb\u001b[0m: Network error (ConnectionError), entering retry loop.\n"
     ]
    },
    {
     "name": "stdout",
     "output_type": "stream",
     "text": [
      "   stock  day  time    target      pred\n",
      "0      0    0     0 -2.340078 -0.793704\n",
      "1      1    0     0 -8.130074 -0.828449\n",
      "2      2    0     0  0.790358 -0.743305\n",
      "3      3    0     0  6.059408 -0.790919\n",
      "4      4    0     0  0.499487 -0.267748\n",
      "5      5    0     0  5.190372 -2.697051\n",
      "6      6    0     0 -4.439950 -0.794081\n",
      "7      7    0     0 -3.280044 -3.650918\n",
      "8      8    0     0  0.419617  0.462357\n",
      "9      9    0     0  1.959801  0.459688\n"
     ]
    },
    {
     "name": "stderr",
     "output_type": "stream",
     "text": [
      "\u001b[34m\u001b[1mwandb\u001b[0m: Network error (ConnectionError), entering retry loop.\n"
     ]
    },
    {
     "name": "stdout",
     "output_type": "stream",
     "text": [
      "   stock  day  time    target      pred\n",
      "0      0    0     0 -2.340078 -0.806636\n",
      "1      1    0     0 -8.130074 -1.688221\n",
      "2      2    0     0  0.790358 -0.736559\n",
      "3      3    0     0  6.059408 -0.789218\n",
      "4      4    0     0  0.499487 -0.243781\n",
      "5      5    0     0  5.190372 -2.643870\n",
      "6      6    0     0 -4.439950 -0.843464\n",
      "7      7    0     0 -3.280044 -3.636812\n",
      "8      8    0     0  0.419617  0.463985\n",
      "9      9    0     0  1.959801  0.472202\n"
     ]
    },
    {
     "name": "stderr",
     "output_type": "stream",
     "text": [
      "\u001b[34m\u001b[1mwandb\u001b[0m: Network error (ConnectionError), entering retry loop.\n"
     ]
    },
    {
     "name": "stdout",
     "output_type": "stream",
     "text": [
      "   stock  day  time    target      pred\n",
      "0      0    0     0 -2.340078 -0.864380\n",
      "1      1    0     0 -8.130074 -2.092454\n",
      "2      2    0     0  0.790358 -0.749343\n",
      "3      3    0     0  6.059408 -0.820828\n",
      "4      4    0     0  0.499487 -0.188589\n",
      "5      5    0     0  5.190372 -2.724286\n",
      "6      6    0     0 -4.439950 -0.870715\n",
      "7      7    0     0 -3.280044 -3.826287\n",
      "8      8    0     0  0.419617  0.370144\n",
      "9      9    0     0  1.959801  0.371593\n"
     ]
    },
    {
     "name": "stderr",
     "output_type": "stream",
     "text": [
      "\u001b[34m\u001b[1mwandb\u001b[0m: Network error (ConnectionError), entering retry loop.\n"
     ]
    },
    {
     "name": "stdout",
     "output_type": "stream",
     "text": [
      "   stock  day  time    target      pred\n",
      "0      0    0     0 -2.340078 -0.871602\n",
      "1      1    0     0 -8.130074 -1.854406\n",
      "2      2    0     0  0.790358 -0.741136\n",
      "3      3    0     0  6.059408 -0.767394\n",
      "4      4    0     0  0.499487 -0.136585\n",
      "5      5    0     0  5.190372 -2.614925\n",
      "6      6    0     0 -4.439950 -0.789657\n",
      "7      7    0     0 -3.280044 -3.628017\n",
      "8      8    0     0  0.419617  0.387876\n",
      "9      9    0     0  1.959801  0.456736\n"
     ]
    },
    {
     "name": "stderr",
     "output_type": "stream",
     "text": [
      "\u001b[34m\u001b[1mwandb\u001b[0m: Network error (ConnectionError), entering retry loop.\n"
     ]
    },
    {
     "name": "stdout",
     "output_type": "stream",
     "text": [
      "   stock  day  time    target      pred\n",
      "0      0    0     0 -2.340078 -0.824689\n",
      "1      1    0     0 -8.130074 -1.442194\n",
      "2      2    0     0  0.790358 -0.703914\n",
      "3      3    0     0  6.059408 -0.773647\n",
      "4      4    0     0  0.499487 -0.152366\n",
      "5      5    0     0  5.190372 -2.490982\n",
      "6      6    0     0 -4.439950 -0.843654\n",
      "7      7    0     0 -3.280044 -3.713687\n",
      "8      8    0     0  0.419617  0.669478\n",
      "9      9    0     0  1.959801  0.756959\n"
     ]
    },
    {
     "name": "stderr",
     "output_type": "stream",
     "text": [
      "\u001b[34m\u001b[1mwandb\u001b[0m: Network error (ConnectionError), entering retry loop.\n"
     ]
    },
    {
     "name": "stdout",
     "output_type": "stream",
     "text": [
      "   stock  day  time    target      pred\n",
      "0      0    0     0 -2.340078 -0.818638\n",
      "1      1    0     0 -8.130074 -2.014306\n",
      "2      2    0     0  0.790358 -0.797884\n",
      "3      3    0     0  6.059408 -0.798195\n",
      "4      4    0     0  0.499487 -0.169575\n",
      "5      5    0     0  5.190372 -2.652525\n",
      "6      6    0     0 -4.439950 -0.857752\n",
      "7      7    0     0 -3.280044 -3.689807\n",
      "8      8    0     0  0.419617  0.517752\n",
      "9      9    0     0  1.959801  0.523144\n"
     ]
    },
    {
     "name": "stderr",
     "output_type": "stream",
     "text": [
      "\u001b[34m\u001b[1mwandb\u001b[0m: Network error (ConnectionError), entering retry loop.\n"
     ]
    },
    {
     "name": "stdout",
     "output_type": "stream",
     "text": [
      "   stock  day  time    target      pred\n",
      "0      0    0     0 -2.340078 -0.791572\n",
      "1      1    0     0 -8.130074 -2.101181\n",
      "2      2    0     0  0.790358 -0.786895\n",
      "3      3    0     0  6.059408 -0.787166\n",
      "4      4    0     0  0.499487 -0.171490\n",
      "5      5    0     0  5.190372 -2.629709\n",
      "6      6    0     0 -4.439950 -0.807964\n",
      "7      7    0     0 -3.280044 -3.631809\n",
      "8      8    0     0  0.419617  0.406020\n",
      "9      9    0     0  1.959801  0.387348\n"
     ]
    },
    {
     "name": "stderr",
     "output_type": "stream",
     "text": [
      "\u001b[34m\u001b[1mwandb\u001b[0m: Network error (ConnectionError), entering retry loop.\n"
     ]
    },
    {
     "name": "stdout",
     "output_type": "stream",
     "text": [
      "   stock  day  time    target      pred\n",
      "0      0    0     0 -2.340078 -0.740664\n",
      "1      1    0     0 -8.130074 -1.942368\n",
      "2      2    0     0  0.790358 -0.729254\n",
      "3      3    0     0  6.059408 -0.729356\n",
      "4      4    0     0  0.499487 -0.490379\n",
      "5      5    0     0  5.190372 -3.098291\n",
      "6      6    0     0 -4.439950 -0.745051\n",
      "7      7    0     0 -3.280044 -3.509752\n",
      "8      8    0     0  0.419617  0.451001\n",
      "9      9    0     0  1.959801  0.124001\n"
     ]
    },
    {
     "name": "stderr",
     "output_type": "stream",
     "text": [
      "\u001b[34m\u001b[1mwandb\u001b[0m: Network error (ConnectionError), entering retry loop.\n"
     ]
    },
    {
     "name": "stdout",
     "output_type": "stream",
     "text": [
      "   stock  day  time    target      pred\n",
      "0      0    0     0 -2.340078 -0.775334\n",
      "1      1    0     0 -8.130074 -2.037894\n",
      "2      2    0     0  0.790358 -0.719839\n",
      "3      3    0     0  6.059408 -0.719874\n",
      "4      4    0     0  0.499487 -0.719854\n",
      "5      5    0     0  5.190372 -3.595930\n",
      "6      6    0     0 -4.439950 -0.726845\n",
      "7      7    0     0 -3.280044 -3.680105\n",
      "8      8    0     0  0.419617  0.507157\n",
      "9      9    0     0  1.959801  0.535893\n"
     ]
    },
    {
     "name": "stderr",
     "output_type": "stream",
     "text": [
      "\u001b[34m\u001b[1mwandb\u001b[0m: Network error (ConnectionError), entering retry loop.\n"
     ]
    },
    {
     "name": "stdout",
     "output_type": "stream",
     "text": [
      "   stock  day  time    target      pred\n",
      "0      0    0     0 -2.340078 -0.862376\n",
      "1      1    0     0 -8.130074 -2.621589\n",
      "2      2    0     0  0.790358 -0.811974\n",
      "3      3    0     0  6.059408 -0.812086\n",
      "4      4    0     0  0.499487 -0.157612\n",
      "5      5    0     0  5.190372 -2.836696\n",
      "6      6    0     0 -4.439950 -0.800875\n",
      "7      7    0     0 -3.280044 -3.862920\n",
      "8      8    0     0  0.419617  0.274918\n",
      "9      9    0     0  1.959801  0.293332\n"
     ]
    },
    {
     "name": "stderr",
     "output_type": "stream",
     "text": [
      "\u001b[34m\u001b[1mwandb\u001b[0m: Network error (ConnectionError), entering retry loop.\n"
     ]
    },
    {
     "name": "stdout",
     "output_type": "stream",
     "text": [
      "   stock  day  time    target      pred\n",
      "0      0    0     0 -2.340078 -0.923119\n",
      "1      1    0     0 -8.130074 -2.659076\n",
      "2      2    0     0  0.790358 -0.879844\n",
      "3      3    0     0  6.059408 -0.879861\n",
      "4      4    0     0  0.499487 -0.232940\n",
      "5      5    0     0  5.190372 -2.868726\n",
      "6      6    0     0 -4.439950 -0.879635\n",
      "7      7    0     0 -3.280044 -4.016855\n",
      "8      8    0     0  0.419617  0.737352\n",
      "9      9    0     0  1.959801  0.714113\n"
     ]
    },
    {
     "name": "stderr",
     "output_type": "stream",
     "text": [
      "\u001b[34m\u001b[1mwandb\u001b[0m: Network error (ConnectionError), entering retry loop.\n"
     ]
    },
    {
     "name": "stdout",
     "output_type": "stream",
     "text": [
      "   stock  day  time    target      pred\n",
      "0      0    0     0 -2.340078 -0.948694\n",
      "1      1    0     0 -8.130074 -1.733171\n",
      "2      2    0     0  0.790358 -0.935932\n",
      "3      3    0     0  6.059408 -0.936021\n",
      "4      4    0     0  0.499487 -0.319211\n",
      "5      5    0     0  5.190372 -3.140361\n",
      "6      6    0     0 -4.439950 -0.930972\n",
      "7      7    0     0 -3.280044 -4.244416\n",
      "8      8    0     0  0.419617  0.866035\n",
      "9      9    0     0  1.959801  0.440289\n"
     ]
    },
    {
     "name": "stderr",
     "output_type": "stream",
     "text": [
      "\u001b[34m\u001b[1mwandb\u001b[0m: Network error (ConnectionError), entering retry loop.\n"
     ]
    },
    {
     "name": "stdout",
     "output_type": "stream",
     "text": [
      "   stock  day  time    target      pred\n",
      "0      0    0     0 -2.340078 -0.971806\n",
      "1      1    0     0 -8.130074 -1.551368\n",
      "2      2    0     0  0.790358 -0.961588\n",
      "3      3    0     0  6.059408 -0.963757\n",
      "4      4    0     0  0.499487 -0.380872\n",
      "5      5    0     0  5.190372 -3.173076\n",
      "6      6    0     0 -4.439950 -0.961496\n",
      "7      7    0     0 -3.280044 -4.337797\n",
      "8      8    0     0  0.419617  0.668686\n",
      "9      9    0     0  1.959801  0.376432\n"
     ]
    },
    {
     "name": "stderr",
     "output_type": "stream",
     "text": [
      "\u001b[34m\u001b[1mwandb\u001b[0m: Network error (ConnectionError), entering retry loop.\n"
     ]
    },
    {
     "name": "stdout",
     "output_type": "stream",
     "text": [
      "   stock  day  time    target      pred\n",
      "0      0    0     0 -2.340078 -0.957654\n",
      "1      1    0     0 -8.130074 -1.468095\n",
      "2      2    0     0  0.790358 -0.894057\n",
      "3      3    0     0  6.059408 -0.897640\n",
      "4      4    0     0  0.499487 -0.375245\n",
      "5      5    0     0  5.190372 -3.027387\n",
      "6      6    0     0 -4.439950 -0.912908\n",
      "7      7    0     0 -3.280044 -4.153210\n",
      "8      8    0     0  0.419617  0.396405\n",
      "9      9    0     0  1.959801  0.276762\n"
     ]
    },
    {
     "name": "stderr",
     "output_type": "stream",
     "text": [
      "\u001b[34m\u001b[1mwandb\u001b[0m: Network error (ConnectionError), entering retry loop.\n"
     ]
    },
    {
     "name": "stdout",
     "output_type": "stream",
     "text": [
      "   stock  day  time    target      pred\n",
      "0      0    0     0 -2.340078 -0.858391\n",
      "1      1    0     0 -8.130074 -1.930519\n",
      "2      2    0     0  0.790358 -0.815639\n",
      "3      3    0     0  6.059408 -0.818607\n",
      "4      4    0     0  0.499487 -0.372354\n",
      "5      5    0     0  5.190372 -2.869510\n",
      "6      6    0     0 -4.439950 -0.861627\n",
      "7      7    0     0 -3.280044 -3.869915\n",
      "8      8    0     0  0.419617  0.566895\n",
      "9      9    0     0  1.959801  0.567604\n"
     ]
    },
    {
     "name": "stderr",
     "output_type": "stream",
     "text": [
      "\u001b[34m\u001b[1mwandb\u001b[0m: Network error (ConnectionError), entering retry loop.\n"
     ]
    },
    {
     "name": "stdout",
     "output_type": "stream",
     "text": [
      "   stock  day  time    target      pred\n",
      "0      0    0     0 -2.340078 -0.785306\n",
      "1      1    0     0 -8.130074 -2.571899\n",
      "2      2    0     0  0.790358 -0.763124\n",
      "3      3    0     0  6.059408 -0.764036\n",
      "4      4    0     0  0.499487 -0.658016\n",
      "5      5    0     0  5.190372 -2.720518\n",
      "6      6    0     0 -4.439950 -0.805771\n",
      "7      7    0     0 -3.280044 -3.708956\n",
      "8      8    0     0  0.419617  0.452716\n",
      "9      9    0     0  1.959801  0.458487\n"
     ]
    },
    {
     "name": "stderr",
     "output_type": "stream",
     "text": [
      "\u001b[34m\u001b[1mwandb\u001b[0m: Network error (ConnectionError), entering retry loop.\n"
     ]
    },
    {
     "name": "stdout",
     "output_type": "stream",
     "text": [
      "   stock  day  time    target      pred\n",
      "0      0    0     0 -2.340078 -0.774358\n",
      "1      1    0     0 -8.130074 -2.679548\n",
      "2      2    0     0  0.790358 -0.761382\n",
      "3      3    0     0  6.059408 -0.761852\n",
      "4      4    0     0  0.499487 -0.759583\n",
      "5      5    0     0  5.190372 -2.686026\n",
      "6      6    0     0 -4.439950 -0.788823\n",
      "7      7    0     0 -3.280044 -3.700814\n",
      "8      8    0     0  0.419617  0.417264\n",
      "9      9    0     0  1.959801  0.426779\n"
     ]
    },
    {
     "name": "stderr",
     "output_type": "stream",
     "text": [
      "\u001b[34m\u001b[1mwandb\u001b[0m: Network error (ConnectionError), entering retry loop.\n",
      "Traceback (most recent call last):\n",
      "  File \"C:\\Users\\Nick\\AppData\\Local\\Temp\\ipykernel_9876\\726279498.py\", line 12, in model_pipeline\n",
      "    training_testing.train_model(trading_df,model,config,optimizer,criterion)\n",
      "  File \"c:\\Users\\Nick\\Documents\\GitHub\\OptiverKaggle\\training_testing.py\", line 36, in train_model\n",
      "    hidden_in = torch.stack([x.hidden for x in stocks]).transpose(0,1)\n",
      "                ^^^^^^^^^^^^^^^^^^^^^^^^^^^^^^^^^^^^^^^\n",
      "KeyboardInterrupt\n"
     ]
    },
    {
     "data": {
      "text/html": [
       "Waiting for W&B process to finish... <strong style=\"color:red\">(failed 1).</strong> Press Ctrl-C to abort syncing."
      ],
      "text/plain": [
       "<IPython.core.display.HTML object>"
      ]
     },
     "metadata": {},
     "output_type": "display_data"
    }
   ],
   "source": [
    "model = model_pipeline(trading_data, config_static)"
   ]
  },
  {
   "cell_type": "code",
   "execution_count": null,
   "metadata": {},
   "outputs": [],
   "source": [
    "torch.cuda.empty_cache()"
   ]
  },
  {
   "cell_type": "code",
   "execution_count": null,
   "metadata": {},
   "outputs": [],
   "source": [
    "trading_data.reset_hidden(config_static['hidden_size'], config_static['num_layers'])"
   ]
  }
 ],
 "metadata": {
  "kernelspec": {
   "display_name": "python311",
   "language": "python",
   "name": "python3"
  },
  "language_info": {
   "codemirror_mode": {
    "name": "ipython",
    "version": 3
   },
   "file_extension": ".py",
   "mimetype": "text/x-python",
   "name": "python",
   "nbconvert_exporter": "python",
   "pygments_lexer": "ipython3",
   "version": "3.11.5"
  },
  "orig_nbformat": 4
 },
 "nbformat": 4,
 "nbformat_minor": 2
}
