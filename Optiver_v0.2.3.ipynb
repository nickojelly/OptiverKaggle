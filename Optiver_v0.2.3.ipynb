{
 "cells": [
  {
   "cell_type": "code",
   "execution_count": 1,
   "metadata": {},
   "outputs": [],
   "source": [
    "import pandas as pd \n",
    "import numpy as np\n",
    "import public_timeseries_testing_util as optiver2023\n",
    "from torch.nn.utils.rnn import pack_padded_sequence, pack_sequence, unpack_sequence, unpad_sequence\n",
    "import torch\n",
    "from tqdm.notebook import trange,tqdm\n",
    "import torch.nn as nn \n",
    "import torch.optim as optim\n",
    "import wandb\n",
    "import torch_classes\n",
    "from model_saver import model_saver_wandb as model_saver\n",
    "import training_testing\n",
    "from itertools import combinations\n",
    "import gc\n",
    "from sklearn.decomposition import PCA"
   ]
  },
  {
   "cell_type": "code",
   "execution_count": 2,
   "metadata": {},
   "outputs": [],
   "source": [
    "env = optiver2023.make_env()\n",
    "iter_test = env.iter_test()"
   ]
  },
  {
   "cell_type": "code",
   "execution_count": 3,
   "metadata": {},
   "outputs": [
    {
     "name": "stdout",
     "output_type": "stream",
     "text": [
      "Running on the GPU\n"
     ]
    }
   ],
   "source": [
    "if torch.cuda.is_available():\n",
    "    device = torch.device(\"cuda:0\")  # you can continue going on here, like cuda:1 cuda:2....etc.\n",
    "    print(\"Running on the GPU\")\n",
    "else:\n",
    "    device = torch.device(\"cpu\")\n",
    "    print(\"Running on the CPU\")"
   ]
  },
  {
   "cell_type": "code",
   "execution_count": 4,
   "metadata": {},
   "outputs": [
    {
     "data": {
      "text/plain": [
       "date_id\n",
       "480    6000\n",
       "353    6000\n",
       "363    6000\n",
       "362    6000\n",
       "360    6000\n",
       "       ... \n",
       "4      5760\n",
       "2      5730\n",
       "1      5730\n",
       "3      5730\n",
       "0      5730\n",
       "Name: count, Length: 481, dtype: int64"
      ]
     },
     "execution_count": 4,
     "metadata": {},
     "output_type": "execute_result"
    }
   ],
   "source": [
    "train = pd.read_csv('train.csv')\n",
    "train = train.query('seconds_in_bucket <= 290').reset_index(drop=True)\n",
    "train.head()\n",
    "train.date_id.value_counts()"
   ]
  },
  {
   "cell_type": "code",
   "execution_count": 5,
   "metadata": {},
   "outputs": [
    {
     "data": {
      "text/plain": [
       "seconds_in_bucket\n",
       "0      95236\n",
       "10     95236\n",
       "280    95236\n",
       "270    95236\n",
       "260    95236\n",
       "250    95236\n",
       "240    95236\n",
       "230    95236\n",
       "220    95236\n",
       "210    95236\n",
       "200    95236\n",
       "190    95236\n",
       "180    95236\n",
       "170    95236\n",
       "160    95236\n",
       "150    95236\n",
       "140    95236\n",
       "130    95236\n",
       "120    95236\n",
       "110    95236\n",
       "100    95236\n",
       "90     95236\n",
       "80     95236\n",
       "70     95236\n",
       "60     95236\n",
       "50     95236\n",
       "40     95236\n",
       "30     95236\n",
       "20     95236\n",
       "290    95236\n",
       "Name: count, dtype: int64"
      ]
     },
     "execution_count": 5,
     "metadata": {},
     "output_type": "execute_result"
    }
   ],
   "source": [
    "train.seconds_in_bucket.value_counts()"
   ]
  },
  {
   "cell_type": "code",
   "execution_count": 6,
   "metadata": {},
   "outputs": [],
   "source": [
    "def imbalance_calculator(x):\n",
    "    \n",
    "    x_copy = x.copy()\n",
    "    \n",
    "    x_copy['imb_s1'] = x.eval('(bid_size - ask_size) / (bid_size + ask_size)')\n",
    "    x_copy['imb_s2'] = x.eval('(imbalance_size - matched_size) / (matched_size + imbalance_size)')\n",
    "    \n",
    "    prices = ['reference_price','far_price', 'near_price', 'ask_price', 'bid_price', 'wap']\n",
    "    \n",
    "    for i,a in enumerate(prices):\n",
    "        for j,b in enumerate(prices):\n",
    "            if i>j:\n",
    "                x_copy[f'{a}_{b}_imb'] = x.eval(f'({a} - {b}) / ({a} + {b} + {0.001})')\n",
    "                    \n",
    "    for i,a in enumerate(prices):\n",
    "        for j,b in enumerate(prices):\n",
    "            for k,c in enumerate(prices):\n",
    "                if i>j and j>k:\n",
    "                    max_ = x[[a,b,c]].max(axis=1)\n",
    "                    min_ = x[[a,b,c]].min(axis=1)\n",
    "                    mid_ = x[[a,b,c]].sum(axis=1)-min_-max_\n",
    "\n",
    "                    x_copy[f'{a}_{b}_{c}_imb2'] = (max_-mid_)/(mid_-min_+0.001)\n",
    "    x_copy.replace([np.inf, -np.inf], 0, inplace=True)\n",
    "    return x_copy\n",
    "\n"
   ]
  },
  {
   "cell_type": "code",
   "execution_count": 7,
   "metadata": {},
   "outputs": [],
   "source": [
    "median_vol = pd.read_csv(\"archive/MedianVolV2.csv\")\n",
    "median_vol.index.name = \"stock_id\";\n",
    "median_vol = median_vol[['overall_medvol', \"first5min_medvol\", \"last5min_medvol\"]]"
   ]
  },
  {
   "cell_type": "code",
   "execution_count": 8,
   "metadata": {},
   "outputs": [],
   "source": [
    "median_sizes = train.groupby('stock_id')['bid_size'].median() + train.groupby('stock_id')['ask_size'].median()\n",
    "std_sizes = train.groupby('stock_id')['bid_size'].median() + train.groupby('stock_id')['ask_size'].median()"
   ]
  },
  {
   "cell_type": "code",
   "execution_count": 9,
   "metadata": {},
   "outputs": [],
   "source": [
    "def feat_eng(df):\n",
    "    \n",
    "    cols = [c for c in df.columns if c not in ['row_id', 'time_id']]\n",
    "    df = df[cols]\n",
    "    df = df.merge(median_vol, how = \"left\", left_on = \"stock_id\", right_index = True)\n",
    "    \n",
    "    df['bid_plus_ask_sizes'] = df['bid_size'] + train['ask_size']\n",
    "#     df['median_size'] = df['stock_id'].map(median_sizes.to_dict())\n",
    "    df['std_size'] = df['stock_id'].map(std_sizes.to_dict())\n",
    "#     df['high_volume'] = np.where(df['bid_plus_ask_sizes'] > df['median_size'], 1, 0) \n",
    "    df['imbalance_ratio'] = df['imbalance_size'] / df['matched_size']\n",
    "    \n",
    "    df['imb_s1'] = df.eval('(bid_size-ask_size)/(bid_size+ask_size)')\n",
    "    df['imb_s2'] = df.eval('(imbalance_size-matched_size)/(matched_size+imbalance_size)')\n",
    "\n",
    "    df['ask_x_size'] = df.eval('ask_size*ask_price')\n",
    "    df['bid_x_size'] = df.eval('bid_size*bid_price')\n",
    "        \n",
    "    df['ask_minus_bid'] = df['ask_x_size'] - df['bid_x_size'] \n",
    "    \n",
    "    df[\"bid_size_over_ask_size\"] = df[\"bid_size\"].div(df[\"ask_size\"])\n",
    "    df[\"bid_price_over_ask_price\"] = df[\"bid_price\"].div(df[\"ask_price\"])\n",
    "    \n",
    "    prices = ['reference_price', 'ask_price', 'bid_price', 'wap']\n",
    "    \n",
    "    for c in combinations(prices, 2):\n",
    "        \n",
    "        df[f'{c[0]}_minus_{c[1]}'] = (df[f'{c[0]}'] - df[f'{c[1]}']).astype(np.float32)\n",
    "        df[f'{c[0]}_times_{c[1]}'] = (df[f'{c[0]}'] * df[f'{c[1]}']).astype(np.float32)\n",
    "        df[f'{c[0]}_{c[1]}_imb'] = df.eval(f'({c[0]}-{c[1]})/({c[0]}+{c[1]})')\n",
    "\n",
    "    for c in combinations(prices, 3):\n",
    "        \n",
    "        max_ = df[list(c)].max(axis=1)\n",
    "        min_ = df[list(c)].min(axis=1)\n",
    "        mid_ = df[list(c)].sum(axis=1)-min_-max_\n",
    "\n",
    "        df[f'{c[0]}_{c[1]}_{c[2]}_imb2'] = (max_-mid_)/(mid_-min_)\n",
    "    \n",
    "        \n",
    "    df.drop(columns=[\n",
    "        # 'date_id', \n",
    "        'std_size',\n",
    "        'bid_size_over_ask_size',\n",
    "        'ask_price_bid_price_imb',\n",
    "    ], inplace=True)\n",
    "        \n",
    "    gc.collect()\n",
    "\n",
    "    df.replace([np.inf, -np.inf], np.NAN, inplace=True)\n",
    "    \n",
    "    return df"
   ]
  },
  {
   "cell_type": "code",
   "execution_count": 10,
   "metadata": {},
   "outputs": [],
   "source": [
    "y = train['target'].values\n",
    "X = feat_eng(train)"
   ]
  },
  {
   "cell_type": "code",
   "execution_count": 11,
   "metadata": {},
   "outputs": [],
   "source": [
    "nulls = X.isna().sum(axis = 0)"
   ]
  },
  {
   "cell_type": "code",
   "execution_count": 12,
   "metadata": {},
   "outputs": [],
   "source": [
    "# train = imbalance_calculator(train)"
   ]
  },
  {
   "cell_type": "code",
   "execution_count": 13,
   "metadata": {},
   "outputs": [],
   "source": [
    "prices = [c for c in train.columns if 'price' in c]\n",
    "pca_prices = PCA(n_components=1)\n",
    "X['pca_prices'] = pca_prices.fit_transform(X[prices].fillna(1))"
   ]
  },
  {
   "cell_type": "code",
   "execution_count": 14,
   "metadata": {},
   "outputs": [
    {
     "data": {
      "text/html": [
       "<div>\n",
       "<style scoped>\n",
       "    .dataframe tbody tr th:only-of-type {\n",
       "        vertical-align: middle;\n",
       "    }\n",
       "\n",
       "    .dataframe tbody tr th {\n",
       "        vertical-align: top;\n",
       "    }\n",
       "\n",
       "    .dataframe thead th {\n",
       "        text-align: right;\n",
       "    }\n",
       "</style>\n",
       "<table border=\"1\" class=\"dataframe\">\n",
       "  <thead>\n",
       "    <tr style=\"text-align: right;\">\n",
       "      <th></th>\n",
       "      <th>stock_id</th>\n",
       "      <th>date_id</th>\n",
       "      <th>seconds_in_bucket</th>\n",
       "      <th>imbalance_size</th>\n",
       "      <th>imbalance_buy_sell_flag</th>\n",
       "      <th>reference_price</th>\n",
       "      <th>matched_size</th>\n",
       "      <th>far_price</th>\n",
       "      <th>near_price</th>\n",
       "      <th>bid_price</th>\n",
       "      <th>...</th>\n",
       "      <th>ask_price_times_wap</th>\n",
       "      <th>ask_price_wap_imb</th>\n",
       "      <th>bid_price_minus_wap</th>\n",
       "      <th>bid_price_times_wap</th>\n",
       "      <th>bid_price_wap_imb</th>\n",
       "      <th>reference_price_ask_price_bid_price_imb2</th>\n",
       "      <th>reference_price_ask_price_wap_imb2</th>\n",
       "      <th>reference_price_bid_price_wap_imb2</th>\n",
       "      <th>ask_price_bid_price_wap_imb2</th>\n",
       "      <th>pca_prices</th>\n",
       "    </tr>\n",
       "  </thead>\n",
       "  <tbody>\n",
       "    <tr>\n",
       "      <th>0</th>\n",
       "      <td>0</td>\n",
       "      <td>0</td>\n",
       "      <td>0</td>\n",
       "      <td>3180602.69</td>\n",
       "      <td>1</td>\n",
       "      <td>0.999812</td>\n",
       "      <td>13380276.64</td>\n",
       "      <td>NaN</td>\n",
       "      <td>NaN</td>\n",
       "      <td>0.999812</td>\n",
       "      <td>...</td>\n",
       "      <td>1.000026</td>\n",
       "      <td>0.000013</td>\n",
       "      <td>-0.000188</td>\n",
       "      <td>0.999812</td>\n",
       "      <td>-9.400884e-05</td>\n",
       "      <td>-1.927541e+12</td>\n",
       "      <td>0.138298</td>\n",
       "      <td>-1.693353e+12</td>\n",
       "      <td>0.138298</td>\n",
       "      <td>-0.000206</td>\n",
       "    </tr>\n",
       "    <tr>\n",
       "      <th>1</th>\n",
       "      <td>1</td>\n",
       "      <td>0</td>\n",
       "      <td>0</td>\n",
       "      <td>166603.91</td>\n",
       "      <td>-1</td>\n",
       "      <td>0.999896</td>\n",
       "      <td>1642214.25</td>\n",
       "      <td>NaN</td>\n",
       "      <td>NaN</td>\n",
       "      <td>0.999896</td>\n",
       "      <td>...</td>\n",
       "      <td>1.000660</td>\n",
       "      <td>0.000330</td>\n",
       "      <td>-0.000104</td>\n",
       "      <td>0.999896</td>\n",
       "      <td>-5.200270e-05</td>\n",
       "      <td>-6.881500e+12</td>\n",
       "      <td>6.346154</td>\n",
       "      <td>9.367487e+11</td>\n",
       "      <td>6.346154</td>\n",
       "      <td>0.000256</td>\n",
       "    </tr>\n",
       "    <tr>\n",
       "      <th>2</th>\n",
       "      <td>2</td>\n",
       "      <td>0</td>\n",
       "      <td>0</td>\n",
       "      <td>302879.87</td>\n",
       "      <td>-1</td>\n",
       "      <td>0.999561</td>\n",
       "      <td>1819368.03</td>\n",
       "      <td>NaN</td>\n",
       "      <td>NaN</td>\n",
       "      <td>0.999403</td>\n",
       "      <td>...</td>\n",
       "      <td>1.000298</td>\n",
       "      <td>0.000149</td>\n",
       "      <td>-0.000597</td>\n",
       "      <td>0.999403</td>\n",
       "      <td>-2.985891e-04</td>\n",
       "      <td>4.664557e+00</td>\n",
       "      <td>0.678815</td>\n",
       "      <td>2.778481e+00</td>\n",
       "      <td>0.499162</td>\n",
       "      <td>-0.000430</td>\n",
       "    </tr>\n",
       "    <tr>\n",
       "      <th>3</th>\n",
       "      <td>3</td>\n",
       "      <td>0</td>\n",
       "      <td>0</td>\n",
       "      <td>11917682.27</td>\n",
       "      <td>-1</td>\n",
       "      <td>1.000171</td>\n",
       "      <td>18389745.62</td>\n",
       "      <td>NaN</td>\n",
       "      <td>NaN</td>\n",
       "      <td>0.999999</td>\n",
       "      <td>...</td>\n",
       "      <td>1.000214</td>\n",
       "      <td>0.000107</td>\n",
       "      <td>-0.000001</td>\n",
       "      <td>0.999999</td>\n",
       "      <td>-5.000003e-07</td>\n",
       "      <td>2.500000e-01</td>\n",
       "      <td>0.251462</td>\n",
       "      <td>1.710000e+02</td>\n",
       "      <td>214.000000</td>\n",
       "      <td>0.000219</td>\n",
       "    </tr>\n",
       "    <tr>\n",
       "      <th>4</th>\n",
       "      <td>4</td>\n",
       "      <td>0</td>\n",
       "      <td>0</td>\n",
       "      <td>447549.96</td>\n",
       "      <td>-1</td>\n",
       "      <td>0.999532</td>\n",
       "      <td>17860614.95</td>\n",
       "      <td>NaN</td>\n",
       "      <td>NaN</td>\n",
       "      <td>0.999394</td>\n",
       "      <td>...</td>\n",
       "      <td>1.000016</td>\n",
       "      <td>0.000008</td>\n",
       "      <td>-0.000606</td>\n",
       "      <td>0.999394</td>\n",
       "      <td>-3.030918e-04</td>\n",
       "      <td>3.507246e+00</td>\n",
       "      <td>0.034188</td>\n",
       "      <td>3.391304e+00</td>\n",
       "      <td>0.026403</td>\n",
       "      <td>-0.000614</td>\n",
       "    </tr>\n",
       "    <tr>\n",
       "      <th>...</th>\n",
       "      <td>...</td>\n",
       "      <td>...</td>\n",
       "      <td>...</td>\n",
       "      <td>...</td>\n",
       "      <td>...</td>\n",
       "      <td>...</td>\n",
       "      <td>...</td>\n",
       "      <td>...</td>\n",
       "      <td>...</td>\n",
       "      <td>...</td>\n",
       "      <td>...</td>\n",
       "      <td>...</td>\n",
       "      <td>...</td>\n",
       "      <td>...</td>\n",
       "      <td>...</td>\n",
       "      <td>...</td>\n",
       "      <td>...</td>\n",
       "      <td>...</td>\n",
       "      <td>...</td>\n",
       "      <td>...</td>\n",
       "      <td>...</td>\n",
       "    </tr>\n",
       "    <tr>\n",
       "      <th>2857075</th>\n",
       "      <td>195</td>\n",
       "      <td>480</td>\n",
       "      <td>290</td>\n",
       "      <td>6099963.33</td>\n",
       "      <td>-1</td>\n",
       "      <td>1.000317</td>\n",
       "      <td>18633850.25</td>\n",
       "      <td>NaN</td>\n",
       "      <td>NaN</td>\n",
       "      <td>1.000201</td>\n",
       "      <td>...</td>\n",
       "      <td>1.000608</td>\n",
       "      <td>0.000013</td>\n",
       "      <td>-0.000090</td>\n",
       "      <td>1.000492</td>\n",
       "      <td>-4.498893e-05</td>\n",
       "      <td>0.000000e+00</td>\n",
       "      <td>0.000000</td>\n",
       "      <td>2.888889e-01</td>\n",
       "      <td>0.288889</td>\n",
       "      <td>0.000479</td>\n",
       "    </tr>\n",
       "    <tr>\n",
       "      <th>2857076</th>\n",
       "      <td>196</td>\n",
       "      <td>480</td>\n",
       "      <td>290</td>\n",
       "      <td>67949.56</td>\n",
       "      <td>-1</td>\n",
       "      <td>0.999357</td>\n",
       "      <td>7936446.96</td>\n",
       "      <td>NaN</td>\n",
       "      <td>NaN</td>\n",
       "      <td>0.999871</td>\n",
       "      <td>...</td>\n",
       "      <td>1.000105</td>\n",
       "      <td>0.000076</td>\n",
       "      <td>-0.000105</td>\n",
       "      <td>0.999847</td>\n",
       "      <td>-5.250402e-05</td>\n",
       "      <td>5.019455e-01</td>\n",
       "      <td>0.247173</td>\n",
       "      <td>2.042802e-01</td>\n",
       "      <td>1.457143</td>\n",
       "      <td>-0.000379</td>\n",
       "    </tr>\n",
       "    <tr>\n",
       "      <th>2857077</th>\n",
       "      <td>197</td>\n",
       "      <td>480</td>\n",
       "      <td>290</td>\n",
       "      <td>3772211.05</td>\n",
       "      <td>-1</td>\n",
       "      <td>0.996538</td>\n",
       "      <td>7660852.97</td>\n",
       "      <td>NaN</td>\n",
       "      <td>NaN</td>\n",
       "      <td>0.996445</td>\n",
       "      <td>...</td>\n",
       "      <td>0.994375</td>\n",
       "      <td>0.000293</td>\n",
       "      <td>-0.000446</td>\n",
       "      <td>0.993347</td>\n",
       "      <td>-2.237455e-04</td>\n",
       "      <td>1.008602e+01</td>\n",
       "      <td>1.657224</td>\n",
       "      <td>3.795699e+00</td>\n",
       "      <td>1.311659</td>\n",
       "      <td>-0.005513</td>\n",
       "    </tr>\n",
       "    <tr>\n",
       "      <th>2857078</th>\n",
       "      <td>198</td>\n",
       "      <td>480</td>\n",
       "      <td>290</td>\n",
       "      <td>3224772.38</td>\n",
       "      <td>-1</td>\n",
       "      <td>0.999210</td>\n",
       "      <td>84569369.22</td>\n",
       "      <td>NaN</td>\n",
       "      <td>NaN</td>\n",
       "      <td>0.998729</td>\n",
       "      <td>...</td>\n",
       "      <td>0.997808</td>\n",
       "      <td>0.000067</td>\n",
       "      <td>-0.000108</td>\n",
       "      <td>0.997567</td>\n",
       "      <td>-5.406580e-05</td>\n",
       "      <td>9.958506e-01</td>\n",
       "      <td>1.804511</td>\n",
       "      <td>3.453704e+00</td>\n",
       "      <td>1.231481</td>\n",
       "      <td>-0.001785</td>\n",
       "    </tr>\n",
       "    <tr>\n",
       "      <th>2857079</th>\n",
       "      <td>199</td>\n",
       "      <td>480</td>\n",
       "      <td>290</td>\n",
       "      <td>651305.54</td>\n",
       "      <td>1</td>\n",
       "      <td>1.002129</td>\n",
       "      <td>20255913.92</td>\n",
       "      <td>NaN</td>\n",
       "      <td>NaN</td>\n",
       "      <td>1.001812</td>\n",
       "      <td>...</td>\n",
       "      <td>1.004160</td>\n",
       "      <td>0.000051</td>\n",
       "      <td>-0.000215</td>\n",
       "      <td>1.003843</td>\n",
       "      <td>-1.072940e-04</td>\n",
       "      <td>0.000000e+00</td>\n",
       "      <td>0.000000</td>\n",
       "      <td>4.744186e-01</td>\n",
       "      <td>0.474419</td>\n",
       "      <td>0.003502</td>\n",
       "    </tr>\n",
       "  </tbody>\n",
       "</table>\n",
       "<p>2857080 rows × 48 columns</p>\n",
       "</div>"
      ],
      "text/plain": [
       "         stock_id  date_id  seconds_in_bucket  imbalance_size  \\\n",
       "0               0        0                  0      3180602.69   \n",
       "1               1        0                  0       166603.91   \n",
       "2               2        0                  0       302879.87   \n",
       "3               3        0                  0     11917682.27   \n",
       "4               4        0                  0       447549.96   \n",
       "...           ...      ...                ...             ...   \n",
       "2857075       195      480                290      6099963.33   \n",
       "2857076       196      480                290        67949.56   \n",
       "2857077       197      480                290      3772211.05   \n",
       "2857078       198      480                290      3224772.38   \n",
       "2857079       199      480                290       651305.54   \n",
       "\n",
       "         imbalance_buy_sell_flag  reference_price  matched_size  far_price  \\\n",
       "0                              1         0.999812   13380276.64        NaN   \n",
       "1                             -1         0.999896    1642214.25        NaN   \n",
       "2                             -1         0.999561    1819368.03        NaN   \n",
       "3                             -1         1.000171   18389745.62        NaN   \n",
       "4                             -1         0.999532   17860614.95        NaN   \n",
       "...                          ...              ...           ...        ...   \n",
       "2857075                       -1         1.000317   18633850.25        NaN   \n",
       "2857076                       -1         0.999357    7936446.96        NaN   \n",
       "2857077                       -1         0.996538    7660852.97        NaN   \n",
       "2857078                       -1         0.999210   84569369.22        NaN   \n",
       "2857079                        1         1.002129   20255913.92        NaN   \n",
       "\n",
       "         near_price  bid_price  ...  ask_price_times_wap  ask_price_wap_imb  \\\n",
       "0               NaN   0.999812  ...             1.000026           0.000013   \n",
       "1               NaN   0.999896  ...             1.000660           0.000330   \n",
       "2               NaN   0.999403  ...             1.000298           0.000149   \n",
       "3               NaN   0.999999  ...             1.000214           0.000107   \n",
       "4               NaN   0.999394  ...             1.000016           0.000008   \n",
       "...             ...        ...  ...                  ...                ...   \n",
       "2857075         NaN   1.000201  ...             1.000608           0.000013   \n",
       "2857076         NaN   0.999871  ...             1.000105           0.000076   \n",
       "2857077         NaN   0.996445  ...             0.994375           0.000293   \n",
       "2857078         NaN   0.998729  ...             0.997808           0.000067   \n",
       "2857079         NaN   1.001812  ...             1.004160           0.000051   \n",
       "\n",
       "         bid_price_minus_wap  bid_price_times_wap  bid_price_wap_imb  \\\n",
       "0                  -0.000188             0.999812      -9.400884e-05   \n",
       "1                  -0.000104             0.999896      -5.200270e-05   \n",
       "2                  -0.000597             0.999403      -2.985891e-04   \n",
       "3                  -0.000001             0.999999      -5.000003e-07   \n",
       "4                  -0.000606             0.999394      -3.030918e-04   \n",
       "...                      ...                  ...                ...   \n",
       "2857075            -0.000090             1.000492      -4.498893e-05   \n",
       "2857076            -0.000105             0.999847      -5.250402e-05   \n",
       "2857077            -0.000446             0.993347      -2.237455e-04   \n",
       "2857078            -0.000108             0.997567      -5.406580e-05   \n",
       "2857079            -0.000215             1.003843      -1.072940e-04   \n",
       "\n",
       "         reference_price_ask_price_bid_price_imb2  \\\n",
       "0                                   -1.927541e+12   \n",
       "1                                   -6.881500e+12   \n",
       "2                                    4.664557e+00   \n",
       "3                                    2.500000e-01   \n",
       "4                                    3.507246e+00   \n",
       "...                                           ...   \n",
       "2857075                              0.000000e+00   \n",
       "2857076                              5.019455e-01   \n",
       "2857077                              1.008602e+01   \n",
       "2857078                              9.958506e-01   \n",
       "2857079                              0.000000e+00   \n",
       "\n",
       "         reference_price_ask_price_wap_imb2  \\\n",
       "0                                  0.138298   \n",
       "1                                  6.346154   \n",
       "2                                  0.678815   \n",
       "3                                  0.251462   \n",
       "4                                  0.034188   \n",
       "...                                     ...   \n",
       "2857075                            0.000000   \n",
       "2857076                            0.247173   \n",
       "2857077                            1.657224   \n",
       "2857078                            1.804511   \n",
       "2857079                            0.000000   \n",
       "\n",
       "         reference_price_bid_price_wap_imb2  ask_price_bid_price_wap_imb2  \\\n",
       "0                             -1.693353e+12                      0.138298   \n",
       "1                              9.367487e+11                      6.346154   \n",
       "2                              2.778481e+00                      0.499162   \n",
       "3                              1.710000e+02                    214.000000   \n",
       "4                              3.391304e+00                      0.026403   \n",
       "...                                     ...                           ...   \n",
       "2857075                        2.888889e-01                      0.288889   \n",
       "2857076                        2.042802e-01                      1.457143   \n",
       "2857077                        3.795699e+00                      1.311659   \n",
       "2857078                        3.453704e+00                      1.231481   \n",
       "2857079                        4.744186e-01                      0.474419   \n",
       "\n",
       "         pca_prices  \n",
       "0         -0.000206  \n",
       "1          0.000256  \n",
       "2         -0.000430  \n",
       "3          0.000219  \n",
       "4         -0.000614  \n",
       "...             ...  \n",
       "2857075    0.000479  \n",
       "2857076   -0.000379  \n",
       "2857077   -0.005513  \n",
       "2857078   -0.001785  \n",
       "2857079    0.003502  \n",
       "\n",
       "[2857080 rows x 48 columns]"
      ]
     },
     "execution_count": 14,
     "metadata": {},
     "output_type": "execute_result"
    }
   ],
   "source": [
    "X"
   ]
  },
  {
   "cell_type": "code",
   "execution_count": 15,
   "metadata": {},
   "outputs": [
    {
     "data": {
      "text/plain": [
       "Index(['stock_id', 'date_id', 'seconds_in_bucket', 'imbalance_size',\n",
       "       'imbalance_buy_sell_flag', 'reference_price', 'matched_size',\n",
       "       'far_price', 'near_price', 'bid_price', 'bid_size', 'ask_price',\n",
       "       'ask_size', 'wap', 'target', 'overall_medvol', 'first5min_medvol',\n",
       "       'last5min_medvol', 'bid_plus_ask_sizes', 'imbalance_ratio', 'imb_s1',\n",
       "       'imb_s2', 'ask_x_size', 'bid_x_size', 'ask_minus_bid',\n",
       "       'bid_price_over_ask_price', 'reference_price_minus_ask_price',\n",
       "       'reference_price_times_ask_price', 'reference_price_ask_price_imb',\n",
       "       'reference_price_minus_bid_price', 'reference_price_times_bid_price',\n",
       "       'reference_price_bid_price_imb', 'reference_price_minus_wap',\n",
       "       'reference_price_times_wap', 'reference_price_wap_imb',\n",
       "       'ask_price_minus_bid_price', 'ask_price_times_bid_price',\n",
       "       'ask_price_minus_wap', 'ask_price_times_wap', 'ask_price_wap_imb',\n",
       "       'bid_price_minus_wap', 'bid_price_times_wap', 'bid_price_wap_imb',\n",
       "       'reference_price_ask_price_bid_price_imb2',\n",
       "       'reference_price_ask_price_wap_imb2',\n",
       "       'reference_price_bid_price_wap_imb2', 'ask_price_bid_price_wap_imb2',\n",
       "       'pca_prices'],\n",
       "      dtype='object')"
      ]
     },
     "execution_count": 15,
     "metadata": {},
     "output_type": "execute_result"
    }
   ],
   "source": [
    "X.columns"
   ]
  },
  {
   "cell_type": "code",
   "execution_count": 16,
   "metadata": {},
   "outputs": [],
   "source": [
    "def zero_sum(prices, volumes):\n",
    "    \n",
    "#    I got this idea from https://github.com/gotoConversion/goto_conversion/\n",
    "    \n",
    "    std_error = np.sqrt(volumes)\n",
    "    step = np.sum(prices)/np.sum(std_error)\n",
    "    out = prices-std_error*step\n",
    "    \n",
    "    return out"
   ]
  },
  {
   "cell_type": "code",
   "execution_count": 17,
   "metadata": {},
   "outputs": [],
   "source": [
    "import importlib"
   ]
  },
  {
   "cell_type": "code",
   "execution_count": 18,
   "metadata": {},
   "outputs": [
    {
     "name": "stderr",
     "output_type": "stream",
     "text": [
      " 10%|▉         | 19/200 [00:09<01:05,  2.77it/s]"
     ]
    },
    {
     "name": "stdout",
     "output_type": "stream",
     "text": [
      "Missing Targets for day=438,for stock_id=19, Excluding\n"
     ]
    },
    {
     "name": "stderr",
     "output_type": "stream",
     "text": [
      " 50%|█████     | 101/200 [00:46<00:35,  2.81it/s]"
     ]
    },
    {
     "name": "stdout",
     "output_type": "stream",
     "text": [
      "Missing Targets for day=328,for stock_id=101, Excluding\n"
     ]
    },
    {
     "name": "stderr",
     "output_type": "stream",
     "text": [
      " 66%|██████▌   | 131/200 [01:00<00:24,  2.77it/s]"
     ]
    },
    {
     "name": "stdout",
     "output_type": "stream",
     "text": [
      "Missing Targets for day=35,for stock_id=131, Excluding\n"
     ]
    },
    {
     "name": "stderr",
     "output_type": "stream",
     "text": [
      " 79%|███████▉  | 158/200 [01:10<00:14,  2.88it/s]"
     ]
    },
    {
     "name": "stdout",
     "output_type": "stream",
     "text": [
      "Missing Targets for day=388,for stock_id=158, Excluding\n"
     ]
    },
    {
     "name": "stderr",
     "output_type": "stream",
     "text": [
      "100%|██████████| 200/200 [01:29<00:00,  2.24it/s]\n"
     ]
    },
    {
     "name": "stdout",
     "output_type": "stream",
     "text": [
      "Length of train: 385, Length of test 96\n"
     ]
    },
    {
     "name": "stderr",
     "output_type": "stream",
     "text": [
      "100%|██████████| 385/385 [00:00<00:00, 9158.28it/s]\n",
      "100%|██████████| 95/95 [00:00<00:00, 10545.70it/s]\n"
     ]
    }
   ],
   "source": [
    "importlib.reload(torch_classes)\n",
    "trading_data = torch_classes.TradingData(X)\n",
    "hidden_size = 64\n",
    "trading_data.generate_batches()"
   ]
  },
  {
   "cell_type": "code",
   "execution_count": 19,
   "metadata": {},
   "outputs": [
    {
     "data": {
      "text/plain": [
       "191"
      ]
     },
     "execution_count": 19,
     "metadata": {},
     "output_type": "execute_result"
    }
   ],
   "source": [
    "len(trading_data.train_batches[0])"
   ]
  },
  {
   "cell_type": "code",
   "execution_count": 20,
   "metadata": {},
   "outputs": [],
   "source": [
    "for x in trading_data.train_batches:\n",
    "    for t1 in x:\n",
    "        for t in t1:\n",
    "            if len(t)!=42:\n",
    "                print(len(t))\n",
    "        "
   ]
  },
  {
   "cell_type": "code",
   "execution_count": 21,
   "metadata": {},
   "outputs": [],
   "source": [
    "stat_cols = ['seconds_in_bucket', 'imbalance_size',\n",
    "       'imbalance_buy_sell_flag', 'reference_price', 'matched_size',\n",
    "       'bid_price', 'bid_size', 'ask_price',\n",
    "       'ask_size', 'wap', 'overall_medvol', 'first5min_medvol',\n",
    "       'last5min_medvol', 'bid_plus_ask_sizes', 'imbalance_ratio', 'imb_s1',\n",
    "       'imb_s2', 'ask_x_size', 'bid_x_size', 'ask_minus_bid',\n",
    "       'bid_price_over_ask_price', 'reference_price_minus_ask_price',\n",
    "       'reference_price_times_ask_price', 'reference_price_ask_price_imb',\n",
    "       'reference_price_minus_bid_price', 'reference_price_times_bid_price',\n",
    "       'reference_price_bid_price_imb', 'reference_price_minus_wap',\n",
    "       'reference_price_times_wap', 'reference_price_wap_imb',\n",
    "       'ask_price_minus_bid_price', 'ask_price_times_bid_price',\n",
    "       'ask_price_minus_wap', 'ask_price_times_wap', 'ask_price_wap_imb',\n",
    "       'bid_price_minus_wap', 'bid_price_times_wap', 'bid_price_wap_imb',\n",
    "       'reference_price_ask_price_bid_price_imb2',\n",
    "       'reference_price_ask_price_wap_imb2',\n",
    "       'reference_price_bid_price_wap_imb2', 'ask_price_bid_price_wap_imb2']"
   ]
  },
  {
   "cell_type": "code",
   "execution_count": 22,
   "metadata": {},
   "outputs": [],
   "source": [
    "X['stats'] = pd.Series(X[stat_cols].fillna(-1).values.tolist())"
   ]
  },
  {
   "cell_type": "code",
   "execution_count": 35,
   "metadata": {},
   "outputs": [
    {
     "data": {
      "text/plain": [
       "<module 'training_testing' from 'c:\\\\Users\\\\Nick\\\\Documents\\\\GitHub\\\\OptiverKaggle\\\\training_testing.py'>"
      ]
     },
     "execution_count": 35,
     "metadata": {},
     "output_type": "execute_result"
    }
   ],
   "source": [
    "importlib.reload(torch_classes)\n",
    "importlib.reload(training_testing)"
   ]
  },
  {
   "cell_type": "code",
   "execution_count": 29,
   "metadata": {},
   "outputs": [],
   "source": [
    "def model_pipeline(trading_df:torch_classes.TradingData, config:dict):\n",
    "    with wandb.init(project=\"Optviver\", config=config,save_code=True):\n",
    "        wandb.define_metric(\"val_epoch_loss_l1\", summary=\"min\")\n",
    "        wandb.define_metric(\"epoch_l1_loss\", summary=\"min\")\n",
    "        model = torch_classes.GRUNetV2(42,config['hidden_size'], num_layers=2).to('cuda:0')\n",
    "        print(model)\n",
    "        config = wandb.config\n",
    "        optimizer = optim.RMSprop(model.parameters(), lr=config['learning_rate'])\n",
    "        trading_df.reset_hidden(config['hidden_size'], config['num_layers'])\n",
    "        criterion = nn.SmoothL1Loss()\n",
    "        \n",
    "        training_testing.train_model(trading_df,model,config,optimizer,criterion)\n",
    "\n",
    "    return(model)\n",
    "\n"
   ]
  },
  {
   "cell_type": "code",
   "execution_count": 40,
   "metadata": {},
   "outputs": [
    {
     "data": {
      "text/plain": [
       "<module 'training_testing' from 'c:\\\\Users\\\\Nick\\\\Documents\\\\GitHub\\\\OptiverKaggle\\\\training_testing.py'>"
      ]
     },
     "execution_count": 40,
     "metadata": {},
     "output_type": "execute_result"
    }
   ],
   "source": [
    "importlib.reload(training_testing)"
   ]
  },
  {
   "cell_type": "code",
   "execution_count": 37,
   "metadata": {},
   "outputs": [],
   "source": [
    "config_static = {'learning_rate':0.00001, 'hidden_size':16, 'num_layers':2}"
   ]
  },
  {
   "cell_type": "code",
   "execution_count": 41,
   "metadata": {},
   "outputs": [
    {
     "data": {
      "text/html": [
       "wandb version 0.15.12 is available!  To upgrade, please run:\n",
       " $ pip install wandb --upgrade"
      ],
      "text/plain": [
       "<IPython.core.display.HTML object>"
      ]
     },
     "metadata": {},
     "output_type": "display_data"
    },
    {
     "data": {
      "text/html": [
       "Tracking run with wandb version 0.15.11"
      ],
      "text/plain": [
       "<IPython.core.display.HTML object>"
      ]
     },
     "metadata": {},
     "output_type": "display_data"
    },
    {
     "data": {
      "text/html": [
       "Run data is saved locally in <code>c:\\Users\\Nick\\Documents\\GitHub\\OptiverKaggle\\wandb\\run-20231011_164323-eno7q18d</code>"
      ],
      "text/plain": [
       "<IPython.core.display.HTML object>"
      ]
     },
     "metadata": {},
     "output_type": "display_data"
    },
    {
     "data": {
      "text/html": [
       "Syncing run <strong><a href='https://wandb.ai/nickojelly/Optviver/runs/eno7q18d' target=\"_blank\">balmy-frost-291</a></strong> to <a href='https://wandb.ai/nickojelly/Optviver' target=\"_blank\">Weights & Biases</a> (<a href='https://wandb.me/run' target=\"_blank\">docs</a>)<br/>"
      ],
      "text/plain": [
       "<IPython.core.display.HTML object>"
      ]
     },
     "metadata": {},
     "output_type": "display_data"
    },
    {
     "data": {
      "text/html": [
       " View project at <a href='https://wandb.ai/nickojelly/Optviver' target=\"_blank\">https://wandb.ai/nickojelly/Optviver</a>"
      ],
      "text/plain": [
       "<IPython.core.display.HTML object>"
      ]
     },
     "metadata": {},
     "output_type": "display_data"
    },
    {
     "data": {
      "text/html": [
       " View run at <a href='https://wandb.ai/nickojelly/Optviver/runs/eno7q18d' target=\"_blank\">https://wandb.ai/nickojelly/Optviver/runs/eno7q18d</a>"
      ],
      "text/plain": [
       "<IPython.core.display.HTML object>"
      ]
     },
     "metadata": {},
     "output_type": "display_data"
    },
    {
     "name": "stdout",
     "output_type": "stream",
     "text": [
      "GRUNetV2(\n",
      "  (gru): GRU(42, 16, num_layers=2, dropout=0.3)\n",
      "  (relu0): ReLU()\n",
      "  (batch_norm): BatchNorm1d(42, eps=1e-05, momentum=0.1, affine=True, track_running_stats=True)\n",
      "  (layer_norm): LayerNorm((16,), eps=1e-05, elementwise_affine=True)\n",
      "  (fc0): Linear(in_features=16, out_features=16, bias=True)\n",
      "  (rl1): ReLU()\n",
      "  (drop1): Dropout(p=0.5, inplace=False)\n",
      "  (fc1): Linear(in_features=16, out_features=1, bias=True)\n",
      "  (rl2): ReLU()\n",
      "  (drop2): Dropout(p=0.5, inplace=False)\n",
      "  (fc2): Linear(in_features=256, out_features=64, bias=True)\n",
      "  (rl3): ReLU()\n",
      "  (drop3): Dropout(p=0.5, inplace=False)\n",
      "  (fc3): Linear(in_features=64, out_features=8, bias=True)\n",
      ")\n"
     ]
    },
    {
     "data": {
      "application/vnd.jupyter.widget-view+json": {
       "model_id": "005b78b9bf3545c4a9f0eda462dc5298",
       "version_major": 2,
       "version_minor": 0
      },
      "text/plain": [
       "  0%|          | 0/10000 [00:00<?, ?it/s]"
      ]
     },
     "metadata": {},
     "output_type": "display_data"
    },
    {
     "name": "stdout",
     "output_type": "stream",
     "text": [
      "   stock  day  time    target      pred\n",
      "0      0    0     0 -2.340078 -0.164086\n",
      "1      1    0     0 -8.130074  0.149417\n",
      "2      2    0     0  0.790358  0.154441\n",
      "3      3    0     0  6.059408 -0.131441\n",
      "4      4    0     0  0.499487  0.093122\n",
      "5      5    0     0  5.190372  0.051417\n",
      "6      6    0     0 -4.439950  0.004878\n",
      "7      7    0     0 -3.280044 -0.060886\n",
      "8      8    0     0  0.419617 -0.208988\n",
      "9      9    0     0  1.959801 -0.163524\n",
      "created path\n",
      "   stock  day  time    target      pred\n",
      "0      0    0     0 -2.340078 -0.553760\n",
      "1      1    0     0 -8.130074 -0.117797\n",
      "2      2    0     0  0.790358  0.184142\n",
      "3      3    0     0  6.059408 -0.419055\n",
      "4      4    0     0  0.499487  0.144455\n",
      "5      5    0     0  5.190372  0.144241\n",
      "6      6    0     0 -4.439950  0.131035\n",
      "7      7    0     0 -3.280044 -0.222564\n",
      "8      8    0     0  0.419617 -0.466315\n",
      "9      9    0     0  1.959801 -0.289751\n",
      "   stock  day  time    target      pred\n",
      "0      0    0     0 -2.340078 -0.946524\n",
      "1      1    0     0 -8.130074 -0.780724\n",
      "2      2    0     0  0.790358  0.212025\n",
      "3      3    0     0  6.059408 -0.358666\n",
      "4      4    0     0  0.499487  0.414424\n",
      "5      5    0     0  5.190372  0.237438\n",
      "6      6    0     0 -4.439950  0.419329\n",
      "7      7    0     0 -3.280044 -0.841863\n",
      "8      8    0     0  0.419617 -0.519995\n",
      "9      9    0     0  1.959801 -0.235066\n",
      "   stock  day  time    target      pred\n",
      "0      0    0     0 -2.340078 -1.003966\n",
      "1      1    0     0 -8.130074 -1.346143\n",
      "2      2    0     0  0.790358 -1.106731\n",
      "3      3    0     0  6.059408 -0.471332\n",
      "4      4    0     0  0.499487  0.339069\n",
      "5      5    0     0  5.190372 -0.731069\n",
      "6      6    0     0 -4.439950  0.656246\n",
      "7      7    0     0 -3.280044 -1.570824\n",
      "8      8    0     0  0.419617  0.121196\n",
      "9      9    0     0  1.959801  0.142810\n",
      "   stock  day  time    target      pred\n",
      "0      0    0     0 -2.340078 -0.735469\n",
      "1      1    0     0 -8.130074 -1.899179\n",
      "2      2    0     0  0.790358 -0.571055\n",
      "3      3    0     0  6.059408 -0.365734\n",
      "4      4    0     0  0.499487  0.409754\n",
      "5      5    0     0  5.190372 -0.209584\n",
      "6      6    0     0 -4.439950  0.883400\n",
      "7      7    0     0 -3.280044 -1.552571\n",
      "8      8    0     0  0.419617 -0.045167\n",
      "9      9    0     0  1.959801 -0.070419\n",
      "   stock  day  time    target      pred\n",
      "0      0    0     0 -2.340078 -0.493195\n",
      "1      1    0     0 -8.130074 -2.130249\n",
      "2      2    0     0  0.790358 -0.566215\n",
      "3      3    0     0  6.059408 -0.403650\n",
      "4      4    0     0  0.499487  0.356414\n",
      "5      5    0     0  5.190372 -0.031230\n",
      "6      6    0     0 -4.439950  1.176269\n",
      "7      7    0     0 -3.280044 -1.725850\n",
      "8      8    0     0  0.419617 -0.152107\n",
      "9      9    0     0  1.959801 -0.182071\n",
      "   stock  day  time    target      pred\n",
      "0      0    0     0 -2.340078 -0.600017\n",
      "1      1    0     0 -8.130074 -1.456538\n",
      "2      2    0     0  0.790358 -1.087744\n",
      "3      3    0     0  6.059408 -0.441389\n",
      "4      4    0     0  0.499487  0.236699\n",
      "5      5    0     0  5.190372 -0.021500\n",
      "6      6    0     0 -4.439950  1.248481\n",
      "7      7    0     0 -3.280044 -1.542967\n",
      "8      8    0     0  0.419617 -0.258071\n",
      "9      9    0     0  1.959801 -0.231214\n",
      "   stock  day  time    target      pred\n",
      "0      0    0     0 -2.340078 -0.551472\n",
      "1      1    0     0 -8.130074 -1.269278\n",
      "2      2    0     0  0.790358 -0.735745\n",
      "3      3    0     0  6.059408 -0.363927\n",
      "4      4    0     0  0.499487  0.237362\n",
      "5      5    0     0  5.190372 -0.028137\n",
      "6      6    0     0 -4.439950  1.025804\n",
      "7      7    0     0 -3.280044 -2.058549\n",
      "8      8    0     0  0.419617 -0.158280\n",
      "9      9    0     0  1.959801 -0.312107\n",
      "   stock  day  time    target      pred\n",
      "0      0    0     0 -2.340078 -0.544584\n",
      "1      1    0     0 -8.130074 -1.450207\n",
      "2      2    0     0  0.790358 -0.586254\n",
      "3      3    0     0  6.059408 -0.274917\n",
      "4      4    0     0  0.499487  0.213079\n",
      "5      5    0     0  5.190372 -0.121634\n",
      "6      6    0     0 -4.439950  0.387228\n",
      "7      7    0     0 -3.280044 -1.930481\n",
      "8      8    0     0  0.419617 -0.245498\n",
      "9      9    0     0  1.959801 -0.271470\n",
      "   stock  day  time    target      pred\n",
      "0      0    0     0 -2.340078 -0.496285\n",
      "1      1    0     0 -8.130074 -0.884947\n",
      "2      2    0     0  0.790358 -0.222174\n",
      "3      3    0     0  6.059408 -0.251985\n",
      "4      4    0     0  0.499487  0.225425\n",
      "5      5    0     0  5.190372 -0.199797\n",
      "6      6    0     0 -4.439950  0.176504\n",
      "7      7    0     0 -3.280044 -1.775619\n",
      "8      8    0     0  0.419617 -0.243079\n",
      "9      9    0     0  1.959801 -0.294372\n",
      "   stock  day  time    target      pred\n",
      "0      0    0     0 -2.340078 -0.526716\n",
      "1      1    0     0 -8.130074 -0.901355\n",
      "2      2    0     0  0.790358 -0.645544\n",
      "3      3    0     0  6.059408 -0.375716\n",
      "4      4    0     0  0.499487  0.237722\n",
      "5      5    0     0  5.190372 -0.241174\n",
      "6      6    0     0 -4.439950  0.142991\n",
      "7      7    0     0 -3.280044 -2.444291\n",
      "8      8    0     0  0.419617 -0.281259\n",
      "9      9    0     0  1.959801 -0.286499\n",
      "   stock  day  time    target      pred\n",
      "0      0    0     0 -2.340078 -0.406346\n",
      "1      1    0     0 -8.130074 -1.230073\n",
      "2      2    0     0  0.790358 -0.624269\n",
      "3      3    0     0  6.059408 -0.463401\n",
      "4      4    0     0  0.499487  0.249002\n",
      "5      5    0     0  5.190372 -0.352451\n",
      "6      6    0     0 -4.439950  0.164661\n",
      "7      7    0     0 -3.280044 -2.327874\n",
      "8      8    0     0  0.419617 -0.351533\n",
      "9      9    0     0  1.959801 -0.359597\n",
      "   stock  day  time    target      pred\n",
      "0      0    0     0 -2.340078 -0.609108\n",
      "1      1    0     0 -8.130074 -1.223227\n",
      "2      2    0     0  0.790358 -0.796298\n",
      "3      3    0     0  6.059408 -0.553807\n",
      "4      4    0     0  0.499487  0.260567\n",
      "5      5    0     0  5.190372 -0.398168\n",
      "6      6    0     0 -4.439950  0.275120\n",
      "7      7    0     0 -3.280044 -2.318242\n",
      "8      8    0     0  0.419617 -0.552048\n",
      "9      9    0     0  1.959801 -0.627184\n",
      "   stock  day  time    target      pred\n",
      "0      0    0     0 -2.340078 -0.588777\n",
      "1      1    0     0 -8.130074 -1.062370\n",
      "2      2    0     0  0.790358 -1.224197\n",
      "3      3    0     0  6.059408 -0.598659\n",
      "4      4    0     0  0.499487  0.337055\n",
      "5      5    0     0  5.190372 -0.448071\n",
      "6      6    0     0 -4.439950  0.335051\n",
      "7      7    0     0 -3.280044 -2.468794\n",
      "8      8    0     0  0.419617 -0.452225\n",
      "9      9    0     0  1.959801 -0.674138\n",
      "   stock  day  time    target      pred\n",
      "0      0    0     0 -2.340078 -0.635831\n",
      "1      1    0     0 -8.130074 -0.944622\n",
      "2      2    0     0  0.790358 -1.360322\n",
      "3      3    0     0  6.059408 -0.474614\n",
      "4      4    0     0  0.499487  0.416512\n",
      "5      5    0     0  5.190372 -0.453882\n",
      "6      6    0     0 -4.439950  0.362240\n",
      "7      7    0     0 -3.280044 -2.465635\n",
      "8      8    0     0  0.419617 -0.482230\n",
      "9      9    0     0  1.959801 -0.577576\n"
     ]
    }
   ],
   "source": [
    "model = model_pipeline(trading_data, config_static)"
   ]
  },
  {
   "cell_type": "code",
   "execution_count": null,
   "metadata": {},
   "outputs": [],
   "source": [
    "torch.cuda.empty_cache()"
   ]
  },
  {
   "cell_type": "code",
   "execution_count": null,
   "metadata": {},
   "outputs": [],
   "source": [
    "trading_data.reset_hidden(config_static['hidden_size'], config_static['num_layers'])"
   ]
  }
 ],
 "metadata": {
  "kernelspec": {
   "display_name": "python311",
   "language": "python",
   "name": "python3"
  },
  "language_info": {
   "codemirror_mode": {
    "name": "ipython",
    "version": 3
   },
   "file_extension": ".py",
   "mimetype": "text/x-python",
   "name": "python",
   "nbconvert_exporter": "python",
   "pygments_lexer": "ipython3",
   "version": "3.11.5"
  },
  "orig_nbformat": 4
 },
 "nbformat": 4,
 "nbformat_minor": 2
}
