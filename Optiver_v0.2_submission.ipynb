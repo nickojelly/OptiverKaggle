{
 "cells": [
  {
   "cell_type": "code",
   "execution_count": 34,
   "metadata": {},
   "outputs": [],
   "source": [
    "import pandas as pd \n",
    "import numpy as np\n",
    "import public_timeseries_testing_util as optiver2023\n",
    "from torch.nn.utils.rnn import pack_padded_sequence, pack_sequence, unpack_sequence, unpad_sequence\n",
    "import torch\n",
    "from tqdm.notebook import trange,tqdm\n",
    "import torch.nn as nn \n",
    "import torch.optim as optim\n",
    "import wandb\n",
    "import torch_classes\n",
    "from model_saver import model_saver_wandb as model_saver\n",
    "import training_testing\n",
    "import importlib"
   ]
  },
  {
   "cell_type": "code",
   "execution_count": 2,
   "metadata": {},
   "outputs": [],
   "source": [
    "env = optiver2023.make_env()\n",
    "iter_test = env.iter_test()"
   ]
  },
  {
   "cell_type": "code",
   "execution_count": 3,
   "metadata": {},
   "outputs": [
    {
     "name": "stdout",
     "output_type": "stream",
     "text": [
      "Running on the GPU\n"
     ]
    }
   ],
   "source": [
    "if torch.cuda.is_available():\n",
    "    device = torch.device(\"cuda:0\")  # you can continue going on here, like cuda:1 cuda:2....etc.\n",
    "    print(\"Running on the GPU\")\n",
    "else:\n",
    "    device = torch.device(\"cpu\")\n",
    "    print(\"Running on the CPU\")"
   ]
  },
  {
   "cell_type": "code",
   "execution_count": 387,
   "metadata": {},
   "outputs": [
    {
     "name": "stdout",
     "output_type": "stream",
     "text": [
      "odict_keys(['gru.weight_ih_l0', 'gru.weight_hh_l0', 'gru.bias_ih_l0', 'gru.bias_hh_l0', 'batch_norm.weight', 'batch_norm.bias', 'batch_norm.running_mean', 'batch_norm.running_var', 'batch_norm.num_batches_tracked', 'fc0.weight', 'fc0.bias', 'fc1.weight', 'fc1.bias', 'fc2.weight', 'fc2.bias', 'fc3.weight', 'fc3.bias'])\n"
     ]
    },
    {
     "data": {
      "text/plain": [
       "<All keys matched successfully>"
      ]
     },
     "execution_count": 387,
     "metadata": {},
     "output_type": "execute_result"
    }
   ],
   "source": [
    "model = torch_classes.GRUNet(12,64)\n",
    "model_loc = f\"C:/Users/Nick/Documents/GitHub/OptiverKaggle/models/tough-totem-105/tough-totem-105_80.pt\"\n",
    "model_data = torch.load(model_loc,map_location=torch.device('cpu'))\n",
    "print(model_data['model_state_dict'].keys())\n",
    "model.load_state_dict(model_data['model_state_dict'], strict=False)"
   ]
  },
  {
   "cell_type": "code",
   "execution_count": 364,
   "metadata": {},
   "outputs": [
    {
     "data": {
      "text/plain": [
       "<module 'torch_classes' from 'c:\\\\Users\\\\Nick\\\\Documents\\\\GitHub\\\\OptiverKaggle\\\\torch_classes.py'>"
      ]
     },
     "execution_count": 364,
     "metadata": {},
     "output_type": "execute_result"
    }
   ],
   "source": [
    "importlib.reload(torch_classes)"
   ]
  },
  {
   "cell_type": "code",
   "execution_count": 5,
   "metadata": {},
   "outputs": [],
   "source": [
    "stats_cols =  ['seconds_in_bucket','imbalance_size','imbalance_buy_sell_flag','reference_price','matched_size','far_price','near_price','bid_price','bid_size','ask_price','ask_size','wap']"
   ]
  },
  {
   "cell_type": "code",
   "execution_count": 6,
   "metadata": {},
   "outputs": [],
   "source": [
    "trading_data = torch_classes.TradingData()"
   ]
  },
  {
   "cell_type": "code",
   "execution_count": 388,
   "metadata": {},
   "outputs": [
    {
     "name": "stdout",
     "output_type": "stream",
     "text": [
      "0\n",
      "tensor([[ 0.4570, -0.9641,  0.0556,  0.3187, -0.8199,  0.2145, -0.6593, -0.4434,\n",
      "         -0.4239, -0.3600, -0.0571,  0.9848, -0.3532,  0.9210, -0.3768, -0.5132,\n",
      "          0.8861, -0.1514, -0.9260, -0.8000, -0.9793, -1.0000,  0.3105, -0.9878,\n",
      "          0.8955,  0.3536, -0.6440,  0.1685, -0.9328, -0.9824, -0.7731,  0.9151,\n",
      "         -0.0879, -0.9859,  0.9996,  0.5933,  0.2711, -0.8528,  0.3635,  0.7888,\n",
      "         -0.8207,  0.3336,  0.8360, -0.5640, -0.7918, -0.7105,  0.8392,  0.9965,\n",
      "         -0.9069, -0.5620,  0.8810, -0.8549, -0.5570, -0.9973, -0.9536,  0.9862,\n",
      "         -1.0000,  0.5586, -0.8086,  0.8054, -0.9664,  0.5031, -0.1587,  0.9859]])\n",
      "1\n",
      "tensor([[ 0.5573, -0.9996, -0.0875, -0.8667, -0.8092,  0.1909, -0.0873, -0.1651,\n",
      "         -0.1603, -0.0932, -0.3419,  0.9190,  0.8175,  0.9407, -0.1747, -0.1076,\n",
      "          0.4734, -0.7020,  0.0317, -0.9356,  0.1350, -1.0000,  0.6581, -0.4255,\n",
      "          0.9169,  0.3826,  0.7131,  0.6376, -0.5815, -0.4303, -0.9984,  0.2914,\n",
      "          0.8451, -0.3053,  0.9999,  0.8587,  0.2134, -0.8801,  0.7821,  0.1324,\n",
      "         -0.1987, -0.3885, -0.4689,  0.4260, -0.8907,  0.2517,  0.8435,  0.7789,\n",
      "         -0.8387,  0.4400,  0.9778, -0.3269, -0.3254, -0.9629, -0.6304,  0.5779,\n",
      "         -0.9998,  0.7752,  0.0995,  0.5993, -1.0000,  0.6439, -0.0424,  0.9027]])\n",
      "2\n",
      "tensor([[ 0.5735, -0.9989,  0.8146, -0.9872, -0.7451,  0.1638,  0.1040, -0.4763,\n",
      "         -0.9356, -0.6039, -0.6764,  0.3034,  0.6344,  0.8384, -0.3456, -0.6571,\n",
      "         -0.0925, -0.4833, -0.1907,  0.3554,  0.0267, -0.9979,  0.5654, -0.5737,\n",
      "          0.9861, -0.9598,  0.6506,  0.9361, -0.0449, -0.6909, -0.9587,  0.7923,\n",
      "         -0.1717, -0.5771,  1.0000,  0.0299,  0.2671, -0.8027,  0.6829,  0.6092,\n",
      "         -0.3393, -0.8362,  0.5108,  0.5403, -0.7485, -0.6126,  0.0045,  0.7311,\n",
      "         -0.9416, -0.0798,  0.9478, -0.6459, -0.2543, -0.9683, -0.6830,  0.7339,\n",
      "         -0.5476,  0.0548,  0.3145,  0.8523, -0.9883,  0.1981,  0.8955,  0.9240]])\n",
      "3\n",
      "tensor([[ 0.6026, -0.9998,  0.1625, -0.9684, -0.3898, -0.8922,  0.0976, -0.0972,\n",
      "         -0.4059, -0.5621, -0.2093,  0.8396,  0.4183,  0.9484, -0.2987, -0.8882,\n",
      "         -0.0455, -0.9842, -0.6536,  0.9759,  0.2842, -0.9969,  0.2661, -0.8644,\n",
      "          0.7946,  0.0227,  0.1148,  0.7755, -0.8729, -0.9122, -0.2714,  0.8802,\n",
      "          0.2791, -0.6579,  1.0000,  0.8726,  0.0767, -0.8549,  0.7783,  0.6764,\n",
      "         -0.6206, -0.6945,  0.9580,  0.6965, -0.9359, -0.7308,  0.3186,  0.6021,\n",
      "         -0.9877, -0.4685,  0.8672, -0.8516,  0.0763, -0.9964, -0.8432,  0.9914,\n",
      "         -0.6876,  0.4656, -0.0726,  0.8113, -0.9922, -0.1407, -0.6303,  0.9871]])\n",
      "4\n",
      "tensor([[ 0.3768, -0.9998,  0.4400, -0.9790, -0.9199, -0.1201, -0.0412, -0.5108,\n",
      "         -0.7502,  0.0506, -0.4073,  0.9147,  0.3172,  0.9013, -0.3338, -0.3413,\n",
      "         -0.3255, -0.8126, -0.9182,  0.3491, -0.0555, -0.9999,  0.5300, -0.5144,\n",
      "          0.8982,  0.5578,  0.6999,  0.7063, -0.8467, -0.2973, -0.9628,  0.7456,\n",
      "          0.5037, -0.4938,  1.0000, -0.4051,  0.1460, -0.7378,  0.8073, -0.1495,\n",
      "         -0.0354, -0.4445,  0.5637,  0.5719, -0.6409, -0.2425,  0.8616,  0.7799,\n",
      "         -0.8532,  0.1355,  0.9136, -0.4056, -0.4664, -0.9541, -0.7271,  0.5901,\n",
      "         -0.4132,  0.1342, -0.0407,  0.7822, -0.9999,  0.0654, -0.0146,  0.8080]])\n"
     ]
    }
   ],
   "source": [
    "trading_data.fill_hidden_states_for_test(model_data['db_train'])\n",
    "trading_data.reset_hidden(64,device='cpu')"
   ]
  },
  {
   "cell_type": "code",
   "execution_count": 8,
   "metadata": {},
   "outputs": [],
   "source": [
    "def gen_preds(test, trading_data:torch_classes.TradingData, model:torch_classes.GRUNet):\n",
    "    test['stats']  = pd.Series(test[stats_cols].fillna(-1).values.tolist())\n",
    "    stock_ids = test.stock_id.unique().tolist()\n",
    "    stocks = [trading_data.stocksDict[x] for x in stock_ids]\n",
    "    hidden = torch.stack([trading_data.stocksDict[x].hidden for x in stock_ids]).transpose(0,1)\n",
    "    \n",
    "    X = [torch.tensor(x) for x in test['stats'].tolist()]\n",
    "    \n",
    "    Xstacked = torch.stack(X)\n",
    "    \n",
    "    Xviewed = pack_sequence(Xstacked.view(-1,1,12))\n",
    "    \n",
    "    output,hidden_out = model(Xviewed,hidden)\n",
    "    \n",
    "    hidden_out = hidden_out.transpose(0,1)\n",
    "    \n",
    "    [setattr(obj, 'hidden', val.detach()) for obj, val in zip(stocks,hidden_out)]\n",
    "    \n",
    "    output = output.flatten().tolist()\n",
    "    \n",
    "    return output"
   ]
  },
  {
   "cell_type": "code",
   "execution_count": 9,
   "metadata": {},
   "outputs": [
    {
     "name": "stdout",
     "output_type": "stream",
     "text": [
      "   stock_id  date_id  seconds_in_bucket  imbalance_size  \\\n",
      "0         0        0                  0      3180602.69   \n",
      "1         1        0                  0       166603.91   \n",
      "2         2        0                  0       302879.87   \n",
      "\n",
      "   imbalance_buy_sell_flag  reference_price  matched_size  far_price  \\\n",
      "0                        1         0.999812   13380276.64        NaN   \n",
      "1                       -1         0.999896    1642214.25        NaN   \n",
      "2                       -1         0.999561    1819368.03        NaN   \n",
      "\n",
      "   near_price  bid_price  bid_size  ask_price  ask_size  wap    target row_id  \n",
      "0         NaN   0.999812  60651.50   1.000026   8493.03  1.0 -3.029704  0_0_0  \n",
      "1         NaN   0.999896   3233.04   1.000660  20605.09  1.0 -5.519986  0_0_1  \n",
      "2         NaN   0.999403  37956.00   1.000298  18995.00  1.0 -8.389950  0_0_2  \n",
      "   stock_id  date_id  seconds_in_bucket  imbalance_size  \\\n",
      "0         0        0                  0      3180602.69   \n",
      "1         1        0                  0       166603.91   \n",
      "2         2        0                  0       302879.87   \n",
      "\n",
      "   imbalance_buy_sell_flag  reference_price  matched_size  far_price  \\\n",
      "0                        1         0.999812   13380276.64        NaN   \n",
      "1                       -1         0.999896    1642214.25        NaN   \n",
      "2                       -1         0.999561    1819368.03        NaN   \n",
      "\n",
      "   near_price  bid_price  bid_size  ask_price  ask_size  wap    target row_id  \n",
      "0         NaN   0.999812  60651.50   1.000026   8493.03  1.0 -3.029704  0_0_0  \n",
      "1         NaN   0.999896   3233.04   1.000660  20605.09  1.0 -5.519986  0_0_1  \n",
      "2         NaN   0.999403  37956.00   1.000298  18995.00  1.0 -8.389950  0_0_2  \n",
      "  row_id\n",
      "0  0_0_0\n",
      "1  0_0_1\n",
      "2  0_0_2\n"
     ]
    }
   ],
   "source": [
    "counter = 0\n",
    "for (test, revealed_targets, sample_prediction) in iter_test:\n",
    "    if counter == 0:\n",
    "        print(test.head(3))\n",
    "        print(revealed_targets.head(3))\n",
    "        print(sample_prediction.head(3))\n",
    "        \n",
    "    preditcions = gen_preds(test,trading_data,model)\n",
    "    \n",
    "    sample_prediction['target'] = preditcions\n",
    "    test_df = test\n",
    "    # print(preditcions)\n",
    "    break\n",
    "    env.predict(sample_prediction)\n",
    "    counter += 1"
   ]
  },
  {
   "cell_type": "code",
   "execution_count": 10,
   "metadata": {},
   "outputs": [],
   "source": [
    "# for i in iter_test:\n",
    "    \n",
    "#     test_df = i[0]\n",
    "#     print(test_df)\n",
    "#     test_df['stats']  = pd.Series(test_df[stats_cols].fillna(-1).values.tolist())\n",
    "#     stock_ids = test_df.stock_id.unique()\n",
    "#     stocks = [trading_data.stocksDict[x] for x in stock_ids] \n",
    "#     hidden = torch.stack([trading_data.stocksDict[x].hidden for x in stock_ids]).transpose(0,1)\n",
    "#     X = [torch.tensor(x) for x in test_df['stats'].tolist()]\n",
    "#     X = torch.stack(X)\n",
    "#     X = pack_sequence(X.view(-1,1,12))\n",
    "\n",
    "    \n",
    "#     model.eval()\n",
    "#     output,hidden = model(X,hidden)\n",
    "#     [setattr(obj, 'hidden', val.detach()) for obj, val in zip(stocks,hidden)]\n",
    "#     print(output)\n",
    "#     test_df['taget'] = output.flatten().tolist()\n",
    "#     # test_df['actual'] = test_df['target']\n",
    "#     env.predict(test_df)\n",
    "    "
   ]
  },
  {
   "cell_type": "code",
   "execution_count": 11,
   "metadata": {},
   "outputs": [
    {
     "ename": "NameError",
     "evalue": "name 'output' is not defined",
     "output_type": "error",
     "traceback": [
      "\u001b[1;31m---------------------------------------------------------------------------\u001b[0m",
      "\u001b[1;31mNameError\u001b[0m                                 Traceback (most recent call last)",
      "\u001b[1;32mc:\\Users\\Nick\\Documents\\GitHub\\OptiverKaggle\\Optiver_v0.2_submission.ipynb Cell 12\u001b[0m line \u001b[0;36m1\n\u001b[1;32m----> <a href='vscode-notebook-cell:/c%3A/Users/Nick/Documents/GitHub/OptiverKaggle/Optiver_v0.2_submission.ipynb#X14sZmlsZQ%3D%3D?line=0'>1</a>\u001b[0m output\n",
      "\u001b[1;31mNameError\u001b[0m: name 'output' is not defined"
     ]
    }
   ],
   "source": [
    "output"
   ]
  },
  {
   "cell_type": "code",
   "execution_count": 347,
   "metadata": {},
   "outputs": [],
   "source": [
    "x = test_df"
   ]
  },
  {
   "cell_type": "markdown",
   "metadata": {},
   "source": []
  },
  {
   "cell_type": "code",
   "execution_count": 356,
   "metadata": {},
   "outputs": [],
   "source": [
    "test_df = x.head(5)"
   ]
  },
  {
   "cell_type": "code",
   "execution_count": 354,
   "metadata": {},
   "outputs": [
    {
     "data": {
      "text/html": [
       "<div>\n",
       "<style scoped>\n",
       "    .dataframe tbody tr th:only-of-type {\n",
       "        vertical-align: middle;\n",
       "    }\n",
       "\n",
       "    .dataframe tbody tr th {\n",
       "        vertical-align: top;\n",
       "    }\n",
       "\n",
       "    .dataframe thead th {\n",
       "        text-align: right;\n",
       "    }\n",
       "</style>\n",
       "<table border=\"1\" class=\"dataframe\">\n",
       "  <thead>\n",
       "    <tr style=\"text-align: right;\">\n",
       "      <th></th>\n",
       "      <th>stock_id</th>\n",
       "      <th>date_id</th>\n",
       "      <th>seconds_in_bucket</th>\n",
       "      <th>imbalance_size</th>\n",
       "      <th>imbalance_buy_sell_flag</th>\n",
       "      <th>reference_price</th>\n",
       "      <th>matched_size</th>\n",
       "      <th>far_price</th>\n",
       "      <th>near_price</th>\n",
       "      <th>bid_price</th>\n",
       "      <th>bid_size</th>\n",
       "      <th>ask_price</th>\n",
       "      <th>ask_size</th>\n",
       "      <th>wap</th>\n",
       "      <th>target</th>\n",
       "      <th>row_id</th>\n",
       "      <th>stats</th>\n",
       "    </tr>\n",
       "  </thead>\n",
       "  <tbody>\n",
       "    <tr>\n",
       "      <th>0</th>\n",
       "      <td>0</td>\n",
       "      <td>0</td>\n",
       "      <td>0</td>\n",
       "      <td>3180602.69</td>\n",
       "      <td>1</td>\n",
       "      <td>0.999812</td>\n",
       "      <td>13380276.64</td>\n",
       "      <td>NaN</td>\n",
       "      <td>NaN</td>\n",
       "      <td>0.999812</td>\n",
       "      <td>60651.5</td>\n",
       "      <td>1.000026</td>\n",
       "      <td>8493.03</td>\n",
       "      <td>1.0</td>\n",
       "      <td>-3.029704</td>\n",
       "      <td>0_0_0</td>\n",
       "      <td>[0.0, 3180602.69, 1.0, 0.999812, 13380276.64, ...</td>\n",
       "    </tr>\n",
       "  </tbody>\n",
       "</table>\n",
       "</div>"
      ],
      "text/plain": [
       "   stock_id  date_id  seconds_in_bucket  imbalance_size  \\\n",
       "0         0        0                  0      3180602.69   \n",
       "\n",
       "   imbalance_buy_sell_flag  reference_price  matched_size  far_price  \\\n",
       "0                        1         0.999812   13380276.64        NaN   \n",
       "\n",
       "   near_price  bid_price  bid_size  ask_price  ask_size  wap    target row_id  \\\n",
       "0         NaN   0.999812   60651.5   1.000026   8493.03  1.0 -3.029704  0_0_0   \n",
       "\n",
       "                                               stats  \n",
       "0  [0.0, 3180602.69, 1.0, 0.999812, 13380276.64, ...  "
      ]
     },
     "execution_count": 354,
     "metadata": {},
     "output_type": "execute_result"
    }
   ],
   "source": [
    "test_df"
   ]
  },
  {
   "cell_type": "code",
   "execution_count": 596,
   "metadata": {},
   "outputs": [
    {
     "name": "stdout",
     "output_type": "stream",
     "text": [
      "tensor([[[-0.8575,  0.7445, -0.8014,  0.7816, -0.5938, -0.7823, -0.7967,\n",
      "          -0.5086,  0.5378, -0.0737, -0.5103, -0.5201, -0.2461, -0.4879,\n",
      "          -0.3435, -0.1746, -0.1386,  0.0818, -0.7184, -0.3409, -0.6650,\n",
      "           0.9997, -0.7376, -0.4719,  0.5599,  0.6262,  0.6931, -0.9579,\n",
      "          -0.6052,  0.0718,  0.6607,  0.6729,  0.0845, -0.4968, -0.6447,\n",
      "          -0.9867,  0.6466, -0.9892, -0.7533,  0.7768, -0.3308, -0.0147,\n",
      "           0.9768,  0.5592,  0.0995, -0.1919,  0.9054,  0.9997, -0.0796,\n",
      "          -0.7784, -0.9714, -0.4716, -0.5839,  0.9843, -0.7999,  0.9457,\n",
      "           0.4040, -1.0000, -0.4622, -0.3323,  0.7707,  0.3389,  0.3091,\n",
      "          -0.8781]]], grad_fn=<StackBackward0>)\n",
      "tensor([[[-0.8575,  0.7445, -0.8015,  0.7816, -0.5938, -0.7823, -0.7968,\n",
      "          -0.5089,  0.5378, -0.0737, -0.5103, -0.5201, -0.2461, -0.4878,\n",
      "          -0.3442, -0.1746, -0.1390,  0.0821, -0.7184, -0.3408, -0.6650,\n",
      "           0.9997, -0.7375, -0.4719,  0.5599,  0.6262,  0.6941, -0.9582,\n",
      "          -0.6053,  0.0717,  0.6607,  0.6729,  0.0846, -0.4968, -0.6447,\n",
      "          -0.9867,  0.6467, -0.9892, -0.7545,  0.7768, -0.3309, -0.0147,\n",
      "           0.9768,  0.5592,  0.0995, -0.1919,  0.9054,  0.9997, -0.0792,\n",
      "          -0.7785, -0.9714, -0.4716, -0.5839,  0.9844, -0.8004,  0.9456,\n",
      "           0.4046, -1.0000, -0.4622, -0.3323,  0.7706,  0.3391,  0.3091,\n",
      "          -0.8787]]], grad_fn=<StackBackward0>)\n",
      "-1.4035744667053223\n",
      "tensor([[[-0.2776,  0.7300,  0.4684,  0.4859, -0.6417, -0.6419, -0.0442,\n",
      "           0.2894,  0.9964, -0.4556, -0.2518, -0.9489, -0.1862,  0.2100,\n",
      "          -0.1263, -0.0886, -0.0576,  1.0000,  0.0706,  0.5752,  0.1624,\n",
      "           0.9595,  0.3823,  0.0916,  0.5848, -0.2474,  0.3140, -0.9481,\n",
      "          -0.6858, -0.0265,  0.7529,  0.6486, -0.3356,  0.2370, -0.9770,\n",
      "          -0.9345,  0.5451, -0.9323, -0.3058,  0.4803, -0.3513,  0.3643,\n",
      "           0.9948,  0.6030,  0.0194, -0.2567,  0.3477,  0.3218, -0.0557,\n",
      "          -0.2221, -0.9273, -0.2433,  0.3337,  0.7029, -0.8221,  0.9600,\n",
      "           0.1987, -1.0000,  0.3080, -0.5119,  0.5234,  0.2743, -0.5009,\n",
      "          -0.7657]]], grad_fn=<StackBackward0>)\n",
      "tensor([[[-0.2776,  0.7300,  0.4684,  0.4859, -0.6417, -0.6418, -0.0444,\n",
      "           0.2895,  0.9964, -0.4556, -0.2519, -0.9489, -0.1863,  0.2100,\n",
      "          -0.1263, -0.0886, -0.0578,  1.0000,  0.0706,  0.5750,  0.1624,\n",
      "           0.9596,  0.3820,  0.0917,  0.5844, -0.2474,  0.3146, -0.9484,\n",
      "          -0.6861, -0.0265,  0.7529,  0.6489, -0.3353,  0.2370, -0.9770,\n",
      "          -0.9346,  0.5452, -0.9324, -0.3060,  0.4800, -0.3512,  0.3643,\n",
      "           0.9948,  0.6030,  0.0194, -0.2567,  0.3478,  0.3225, -0.0557,\n",
      "          -0.2225, -0.9273, -0.2434,  0.3337,  0.7034, -0.8229,  0.9601,\n",
      "           0.1994, -1.0000,  0.3080, -0.5119,  0.5233,  0.2744, -0.5009,\n",
      "          -0.7666]]], grad_fn=<StackBackward0>)\n",
      "-1.020544171333313\n",
      "tensor([[[-3.3288e-01,  7.3953e-01,  2.2678e-01,  6.6525e-01, -5.3614e-01,\n",
      "          -1.7086e-01, -4.8577e-01, -2.2119e-01,  8.7855e-01, -3.6909e-01,\n",
      "          -4.3749e-01, -9.4345e-01, -2.2136e-01,  2.5511e-01,  1.5535e-01,\n",
      "           3.3959e-02, -2.5780e-01,  9.9775e-01, -3.1008e-01, -8.8997e-04,\n",
      "          -3.0357e-01,  9.5762e-01, -7.5892e-01, -2.8284e-01,  4.9396e-01,\n",
      "          -2.3661e-01,  1.9739e-01, -8.6915e-01, -6.8575e-01, -3.7661e-01,\n",
      "           7.8987e-01,  6.3488e-01, -6.9471e-01, -1.1236e-01, -9.5045e-01,\n",
      "          -9.6054e-01,  6.2565e-01, -9.9805e-01, -6.3082e-01, -8.1757e-01,\n",
      "          -1.1894e-01,  5.4986e-01,  9.1603e-01,  4.6996e-01,  1.3606e-01,\n",
      "          -1.9484e-01,  4.1610e-01,  7.9261e-01,  3.9763e-02, -7.0268e-01,\n",
      "          -9.3267e-01, -2.9038e-01, -6.8203e-02,  4.8912e-01, -8.3270e-01,\n",
      "           8.9056e-01,  1.5891e-02, -1.0000e+00, -2.8816e-02,  8.5550e-02,\n",
      "           7.8856e-01,  3.7089e-01, -4.3351e-01, -7.6899e-01]]],\n",
      "       grad_fn=<StackBackward0>)\n",
      "tensor([[[-3.3292e-01,  7.3953e-01,  2.2671e-01,  6.6525e-01, -5.3614e-01,\n",
      "          -1.7019e-01, -4.8593e-01, -2.2119e-01,  8.7853e-01, -3.6908e-01,\n",
      "          -4.3753e-01, -9.4345e-01, -2.2112e-01,  2.5495e-01,  1.5530e-01,\n",
      "           3.3962e-02, -2.5878e-01,  9.9779e-01, -3.1008e-01, -6.6736e-04,\n",
      "          -3.0362e-01,  9.5766e-01, -7.5894e-01, -2.8285e-01,  4.9331e-01,\n",
      "          -2.3659e-01,  1.9788e-01, -8.6952e-01, -6.8639e-01, -3.7661e-01,\n",
      "           7.8987e-01,  6.3522e-01, -6.9472e-01, -1.1238e-01, -9.5045e-01,\n",
      "          -9.6057e-01,  6.2572e-01, -9.9806e-01, -6.3209e-01, -8.1807e-01,\n",
      "          -1.1857e-01,  5.4987e-01,  9.1603e-01,  4.6996e-01,  1.3608e-01,\n",
      "          -1.9484e-01,  4.1679e-01,  7.9319e-01,  3.9803e-02, -7.0288e-01,\n",
      "          -9.3267e-01, -2.9045e-01, -6.8420e-02,  4.8913e-01, -8.3323e-01,\n",
      "           8.9066e-01,  1.6115e-02, -1.0000e+00, -2.8785e-02,  8.5770e-02,\n",
      "           7.8853e-01,  3.7098e-01, -4.3351e-01, -7.6995e-01]]],\n",
      "       grad_fn=<StackBackward0>)\n",
      "-2.2814908027648926\n",
      "tensor([[[-0.7710,  1.0000, -0.2718, -0.2762, -0.9859, -0.9954,  0.9904,\n",
      "          -0.9976,  0.6406, -0.9927, -0.9795, -0.9231, -0.2883, -0.0886,\n",
      "          -0.9993, -0.9989, -0.9985,  0.9992,  0.0962,  0.9905,  0.3119,\n",
      "           0.9669,  0.9974, -0.3228,  0.9932,  0.4761,  0.9908, -0.9905,\n",
      "          -0.9986, -0.2445,  0.2121, -0.9735,  0.7559, -0.6735, -0.0535,\n",
      "          -0.8444, -0.0768,  0.5836,  0.3734,  0.6637, -0.8054,  0.8723,\n",
      "           0.9998,  0.9959, -0.9993, -0.9996, -0.9986, -0.2715, -0.5446,\n",
      "          -0.3907, -0.3915, -0.9997,  0.0719,  0.7859, -0.8440, -0.9910,\n",
      "          -0.9885, -0.9997, -0.7936, -0.9589,  0.8983, -0.8311, -0.7800,\n",
      "           0.6210]]], grad_fn=<StackBackward0>)\n",
      "tensor([[[-0.7711,  1.0000, -0.2740, -0.2763, -0.9860, -0.9954,  0.9904,\n",
      "          -0.9976,  0.6423, -0.9927, -0.9797, -0.9231, -0.2883, -0.0887,\n",
      "          -0.9993, -0.9989, -0.9985,  0.9992,  0.0962,  0.9905,  0.3119,\n",
      "           0.9669,  0.9974, -0.3228,  0.9932,  0.4764,  0.9909, -0.9905,\n",
      "          -0.9986, -0.2445,  0.2120, -0.9735,  0.7578, -0.6735, -0.0537,\n",
      "          -0.8440, -0.0768,  0.5837,  0.3720,  0.6637, -0.8059,  0.8718,\n",
      "           0.9998,  0.9959, -0.9993, -0.9996, -0.9986, -0.2706, -0.5443,\n",
      "          -0.3907, -0.3920, -0.9997,  0.0719,  0.7857, -0.8444, -0.9910,\n",
      "          -0.9885, -0.9997, -0.7937, -0.9589,  0.8984, -0.8315, -0.7800,\n",
      "           0.6228]]], grad_fn=<StackBackward0>)\n",
      "-2.153714656829834\n",
      "tensor([[[-0.3425,  0.8064,  0.0902,  0.5665, -0.4546, -0.1501, -0.5052,\n",
      "          -0.1551,  0.9104, -0.2300, -0.3282, -0.9411, -0.0474,  0.4348,\n",
      "           0.1218,  0.1773, -0.1476,  0.9968, -0.2143,  0.0098, -0.1239,\n",
      "           0.9582, -0.7103, -0.1943,  0.5150, -0.2317,  0.2028, -0.7747,\n",
      "          -0.7960, -0.2437,  0.8126,  0.7476, -0.8604,  0.0579, -0.9651,\n",
      "          -0.9471,  0.6807, -0.9935, -0.7268, -0.8865,  0.0078,  0.5871,\n",
      "           0.8481,  0.6001,  0.2528, -0.0831,  0.3801,  0.7444,  0.1364,\n",
      "          -0.7412, -0.9202, -0.0644, -0.1209,  0.1931, -0.7230,  0.8934,\n",
      "           0.0082, -1.0000,  0.0481, -0.1149,  0.7336,  0.4315, -0.5373,\n",
      "          -0.7494]]], grad_fn=<StackBackward0>)\n",
      "tensor([[[-0.3425,  0.8064,  0.0902,  0.5665, -0.4546, -0.1495, -0.5054,\n",
      "          -0.1551,  0.9104, -0.2300, -0.3282, -0.9411, -0.0469,  0.4348,\n",
      "           0.1218,  0.1773, -0.1482,  0.9969, -0.2143,  0.0101, -0.1239,\n",
      "           0.9582, -0.7105, -0.1943,  0.5145, -0.2317,  0.2031, -0.7743,\n",
      "          -0.7965, -0.2437,  0.8126,  0.7478, -0.8604,  0.0579, -0.9651,\n",
      "          -0.9471,  0.6808, -0.9935, -0.7279, -0.8869,  0.0082,  0.5871,\n",
      "           0.8482,  0.6001,  0.2528, -0.0831,  0.3807,  0.7449,  0.1364,\n",
      "          -0.7413, -0.9202, -0.0645, -0.1212,  0.1929, -0.7237,  0.8935,\n",
      "           0.0083, -1.0000,  0.0482, -0.1147,  0.7336,  0.4316, -0.5373,\n",
      "          -0.7505]]], grad_fn=<StackBackward0>)\n",
      "-3.0033774375915527\n"
     ]
    }
   ],
   "source": [
    "for i,data in test_df.iterrows():\n",
    "    hidden = torch.stack([trading_data.stocksDict[data['stock_id']].hidden])\n",
    "    print(hidden)\n",
    "    hidden = torch.stack([trading_data.stocksDict[data['stock_id']].hidden]).transpose(0,1)\n",
    "    X = torch.tensor(data['stats']).view(-1,12,1)\n",
    "    model.eval()\n",
    "    output,hidden  = model(X,hidden,test=True)\n",
    "    trading_data.stocksDict[data['stock_id']].hidden = hidden[0]\n",
    "    print(hidden)\n",
    "    print(output.flatten().item())"
   ]
  },
  {
   "cell_type": "code",
   "execution_count": 350,
   "metadata": {},
   "outputs": [],
   "source": [
    "test_df['stats']  = pd.Series(test_df[stats_cols].fillna(-1).values.tolist())\n",
    "stock_ids = test_df.stock_id.unique()\n",
    "hidden = torch.stack([trading_data.stocksDict[x].hidden for x in stock_ids]).transpose(0,1)\n",
    "X = [torch.tensor(x) for x in test_df['stats'].tolist()]\n",
    "# X = pack_sequence(X)"
   ]
  },
  {
   "cell_type": "code",
   "execution_count": 31,
   "metadata": {},
   "outputs": [],
   "source": [
    "# X = torch.stack(X)"
   ]
  },
  {
   "cell_type": "code",
   "execution_count": 352,
   "metadata": {},
   "outputs": [
    {
     "data": {
      "text/plain": [
       "tensor([[[-2.1240],\n",
       "         [ 1.0552],\n",
       "         [-2.5545],\n",
       "         [ 2.2515],\n",
       "         [-1.9348],\n",
       "         [ 3.7566],\n",
       "         [-0.6949],\n",
       "         [-2.2269],\n",
       "         [-2.6248],\n",
       "         [ 6.1143]]], grad_fn=<ViewBackward0>)"
      ]
     },
     "execution_count": 352,
     "metadata": {},
     "output_type": "execute_result"
    }
   ],
   "source": [
    "X = [torch.tensor(x) for x in test_df['stats'].tolist()]\n",
    "X = torch.stack(X).view(-1,12,1)\n",
    "# X = pack_sequence(X)\n",
    "model.eval()\n",
    "output,hidden  = model(X,hidden,test=True)\n",
    "output"
   ]
  },
  {
   "cell_type": "code",
   "execution_count": 56,
   "metadata": {},
   "outputs": [
    {
     "data": {
      "text/plain": [
       "torch.Size([1, 12, 10])"
      ]
     },
     "execution_count": 56,
     "metadata": {},
     "output_type": "execute_result"
    }
   ],
   "source": [
    "X.shape"
   ]
  },
  {
   "cell_type": "code",
   "execution_count": null,
   "metadata": {},
   "outputs": [],
   "source": []
  },
  {
   "cell_type": "code",
   "execution_count": 43,
   "metadata": {},
   "outputs": [
    {
     "data": {
      "text/plain": [
       "tensor([[[-0.1262, -0.1012, -0.2037,  0.1888,  0.0976, -0.2847, -0.5807,\n",
       "          -0.5896, -0.0159,  0.2682, -0.5628,  0.1121, -0.1300,  0.2515,\n",
       "           0.1864,  0.0224,  0.0196, -0.1425, -0.6340, -0.5149, -0.6020,\n",
       "          -0.2689, -0.0297, -0.6029,  0.4218,  0.0321,  0.1283, -0.3335,\n",
       "           0.2974, -0.4182,  0.1575,  0.3770, -0.1936, -0.5595,  0.2087,\n",
       "          -0.1358,  0.1713,  0.1705,  0.0112, -0.2112, -0.5883, -0.2184,\n",
       "           0.6552,  0.0014, -0.0707, -0.0010,  0.4840,  0.5455, -0.3142,\n",
       "          -0.4542, -0.2142, -0.2478, -0.2938, -0.1563, -0.5573,  0.7317,\n",
       "          -0.0501, -0.3461, -0.5378,  0.3539, -0.1586,  0.4133,  0.1239,\n",
       "          -0.1093]]])"
      ]
     },
     "execution_count": 43,
     "metadata": {},
     "output_type": "execute_result"
    }
   ],
   "source": [
    "hidden"
   ]
  },
  {
   "cell_type": "code",
   "execution_count": 40,
   "metadata": {},
   "outputs": [
    {
     "data": {
      "text/plain": [
       "tensor([[[ 0.0000e+00,  3.1806e+06,  1.0000e+00,  9.9981e-01,  1.3380e+07,\n",
       "          -1.0000e+00, -1.0000e+00,  9.9981e-01,  6.0652e+04,  1.0000e+00,\n",
       "           8.4930e+03,  1.0000e+00]]])"
      ]
     },
     "execution_count": 40,
     "metadata": {},
     "output_type": "execute_result"
    }
   ],
   "source": [
    "X"
   ]
  },
  {
   "cell_type": "code",
   "execution_count": null,
   "metadata": {},
   "outputs": [],
   "source": [
    "import importlib"
   ]
  },
  {
   "cell_type": "code",
   "execution_count": null,
   "metadata": {},
   "outputs": [],
   "source": [
    "importlib.reload(torch_classes)\n",
    "trading_data = torch_classes.TradingData(train)\n",
    "hidden_size = 64\n",
    "# trading_data.generate_batches()"
   ]
  },
  {
   "cell_type": "code",
   "execution_count": null,
   "metadata": {},
   "outputs": [],
   "source": [
    "def model_pipeline(trading_df:torch_classes.TradingData, config:dict):\n",
    "    with wandb.init(project=\"Optviver\", config=config,save_code=True):\n",
    "        wandb.define_metric(\"val_epoch_loss_l1\", summary=\"min\")\n",
    "        wandb.define_metric(\"epoch_l1_loss\", summary=\"min\")\n",
    "        model = torch_classes.GRUNet(12,hidden_size).to('cuda:0')\n",
    "        config = wandb.config\n",
    "        optimizer = optim.AdamW(model.parameters(), lr=config['learning_rate'])\n",
    "        trading_df.reset_hidden(config['hidden_size'])\n",
    "        criterion = nn.MSELoss()\n",
    "        \n",
    "        training_testing.train_model(trading_df,model,config,optimizer,criterion)\n",
    "\n",
    "    return(model)\n",
    "\n"
   ]
  },
  {
   "cell_type": "code",
   "execution_count": 363,
   "metadata": {},
   "outputs": [
    {
     "data": {
      "text/plain": [
       "<module 'training_testing' from 'c:\\\\Users\\\\Nick\\\\Documents\\\\GitHub\\\\OptiverKaggle\\\\training_testing.py'>"
      ]
     },
     "execution_count": 363,
     "metadata": {},
     "output_type": "execute_result"
    }
   ],
   "source": [
    "importlib.reload(training_testing)"
   ]
  },
  {
   "cell_type": "code",
   "execution_count": null,
   "metadata": {},
   "outputs": [],
   "source": [
    "config_static = {'learning_rate':0.0001, 'hidden_size':64}"
   ]
  },
  {
   "cell_type": "code",
   "execution_count": null,
   "metadata": {},
   "outputs": [],
   "source": [
    "model = model_pipeline(trading_data, config_static)"
   ]
  }
 ],
 "metadata": {
  "kernelspec": {
   "display_name": "python311",
   "language": "python",
   "name": "python3"
  },
  "language_info": {
   "codemirror_mode": {
    "name": "ipython",
    "version": 3
   },
   "file_extension": ".py",
   "mimetype": "text/x-python",
   "name": "python",
   "nbconvert_exporter": "python",
   "pygments_lexer": "ipython3",
   "version": "3.11.5"
  },
  "orig_nbformat": 4
 },
 "nbformat": 4,
 "nbformat_minor": 2
}
