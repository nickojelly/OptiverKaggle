{
 "cells": [
  {
   "cell_type": "code",
   "execution_count": 1,
   "id": "3b612934",
   "metadata": {
    "execution": {
     "iopub.execute_input": "2023-10-09T12:10:18.752329Z",
     "iopub.status.busy": "2023-10-09T12:10:18.751001Z",
     "iopub.status.idle": "2023-10-09T12:10:23.409214Z",
     "shell.execute_reply": "2023-10-09T12:10:23.408208Z"
    },
    "papermill": {
     "duration": 4.667386,
     "end_time": "2023-10-09T12:10:23.411633",
     "exception": false,
     "start_time": "2023-10-09T12:10:18.744247",
     "status": "completed"
    },
    "tags": []
   },
   "outputs": [],
   "source": [
    "import pandas as pd\n",
    "import numpy as np\n",
    "\n",
    "from itertools import groupby\n",
    "from sklearn.model_selection import train_test_split\n",
    "import lightgbm as lgb\n",
    "import gc\n",
    "from itertools import combinations\n",
    "from sklearn.decomposition import PCA\n",
    "import plotly.express as px\n",
    "\n",
    "import warnings\n",
    "warnings.filterwarnings(\"ignore\")\n",
    "from warnings import simplefilter\n",
    "simplefilter(action=\"ignore\", category=pd.errors.PerformanceWarning)"
   ]
  },
  {
   "cell_type": "code",
   "execution_count": 2,
   "id": "2705518c",
   "metadata": {
    "execution": {
     "iopub.execute_input": "2023-10-09T12:10:23.424808Z",
     "iopub.status.busy": "2023-10-09T12:10:23.424103Z",
     "iopub.status.idle": "2023-10-09T12:10:44.823347Z",
     "shell.execute_reply": "2023-10-09T12:10:44.822074Z"
    },
    "papermill": {
     "duration": 21.407931,
     "end_time": "2023-10-09T12:10:44.826143",
     "exception": false,
     "start_time": "2023-10-09T12:10:23.418212",
     "status": "completed"
    },
    "tags": []
   },
   "outputs": [],
   "source": [
    "train = pd.read_csv('train.csv')\n",
    "revealed_targets = pd.read_csv('example_test_files/revealed_targets.csv')\n",
    "test = pd.read_csv('example_test_files/test.csv')\n",
    "sample_submission = pd.read_csv('example_test_files/sample_submission.csv')"
   ]
  },
  {
   "cell_type": "markdown",
   "id": "9ac2b1f4",
   "metadata": {
    "papermill": {
     "duration": 0.004121,
     "end_time": "2023-10-09T12:10:44.834990",
     "exception": false,
     "start_time": "2023-10-09T12:10:44.830869",
     "status": "completed"
    },
    "tags": []
   },
   "source": [
    "Add median MedianVolV2.csv from the [Optiver|Baseline|Models](https://www.kaggle.com/code/ravi20076/optiver-baseline-models)"
   ]
  },
  {
   "cell_type": "code",
   "execution_count": 3,
   "id": "35653da8",
   "metadata": {
    "execution": {
     "iopub.execute_input": "2023-10-09T12:10:44.845253Z",
     "iopub.status.busy": "2023-10-09T12:10:44.844888Z",
     "iopub.status.idle": "2023-10-09T12:10:44.871154Z",
     "shell.execute_reply": "2023-10-09T12:10:44.869921Z"
    },
    "papermill": {
     "duration": 0.034987,
     "end_time": "2023-10-09T12:10:44.874212",
     "exception": false,
     "start_time": "2023-10-09T12:10:44.839225",
     "status": "completed"
    },
    "tags": []
   },
   "outputs": [],
   "source": [
    "median_vol = pd.read_csv(\"archive/MedianVolV2.csv\")\n",
    "median_vol.index.name = \"stock_id\";\n",
    "median_vol = median_vol[['overall_medvol', \"first5min_medvol\", \"last5min_medvol\"]]"
   ]
  },
  {
   "cell_type": "code",
   "execution_count": 4,
   "id": "b631480a",
   "metadata": {
    "execution": {
     "iopub.execute_input": "2023-10-09T12:10:44.885329Z",
     "iopub.status.busy": "2023-10-09T12:10:44.884510Z",
     "iopub.status.idle": "2023-10-09T12:10:46.167713Z",
     "shell.execute_reply": "2023-10-09T12:10:46.166732Z"
    },
    "papermill": {
     "duration": 1.291472,
     "end_time": "2023-10-09T12:10:46.170288",
     "exception": false,
     "start_time": "2023-10-09T12:10:44.878816",
     "status": "completed"
    },
    "tags": []
   },
   "outputs": [],
   "source": [
    "median_sizes = train.groupby('stock_id')['bid_size'].median() + train.groupby('stock_id')['ask_size'].median()\n",
    "std_sizes = train.groupby('stock_id')['bid_size'].median() + train.groupby('stock_id')['ask_size'].median()"
   ]
  },
  {
   "cell_type": "code",
   "execution_count": 5,
   "metadata": {},
   "outputs": [],
   "source": [
    "lgbm_columns = ['stock_id', 'seconds_in_bucket', 'imbalance_size',\n",
    "       'imbalance_buy_sell_flag', 'reference_price', 'matched_size',\n",
    "       'far_price', 'near_price', 'bid_price', 'bid_size', 'ask_price',\n",
    "       'ask_size', 'wap', 'overall_medvol', 'first5min_medvol',\n",
    "       'last5min_medvol', 'bid_plus_ask_sizes', 'imbalance_ratio', 'imb_s1',\n",
    "       'imb_s2', 'ask_x_size', 'bid_x_size', 'ask_minus_bid',\n",
    "       'bid_price_over_ask_price', 'reference_price_minus_far_price',\n",
    "       'reference_price_times_far_price', 'reference_price_times_near_price',\n",
    "       'reference_price_minus_ask_price', 'reference_price_times_ask_price',\n",
    "       'reference_price_ask_price_imb', 'reference_price_minus_bid_price',\n",
    "       'reference_price_times_bid_price', 'reference_price_bid_price_imb',\n",
    "       'reference_price_minus_wap', 'reference_price_times_wap',\n",
    "       'reference_price_wap_imb', 'far_price_minus_near_price',\n",
    "       'far_price_times_near_price', 'far_price_minus_ask_price',\n",
    "       'far_price_times_ask_price', 'far_price_minus_bid_price',\n",
    "       'far_price_times_bid_price', 'far_price_times_wap', 'far_price_wap_imb',\n",
    "       'near_price_minus_ask_price', 'near_price_times_ask_price',\n",
    "       'near_price_ask_price_imb', 'near_price_minus_bid_price',\n",
    "       'near_price_times_bid_price', 'near_price_bid_price_imb',\n",
    "       'near_price_minus_wap', 'near_price_wap_imb',\n",
    "       'ask_price_minus_bid_price', 'ask_price_times_bid_price',\n",
    "       'ask_price_minus_wap', 'ask_price_times_wap', 'ask_price_wap_imb',\n",
    "       'bid_price_minus_wap', 'bid_price_times_wap', 'bid_price_wap_imb',\n",
    "       'reference_price_far_price_near_price_imb2',\n",
    "       'reference_price_far_price_ask_price_imb2',\n",
    "       'reference_price_far_price_bid_price_imb2',\n",
    "       'reference_price_far_price_wap_imb2',\n",
    "       'reference_price_near_price_ask_price_imb2',\n",
    "       'reference_price_near_price_bid_price_imb2',\n",
    "       'reference_price_near_price_wap_imb2',\n",
    "       'reference_price_ask_price_bid_price_imb2',\n",
    "       'reference_price_ask_price_wap_imb2',\n",
    "       'reference_price_bid_price_wap_imb2',\n",
    "       'far_price_near_price_ask_price_imb2',\n",
    "       'far_price_near_price_bid_price_imb2', 'far_price_near_price_wap_imb2',\n",
    "       'far_price_ask_price_bid_price_imb2', 'far_price_ask_price_wap_imb2',\n",
    "       'far_price_bid_price_wap_imb2', 'near_price_ask_price_bid_price_imb2',\n",
    "       'near_price_ask_price_wap_imb2', 'near_price_bid_price_wap_imb2',\n",
    "       'ask_price_bid_price_wap_imb2', 'pca_prices']\n",
    "weights = [\n",
    "    0.004, 0.001, 0.002, 0.006, 0.004, 0.004, 0.002, 0.006, 0.006, 0.002, 0.002, 0.008,\n",
    "    0.006, 0.002, 0.008, 0.006, 0.002, 0.006, 0.004, 0.002, 0.004, 0.001, 0.006, 0.004,\n",
    "    0.002, 0.002, 0.004, 0.002, 0.004, 0.004, 0.001, 0.001, 0.002, 0.002, 0.006, 0.004,\n",
    "    0.004, 0.004, 0.006, 0.002, 0.002, 0.04 , 0.002, 0.002, 0.004, 0.04 , 0.002, 0.001,\n",
    "    0.006, 0.004, 0.004, 0.006, 0.001, 0.004, 0.004, 0.002, 0.006, 0.004, 0.006, 0.004,\n",
    "    0.006, 0.004, 0.002, 0.001, 0.002, 0.004, 0.002, 0.008, 0.004, 0.004, 0.002, 0.004,\n",
    "    0.006, 0.002, 0.004, 0.004, 0.002, 0.004, 0.004, 0.004, 0.001, 0.002, 0.002, 0.008,\n",
    "    0.02 , 0.004, 0.006, 0.002, 0.02 , 0.002, 0.002, 0.006, 0.004, 0.002, 0.001, 0.02,\n",
    "    0.006, 0.001, 0.002, 0.004, 0.001, 0.002, 0.006, 0.006, 0.004, 0.006, 0.001, 0.002,\n",
    "    0.004, 0.006, 0.006, 0.001, 0.04 , 0.006, 0.002, 0.004, 0.002, 0.002, 0.006, 0.002,\n",
    "    0.002, 0.004, 0.006, 0.006, 0.002, 0.002, 0.008, 0.006, 0.004, 0.002, 0.006, 0.002,\n",
    "    0.004, 0.006, 0.002, 0.004, 0.001, 0.004, 0.002, 0.004, 0.008, 0.006, 0.008, 0.002,\n",
    "    0.004, 0.002, 0.001, 0.004, 0.004, 0.004, 0.006, 0.008, 0.004, 0.001, 0.001, 0.002,\n",
    "    0.006, 0.004, 0.001, 0.002, 0.006, 0.004, 0.006, 0.008, 0.002, 0.002, 0.004, 0.002,\n",
    "    0.04 , 0.002, 0.002, 0.004, 0.002, 0.002, 0.006, 0.02 , 0.004, 0.002, 0.006, 0.02,\n",
    "    0.001, 0.002, 0.006, 0.004, 0.006, 0.004, 0.004, 0.004, 0.004, 0.002, 0.004, 0.04,\n",
    "    0.002, 0.008, 0.002, 0.004, 0.001, 0.004, 0.006, 0.004,\n",
    "]"
   ]
  },
  {
   "cell_type": "code",
   "execution_count": 6,
   "metadata": {},
   "outputs": [],
   "source": [
    "weights_df = pd.DataFrame(data=list(zip(range(0,201),weights)),columns=['stock_id','index_weight'])"
   ]
  },
  {
   "cell_type": "code",
   "execution_count": 7,
   "metadata": {},
   "outputs": [],
   "source": [
    "train = train.merge(weights_df,on='stock_id')"
   ]
  },
  {
   "cell_type": "code",
   "execution_count": 8,
   "metadata": {},
   "outputs": [],
   "source": [
    "def generate_prev_race(df_in, df_g, rolling_window=10, factor=''):\n",
    "    df = df_in.copy()\n",
    "    original_cols = df_in.columns\n",
    "    df[f'wap_t-60'] = df_g['wap'].shift(6)\n",
    "    df[f'target_t-60'] = df_g['target'].shift(6)\n",
    "    df[f'initial_wap'] = df_g['wap_calc'].transform('first')\n",
    "    df[f'initial_bid_size'] = df_g['bid_size'].transform('first')\n",
    "    df[f'initial_ask_size'] = df_g['ask_size'].transform('first')\n",
    "    cols = ['bid_price','ask_price','bid_size','ask_size','wap']\n",
    "    for i in cols:\n",
    "        df[f'{i}_t-60'] = df_g[i].shift(-1)\n",
    "\n",
    "    for i in cols:\n",
    "        df[f'{i}_t10'] = df_g[i].shift(1)\n",
    "\n",
    "    return(df)\n",
    "\n",
    "def generate_index(df_in, df_g, rolling_window=10, factor=''):\n",
    "    df = df_in.copy()\n",
    "    df[f'index_wap'] = df_g['wap_weighted'].transform('mean')\n",
    "    return(df)\n",
    "\n",
    "def generate_index_2(df_in, df_g, rolling_window=10, factor=''):\n",
    "    df = df_in.copy()\n",
    "    df[f'index_wap_t-60'] = df_g['index_wap'].shift(6)\n",
    "    df[f'index_wap_init'] = df_g['index_wap'].transform('first')\n",
    "    return(df)\n",
    "\n",
    "def generate_index_3(df_in, df_g, rolling_window=10, factor=''):\n",
    "    df = df_in.copy()\n",
    "    df[f'index_wap_t-60'] = df_g['index_wap_move_to_init'].shift(6)\n",
    "    return(df)"
   ]
  },
  {
   "cell_type": "code",
   "execution_count": 9,
   "id": "220cf97b",
   "metadata": {
    "execution": {
     "iopub.execute_input": "2023-10-09T12:10:46.189603Z",
     "iopub.status.busy": "2023-10-09T12:10:46.188875Z",
     "iopub.status.idle": "2023-10-09T12:10:46.200346Z",
     "shell.execute_reply": "2023-10-09T12:10:46.199388Z"
    },
    "papermill": {
     "duration": 0.02005,
     "end_time": "2023-10-09T12:10:46.202681",
     "exception": false,
     "start_time": "2023-10-09T12:10:46.182631",
     "status": "completed"
    },
    "tags": []
   },
   "outputs": [],
   "source": [
    "def feat_eng(df):\n",
    "    \n",
    "    cols = [c for c in df.columns if c not in ['row_id', 'time_id']]\n",
    "    df = df[cols]\n",
    "    df = df.merge(median_vol, how = \"left\", left_on = \"stock_id\", right_index = True)\n",
    "    \n",
    "    df['bid_plus_ask_sizes'] = df['bid_size'] + train['ask_size']\n",
    "#     df['median_size'] = df['stock_id'].map(median_sizes.to_dict())\n",
    "    df['std_size'] = df['stock_id'].map(std_sizes.to_dict())\n",
    "#     df['high_volume'] = np.where(df['bid_plus_ask_sizes'] > df['median_size'], 1, 0) \n",
    "    df['imbalance_ratio'] = df['imbalance_size'] / df['matched_size']\n",
    "    \n",
    "    df['imb_s1'] = df.eval('(bid_size-ask_size)/(bid_size+ask_size)')\n",
    "    df['imb_s2'] = df.eval('(imbalance_size-matched_size)/(matched_size+imbalance_size)')\n",
    "\n",
    "    df['ask_x_size'] = df.eval('ask_size*ask_price')\n",
    "    df['bid_x_size'] = df.eval('bid_size*bid_price')\n",
    "        \n",
    "    df['ask_minus_bid'] = df['ask_x_size'] - df['bid_x_size'] \n",
    "    \n",
    "    df[\"bid_size_over_ask_size\"] = df[\"bid_size\"].div(df[\"ask_size\"])\n",
    "    df[\"bid_price_over_ask_price\"] = df[\"bid_price\"].div(df[\"ask_price\"])\n",
    "    \n",
    "    prices = ['reference_price','far_price', 'near_price', 'ask_price', 'bid_price', 'wap']\n",
    "    \n",
    "    for c in combinations(prices, 2):\n",
    "        \n",
    "        df[f'{c[0]}_minus_{c[1]}'] = (df[f'{c[0]}'] - df[f'{c[1]}']).astype(np.float32)\n",
    "        df[f'{c[0]}_times_{c[1]}'] = (df[f'{c[0]}'] * df[f'{c[1]}']).astype(np.float32)\n",
    "        df[f'{c[0]}_{c[1]}_imb'] = df.eval(f'({c[0]}-{c[1]})/({c[0]}+{c[1]})')\n",
    "\n",
    "    for c in combinations(prices, 3):\n",
    "        \n",
    "        max_ = df[list(c)].max(axis=1)\n",
    "        min_ = df[list(c)].min(axis=1)\n",
    "        mid_ = df[list(c)].sum(axis=1)-min_-max_\n",
    "\n",
    "        df[f'{c[0]}_{c[1]}_{c[2]}_imb2'] = (max_-mid_)/(mid_-min_)\n",
    "    \n",
    "        \n",
    "    df.drop(columns=[\n",
    "        # 'date_id', \n",
    "        'reference_price_far_price_imb',\n",
    "        'reference_price_minus_near_price',\n",
    "        'reference_price_near_price_imb',\n",
    "        'far_price_near_price_imb',\n",
    "        'far_price_ask_price_imb',\n",
    "        'far_price_bid_price_imb',\n",
    "        'far_price_minus_wap',\n",
    "        'std_size',\n",
    "        'bid_size_over_ask_size',\n",
    "        'ask_price_bid_price_imb',\n",
    "        'near_price_times_wap'\n",
    "    ], inplace=True)\n",
    "        \n",
    "    # gc.collect()\n",
    "\n",
    "    df.replace([np.inf, -np.inf], 0, inplace=True)\n",
    "    \n",
    "    return df"
   ]
  },
  {
   "cell_type": "code",
   "execution_count": 10,
   "metadata": {},
   "outputs": [],
   "source": [
    "train['wap_calc'] = (train['bid_price']*train['ask_size']+train['ask_price']*train['bid_size'])/(train['ask_size']+train['bid_size'])"
   ]
  },
  {
   "cell_type": "code",
   "execution_count": 11,
   "metadata": {},
   "outputs": [],
   "source": [
    "train['wap_weighted'] = train['wap']*train['index_weight']\n",
    "train_g = train.groupby(['stock_id','date_id'])\n",
    "train = generate_prev_race(train,train_g)\n",
    "train['delta_wap'] = train['wap']/train['wap_t-60']\n",
    "\n",
    "train_g = train.groupby(['seconds_in_bucket','date_id'])\n",
    "train = generate_index(train,train_g)\n",
    "\n",
    "\n",
    "train['wap_move_to_init'] = train['wap_calc']/train['initial_wap']\n",
    "train_g = train.groupby(['date_id'])\n",
    "train = generate_index_2(train,train_g)\n",
    "\n",
    "train['index_wap_move_to_init'] = train['index_wap']/train['index_wap_init']\n",
    "train_g = train.groupby(['date_id'])\n",
    "train = generate_index_3(train,train_g)\n",
    "\n",
    "train['bid_price_target'] = train['bid_price']-train['bid_price_t-60']\n",
    "train['bid_price_t-60'] = train['bid_price_target']*10_000\n",
    "\n",
    "train['wap_target'] = train['wap']-train['wap_t-60']\n",
    "train['wap_price_t-60'] = train['wap_target']*10_000\n",
    "\n",
    "train['ask_price_target'] = train['ask_price']-train['ask_price_t-60']\n",
    "train['ask_price_t-60'] = train['ask_price_target']*10_000"
   ]
  },
  {
   "cell_type": "code",
   "execution_count": 12,
   "metadata": {},
   "outputs": [],
   "source": [
    "targets = ['wap', 'bid_price', 'ask_price']\n",
    "for i in targets:\n",
    "    train[f'{i}_prev_move'] = (train[f'{i}']-train[f'{i}_t10']).fillna(0)*10000"
   ]
  },
  {
   "cell_type": "code",
   "execution_count": 20,
   "id": "3285f1a3",
   "metadata": {
    "execution": {
     "iopub.execute_input": "2023-10-09T12:10:46.213108Z",
     "iopub.status.busy": "2023-10-09T12:10:46.212328Z",
     "iopub.status.idle": "2023-10-09T12:12:10.690486Z",
     "shell.execute_reply": "2023-10-09T12:12:10.689542Z"
    },
    "papermill": {
     "duration": 84.489289,
     "end_time": "2023-10-09T12:12:10.696002",
     "exception": false,
     "start_time": "2023-10-09T12:10:46.206713",
     "status": "completed"
    },
    "tags": []
   },
   "outputs": [],
   "source": [
    "y = train['wap_price_t-60'].values\n",
    "X = feat_eng(train.drop(columns='target'))"
   ]
  },
  {
   "cell_type": "code",
   "execution_count": null,
   "metadata": {},
   "outputs": [],
   "source": []
  },
  {
   "cell_type": "code",
   "execution_count": 21,
   "id": "e10e7611",
   "metadata": {
    "execution": {
     "iopub.execute_input": "2023-10-09T12:12:10.706645Z",
     "iopub.status.busy": "2023-10-09T12:12:10.706020Z",
     "iopub.status.idle": "2023-10-09T12:12:18.257429Z",
     "shell.execute_reply": "2023-10-09T12:12:18.256072Z"
    },
    "papermill": {
     "duration": 7.559772,
     "end_time": "2023-10-09T12:12:18.260105",
     "exception": false,
     "start_time": "2023-10-09T12:12:10.700333",
     "status": "completed"
    },
    "tags": []
   },
   "outputs": [],
   "source": [
    "prices = [c for c in X.columns if ('price' in c) and ('target' not in c) and ('60' not in c)]\n",
    "# prices = [c for c in train.columns if 'price' in c]\n",
    "pca_prices = PCA(n_components=1)\n",
    "X['pca_prices'] = pca_prices.fit_transform(X[prices].fillna(1))"
   ]
  },
  {
   "cell_type": "code",
   "execution_count": 22,
   "id": "3aeaea78",
   "metadata": {
    "execution": {
     "iopub.execute_input": "2023-10-09T12:12:18.270880Z",
     "iopub.status.busy": "2023-10-09T12:12:18.270493Z",
     "iopub.status.idle": "2023-10-09T12:12:20.254354Z",
     "shell.execute_reply": "2023-10-09T12:12:20.253145Z"
    },
    "papermill": {
     "duration": 1.992028,
     "end_time": "2023-10-09T12:12:20.256842",
     "exception": false,
     "start_time": "2023-10-09T12:12:18.264814",
     "status": "completed"
    },
    "tags": []
   },
   "outputs": [
    {
     "name": "stdout",
     "output_type": "stream",
     "text": [
      "stock_id\n",
      "date_id\n",
      "seconds_in_bucket\n",
      "imbalance_size\n",
      "imbalance_buy_sell_flag\n",
      "reference_price\n",
      "matched_size\n",
      "far_price\n",
      "near_price\n",
      "bid_price\n",
      "bid_size\n",
      "ask_price\n",
      "ask_size\n",
      "wap\n",
      "index_weight\n",
      "wap_calc\n",
      "wap_weighted\n",
      "wap_t-60\n",
      "target_t-60\n",
      "initial_wap\n",
      "initial_bid_size\n",
      "initial_ask_size\n",
      "bid_price_t-60\n",
      "ask_price_t-60\n",
      "bid_size_t-60\n",
      "ask_size_t-60\n",
      "bid_price_t10\n",
      "ask_price_t10\n",
      "bid_size_t10\n",
      "ask_size_t10\n",
      "wap_t10\n",
      "delta_wap\n",
      "index_wap\n",
      "wap_move_to_init\n",
      "index_wap_t-60\n",
      "index_wap_init\n",
      "index_wap_move_to_init\n",
      "bid_price_target\n",
      "wap_target\n",
      "wap_price_t-60\n",
      "ask_price_target\n",
      "wap_prev_move\n",
      "bid_price_prev_move\n",
      "ask_price_prev_move\n",
      "overall_medvol\n",
      "first5min_medvol\n",
      "last5min_medvol\n",
      "bid_plus_ask_sizes\n",
      "imbalance_ratio\n",
      "imb_s1\n",
      "imb_s2\n",
      "ask_x_size\n",
      "bid_x_size\n",
      "ask_minus_bid\n",
      "bid_price_over_ask_price\n",
      "reference_price_minus_far_price\n",
      "reference_price_times_far_price\n",
      "reference_price_times_near_price\n",
      "reference_price_minus_ask_price\n",
      "reference_price_times_ask_price\n",
      "reference_price_ask_price_imb\n",
      "reference_price_minus_bid_price\n",
      "reference_price_times_bid_price\n",
      "reference_price_bid_price_imb\n",
      "reference_price_minus_wap\n",
      "reference_price_times_wap\n",
      "reference_price_wap_imb\n",
      "far_price_minus_near_price\n",
      "far_price_times_near_price\n",
      "far_price_minus_ask_price\n",
      "far_price_times_ask_price\n",
      "far_price_minus_bid_price\n",
      "far_price_times_bid_price\n",
      "far_price_times_wap\n",
      "far_price_wap_imb\n",
      "near_price_minus_ask_price\n",
      "near_price_times_ask_price\n",
      "near_price_ask_price_imb\n",
      "near_price_minus_bid_price\n",
      "near_price_times_bid_price\n",
      "near_price_bid_price_imb\n",
      "near_price_minus_wap\n",
      "near_price_wap_imb\n",
      "ask_price_minus_bid_price\n",
      "ask_price_times_bid_price\n",
      "ask_price_minus_wap\n",
      "ask_price_times_wap\n",
      "ask_price_wap_imb\n",
      "bid_price_minus_wap\n",
      "bid_price_times_wap\n",
      "bid_price_wap_imb\n",
      "reference_price_far_price_near_price_imb2\n",
      "reference_price_far_price_ask_price_imb2\n",
      "reference_price_far_price_bid_price_imb2\n",
      "reference_price_far_price_wap_imb2\n",
      "reference_price_near_price_ask_price_imb2\n",
      "reference_price_near_price_bid_price_imb2\n",
      "reference_price_near_price_wap_imb2\n",
      "reference_price_ask_price_bid_price_imb2\n",
      "reference_price_ask_price_wap_imb2\n",
      "reference_price_bid_price_wap_imb2\n",
      "far_price_near_price_ask_price_imb2\n",
      "far_price_near_price_bid_price_imb2\n",
      "far_price_near_price_wap_imb2\n",
      "far_price_ask_price_bid_price_imb2\n",
      "far_price_ask_price_wap_imb2\n",
      "far_price_bid_price_wap_imb2\n",
      "near_price_ask_price_bid_price_imb2\n",
      "near_price_ask_price_wap_imb2\n",
      "near_price_bid_price_wap_imb2\n",
      "ask_price_bid_price_wap_imb2\n",
      "pca_prices\n"
     ]
    }
   ],
   "source": [
    "for x in X.columns:\n",
    "    print(x)"
   ]
  },
  {
   "cell_type": "code",
   "execution_count": 41,
   "metadata": {},
   "outputs": [],
   "source": [
    "X_train = X[[c for c in X.columns if ('target' not in c) and ('60' not in c)]].drop(columns=['delta_wap','date_id'])"
   ]
  },
  {
   "cell_type": "code",
   "execution_count": 42,
   "id": "22b4b000",
   "metadata": {
    "execution": {
     "iopub.execute_input": "2023-10-09T12:12:20.268747Z",
     "iopub.status.busy": "2023-10-09T12:12:20.268350Z",
     "iopub.status.idle": "2023-10-09T12:30:10.343696Z",
     "shell.execute_reply": "2023-10-09T12:30:10.341833Z"
    },
    "papermill": {
     "duration": 1070.095329,
     "end_time": "2023-10-09T12:30:10.357216",
     "exception": false,
     "start_time": "2023-10-09T12:12:20.261887",
     "status": "completed"
    },
    "tags": []
   },
   "outputs": [
    {
     "name": "stdout",
     "output_type": "stream",
     "text": [
      "[LightGBM] [Info] Auto-choosing row-wise multi-threading, the overhead of testing was 0.313123 seconds.\n",
      "You can set `force_row_wise=true` to remove the overhead.\n",
      "And if memory is not enough, you can set `force_col_wise=true`.\n",
      "[LightGBM] [Info] Total Bins 24076\n",
      "[LightGBM] [Info] Number of data points in the train set: 5237980, number of used features: 99\n",
      "CPU times: total: 46min 22s\n",
      "Wall time: 7min 51s\n"
     ]
    },
    {
     "data": {
      "text/html": [
       "<style>#sk-container-id-5 {color: black;}#sk-container-id-5 pre{padding: 0;}#sk-container-id-5 div.sk-toggleable {background-color: white;}#sk-container-id-5 label.sk-toggleable__label {cursor: pointer;display: block;width: 100%;margin-bottom: 0;padding: 0.3em;box-sizing: border-box;text-align: center;}#sk-container-id-5 label.sk-toggleable__label-arrow:before {content: \"▸\";float: left;margin-right: 0.25em;color: #696969;}#sk-container-id-5 label.sk-toggleable__label-arrow:hover:before {color: black;}#sk-container-id-5 div.sk-estimator:hover label.sk-toggleable__label-arrow:before {color: black;}#sk-container-id-5 div.sk-toggleable__content {max-height: 0;max-width: 0;overflow: hidden;text-align: left;background-color: #f0f8ff;}#sk-container-id-5 div.sk-toggleable__content pre {margin: 0.2em;color: black;border-radius: 0.25em;background-color: #f0f8ff;}#sk-container-id-5 input.sk-toggleable__control:checked~div.sk-toggleable__content {max-height: 200px;max-width: 100%;overflow: auto;}#sk-container-id-5 input.sk-toggleable__control:checked~label.sk-toggleable__label-arrow:before {content: \"▾\";}#sk-container-id-5 div.sk-estimator input.sk-toggleable__control:checked~label.sk-toggleable__label {background-color: #d4ebff;}#sk-container-id-5 div.sk-label input.sk-toggleable__control:checked~label.sk-toggleable__label {background-color: #d4ebff;}#sk-container-id-5 input.sk-hidden--visually {border: 0;clip: rect(1px 1px 1px 1px);clip: rect(1px, 1px, 1px, 1px);height: 1px;margin: -1px;overflow: hidden;padding: 0;position: absolute;width: 1px;}#sk-container-id-5 div.sk-estimator {font-family: monospace;background-color: #f0f8ff;border: 1px dotted black;border-radius: 0.25em;box-sizing: border-box;margin-bottom: 0.5em;}#sk-container-id-5 div.sk-estimator:hover {background-color: #d4ebff;}#sk-container-id-5 div.sk-parallel-item::after {content: \"\";width: 100%;border-bottom: 1px solid gray;flex-grow: 1;}#sk-container-id-5 div.sk-label:hover label.sk-toggleable__label {background-color: #d4ebff;}#sk-container-id-5 div.sk-serial::before {content: \"\";position: absolute;border-left: 1px solid gray;box-sizing: border-box;top: 0;bottom: 0;left: 50%;z-index: 0;}#sk-container-id-5 div.sk-serial {display: flex;flex-direction: column;align-items: center;background-color: white;padding-right: 0.2em;padding-left: 0.2em;position: relative;}#sk-container-id-5 div.sk-item {position: relative;z-index: 1;}#sk-container-id-5 div.sk-parallel {display: flex;align-items: stretch;justify-content: center;background-color: white;position: relative;}#sk-container-id-5 div.sk-item::before, #sk-container-id-5 div.sk-parallel-item::before {content: \"\";position: absolute;border-left: 1px solid gray;box-sizing: border-box;top: 0;bottom: 0;left: 50%;z-index: -1;}#sk-container-id-5 div.sk-parallel-item {display: flex;flex-direction: column;z-index: 1;position: relative;background-color: white;}#sk-container-id-5 div.sk-parallel-item:first-child::after {align-self: flex-end;width: 50%;}#sk-container-id-5 div.sk-parallel-item:last-child::after {align-self: flex-start;width: 50%;}#sk-container-id-5 div.sk-parallel-item:only-child::after {width: 0;}#sk-container-id-5 div.sk-dashed-wrapped {border: 1px dashed gray;margin: 0 0.4em 0.5em 0.4em;box-sizing: border-box;padding-bottom: 0.4em;background-color: white;}#sk-container-id-5 div.sk-label label {font-family: monospace;font-weight: bold;display: inline-block;line-height: 1.2em;}#sk-container-id-5 div.sk-label-container {text-align: center;}#sk-container-id-5 div.sk-container {/* jupyter's `normalize.less` sets `[hidden] { display: none; }` but bootstrap.min.css set `[hidden] { display: none !important; }` so we also need the `!important` here to be able to override the default hidden behavior on the sphinx rendered scikit-learn.org. See: https://github.com/scikit-learn/scikit-learn/issues/21755 */display: inline-block !important;position: relative;}#sk-container-id-5 div.sk-text-repr-fallback {display: none;}</style><div id=\"sk-container-id-5\" class=\"sk-top-container\"><div class=\"sk-text-repr-fallback\"><pre>LGBMRegressor(learning_rate=0.018052307589575444, max_depth=20,\n",
       "              n_estimators=700, num_leaves=442, objective=&#x27;mae&#x27;,\n",
       "              random_state=42, reg_alpha=0.02216069565875271,\n",
       "              reg_lambda=0.01223572246957101)</pre><b>In a Jupyter environment, please rerun this cell to show the HTML representation or trust the notebook. <br />On GitHub, the HTML representation is unable to render, please try loading this page with nbviewer.org.</b></div><div class=\"sk-container\" hidden><div class=\"sk-item\"><div class=\"sk-estimator sk-toggleable\"><input class=\"sk-toggleable__control sk-hidden--visually\" id=\"sk-estimator-id-5\" type=\"checkbox\" checked><label for=\"sk-estimator-id-5\" class=\"sk-toggleable__label sk-toggleable__label-arrow\">LGBMRegressor</label><div class=\"sk-toggleable__content\"><pre>LGBMRegressor(learning_rate=0.018052307589575444, max_depth=20,\n",
       "              n_estimators=700, num_leaves=442, objective=&#x27;mae&#x27;,\n",
       "              random_state=42, reg_alpha=0.02216069565875271,\n",
       "              reg_lambda=0.01223572246957101)</pre></div></div></div></div></div>"
      ],
      "text/plain": [
       "LGBMRegressor(learning_rate=0.018052307589575444, max_depth=20,\n",
       "              n_estimators=700, num_leaves=442, objective='mae',\n",
       "              random_state=42, reg_alpha=0.02216069565875271,\n",
       "              reg_lambda=0.01223572246957101)"
      ]
     },
     "execution_count": 42,
     "metadata": {},
     "output_type": "execute_result"
    }
   ],
   "source": [
    "%%time\n",
    "\n",
    "m = lgb.LGBMRegressor(learning_rate=0.018052307589575444, max_depth=20, n_estimators=700,\n",
    "              num_leaves=442, objective='mae', random_state=42,\n",
    "              reg_alpha=0.02216069565875271, reg_lambda=0.01223572246957101)\n",
    "m.fit(X_train, y)"
   ]
  },
  {
   "cell_type": "code",
   "execution_count": 43,
   "id": "9771038b",
   "metadata": {},
   "outputs": [
    {
     "data": {
      "text/plain": [
       "<lightgbm.basic.Booster at 0x17c03e40810>"
      ]
     },
     "execution_count": 43,
     "metadata": {},
     "output_type": "execute_result"
    }
   ],
   "source": [
    "m.booster_.save_model('lgbm_model_new.lgb')"
   ]
  },
  {
   "cell_type": "code",
   "execution_count": 44,
   "id": "44ff6fc6",
   "metadata": {},
   "outputs": [
    {
     "data": {
      "text/plain": [
       "Index(['stock_id', 'date_id', 'seconds_in_bucket', 'imbalance_size',\n",
       "       'imbalance_buy_sell_flag', 'reference_price', 'matched_size',\n",
       "       'far_price', 'near_price', 'bid_price',\n",
       "       ...\n",
       "       'far_price_near_price_bid_price_imb2', 'far_price_near_price_wap_imb2',\n",
       "       'far_price_ask_price_bid_price_imb2', 'far_price_ask_price_wap_imb2',\n",
       "       'far_price_bid_price_wap_imb2', 'near_price_ask_price_bid_price_imb2',\n",
       "       'near_price_ask_price_wap_imb2', 'near_price_bid_price_wap_imb2',\n",
       "       'ask_price_bid_price_wap_imb2', 'pca_prices'],\n",
       "      dtype='object', length=112)"
      ]
     },
     "execution_count": 44,
     "metadata": {},
     "output_type": "execute_result"
    }
   ],
   "source": [
    "X.columns"
   ]
  },
  {
   "cell_type": "code",
   "execution_count": 45,
   "id": "e2c6c35e",
   "metadata": {
    "execution": {
     "iopub.execute_input": "2023-10-09T12:30:10.372728Z",
     "iopub.status.busy": "2023-10-09T12:30:10.371280Z",
     "iopub.status.idle": "2023-10-09T12:30:12.526100Z",
     "shell.execute_reply": "2023-10-09T12:30:12.525135Z"
    },
    "papermill": {
     "duration": 2.166312,
     "end_time": "2023-10-09T12:30:12.529157",
     "exception": false,
     "start_time": "2023-10-09T12:30:10.362845",
     "status": "completed"
    },
    "tags": []
   },
   "outputs": [
    {
     "name": "stdout",
     "output_type": "stream",
     "text": [
      "Columns with poor contribution Index([], dtype='object')\n"
     ]
    },
    {
     "data": {
      "application/vnd.plotly.v1+json": {
       "config": {
        "plotlyServerURL": "https://plot.ly"
       },
       "data": [
        {
         "alignmentgroup": "True",
         "hovertemplate": "x=%{x}<br>y=%{y}<extra></extra>",
         "legendgroup": "",
         "marker": {
          "color": "#636efa",
          "pattern": {
           "shape": ""
          }
         },
         "name": "",
         "offsetgroup": "",
         "orientation": "h",
         "showlegend": false,
         "textposition": "auto",
         "type": "bar",
         "x": [
          226,
          291,
          313,
          342,
          357,
          374,
          376,
          414,
          422,
          456,
          480,
          481,
          494,
          510,
          553,
          561,
          583,
          610,
          624,
          658,
          726,
          729,
          759,
          760,
          794,
          907,
          913,
          947,
          967,
          982,
          1007,
          1008,
          1012,
          1015,
          1036,
          1053,
          1085,
          1089,
          1095,
          1184,
          1230,
          1230,
          1230,
          1325,
          1327,
          1421,
          1425,
          1435,
          1478,
          1536,
          1578,
          1646,
          1671,
          1698,
          1700,
          1718,
          1804,
          1813,
          1952,
          1976,
          2095,
          2164,
          2324,
          2332,
          2368,
          2387,
          2432,
          2565,
          2731,
          2747,
          2820,
          2858,
          3011,
          3058,
          3069,
          3083,
          3095,
          3186,
          3444,
          3594,
          3674,
          3777,
          3780,
          3785,
          3964,
          4457,
          4887,
          4916,
          4922,
          5066,
          5124,
          5267,
          7017,
          7538,
          8187,
          8560,
          32549,
          35826,
          40655
         ],
         "xaxis": "x",
         "y": [
          "wap_move_to_init",
          "wap_calc",
          "far_price_times_wap",
          "bid_price_times_wap",
          "far_price_times_bid_price",
          "reference_price_times_wap",
          "ask_price_times_wap",
          "wap",
          "far_price_times_ask_price",
          "near_price_times_ask_price",
          "near_price_times_bid_price",
          "index_weight",
          "reference_price_times_far_price",
          "reference_price_times_bid_price",
          "ask_price_times_bid_price",
          "reference_price_times_near_price",
          "far_price_wap_imb",
          "far_price_times_near_price",
          "reference_price_times_ask_price",
          "reference_price_minus_far_price",
          "far_price_minus_bid_price",
          "near_price_ask_price_imb",
          "far_price_minus_ask_price",
          "near_price_bid_price_imb",
          "near_price_wap_imb",
          "far_price",
          "bid_price",
          "far_price_bid_price_wap_imb2",
          "far_price_ask_price_wap_imb2",
          "ask_price",
          "near_price",
          "reference_price_near_price_wap_imb2",
          "reference_price",
          "reference_price_far_price_wap_imb2",
          "far_price_ask_price_bid_price_imb2",
          "bid_x_size",
          "far_price_near_price_wap_imb2",
          "far_price_near_price_ask_price_imb2",
          "imb_s2",
          "near_price_minus_wap",
          "far_price_minus_near_price",
          "pca_prices",
          "ask_x_size",
          "reference_price_far_price_ask_price_imb2",
          "near_price_minus_ask_price",
          "reference_price_near_price_ask_price_imb2",
          "reference_price_ask_price_imb",
          "near_price_minus_bid_price",
          "wap_t10",
          "near_price_bid_price_wap_imb2",
          "reference_price_far_price_bid_price_imb2",
          "far_price_near_price_bid_price_imb2",
          "near_price_ask_price_bid_price_imb2",
          "reference_price_far_price_near_price_imb2",
          "ask_price_minus_bid_price",
          "bid_price_t10",
          "ask_price_wap_imb",
          "ask_price_t10",
          "reference_price_bid_price_imb",
          "bid_size",
          "imbalance_buy_sell_flag",
          "near_price_ask_price_wap_imb2",
          "reference_price_near_price_bid_price_imb2",
          "imbalance_ratio",
          "stock_id",
          "reference_price_wap_imb",
          "ask_size",
          "bid_price_wap_imb",
          "initial_bid_size",
          "initial_ask_size",
          "ask_minus_bid",
          "bid_price_over_ask_price",
          "reference_price_minus_ask_price",
          "reference_price_bid_price_wap_imb2",
          "bid_plus_ask_sizes",
          "initial_wap",
          "first5min_medvol",
          "bid_price_minus_wap",
          "ask_price_minus_wap",
          "imbalance_size",
          "overall_medvol",
          "reference_price_minus_wap",
          "reference_price_minus_bid_price",
          "ask_price_bid_price_wap_imb2",
          "reference_price_ask_price_bid_price_imb2",
          "last5min_medvol",
          "ask_size_t10",
          "index_wap_init",
          "reference_price_ask_price_wap_imb2",
          "bid_size_t10",
          "imb_s1",
          "wap_weighted",
          "wap_prev_move",
          "matched_size",
          "bid_price_prev_move",
          "ask_price_prev_move",
          "index_wap_move_to_init",
          "index_wap",
          "seconds_in_bucket"
         ],
         "yaxis": "y"
        }
       ],
       "layout": {
        "barmode": "relative",
        "legend": {
         "tracegroupgap": 0
        },
        "margin": {
         "t": 60
        },
        "template": {
         "data": {
          "bar": [
           {
            "error_x": {
             "color": "#2a3f5f"
            },
            "error_y": {
             "color": "#2a3f5f"
            },
            "marker": {
             "line": {
              "color": "#E5ECF6",
              "width": 0.5
             },
             "pattern": {
              "fillmode": "overlay",
              "size": 10,
              "solidity": 0.2
             }
            },
            "type": "bar"
           }
          ],
          "barpolar": [
           {
            "marker": {
             "line": {
              "color": "#E5ECF6",
              "width": 0.5
             },
             "pattern": {
              "fillmode": "overlay",
              "size": 10,
              "solidity": 0.2
             }
            },
            "type": "barpolar"
           }
          ],
          "carpet": [
           {
            "aaxis": {
             "endlinecolor": "#2a3f5f",
             "gridcolor": "white",
             "linecolor": "white",
             "minorgridcolor": "white",
             "startlinecolor": "#2a3f5f"
            },
            "baxis": {
             "endlinecolor": "#2a3f5f",
             "gridcolor": "white",
             "linecolor": "white",
             "minorgridcolor": "white",
             "startlinecolor": "#2a3f5f"
            },
            "type": "carpet"
           }
          ],
          "choropleth": [
           {
            "colorbar": {
             "outlinewidth": 0,
             "ticks": ""
            },
            "type": "choropleth"
           }
          ],
          "contour": [
           {
            "colorbar": {
             "outlinewidth": 0,
             "ticks": ""
            },
            "colorscale": [
             [
              0,
              "#0d0887"
             ],
             [
              0.1111111111111111,
              "#46039f"
             ],
             [
              0.2222222222222222,
              "#7201a8"
             ],
             [
              0.3333333333333333,
              "#9c179e"
             ],
             [
              0.4444444444444444,
              "#bd3786"
             ],
             [
              0.5555555555555556,
              "#d8576b"
             ],
             [
              0.6666666666666666,
              "#ed7953"
             ],
             [
              0.7777777777777778,
              "#fb9f3a"
             ],
             [
              0.8888888888888888,
              "#fdca26"
             ],
             [
              1,
              "#f0f921"
             ]
            ],
            "type": "contour"
           }
          ],
          "contourcarpet": [
           {
            "colorbar": {
             "outlinewidth": 0,
             "ticks": ""
            },
            "type": "contourcarpet"
           }
          ],
          "heatmap": [
           {
            "colorbar": {
             "outlinewidth": 0,
             "ticks": ""
            },
            "colorscale": [
             [
              0,
              "#0d0887"
             ],
             [
              0.1111111111111111,
              "#46039f"
             ],
             [
              0.2222222222222222,
              "#7201a8"
             ],
             [
              0.3333333333333333,
              "#9c179e"
             ],
             [
              0.4444444444444444,
              "#bd3786"
             ],
             [
              0.5555555555555556,
              "#d8576b"
             ],
             [
              0.6666666666666666,
              "#ed7953"
             ],
             [
              0.7777777777777778,
              "#fb9f3a"
             ],
             [
              0.8888888888888888,
              "#fdca26"
             ],
             [
              1,
              "#f0f921"
             ]
            ],
            "type": "heatmap"
           }
          ],
          "heatmapgl": [
           {
            "colorbar": {
             "outlinewidth": 0,
             "ticks": ""
            },
            "colorscale": [
             [
              0,
              "#0d0887"
             ],
             [
              0.1111111111111111,
              "#46039f"
             ],
             [
              0.2222222222222222,
              "#7201a8"
             ],
             [
              0.3333333333333333,
              "#9c179e"
             ],
             [
              0.4444444444444444,
              "#bd3786"
             ],
             [
              0.5555555555555556,
              "#d8576b"
             ],
             [
              0.6666666666666666,
              "#ed7953"
             ],
             [
              0.7777777777777778,
              "#fb9f3a"
             ],
             [
              0.8888888888888888,
              "#fdca26"
             ],
             [
              1,
              "#f0f921"
             ]
            ],
            "type": "heatmapgl"
           }
          ],
          "histogram": [
           {
            "marker": {
             "pattern": {
              "fillmode": "overlay",
              "size": 10,
              "solidity": 0.2
             }
            },
            "type": "histogram"
           }
          ],
          "histogram2d": [
           {
            "colorbar": {
             "outlinewidth": 0,
             "ticks": ""
            },
            "colorscale": [
             [
              0,
              "#0d0887"
             ],
             [
              0.1111111111111111,
              "#46039f"
             ],
             [
              0.2222222222222222,
              "#7201a8"
             ],
             [
              0.3333333333333333,
              "#9c179e"
             ],
             [
              0.4444444444444444,
              "#bd3786"
             ],
             [
              0.5555555555555556,
              "#d8576b"
             ],
             [
              0.6666666666666666,
              "#ed7953"
             ],
             [
              0.7777777777777778,
              "#fb9f3a"
             ],
             [
              0.8888888888888888,
              "#fdca26"
             ],
             [
              1,
              "#f0f921"
             ]
            ],
            "type": "histogram2d"
           }
          ],
          "histogram2dcontour": [
           {
            "colorbar": {
             "outlinewidth": 0,
             "ticks": ""
            },
            "colorscale": [
             [
              0,
              "#0d0887"
             ],
             [
              0.1111111111111111,
              "#46039f"
             ],
             [
              0.2222222222222222,
              "#7201a8"
             ],
             [
              0.3333333333333333,
              "#9c179e"
             ],
             [
              0.4444444444444444,
              "#bd3786"
             ],
             [
              0.5555555555555556,
              "#d8576b"
             ],
             [
              0.6666666666666666,
              "#ed7953"
             ],
             [
              0.7777777777777778,
              "#fb9f3a"
             ],
             [
              0.8888888888888888,
              "#fdca26"
             ],
             [
              1,
              "#f0f921"
             ]
            ],
            "type": "histogram2dcontour"
           }
          ],
          "mesh3d": [
           {
            "colorbar": {
             "outlinewidth": 0,
             "ticks": ""
            },
            "type": "mesh3d"
           }
          ],
          "parcoords": [
           {
            "line": {
             "colorbar": {
              "outlinewidth": 0,
              "ticks": ""
             }
            },
            "type": "parcoords"
           }
          ],
          "pie": [
           {
            "automargin": true,
            "type": "pie"
           }
          ],
          "scatter": [
           {
            "fillpattern": {
             "fillmode": "overlay",
             "size": 10,
             "solidity": 0.2
            },
            "type": "scatter"
           }
          ],
          "scatter3d": [
           {
            "line": {
             "colorbar": {
              "outlinewidth": 0,
              "ticks": ""
             }
            },
            "marker": {
             "colorbar": {
              "outlinewidth": 0,
              "ticks": ""
             }
            },
            "type": "scatter3d"
           }
          ],
          "scattercarpet": [
           {
            "marker": {
             "colorbar": {
              "outlinewidth": 0,
              "ticks": ""
             }
            },
            "type": "scattercarpet"
           }
          ],
          "scattergeo": [
           {
            "marker": {
             "colorbar": {
              "outlinewidth": 0,
              "ticks": ""
             }
            },
            "type": "scattergeo"
           }
          ],
          "scattergl": [
           {
            "marker": {
             "colorbar": {
              "outlinewidth": 0,
              "ticks": ""
             }
            },
            "type": "scattergl"
           }
          ],
          "scattermapbox": [
           {
            "marker": {
             "colorbar": {
              "outlinewidth": 0,
              "ticks": ""
             }
            },
            "type": "scattermapbox"
           }
          ],
          "scatterpolar": [
           {
            "marker": {
             "colorbar": {
              "outlinewidth": 0,
              "ticks": ""
             }
            },
            "type": "scatterpolar"
           }
          ],
          "scatterpolargl": [
           {
            "marker": {
             "colorbar": {
              "outlinewidth": 0,
              "ticks": ""
             }
            },
            "type": "scatterpolargl"
           }
          ],
          "scatterternary": [
           {
            "marker": {
             "colorbar": {
              "outlinewidth": 0,
              "ticks": ""
             }
            },
            "type": "scatterternary"
           }
          ],
          "surface": [
           {
            "colorbar": {
             "outlinewidth": 0,
             "ticks": ""
            },
            "colorscale": [
             [
              0,
              "#0d0887"
             ],
             [
              0.1111111111111111,
              "#46039f"
             ],
             [
              0.2222222222222222,
              "#7201a8"
             ],
             [
              0.3333333333333333,
              "#9c179e"
             ],
             [
              0.4444444444444444,
              "#bd3786"
             ],
             [
              0.5555555555555556,
              "#d8576b"
             ],
             [
              0.6666666666666666,
              "#ed7953"
             ],
             [
              0.7777777777777778,
              "#fb9f3a"
             ],
             [
              0.8888888888888888,
              "#fdca26"
             ],
             [
              1,
              "#f0f921"
             ]
            ],
            "type": "surface"
           }
          ],
          "table": [
           {
            "cells": {
             "fill": {
              "color": "#EBF0F8"
             },
             "line": {
              "color": "white"
             }
            },
            "header": {
             "fill": {
              "color": "#C8D4E3"
             },
             "line": {
              "color": "white"
             }
            },
            "type": "table"
           }
          ]
         },
         "layout": {
          "annotationdefaults": {
           "arrowcolor": "#2a3f5f",
           "arrowhead": 0,
           "arrowwidth": 1
          },
          "autotypenumbers": "strict",
          "coloraxis": {
           "colorbar": {
            "outlinewidth": 0,
            "ticks": ""
           }
          },
          "colorscale": {
           "diverging": [
            [
             0,
             "#8e0152"
            ],
            [
             0.1,
             "#c51b7d"
            ],
            [
             0.2,
             "#de77ae"
            ],
            [
             0.3,
             "#f1b6da"
            ],
            [
             0.4,
             "#fde0ef"
            ],
            [
             0.5,
             "#f7f7f7"
            ],
            [
             0.6,
             "#e6f5d0"
            ],
            [
             0.7,
             "#b8e186"
            ],
            [
             0.8,
             "#7fbc41"
            ],
            [
             0.9,
             "#4d9221"
            ],
            [
             1,
             "#276419"
            ]
           ],
           "sequential": [
            [
             0,
             "#0d0887"
            ],
            [
             0.1111111111111111,
             "#46039f"
            ],
            [
             0.2222222222222222,
             "#7201a8"
            ],
            [
             0.3333333333333333,
             "#9c179e"
            ],
            [
             0.4444444444444444,
             "#bd3786"
            ],
            [
             0.5555555555555556,
             "#d8576b"
            ],
            [
             0.6666666666666666,
             "#ed7953"
            ],
            [
             0.7777777777777778,
             "#fb9f3a"
            ],
            [
             0.8888888888888888,
             "#fdca26"
            ],
            [
             1,
             "#f0f921"
            ]
           ],
           "sequentialminus": [
            [
             0,
             "#0d0887"
            ],
            [
             0.1111111111111111,
             "#46039f"
            ],
            [
             0.2222222222222222,
             "#7201a8"
            ],
            [
             0.3333333333333333,
             "#9c179e"
            ],
            [
             0.4444444444444444,
             "#bd3786"
            ],
            [
             0.5555555555555556,
             "#d8576b"
            ],
            [
             0.6666666666666666,
             "#ed7953"
            ],
            [
             0.7777777777777778,
             "#fb9f3a"
            ],
            [
             0.8888888888888888,
             "#fdca26"
            ],
            [
             1,
             "#f0f921"
            ]
           ]
          },
          "colorway": [
           "#636efa",
           "#EF553B",
           "#00cc96",
           "#ab63fa",
           "#FFA15A",
           "#19d3f3",
           "#FF6692",
           "#B6E880",
           "#FF97FF",
           "#FECB52"
          ],
          "font": {
           "color": "#2a3f5f"
          },
          "geo": {
           "bgcolor": "white",
           "lakecolor": "white",
           "landcolor": "#E5ECF6",
           "showlakes": true,
           "showland": true,
           "subunitcolor": "white"
          },
          "hoverlabel": {
           "align": "left"
          },
          "hovermode": "closest",
          "mapbox": {
           "style": "light"
          },
          "paper_bgcolor": "white",
          "plot_bgcolor": "#E5ECF6",
          "polar": {
           "angularaxis": {
            "gridcolor": "white",
            "linecolor": "white",
            "ticks": ""
           },
           "bgcolor": "#E5ECF6",
           "radialaxis": {
            "gridcolor": "white",
            "linecolor": "white",
            "ticks": ""
           }
          },
          "scene": {
           "xaxis": {
            "backgroundcolor": "#E5ECF6",
            "gridcolor": "white",
            "gridwidth": 2,
            "linecolor": "white",
            "showbackground": true,
            "ticks": "",
            "zerolinecolor": "white"
           },
           "yaxis": {
            "backgroundcolor": "#E5ECF6",
            "gridcolor": "white",
            "gridwidth": 2,
            "linecolor": "white",
            "showbackground": true,
            "ticks": "",
            "zerolinecolor": "white"
           },
           "zaxis": {
            "backgroundcolor": "#E5ECF6",
            "gridcolor": "white",
            "gridwidth": 2,
            "linecolor": "white",
            "showbackground": true,
            "ticks": "",
            "zerolinecolor": "white"
           }
          },
          "shapedefaults": {
           "line": {
            "color": "#2a3f5f"
           }
          },
          "ternary": {
           "aaxis": {
            "gridcolor": "white",
            "linecolor": "white",
            "ticks": ""
           },
           "baxis": {
            "gridcolor": "white",
            "linecolor": "white",
            "ticks": ""
           },
           "bgcolor": "#E5ECF6",
           "caxis": {
            "gridcolor": "white",
            "linecolor": "white",
            "ticks": ""
           }
          },
          "title": {
           "x": 0.05
          },
          "xaxis": {
           "automargin": true,
           "gridcolor": "white",
           "linecolor": "white",
           "ticks": "",
           "title": {
            "standoff": 15
           },
           "zerolinecolor": "white",
           "zerolinewidth": 2
          },
          "yaxis": {
           "automargin": true,
           "gridcolor": "white",
           "linecolor": "white",
           "ticks": "",
           "title": {
            "standoff": 15
           },
           "zerolinecolor": "white",
           "zerolinewidth": 2
          }
         }
        },
        "xaxis": {
         "anchor": "y",
         "domain": [
          0,
          1
         ],
         "title": {
          "text": "x"
         }
        },
        "yaxis": {
         "anchor": "x",
         "domain": [
          0,
          1
         ],
         "title": {
          "text": "y"
         }
        }
       }
      }
     },
     "metadata": {},
     "output_type": "display_data"
    }
   ],
   "source": [
    "feat_imp = pd.Series(m.feature_importances_, index=X_train.columns).sort_values()\n",
    "print('Columns with poor contribution', feat_imp[feat_imp<100].index)\n",
    "fig = px.bar(x=feat_imp, y=feat_imp.index, orientation='h')\n",
    "fig.show()"
   ]
  },
  {
   "cell_type": "code",
   "execution_count": 39,
   "id": "4498e3d1",
   "metadata": {
    "execution": {
     "iopub.execute_input": "2023-10-09T12:30:12.547581Z",
     "iopub.status.busy": "2023-10-09T12:30:12.546701Z",
     "iopub.status.idle": "2023-10-09T12:30:12.561039Z",
     "shell.execute_reply": "2023-10-09T12:30:12.559848Z"
    },
    "papermill": {
     "duration": 0.024116,
     "end_time": "2023-10-09T12:30:12.563482",
     "exception": false,
     "start_time": "2023-10-09T12:30:12.539366",
     "status": "completed"
    },
    "tags": []
   },
   "outputs": [
    {
     "data": {
      "text/plain": [
       "wap_move_to_init               112\n",
       "wap_calc                       165\n",
       "ask_price_times_wap            183\n",
       "ask_price_times_bid_price      196\n",
       "reference_price_times_wap      196\n",
       "                             ...  \n",
       "ask_price_prev_move           7803\n",
       "index_wap_move_to_init       28836\n",
       "seconds_in_bucket            36423\n",
       "index_wap                    37142\n",
       "date_id                      54101\n",
       "Length: 100, dtype: int32"
      ]
     },
     "execution_count": 39,
     "metadata": {},
     "output_type": "execute_result"
    }
   ],
   "source": [
    "feat_imp.sort_values()"
   ]
  },
  {
   "cell_type": "code",
   "execution_count": 38,
   "id": "e243076d",
   "metadata": {
    "execution": {
     "iopub.execute_input": "2023-10-09T12:30:12.577625Z",
     "iopub.status.busy": "2023-10-09T12:30:12.577230Z",
     "iopub.status.idle": "2023-10-09T12:30:13.741400Z",
     "shell.execute_reply": "2023-10-09T12:30:13.739899Z"
    },
    "papermill": {
     "duration": 1.176893,
     "end_time": "2023-10-09T12:30:13.746511",
     "exception": false,
     "start_time": "2023-10-09T12:30:12.569618",
     "status": "completed"
    },
    "tags": []
   },
   "outputs": [
    {
     "ename": "KeyError",
     "evalue": "\"['bid_price_t10', 'ask_price_t10', 'bid_price_prev_move', 'ask_price_prev_move'] not in index\"",
     "output_type": "error",
     "traceback": [
      "\u001b[1;31m---------------------------------------------------------------------------\u001b[0m",
      "\u001b[1;31mKeyError\u001b[0m                                  Traceback (most recent call last)",
      "\u001b[1;32mc:\\Users\\Nick\\Documents\\GitHub\\OptiverKaggle\\optv-lightgbm.ipynb Cell 24\u001b[0m line \u001b[0;36m2\n\u001b[0;32m      <a href='vscode-notebook-cell:/c%3A/Users/Nick/Documents/GitHub/OptiverKaggle/optv-lightgbm.ipynb#X20sZmlsZQ%3D%3D?line=0'>1</a>\u001b[0m test \u001b[39m=\u001b[39m feat_eng(test)\n\u001b[1;32m----> <a href='vscode-notebook-cell:/c%3A/Users/Nick/Documents/GitHub/OptiverKaggle/optv-lightgbm.ipynb#X20sZmlsZQ%3D%3D?line=1'>2</a>\u001b[0m test[\u001b[39m'\u001b[39m\u001b[39mpca_prices\u001b[39m\u001b[39m'\u001b[39m] \u001b[39m=\u001b[39m pca_prices\u001b[39m.\u001b[39mtransform(test[prices]\u001b[39m.\u001b[39mfillna(\u001b[39m1\u001b[39m))\n",
      "File \u001b[1;32mc:\\Users\\Nick\\.conda\\envs\\python311\\Lib\\site-packages\\pandas\\core\\frame.py:3902\u001b[0m, in \u001b[0;36mDataFrame.__getitem__\u001b[1;34m(self, key)\u001b[0m\n\u001b[0;32m   3900\u001b[0m     \u001b[39mif\u001b[39;00m is_iterator(key):\n\u001b[0;32m   3901\u001b[0m         key \u001b[39m=\u001b[39m \u001b[39mlist\u001b[39m(key)\n\u001b[1;32m-> 3902\u001b[0m     indexer \u001b[39m=\u001b[39m \u001b[39mself\u001b[39;49m\u001b[39m.\u001b[39;49mcolumns\u001b[39m.\u001b[39;49m_get_indexer_strict(key, \u001b[39m\"\u001b[39;49m\u001b[39mcolumns\u001b[39;49m\u001b[39m\"\u001b[39;49m)[\u001b[39m1\u001b[39m]\n\u001b[0;32m   3904\u001b[0m \u001b[39m# take() does not accept boolean indexers\u001b[39;00m\n\u001b[0;32m   3905\u001b[0m \u001b[39mif\u001b[39;00m \u001b[39mgetattr\u001b[39m(indexer, \u001b[39m\"\u001b[39m\u001b[39mdtype\u001b[39m\u001b[39m\"\u001b[39m, \u001b[39mNone\u001b[39;00m) \u001b[39m==\u001b[39m \u001b[39mbool\u001b[39m:\n",
      "File \u001b[1;32mc:\\Users\\Nick\\.conda\\envs\\python311\\Lib\\site-packages\\pandas\\core\\indexes\\base.py:6114\u001b[0m, in \u001b[0;36mIndex._get_indexer_strict\u001b[1;34m(self, key, axis_name)\u001b[0m\n\u001b[0;32m   6111\u001b[0m \u001b[39melse\u001b[39;00m:\n\u001b[0;32m   6112\u001b[0m     keyarr, indexer, new_indexer \u001b[39m=\u001b[39m \u001b[39mself\u001b[39m\u001b[39m.\u001b[39m_reindex_non_unique(keyarr)\n\u001b[1;32m-> 6114\u001b[0m \u001b[39mself\u001b[39;49m\u001b[39m.\u001b[39;49m_raise_if_missing(keyarr, indexer, axis_name)\n\u001b[0;32m   6116\u001b[0m keyarr \u001b[39m=\u001b[39m \u001b[39mself\u001b[39m\u001b[39m.\u001b[39mtake(indexer)\n\u001b[0;32m   6117\u001b[0m \u001b[39mif\u001b[39;00m \u001b[39misinstance\u001b[39m(key, Index):\n\u001b[0;32m   6118\u001b[0m     \u001b[39m# GH 42790 - Preserve name from an Index\u001b[39;00m\n",
      "File \u001b[1;32mc:\\Users\\Nick\\.conda\\envs\\python311\\Lib\\site-packages\\pandas\\core\\indexes\\base.py:6178\u001b[0m, in \u001b[0;36mIndex._raise_if_missing\u001b[1;34m(self, key, indexer, axis_name)\u001b[0m\n\u001b[0;32m   6175\u001b[0m     \u001b[39mraise\u001b[39;00m \u001b[39mKeyError\u001b[39;00m(\u001b[39mf\u001b[39m\u001b[39m\"\u001b[39m\u001b[39mNone of [\u001b[39m\u001b[39m{\u001b[39;00mkey\u001b[39m}\u001b[39;00m\u001b[39m] are in the [\u001b[39m\u001b[39m{\u001b[39;00maxis_name\u001b[39m}\u001b[39;00m\u001b[39m]\u001b[39m\u001b[39m\"\u001b[39m)\n\u001b[0;32m   6177\u001b[0m not_found \u001b[39m=\u001b[39m \u001b[39mlist\u001b[39m(ensure_index(key)[missing_mask\u001b[39m.\u001b[39mnonzero()[\u001b[39m0\u001b[39m]]\u001b[39m.\u001b[39munique())\n\u001b[1;32m-> 6178\u001b[0m \u001b[39mraise\u001b[39;00m \u001b[39mKeyError\u001b[39;00m(\u001b[39mf\u001b[39m\u001b[39m\"\u001b[39m\u001b[39m{\u001b[39;00mnot_found\u001b[39m}\u001b[39;00m\u001b[39m not in index\u001b[39m\u001b[39m\"\u001b[39m)\n",
      "\u001b[1;31mKeyError\u001b[0m: \"['bid_price_t10', 'ask_price_t10', 'bid_price_prev_move', 'ask_price_prev_move'] not in index\""
     ]
    }
   ],
   "source": [
    "test = feat_eng(test)\n",
    "test['pca_prices'] = pca_prices.transform(test[prices].fillna(1))"
   ]
  },
  {
   "cell_type": "code",
   "execution_count": 15,
   "id": "c730ebe1",
   "metadata": {
    "execution": {
     "iopub.execute_input": "2023-10-09T12:30:13.781670Z",
     "iopub.status.busy": "2023-10-09T12:30:13.781026Z",
     "iopub.status.idle": "2023-10-09T12:30:13.790731Z",
     "shell.execute_reply": "2023-10-09T12:30:13.789406Z"
    },
    "papermill": {
     "duration": 0.033172,
     "end_time": "2023-10-09T12:30:13.795895",
     "exception": false,
     "start_time": "2023-10-09T12:30:13.762723",
     "status": "completed"
    },
    "tags": []
   },
   "outputs": [
    {
     "data": {
      "text/plain": [
       "(3, 81)"
      ]
     },
     "execution_count": 15,
     "metadata": {},
     "output_type": "execute_result"
    }
   ],
   "source": [
    "test.shape"
   ]
  },
  {
   "cell_type": "code",
   "execution_count": 16,
   "id": "9b06a3c9",
   "metadata": {
    "execution": {
     "iopub.execute_input": "2023-10-09T12:30:13.831970Z",
     "iopub.status.busy": "2023-10-09T12:30:13.831303Z",
     "iopub.status.idle": "2023-10-09T12:30:15.664169Z",
     "shell.execute_reply": "2023-10-09T12:30:15.663192Z"
    },
    "papermill": {
     "duration": 1.853763,
     "end_time": "2023-10-09T12:30:15.666321",
     "exception": false,
     "start_time": "2023-10-09T12:30:13.812558",
     "status": "completed"
    },
    "tags": []
   },
   "outputs": [
    {
     "data": {
      "text/plain": [
       "array([0.1014048 , 0.65292689, 0.39743031])"
      ]
     },
     "execution_count": 16,
     "metadata": {},
     "output_type": "execute_result"
    }
   ],
   "source": [
    "m.predict(test)"
   ]
  },
  {
   "cell_type": "code",
   "execution_count": 15,
   "id": "2e473434",
   "metadata": {
    "execution": {
     "iopub.execute_input": "2023-10-09T12:30:15.682856Z",
     "iopub.status.busy": "2023-10-09T12:30:15.682029Z",
     "iopub.status.idle": "2023-10-09T12:30:15.687434Z",
     "shell.execute_reply": "2023-10-09T12:30:15.686188Z"
    },
    "papermill": {
     "duration": 0.016588,
     "end_time": "2023-10-09T12:30:15.689452",
     "exception": false,
     "start_time": "2023-10-09T12:30:15.672864",
     "status": "completed"
    },
    "tags": []
   },
   "outputs": [],
   "source": [
    "def zero_sum(prices, volumes):\n",
    "    \n",
    "#    I got this idea from https://github.com/gotoConversion/goto_conversion/\n",
    "    \n",
    "    std_error = np.sqrt(volumes)\n",
    "    step = np.sum(prices)/np.sum(std_error)\n",
    "    out = prices-std_error*step\n",
    "    \n",
    "    return out"
   ]
  },
  {
   "cell_type": "code",
   "execution_count": 16,
   "id": "a2b72175",
   "metadata": {
    "execution": {
     "iopub.execute_input": "2023-10-09T12:30:15.704233Z",
     "iopub.status.busy": "2023-10-09T12:30:15.703426Z",
     "iopub.status.idle": "2023-10-09T12:30:15.746002Z",
     "shell.execute_reply": "2023-10-09T12:30:15.744872Z"
    },
    "papermill": {
     "duration": 0.052795,
     "end_time": "2023-10-09T12:30:15.748465",
     "exception": false,
     "start_time": "2023-10-09T12:30:15.695670",
     "status": "completed"
    },
    "tags": []
   },
   "outputs": [],
   "source": [
    "import optiver2023\n",
    "env = optiver2023.make_env()\n",
    "iter_test = env.iter_test()"
   ]
  },
  {
   "cell_type": "code",
   "execution_count": 17,
   "id": "4b674c1c",
   "metadata": {
    "execution": {
     "iopub.execute_input": "2023-10-09T12:30:15.763541Z",
     "iopub.status.busy": "2023-10-09T12:30:15.762724Z",
     "iopub.status.idle": "2023-10-09T12:31:51.221203Z",
     "shell.execute_reply": "2023-10-09T12:31:51.219733Z"
    },
    "papermill": {
     "duration": 95.468984,
     "end_time": "2023-10-09T12:31:51.223931",
     "exception": false,
     "start_time": "2023-10-09T12:30:15.754947",
     "status": "completed"
    },
    "tags": []
   },
   "outputs": [
    {
     "name": "stdout",
     "output_type": "stream",
     "text": [
      "This version of the API is not optimized and should not be used to estimate the runtime of your code on the hidden test set.\n"
     ]
    }
   ],
   "source": [
    "counter = 0\n",
    "for (test, revealed_targets, sample_prediction) in iter_test:\n",
    "    \n",
    "    feat = feat_eng(test)\n",
    "    feat['pca_prices'] = pca_prices.transform(feat[prices].fillna(1))\n",
    "    sample_prediction['target'] = m.predict(feat)\n",
    "    \n",
    "    sample_prediction['target'] = zero_sum(sample_prediction['target'], test.loc[:,'bid_size'] + test.loc[:,'ask_size'])\n",
    "    \n",
    "    env.predict(sample_prediction)\n",
    "    \n",
    "    counter += 1"
   ]
  },
  {
   "cell_type": "code",
   "execution_count": null,
   "id": "c61d5327",
   "metadata": {
    "papermill": {
     "duration": 0.005963,
     "end_time": "2023-10-09T12:31:51.236507",
     "exception": false,
     "start_time": "2023-10-09T12:31:51.230544",
     "status": "completed"
    },
    "tags": []
   },
   "outputs": [],
   "source": []
  }
 ],
 "metadata": {
  "kernelspec": {
   "display_name": "Python 3",
   "language": "python",
   "name": "python3"
  },
  "language_info": {
   "codemirror_mode": {
    "name": "ipython",
    "version": 3
   },
   "file_extension": ".py",
   "mimetype": "text/x-python",
   "name": "python",
   "nbconvert_exporter": "python",
   "pygments_lexer": "ipython3",
   "version": "3.11.5"
  },
  "papermill": {
   "default_parameters": {},
   "duration": 1297.788843,
   "end_time": "2023-10-09T12:31:52.874226",
   "environment_variables": {},
   "exception": null,
   "input_path": "__notebook__.ipynb",
   "output_path": "__notebook__.ipynb",
   "parameters": {},
   "start_time": "2023-10-09T12:10:15.085383",
   "version": "2.4.0"
  }
 },
 "nbformat": 4,
 "nbformat_minor": 5
}
